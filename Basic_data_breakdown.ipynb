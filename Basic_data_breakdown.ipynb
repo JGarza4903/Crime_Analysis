{
 "cells": [
  {
   "cell_type": "code",
   "execution_count": 1,
   "id": "d127fb16",
   "metadata": {},
   "outputs": [],
   "source": [
    "import numpy\n",
    "import pandas as pd\n",
    "import seaborn as sns\n",
    "import os"
   ]
  },
  {
   "cell_type": "code",
   "execution_count": 2,
   "id": "5dd7b00e",
   "metadata": {
    "scrolled": true
   },
   "outputs": [
    {
     "name": "stderr",
     "output_type": "stream",
     "text": [
      "C:\\Users\\Home\\AppData\\Local\\Temp\\ipykernel_9188\\353040497.py:2: DtypeWarning: Columns (18,19,28,29,42,43,44,45,46,47) have mixed types. Specify dtype option on import or set low_memory=False.\n",
      "  df = pd.read_csv(\"Traffic_Crashes.csv\")\n"
     ]
    },
    {
     "data": {
      "text/html": [
       "<div>\n",
       "<style scoped>\n",
       "    .dataframe tbody tr th:only-of-type {\n",
       "        vertical-align: middle;\n",
       "    }\n",
       "\n",
       "    .dataframe tbody tr th {\n",
       "        vertical-align: top;\n",
       "    }\n",
       "\n",
       "    .dataframe thead th {\n",
       "        text-align: right;\n",
       "    }\n",
       "</style>\n",
       "<table border=\"1\" class=\"dataframe\">\n",
       "  <thead>\n",
       "    <tr style=\"text-align: right;\">\n",
       "      <th></th>\n",
       "      <th>Crash_Seve</th>\n",
       "      <th>County</th>\n",
       "      <th>Crash_Date</th>\n",
       "      <th>Crash_Year</th>\n",
       "      <th>Crash_Time</th>\n",
       "      <th>Primary_St</th>\n",
       "      <th>Distance</th>\n",
       "      <th>Dir</th>\n",
       "      <th>Secondary_</th>\n",
       "      <th>Weather</th>\n",
       "      <th>...</th>\n",
       "      <th>AnimalType</th>\n",
       "      <th>CrashDateT</th>\n",
       "      <th>AREA</th>\n",
       "      <th>PERIMETER</th>\n",
       "      <th>WARD</th>\n",
       "      <th>CNTY_IS</th>\n",
       "      <th>SHADE</th>\n",
       "      <th>ACRES</th>\n",
       "      <th>SQ_MILES</th>\n",
       "      <th>ObjectId</th>\n",
       "    </tr>\n",
       "  </thead>\n",
       "  <tbody>\n",
       "    <tr>\n",
       "      <th>0</th>\n",
       "      <td>PROPERTY DAMAGE ONLY</td>\n",
       "      <td>CLARK</td>\n",
       "      <td>2015/05/12 00:00:00+00</td>\n",
       "      <td>2015</td>\n",
       "      <td>2023/01/12 15:52:00+00</td>\n",
       "      <td>STEWART AVE</td>\n",
       "      <td>60.0</td>\n",
       "      <td>E</td>\n",
       "      <td>LAS VEGAS BLVD</td>\n",
       "      <td>CLEAR</td>\n",
       "      <td>...</td>\n",
       "      <td>NaN</td>\n",
       "      <td>2015/05/12 00:00:00+00</td>\n",
       "      <td>396602584.0</td>\n",
       "      <td>258219.5320</td>\n",
       "      <td>5.0</td>\n",
       "      <td>0</td>\n",
       "      <td>113</td>\n",
       "      <td>9105.888645</td>\n",
       "      <td>14.227951</td>\n",
       "      <td>1</td>\n",
       "    </tr>\n",
       "    <tr>\n",
       "      <th>1</th>\n",
       "      <td>INJURY CRASH</td>\n",
       "      <td>CLARK</td>\n",
       "      <td>2015/01/07 00:00:00+00</td>\n",
       "      <td>2015</td>\n",
       "      <td>2023/01/12 12:18:00+00</td>\n",
       "      <td>MARTIN L KING BLVD</td>\n",
       "      <td>300.0</td>\n",
       "      <td>N</td>\n",
       "      <td>BALZAR AVE</td>\n",
       "      <td>CLEAR</td>\n",
       "      <td>...</td>\n",
       "      <td>NaN</td>\n",
       "      <td>2015/01/07 00:00:00+00</td>\n",
       "      <td>396602584.0</td>\n",
       "      <td>258219.5320</td>\n",
       "      <td>5.0</td>\n",
       "      <td>0</td>\n",
       "      <td>113</td>\n",
       "      <td>9105.888645</td>\n",
       "      <td>14.227951</td>\n",
       "      <td>2</td>\n",
       "    </tr>\n",
       "    <tr>\n",
       "      <th>2</th>\n",
       "      <td>PROPERTY DAMAGE ONLY</td>\n",
       "      <td>CLARK</td>\n",
       "      <td>2015/01/07 00:00:00+00</td>\n",
       "      <td>2015</td>\n",
       "      <td>2023/01/12 08:12:00+00</td>\n",
       "      <td>CRAIG RD</td>\n",
       "      <td>48.0</td>\n",
       "      <td>E</td>\n",
       "      <td>N BUFFALO DR</td>\n",
       "      <td>CLEAR</td>\n",
       "      <td>...</td>\n",
       "      <td>NaN</td>\n",
       "      <td>2015/01/07 00:00:00+00</td>\n",
       "      <td>553002311.1</td>\n",
       "      <td>288225.9969</td>\n",
       "      <td>4.0</td>\n",
       "      <td>0</td>\n",
       "      <td>73</td>\n",
       "      <td>12715.542740</td>\n",
       "      <td>19.868036</td>\n",
       "      <td>3</td>\n",
       "    </tr>\n",
       "    <tr>\n",
       "      <th>3</th>\n",
       "      <td>INJURY CRASH</td>\n",
       "      <td>CLARK</td>\n",
       "      <td>2015/05/01 00:00:00+00</td>\n",
       "      <td>2015</td>\n",
       "      <td>2023/01/12 23:21:00+00</td>\n",
       "      <td>STEWART AVE</td>\n",
       "      <td>0.0</td>\n",
       "      <td>NaN</td>\n",
       "      <td>BEECHGATE AVE</td>\n",
       "      <td>CLEAR</td>\n",
       "      <td>...</td>\n",
       "      <td>NaN</td>\n",
       "      <td>2015/05/02 00:00:00+00</td>\n",
       "      <td>321293667.4</td>\n",
       "      <td>122795.0741</td>\n",
       "      <td>3.0</td>\n",
       "      <td>0</td>\n",
       "      <td>57</td>\n",
       "      <td>7375.917185</td>\n",
       "      <td>11.524871</td>\n",
       "      <td>4</td>\n",
       "    </tr>\n",
       "    <tr>\n",
       "      <th>4</th>\n",
       "      <td>INJURY CRASH</td>\n",
       "      <td>CLARK</td>\n",
       "      <td>2015/06/24 00:00:00+00</td>\n",
       "      <td>2015</td>\n",
       "      <td>2023/01/12 20:55:00+00</td>\n",
       "      <td>SR159</td>\n",
       "      <td>0.0</td>\n",
       "      <td>NaN</td>\n",
       "      <td>S DURANGO DR</td>\n",
       "      <td>CLEAR</td>\n",
       "      <td>...</td>\n",
       "      <td>NaN</td>\n",
       "      <td>2015/06/25 00:00:00+00</td>\n",
       "      <td>814842368.9</td>\n",
       "      <td>159606.4409</td>\n",
       "      <td>2.0</td>\n",
       "      <td>0</td>\n",
       "      <td>105</td>\n",
       "      <td>18706.281640</td>\n",
       "      <td>29.228565</td>\n",
       "      <td>5</td>\n",
       "    </tr>\n",
       "  </tbody>\n",
       "</table>\n",
       "<p>5 rows × 56 columns</p>\n",
       "</div>"
      ],
      "text/plain": [
       "             Crash_Seve County              Crash_Date  Crash_Year  \\\n",
       "0  PROPERTY DAMAGE ONLY  CLARK  2015/05/12 00:00:00+00        2015   \n",
       "1          INJURY CRASH  CLARK  2015/01/07 00:00:00+00        2015   \n",
       "2  PROPERTY DAMAGE ONLY  CLARK  2015/01/07 00:00:00+00        2015   \n",
       "3          INJURY CRASH  CLARK  2015/05/01 00:00:00+00        2015   \n",
       "4          INJURY CRASH  CLARK  2015/06/24 00:00:00+00        2015   \n",
       "\n",
       "               Crash_Time          Primary_St  Distance  Dir      Secondary_  \\\n",
       "0  2023/01/12 15:52:00+00         STEWART AVE      60.0    E  LAS VEGAS BLVD   \n",
       "1  2023/01/12 12:18:00+00  MARTIN L KING BLVD     300.0    N      BALZAR AVE   \n",
       "2  2023/01/12 08:12:00+00            CRAIG RD      48.0    E    N BUFFALO DR   \n",
       "3  2023/01/12 23:21:00+00         STEWART AVE       0.0  NaN   BEECHGATE AVE   \n",
       "4  2023/01/12 20:55:00+00               SR159       0.0  NaN    S DURANGO DR   \n",
       "\n",
       "  Weather  ...  AnimalType              CrashDateT         AREA    PERIMETER  \\\n",
       "0   CLEAR  ...         NaN  2015/05/12 00:00:00+00  396602584.0  258219.5320   \n",
       "1   CLEAR  ...         NaN  2015/01/07 00:00:00+00  396602584.0  258219.5320   \n",
       "2   CLEAR  ...         NaN  2015/01/07 00:00:00+00  553002311.1  288225.9969   \n",
       "3   CLEAR  ...         NaN  2015/05/02 00:00:00+00  321293667.4  122795.0741   \n",
       "4   CLEAR  ...         NaN  2015/06/25 00:00:00+00  814842368.9  159606.4409   \n",
       "\n",
       "  WARD  CNTY_IS SHADE         ACRES   SQ_MILES ObjectId  \n",
       "0  5.0        0   113   9105.888645  14.227951        1  \n",
       "1  5.0        0   113   9105.888645  14.227951        2  \n",
       "2  4.0        0    73  12715.542740  19.868036        3  \n",
       "3  3.0        0    57   7375.917185  11.524871        4  \n",
       "4  2.0        0   105  18706.281640  29.228565        5  \n",
       "\n",
       "[5 rows x 56 columns]"
      ]
     },
     "execution_count": 2,
     "metadata": {},
     "output_type": "execute_result"
    }
   ],
   "source": [
    "# Read in our dataset\n",
    "df = pd.read_csv(\"Traffic_Crashes.csv\")\n",
    "df.head()"
   ]
  },
  {
   "cell_type": "markdown",
   "id": "eef3e774",
   "metadata": {},
   "source": [
    "Basic Information"
   ]
  },
  {
   "cell_type": "code",
   "execution_count": 3,
   "id": "b68ac053",
   "metadata": {},
   "outputs": [
    {
     "data": {
      "text/plain": [
       "(70888, 56)"
      ]
     },
     "execution_count": 3,
     "metadata": {},
     "output_type": "execute_result"
    }
   ],
   "source": [
    "df.shape"
   ]
  },
  {
   "cell_type": "code",
   "execution_count": 4,
   "id": "894ddbbf",
   "metadata": {},
   "outputs": [
    {
     "data": {
      "text/plain": [
       "RangeIndex(start=0, stop=70888, step=1)"
      ]
     },
     "execution_count": 4,
     "metadata": {},
     "output_type": "execute_result"
    }
   ],
   "source": [
    "df.index"
   ]
  },
  {
   "cell_type": "code",
   "execution_count": 5,
   "id": "224572a8",
   "metadata": {},
   "outputs": [
    {
     "data": {
      "text/plain": [
       "Index(['Crash_Seve', 'County', 'Crash_Date', 'Crash_Year', 'Crash_Time',\n",
       "       'Primary_St', 'Distance', 'Dir', 'Secondary_', 'Weather', 'Fatalities',\n",
       "       'Injured', 'Property_D', 'Injury_Typ', 'Crash_Type', 'Total_Vehi',\n",
       "       'V1_Type', 'V1_Dir', 'V1_Driver_', 'V1_Lane_Nu', 'V1_Action',\n",
       "       'V1_Driver1', 'V1_Drive_1', 'V1_Vehicle', 'V1_Most_Ha', 'V1_All_Eve',\n",
       "       'V2_Type', 'V2_Dir', 'V2_Driver_', 'V2_Lane_Nu', 'V2_Action',\n",
       "       'V2_Driver1', 'V2_Drive_1', 'V2_Vehicle', 'V2_Most_Ha', 'V2_All_Eve',\n",
       "       'First_Harm', 'Nonmotoris', 'Factors_Ro', 'Lighting', 'HWY_Factor',\n",
       "       'Agency', 'Accident_R', 'Pedalcycli', 'Pedestrian', 'Motorcycli',\n",
       "       'AnimalType', 'CrashDateT', 'AREA', 'PERIMETER', 'WARD', 'CNTY_IS',\n",
       "       'SHADE', 'ACRES', 'SQ_MILES', 'ObjectId'],\n",
       "      dtype='object')"
      ]
     },
     "execution_count": 5,
     "metadata": {},
     "output_type": "execute_result"
    }
   ],
   "source": [
    "df.columns"
   ]
  },
  {
   "cell_type": "code",
   "execution_count": 6,
   "id": "a8f50934",
   "metadata": {},
   "outputs": [
    {
     "name": "stdout",
     "output_type": "stream",
     "text": [
      "<class 'pandas.core.frame.DataFrame'>\n",
      "RangeIndex: 70888 entries, 0 to 70887\n",
      "Data columns (total 56 columns):\n",
      " #   Column      Non-Null Count  Dtype  \n",
      "---  ------      --------------  -----  \n",
      " 0   Crash_Seve  70888 non-null  object \n",
      " 1   County      70888 non-null  object \n",
      " 2   Crash_Date  70888 non-null  object \n",
      " 3   Crash_Year  70888 non-null  int64  \n",
      " 4   Crash_Time  70888 non-null  object \n",
      " 5   Primary_St  70888 non-null  object \n",
      " 6   Distance    70888 non-null  float64\n",
      " 7   Dir         62645 non-null  object \n",
      " 8   Secondary_  70870 non-null  object \n",
      " 9   Weather     70727 non-null  object \n",
      " 10  Fatalities  50758 non-null  float64\n",
      " 11  Injured     60342 non-null  float64\n",
      " 12  Property_D  36932 non-null  object \n",
      " 13  Injury_Typ  37636 non-null  object \n",
      " 14  Crash_Type  70683 non-null  object \n",
      " 15  Total_Vehi  70888 non-null  int64  \n",
      " 16  V1_Type     69250 non-null  object \n",
      " 17  V1_Dir      63523 non-null  object \n",
      " 18  V1_Driver_  61120 non-null  object \n",
      " 19  V1_Lane_Nu  45160 non-null  object \n",
      " 20  V1_Action   70707 non-null  object \n",
      " 21  V1_Driver1  57298 non-null  object \n",
      " 22  V1_Drive_1  1966 non-null   object \n",
      " 23  V1_Vehicle  55705 non-null  object \n",
      " 24  V1_Most_Ha  21796 non-null  object \n",
      " 25  V1_All_Eve  39797 non-null  object \n",
      " 26  V2_Type     60657 non-null  object \n",
      " 27  V2_Dir      52230 non-null  object \n",
      " 28  V2_Driver_  60829 non-null  object \n",
      " 29  V2_Lane_Nu  41016 non-null  object \n",
      " 30  V2_Action   60763 non-null  object \n",
      " 31  V2_Driver1  50670 non-null  object \n",
      " 32  V2_Drive_1  24 non-null     object \n",
      " 33  V2_Vehicle  6436 non-null   object \n",
      " 34  V2_Most_Ha  19598 non-null  object \n",
      " 35  V2_All_Eve  13769 non-null  object \n",
      " 36  First_Harm  21779 non-null  object \n",
      " 37  Nonmotoris  1719 non-null   object \n",
      " 38  Factors_Ro  65198 non-null  object \n",
      " 39  Lighting    65363 non-null  object \n",
      " 40  HWY_Factor  65150 non-null  object \n",
      " 41  Agency      70821 non-null  object \n",
      " 42  Accident_R  70888 non-null  object \n",
      " 43  Pedalcycli  363 non-null    object \n",
      " 44  Pedestrian  787 non-null    object \n",
      " 45  Motorcycli  765 non-null    object \n",
      " 46  AnimalType  31 non-null     object \n",
      " 47  CrashDateT  37086 non-null  object \n",
      " 48  AREA        70888 non-null  float64\n",
      " 49  PERIMETER   70888 non-null  float64\n",
      " 50  WARD        70519 non-null  float64\n",
      " 51  CNTY_IS     70888 non-null  int64  \n",
      " 52  SHADE       70888 non-null  int64  \n",
      " 53  ACRES       70888 non-null  float64\n",
      " 54  SQ_MILES    70888 non-null  float64\n",
      " 55  ObjectId    70888 non-null  int64  \n",
      "dtypes: float64(8), int64(5), object(43)\n",
      "memory usage: 30.3+ MB\n"
     ]
    }
   ],
   "source": [
    "df.info()"
   ]
  },
  {
   "cell_type": "code",
   "execution_count": 7,
   "id": "4c9d63a4",
   "metadata": {
    "scrolled": true
   },
   "outputs": [
    {
     "data": {
      "text/plain": [
       "Crash_Seve    70888\n",
       "County        70888\n",
       "Crash_Date    70888\n",
       "Crash_Year    70888\n",
       "Crash_Time    70888\n",
       "Primary_St    70888\n",
       "Distance      70888\n",
       "Dir           62645\n",
       "Secondary_    70870\n",
       "Weather       70727\n",
       "Fatalities    50758\n",
       "Injured       60342\n",
       "Property_D    36932\n",
       "Injury_Typ    37636\n",
       "Crash_Type    70683\n",
       "Total_Vehi    70888\n",
       "V1_Type       69250\n",
       "V1_Dir        63523\n",
       "V1_Driver_    61120\n",
       "V1_Lane_Nu    45160\n",
       "V1_Action     70707\n",
       "V1_Driver1    57298\n",
       "V1_Drive_1     1966\n",
       "V1_Vehicle    55705\n",
       "V1_Most_Ha    21796\n",
       "V1_All_Eve    39797\n",
       "V2_Type       60657\n",
       "V2_Dir        52230\n",
       "V2_Driver_    60829\n",
       "V2_Lane_Nu    41016\n",
       "V2_Action     60763\n",
       "V2_Driver1    50670\n",
       "V2_Drive_1       24\n",
       "V2_Vehicle     6436\n",
       "V2_Most_Ha    19598\n",
       "V2_All_Eve    13769\n",
       "First_Harm    21779\n",
       "Nonmotoris     1719\n",
       "Factors_Ro    65198\n",
       "Lighting      65363\n",
       "HWY_Factor    65150\n",
       "Agency        70821\n",
       "Accident_R    70888\n",
       "Pedalcycli      363\n",
       "Pedestrian      787\n",
       "Motorcycli      765\n",
       "AnimalType       31\n",
       "CrashDateT    37086\n",
       "AREA          70888\n",
       "PERIMETER     70888\n",
       "WARD          70519\n",
       "CNTY_IS       70888\n",
       "SHADE         70888\n",
       "ACRES         70888\n",
       "SQ_MILES      70888\n",
       "ObjectId      70888\n",
       "dtype: int64"
      ]
     },
     "execution_count": 7,
     "metadata": {},
     "output_type": "execute_result"
    }
   ],
   "source": [
    "df.count()"
   ]
  },
  {
   "cell_type": "code",
   "execution_count": 8,
   "id": "8963fc18",
   "metadata": {},
   "outputs": [
    {
     "data": {
      "text/plain": [
       "Crash_Seve        0\n",
       "County            0\n",
       "Crash_Date        0\n",
       "Crash_Year        0\n",
       "Crash_Time        0\n",
       "Primary_St        0\n",
       "Distance          0\n",
       "Dir            8243\n",
       "Secondary_       18\n",
       "Weather         161\n",
       "Fatalities    20130\n",
       "Injured       10546\n",
       "Property_D    33956\n",
       "Injury_Typ    33252\n",
       "Crash_Type      205\n",
       "Total_Vehi        0\n",
       "V1_Type        1638\n",
       "V1_Dir         7365\n",
       "V1_Driver_     9768\n",
       "V1_Lane_Nu    25728\n",
       "V1_Action       181\n",
       "V1_Driver1    13590\n",
       "V1_Drive_1    68922\n",
       "V1_Vehicle    15183\n",
       "V1_Most_Ha    49092\n",
       "V1_All_Eve    31091\n",
       "V2_Type       10231\n",
       "V2_Dir        18658\n",
       "V2_Driver_    10059\n",
       "V2_Lane_Nu    29872\n",
       "V2_Action     10125\n",
       "V2_Driver1    20218\n",
       "V2_Drive_1    70864\n",
       "V2_Vehicle    64452\n",
       "V2_Most_Ha    51290\n",
       "V2_All_Eve    57119\n",
       "First_Harm    49109\n",
       "Nonmotoris    69169\n",
       "Factors_Ro     5690\n",
       "Lighting       5525\n",
       "HWY_Factor     5738\n",
       "Agency           67\n",
       "Accident_R        0\n",
       "Pedalcycli    70525\n",
       "Pedestrian    70101\n",
       "Motorcycli    70123\n",
       "AnimalType    70857\n",
       "CrashDateT    33802\n",
       "AREA              0\n",
       "PERIMETER         0\n",
       "WARD            369\n",
       "CNTY_IS           0\n",
       "SHADE             0\n",
       "ACRES             0\n",
       "SQ_MILES          0\n",
       "ObjectId          0\n",
       "dtype: int64"
      ]
     },
     "execution_count": 8,
     "metadata": {},
     "output_type": "execute_result"
    }
   ],
   "source": [
    "df.isnull().sum()"
   ]
  },
  {
   "cell_type": "code",
   "execution_count": 9,
   "id": "81d71c23",
   "metadata": {},
   "outputs": [
    {
     "data": {
      "text/html": [
       "<div>\n",
       "<style scoped>\n",
       "    .dataframe tbody tr th:only-of-type {\n",
       "        vertical-align: middle;\n",
       "    }\n",
       "\n",
       "    .dataframe tbody tr th {\n",
       "        vertical-align: top;\n",
       "    }\n",
       "\n",
       "    .dataframe thead th {\n",
       "        text-align: right;\n",
       "    }\n",
       "</style>\n",
       "<table border=\"1\" class=\"dataframe\">\n",
       "  <thead>\n",
       "    <tr style=\"text-align: right;\">\n",
       "      <th></th>\n",
       "      <th>Crash_Year</th>\n",
       "      <th>Distance</th>\n",
       "      <th>Fatalities</th>\n",
       "      <th>Injured</th>\n",
       "      <th>Total_Vehi</th>\n",
       "      <th>AREA</th>\n",
       "      <th>PERIMETER</th>\n",
       "      <th>WARD</th>\n",
       "      <th>CNTY_IS</th>\n",
       "      <th>SHADE</th>\n",
       "      <th>ACRES</th>\n",
       "      <th>SQ_MILES</th>\n",
       "      <th>ObjectId</th>\n",
       "    </tr>\n",
       "  </thead>\n",
       "  <tbody>\n",
       "    <tr>\n",
       "      <th>count</th>\n",
       "      <td>70888.000000</td>\n",
       "      <td>7.088800e+04</td>\n",
       "      <td>50758.000000</td>\n",
       "      <td>60342.000000</td>\n",
       "      <td>70888.000000</td>\n",
       "      <td>7.088800e+04</td>\n",
       "      <td>70888.000000</td>\n",
       "      <td>70519.000000</td>\n",
       "      <td>70888.000000</td>\n",
       "      <td>70888.000000</td>\n",
       "      <td>70888.000000</td>\n",
       "      <td>70888.000000</td>\n",
       "      <td>70888.000000</td>\n",
       "    </tr>\n",
       "    <tr>\n",
       "      <th>mean</th>\n",
       "      <td>2017.419620</td>\n",
       "      <td>2.775222e+02</td>\n",
       "      <td>0.006541</td>\n",
       "      <td>0.880382</td>\n",
       "      <td>2.003174</td>\n",
       "      <td>5.163180e+08</td>\n",
       "      <td>219918.774403</td>\n",
       "      <td>2.991931</td>\n",
       "      <td>0.932739</td>\n",
       "      <td>84.597633</td>\n",
       "      <td>11852.716251</td>\n",
       "      <td>18.519869</td>\n",
       "      <td>35444.500000</td>\n",
       "    </tr>\n",
       "    <tr>\n",
       "      <th>std</th>\n",
       "      <td>1.589772</td>\n",
       "      <td>7.387827e+03</td>\n",
       "      <td>0.084664</td>\n",
       "      <td>1.044165</td>\n",
       "      <td>0.599070</td>\n",
       "      <td>2.619282e+08</td>\n",
       "      <td>122293.942486</td>\n",
       "      <td>1.763042</td>\n",
       "      <td>7.231657</td>\n",
       "      <td>23.593568</td>\n",
       "      <td>6007.997744</td>\n",
       "      <td>9.387496</td>\n",
       "      <td>20463.747278</td>\n",
       "    </tr>\n",
       "    <tr>\n",
       "      <th>min</th>\n",
       "      <td>2015.000000</td>\n",
       "      <td>0.000000e+00</td>\n",
       "      <td>0.000000</td>\n",
       "      <td>0.000000</td>\n",
       "      <td>1.000000</td>\n",
       "      <td>0.000000e+00</td>\n",
       "      <td>0.000000</td>\n",
       "      <td>0.000000</td>\n",
       "      <td>0.000000</td>\n",
       "      <td>0.000000</td>\n",
       "      <td>0.000000</td>\n",
       "      <td>0.000000</td>\n",
       "      <td>1.000000</td>\n",
       "    </tr>\n",
       "    <tr>\n",
       "      <th>25%</th>\n",
       "      <td>2016.000000</td>\n",
       "      <td>4.000000e+00</td>\n",
       "      <td>0.000000</td>\n",
       "      <td>0.000000</td>\n",
       "      <td>2.000000</td>\n",
       "      <td>3.966026e+08</td>\n",
       "      <td>159606.440900</td>\n",
       "      <td>1.000000</td>\n",
       "      <td>0.000000</td>\n",
       "      <td>73.000000</td>\n",
       "      <td>9105.888645</td>\n",
       "      <td>14.227951</td>\n",
       "      <td>17722.750000</td>\n",
       "    </tr>\n",
       "    <tr>\n",
       "      <th>50%</th>\n",
       "      <td>2017.000000</td>\n",
       "      <td>7.500000e+01</td>\n",
       "      <td>0.000000</td>\n",
       "      <td>1.000000</td>\n",
       "      <td>2.000000</td>\n",
       "      <td>4.769788e+08</td>\n",
       "      <td>181083.826800</td>\n",
       "      <td>3.000000</td>\n",
       "      <td>0.000000</td>\n",
       "      <td>83.000000</td>\n",
       "      <td>10949.970710</td>\n",
       "      <td>17.109329</td>\n",
       "      <td>35444.500000</td>\n",
       "    </tr>\n",
       "    <tr>\n",
       "      <th>75%</th>\n",
       "      <td>2019.000000</td>\n",
       "      <td>3.000000e+02</td>\n",
       "      <td>0.000000</td>\n",
       "      <td>1.000000</td>\n",
       "      <td>2.000000</td>\n",
       "      <td>4.879726e+08</td>\n",
       "      <td>258219.532000</td>\n",
       "      <td>5.000000</td>\n",
       "      <td>0.000000</td>\n",
       "      <td>105.000000</td>\n",
       "      <td>11202.355350</td>\n",
       "      <td>17.503680</td>\n",
       "      <td>53166.250000</td>\n",
       "    </tr>\n",
       "    <tr>\n",
       "      <th>max</th>\n",
       "      <td>2020.000000</td>\n",
       "      <td>1.890240e+06</td>\n",
       "      <td>3.000000</td>\n",
       "      <td>13.000000</td>\n",
       "      <td>13.000000</td>\n",
       "      <td>1.396100e+09</td>\n",
       "      <td>625331.698400</td>\n",
       "      <td>6.000000</td>\n",
       "      <td>57.000000</td>\n",
       "      <td>113.000000</td>\n",
       "      <td>32016.098490</td>\n",
       "      <td>50.025154</td>\n",
       "      <td>70888.000000</td>\n",
       "    </tr>\n",
       "  </tbody>\n",
       "</table>\n",
       "</div>"
      ],
      "text/plain": [
       "         Crash_Year      Distance    Fatalities       Injured    Total_Vehi  \\\n",
       "count  70888.000000  7.088800e+04  50758.000000  60342.000000  70888.000000   \n",
       "mean    2017.419620  2.775222e+02      0.006541      0.880382      2.003174   \n",
       "std        1.589772  7.387827e+03      0.084664      1.044165      0.599070   \n",
       "min     2015.000000  0.000000e+00      0.000000      0.000000      1.000000   \n",
       "25%     2016.000000  4.000000e+00      0.000000      0.000000      2.000000   \n",
       "50%     2017.000000  7.500000e+01      0.000000      1.000000      2.000000   \n",
       "75%     2019.000000  3.000000e+02      0.000000      1.000000      2.000000   \n",
       "max     2020.000000  1.890240e+06      3.000000     13.000000     13.000000   \n",
       "\n",
       "               AREA      PERIMETER          WARD       CNTY_IS         SHADE  \\\n",
       "count  7.088800e+04   70888.000000  70519.000000  70888.000000  70888.000000   \n",
       "mean   5.163180e+08  219918.774403      2.991931      0.932739     84.597633   \n",
       "std    2.619282e+08  122293.942486      1.763042      7.231657     23.593568   \n",
       "min    0.000000e+00       0.000000      0.000000      0.000000      0.000000   \n",
       "25%    3.966026e+08  159606.440900      1.000000      0.000000     73.000000   \n",
       "50%    4.769788e+08  181083.826800      3.000000      0.000000     83.000000   \n",
       "75%    4.879726e+08  258219.532000      5.000000      0.000000    105.000000   \n",
       "max    1.396100e+09  625331.698400      6.000000     57.000000    113.000000   \n",
       "\n",
       "              ACRES      SQ_MILES      ObjectId  \n",
       "count  70888.000000  70888.000000  70888.000000  \n",
       "mean   11852.716251     18.519869  35444.500000  \n",
       "std     6007.997744      9.387496  20463.747278  \n",
       "min        0.000000      0.000000      1.000000  \n",
       "25%     9105.888645     14.227951  17722.750000  \n",
       "50%    10949.970710     17.109329  35444.500000  \n",
       "75%    11202.355350     17.503680  53166.250000  \n",
       "max    32016.098490     50.025154  70888.000000  "
      ]
     },
     "execution_count": 9,
     "metadata": {},
     "output_type": "execute_result"
    }
   ],
   "source": [
    "df.describe()"
   ]
  },
  {
   "cell_type": "code",
   "execution_count": 10,
   "id": "d3d9b4b9",
   "metadata": {
    "scrolled": true
   },
   "outputs": [
    {
     "data": {
      "text/plain": [
       "<AxesSubplot: >"
      ]
     },
     "execution_count": 10,
     "metadata": {},
     "output_type": "execute_result"
    },
    {
     "data": {
      "image/png": "[encoded data removed]",
      "text/plain": [
       "<Figure size 640x480 with 2 Axes>"
      ]
     },
     "metadata": {},
     "output_type": "display_data"
    }
   ],
   "source": [
    "# Totally black, data is good\n",
    "sns.heatmap(df.isnull(), yticklabels=False)"
   ]
  },
  {
   "cell_type": "code",
   "execution_count": 11,
   "id": "890232dc",
   "metadata": {},
   "outputs": [
    {
     "data": {
      "text/plain": [
       "Crash_Seve        0\n",
       "County            0\n",
       "Crash_Date        0\n",
       "Crash_Year        0\n",
       "Crash_Time        0\n",
       "Primary_St        0\n",
       "Distance          0\n",
       "Dir            8243\n",
       "Secondary_       18\n",
       "Weather         161\n",
       "Fatalities    20130\n",
       "Injured       10546\n",
       "Property_D    33956\n",
       "Injury_Typ    33252\n",
       "Crash_Type      205\n",
       "Total_Vehi        0\n",
       "V1_Type        1638\n",
       "V1_Dir         7365\n",
       "V1_Driver_     9768\n",
       "V1_Lane_Nu    25728\n",
       "V1_Action       181\n",
       "V1_Driver1    13590\n",
       "V1_Drive_1    68922\n",
       "V1_Vehicle    15183\n",
       "V1_Most_Ha    49092\n",
       "V1_All_Eve    31091\n",
       "V2_Type       10231\n",
       "V2_Dir        18658\n",
       "V2_Driver_    10059\n",
       "V2_Lane_Nu    29872\n",
       "V2_Action     10125\n",
       "V2_Driver1    20218\n",
       "V2_Drive_1    70864\n",
       "V2_Vehicle    64452\n",
       "V2_Most_Ha    51290\n",
       "V2_All_Eve    57119\n",
       "First_Harm    49109\n",
       "Nonmotoris    69169\n",
       "Factors_Ro     5690\n",
       "Lighting       5525\n",
       "HWY_Factor     5738\n",
       "Agency           67\n",
       "Accident_R        0\n",
       "Pedalcycli    70525\n",
       "Pedestrian    70101\n",
       "Motorcycli    70123\n",
       "AnimalType    70857\n",
       "CrashDateT    33802\n",
       "AREA              0\n",
       "PERIMETER         0\n",
       "WARD            369\n",
       "CNTY_IS           0\n",
       "SHADE             0\n",
       "ACRES             0\n",
       "SQ_MILES          0\n",
       "ObjectId          0\n",
       "dtype: int64"
      ]
     },
     "execution_count": 11,
     "metadata": {},
     "output_type": "execute_result"
    }
   ],
   "source": [
    "df.isnull().sum()"
   ]
  },
  {
   "cell_type": "code",
   "execution_count": 12,
   "id": "fb1cbe08",
   "metadata": {},
   "outputs": [
    {
     "data": {
      "text/plain": [
       "Crash_Seve    False\n",
       "County        False\n",
       "Crash_Date    False\n",
       "Crash_Year    False\n",
       "Crash_Time    False\n",
       "Primary_St    False\n",
       "Distance      False\n",
       "Dir            True\n",
       "Secondary_     True\n",
       "Weather        True\n",
       "Fatalities     True\n",
       "Injured        True\n",
       "Property_D     True\n",
       "Injury_Typ     True\n",
       "Crash_Type     True\n",
       "Total_Vehi    False\n",
       "V1_Type        True\n",
       "V1_Dir         True\n",
       "V1_Driver_     True\n",
       "V1_Lane_Nu     True\n",
       "V1_Action      True\n",
       "V1_Driver1     True\n",
       "V1_Drive_1     True\n",
       "V1_Vehicle     True\n",
       "V1_Most_Ha     True\n",
       "V1_All_Eve     True\n",
       "V2_Type        True\n",
       "V2_Dir         True\n",
       "V2_Driver_     True\n",
       "V2_Lane_Nu     True\n",
       "V2_Action      True\n",
       "V2_Driver1     True\n",
       "V2_Drive_1     True\n",
       "V2_Vehicle     True\n",
       "V2_Most_Ha     True\n",
       "V2_All_Eve     True\n",
       "First_Harm     True\n",
       "Nonmotoris     True\n",
       "Factors_Ro     True\n",
       "Lighting       True\n",
       "HWY_Factor     True\n",
       "Agency         True\n",
       "Accident_R    False\n",
       "Pedalcycli     True\n",
       "Pedestrian     True\n",
       "Motorcycli     True\n",
       "AnimalType     True\n",
       "CrashDateT     True\n",
       "AREA          False\n",
       "PERIMETER     False\n",
       "WARD           True\n",
       "CNTY_IS       False\n",
       "SHADE         False\n",
       "ACRES         False\n",
       "SQ_MILES      False\n",
       "ObjectId      False\n",
       "dtype: bool"
      ]
     },
     "execution_count": 12,
     "metadata": {},
     "output_type": "execute_result"
    }
   ],
   "source": [
    "df.isnull().any()"
   ]
  },
  {
   "cell_type": "code",
   "execution_count": 13,
   "id": "da48c9a2",
   "metadata": {},
   "outputs": [
    {
     "data": {
      "text/plain": [
       "array(['PROPERTY DAMAGE ONLY', 'INJURY CRASH', 'FATAL CRASH',\n",
       "       'INJURY ACCIDENT', 'FATAL ACCIDENT'], dtype=object)"
      ]
     },
     "execution_count": 13,
     "metadata": {},
     "output_type": "execute_result"
    }
   ],
   "source": [
    "df.Crash_Seve.unique()"
   ]
  },
  {
   "cell_type": "code",
   "execution_count": 14,
   "id": "22fbf330",
   "metadata": {},
   "outputs": [
    {
     "data": {
      "text/plain": [
       "array(['CLARK'], dtype=object)"
      ]
     },
     "execution_count": 14,
     "metadata": {},
     "output_type": "execute_result"
    }
   ],
   "source": [
    "df.County.unique()"
   ]
  },
  {
   "cell_type": "code",
   "execution_count": 15,
   "id": "0c431cfd",
   "metadata": {},
   "outputs": [
    {
     "data": {
      "text/plain": [
       "array(['2015/05/12 00:00:00+00', '2015/01/07 00:00:00+00',\n",
       "       '2015/05/01 00:00:00+00', ..., '2020/12/29 00:00:00+00',\n",
       "       '2020/12/30 00:00:00+00', '2020/12/31 00:00:00+00'], dtype=object)"
      ]
     },
     "execution_count": 15,
     "metadata": {},
     "output_type": "execute_result"
    }
   ],
   "source": [
    "df.Crash_Date.unique()"
   ]
  },
  {
   "cell_type": "code",
   "execution_count": 16,
   "id": "da2160b0",
   "metadata": {},
   "outputs": [
    {
     "data": {
      "text/plain": [
       "array([2015, 2016, 2017, 2018, 2019, 2020], dtype=int64)"
      ]
     },
     "execution_count": 16,
     "metadata": {},
     "output_type": "execute_result"
    }
   ],
   "source": [
    "df.Crash_Year.unique()"
   ]
  },
  {
   "cell_type": "code",
   "execution_count": 17,
   "id": "704d8c1f",
   "metadata": {},
   "outputs": [
    {
     "data": {
      "text/plain": [
       "array(['2023/01/12 15:52:00+00', '2023/01/12 12:18:00+00',\n",
       "       '2023/01/12 08:12:00+00', ..., '2023/01/12 00:48:00+00',\n",
       "       '2023/01/12 04:50:00+00', '2023/01/12 01:06:00+00'], dtype=object)"
      ]
     },
     "execution_count": 17,
     "metadata": {},
     "output_type": "execute_result"
    }
   ],
   "source": [
    "df.Crash_Time.unique()"
   ]
  },
  {
   "cell_type": "code",
   "execution_count": 18,
   "id": "3299ead0",
   "metadata": {},
   "outputs": [
    {
     "data": {
      "text/plain": [
       "array(['STEWART AVE', 'MARTIN L KING BLVD', 'CRAIG RD', ...,\n",
       "       'CC215S TO W CHEYENNE AVE INT30',\n",
       "       'US95S TO VALLEY VIEW BLVD SB INT78', 'VALLEY CREST ST'],\n",
       "      dtype=object)"
      ]
     },
     "execution_count": 18,
     "metadata": {},
     "output_type": "execute_result"
    }
   ],
   "source": [
    "df.Primary_St.unique()"
   ]
  },
  {
   "cell_type": "code",
   "execution_count": 19,
   "id": "83836685",
   "metadata": {},
   "outputs": [
    {
     "data": {
      "text/plain": [
       "array([  60. ,  300. ,   48. , ..., 1180. , 1226. , 4910.4])"
      ]
     },
     "execution_count": 19,
     "metadata": {},
     "output_type": "execute_result"
    }
   ],
   "source": [
    "df.Distance.unique()"
   ]
  },
  {
   "cell_type": "code",
   "execution_count": 20,
   "id": "b636d2d7",
   "metadata": {},
   "outputs": [
    {
     "data": {
      "text/plain": [
       "array(['E', 'N', nan, 'W', 'S', 'X', 'AT INT'], dtype=object)"
      ]
     },
     "execution_count": 20,
     "metadata": {},
     "output_type": "execute_result"
    }
   ],
   "source": [
    "df.Dir.unique()"
   ]
  },
  {
   "cell_type": "code",
   "execution_count": 21,
   "id": "341e9134",
   "metadata": {},
   "outputs": [
    {
     "data": {
      "text/plain": [
       "array(['LAS VEGAS BLVD', 'BALZAR AVE', 'N BUFFALO DR', ..., 'DRURY ST',\n",
       "       'DEAUVILLE ST', 'N PEARL ST'], dtype=object)"
      ]
     },
     "execution_count": 21,
     "metadata": {},
     "output_type": "execute_result"
    }
   ],
   "source": [
    "df.Secondary_.unique()"
   ]
  },
  {
   "cell_type": "code",
   "execution_count": 22,
   "id": "00995a17",
   "metadata": {},
   "outputs": [
    {
     "data": {
      "text/plain": [
       "array(['CLEAR', 'CLOUDY', 'RAIN', 'SEVERE CROSSWINDS', 'CLOUDY: RAIN',\n",
       "       'UNKNOWN', 'BLOWING SAND, SOIL, DIRT, SNOW', 'FOG, SMOG, SMOKE',\n",
       "       'CLOUDY: BLOWING SAND, SOIL, DIRT, SNOW', 'SNOW',\n",
       "       'CLOUDY: SEVERE CROSSWINDS', 'CLOUDY: FOG, SMOG, SMOKE',\n",
       "       'RAIN: BLOWING SAND, SOIL, DIRT, SNOW', 'OTHER', nan,\n",
       "       'CLEAR: CLOUDY', 'CLEAR: OTHER', 'CLEAR: UNKNOWN', 'CLEAR: RAIN',\n",
       "       'CLEAR: BLOWING SAND, SOIL, DIRT, SNOW', 'CLOUDY: OTHER',\n",
       "       'CLOUDY: UNKNOWN', 'CLEAR: SEVERE CROSSWINDS', 'BLOWING SNOW',\n",
       "       'SLEET, HAIL (FREEZING RAIN OR DRIZZLE)', 'NOT REPORTED'],\n",
       "      dtype=object)"
      ]
     },
     "execution_count": 22,
     "metadata": {},
     "output_type": "execute_result"
    }
   ],
   "source": [
    "df.Weather.unique()"
   ]
  },
  {
   "cell_type": "code",
   "execution_count": 23,
   "id": "5880c219",
   "metadata": {},
   "outputs": [
    {
     "data": {
      "text/plain": [
       "array([ 0.,  1.,  2., nan,  3.])"
      ]
     },
     "execution_count": 23,
     "metadata": {},
     "output_type": "execute_result"
    }
   ],
   "source": [
    "df.Fatalities.unique()"
   ]
  },
  {
   "cell_type": "code",
   "execution_count": 24,
   "id": "9d9079c5",
   "metadata": {},
   "outputs": [
    {
     "data": {
      "text/plain": [
       "array([ 0.,  3.,  2.,  1.,  4.,  5.,  8.,  6., 10.,  7.,  9., 13., nan,\n",
       "       12.])"
      ]
     },
     "execution_count": 24,
     "metadata": {},
     "output_type": "execute_result"
    }
   ],
   "source": [
    "df.Injured.unique()"
   ]
  },
  {
   "cell_type": "code",
   "execution_count": 25,
   "id": "cd80a31b",
   "metadata": {},
   "outputs": [
    {
     "data": {
      "text/plain": [
       "array(['PDO', nan], dtype=object)"
      ]
     },
     "execution_count": 25,
     "metadata": {},
     "output_type": "execute_result"
    }
   ],
   "source": [
    "df.Property_D.unique()"
   ]
  },
  {
   "cell_type": "code",
   "execution_count": 26,
   "id": "bf10cc7d",
   "metadata": {},
   "outputs": [
    {
     "data": {
      "text/plain": [
       "array([nan, 'C', 'B', 'U', 'A', 'O', 'N', 'K'], dtype=object)"
      ]
     },
     "execution_count": 26,
     "metadata": {},
     "output_type": "execute_result"
    }
   ],
   "source": [
    "df.Injury_Typ.unique()"
   ]
  },
  {
   "cell_type": "code",
   "execution_count": 27,
   "id": "caa5583b",
   "metadata": {},
   "outputs": [
    {
     "data": {
      "text/plain": [
       "array(['REAR-END', 'ANGLE', 'HEAD-ON', 'BACKING', 'NON-COLLISION',\n",
       "       'SIDESWIPE, OVERTAKING', 'SIDESWIPE, MEETING', 'REAR-TO-REAR',\n",
       "       'UNKNOWN', nan, 'REAR TO SIDE', 'HEAD ON', 'REAR END'],\n",
       "      dtype=object)"
      ]
     },
     "execution_count": 27,
     "metadata": {},
     "output_type": "execute_result"
    }
   ],
   "source": [
    "df.Crash_Type.unique()"
   ]
  },
  {
   "cell_type": "code",
   "execution_count": 28,
   "id": "92ea0047",
   "metadata": {},
   "outputs": [
    {
     "data": {
      "text/plain": [
       "array([ 2,  3,  5,  1,  4,  6, 10,  7,  8,  9, 13], dtype=int64)"
      ]
     },
     "execution_count": 28,
     "metadata": {},
     "output_type": "execute_result"
    }
   ],
   "source": [
    "df.Total_Vehi.unique()"
   ]
  },
  {
   "cell_type": "code",
   "execution_count": 29,
   "id": "06e51765",
   "metadata": {},
   "outputs": [
    {
     "data": {
      "text/plain": [
       "array(['CARRY-ALL', 'SEDAN, 4 DOOR', 'HARDTOP, 4 DOOR', 'PICKUP',\n",
       "       'HARDTOP, 2 DOOR', 'OTHER', 'UTILITY', 'SEDAN', 'UNKNOWN', 'VAN',\n",
       "       'HATCHBACK, 4 DOOR', 'SEDAN, 2 DOOR', 'BUS', 'STATION WAGON',\n",
       "       'MOPED', 'MOTORCYCLE', 'TRACTOR TRUCK, DIESEL', 'COUPE',\n",
       "       'HATCHBACK, 2 DOOR', 'TENT TRAILER', 'CONVERTIBLE',\n",
       "       'CONSTRUCTION VEHICLE', 'SEMI', 'GARBAGE OR REFUSE',\n",
       "       'FLATBED OR PLATFORM', 'LIFT BOOM', 'MOTORBIKE', 'HARDTOP',\n",
       "       'CHASSIS AND CAB', 'TOW TRUCK/WRECKER', 'FLATRACK',\n",
       "       'PICKUP WITH MOUNTED CAMPER', 'VAN CAMPER', 'GOLF CART',\n",
       "       'MOTORIZED HOME', 'TRACTOR TRUCK, GASOLINE', 'CONCRETE MIXER',\n",
       "       'LIMOUSINE', 'MOTORSCOOTER', 'VANETTE', 'HATCHBACK/FASTBACK',\n",
       "       '3-DOOR', 'PALLET', 'DUMP', 'TANKER', 'LOG', 'REFRIGERATED VAN',\n",
       "       'AMBULANCE', 'MULTI-WHEEL', 'WAGON', 'BEVERAGE TRUCK', 'ROADSTER',\n",
       "       'ARMORED TRUCK', 'HEARSE', 'STAKE OR RACK', 'AUTO CARRIER',\n",
       "       'GRAIN', 'WELL DRILLER', 'TOURING CAR', 'BULK AGRICULTURE',\n",
       "       'FIRE TRUCK', 'COACH', 'GLASS RACK', 'MINICYCLE', nan,\n",
       "       'MOTORIZED SCOOTER', 'ATV', 'MOTORIZED CART', 'MINIBIKE',\n",
       "       'LUNCH WAGON', 'RETRACTABLE HARDTOP'], dtype=object)"
      ]
     },
     "execution_count": 29,
     "metadata": {},
     "output_type": "execute_result"
    }
   ],
   "source": [
    "df.V1_Type.unique()"
   ]
  },
  {
   "cell_type": "code",
   "execution_count": 30,
   "id": "86dbb85b",
   "metadata": {},
   "outputs": [
    {
     "data": {
      "text/plain": [
       "array(['W', 'S', 'N', 'E', 'U', nan, 'X'], dtype=object)"
      ]
     },
     "execution_count": 30,
     "metadata": {},
     "output_type": "execute_result"
    }
   ],
   "source": [
    "df.V1_Dir.unique()"
   ]
  },
  {
   "cell_type": "code",
   "execution_count": 31,
   "id": "1c5e5228",
   "metadata": {},
   "outputs": [
    {
     "data": {
      "text/plain": [
       "array([57, 50, 30, 18, 22, 21, 0, 26, 15, 42, 25, 47, 23, 27, 29, 52, 20,\n",
       "       28, 48, 59, 19, 55, 31, 64, 71, 33, 37, 24, 69, 54, 61, 36, 60, 35,\n",
       "       43, 39, 40, 81, 16, 32, 41, 56, 51, 63, 17, 49, 38, 34, 62, 45, 65,\n",
       "       78, 68, 66, 88, 44, 82, 53, 72, 74, 67, 58, 80, 46, 77, 75, 79, 70,\n",
       "       76, 84, 85, 73, 83, 91, 86, 89, 97, 87, 93, 90, 96, 98, 92, 95, 94,\n",
       "       99, 14, 13, '0', '60', '26', '34', '19', '38', '50', '23', '52',\n",
       "       '71', '66', '49', '33', '35', '41', '51', '24', '40', '27', '57',\n",
       "       '21', '29', '28', '20', '72', '55', '32', '64', '46', '48', '44',\n",
       "       '39', '25', '53', '68', '43', '58', '67', '22', '30', '31', '73',\n",
       "       '18', '17', '69', '45', '42', '81', '59', '37', '54', '61', '70',\n",
       "       '63', '47', '62', '75', '56', '77', '16', '65', '36', '89', '79',\n",
       "       '94', '92', '97', '74', '78', '82', '76', '88', '83', '85', '80',\n",
       "       '15', '87', '86', '84', '90', '14', '93', nan, '<Null>', '96',\n",
       "       '91', '98', '99', '95', 9, 12], dtype=object)"
      ]
     },
     "execution_count": 31,
     "metadata": {},
     "output_type": "execute_result"
    }
   ],
   "source": [
    "df.V1_Driver_.unique()"
   ]
  },
  {
   "cell_type": "code",
   "execution_count": 32,
   "id": "d4771e27",
   "metadata": {},
   "outputs": [
    {
     "data": {
      "text/plain": [
       "array([nan, 'OTHER',\n",
       "       'ELECTRONIC EQUIPMENT (COMPUTERS, ON BOARD NAVIGATION SYSTEM, ETC.)',\n",
       "       'READING', 'UNKNOWN', 'CELL PHONE', 'CHILDREN', 'ANIMALS',\n",
       "       'RADIO/CD PLAYER', 'SMOKING',\n",
       "       'PERSONAL HYGIENE (PUTTING ON MAKE-UP, SHAVING, BRUSHING TEETH, ETC.)',\n",
       "       'EATING', '<Null>', 'OTHER INSIDE THE VEHICLE',\n",
       "       'CELL PHONE (TEXTING)',\n",
       "       'EXTERNAL DISTRACTION (OUTSIDE THE VEHICLE)', 'PERSONAL HYGIENE',\n",
       "       'ELECTRONIC EQUIPMENT', 'CELL PHONE (TALKING)'], dtype=object)"
      ]
     },
     "execution_count": 32,
     "metadata": {},
     "output_type": "execute_result"
    }
   ],
   "source": [
    "df.V1_Drive_1.unique()"
   ]
  },
  {
   "cell_type": "code",
   "execution_count": 33,
   "id": "e6a0bdf0",
   "metadata": {},
   "outputs": [
    {
     "data": {
      "text/plain": [
       "array(['FOLLOWED TOO CLOSELY', 'OTHER IMPROPER DRIVING',\n",
       "       'FAILED TO YIELD RIGHT OF WAY', 'HIT AND RUN: UNSAFE LANE CHANGE',\n",
       "       'FAILURE TO KEEP IN PROPER LANE OR RUNNING OFF ROAD: HIT AND RUN',\n",
       "       nan, 'DROVE LEFT OF CENTER: OTHER IMPROPER DRIVING',\n",
       "       'UNSAFE BACKING', 'DRIVING TOO FAST FOR CONDITIONS',\n",
       "       'FAILURE TO KEEP IN PROPER LANE OR RUNNING OFF ROAD: DROVE LEFT OF CENTER: RAN OFF ROAD: UNSAFE LANE CHANGE',\n",
       "       'FAILURE TO KEEP IN PROPER LANE OR RUNNING OFF ROAD',\n",
       "       'FAILURE TO KEEP IN PROPER LANE OR RUNNING OFF ROAD: UNSAFE LANE CHANGE',\n",
       "       'FAILURE TO KEEP IN PROPER LANE OR RUNNING OFF ROAD: RAN OFF ROAD: HIT AND RUN',\n",
       "       'HIT AND RUN', 'HIT AND RUN: OTHER IMPROPER DRIVING',\n",
       "       'FAILURE TO KEEP IN PROPER LANE OR RUNNING OFF ROAD: OVER-CORRECTING/OVER-STEERING: DROVE LEFT OF CENTER',\n",
       "       'UNKNOWN',\n",
       "       'FAILED TO YIELD RIGHT OF WAY: MADE AN IMPROPER TURN: UNSAFE LANE CHANGE',\n",
       "       'FAILURE TO KEEP IN PROPER LANE OR RUNNING OFF ROAD: RAN OFF ROAD: UNSAFE LANE CHANGE',\n",
       "       'FAILURE TO KEEP IN PROPER LANE OR RUNNING OFF ROAD: RAN OFF ROAD',\n",
       "       'FAILURE TO KEEP IN PROPER LANE OR RUNNING OFF ROAD: OVER-CORRECTING/OVER-STEERING',\n",
       "       'DISREGARDED TRAFFIC SIGNS, SIGNALS, ROAD MARKINGS',\n",
       "       'RAN OFF ROAD', 'FOLLOWED TOO CLOSELY: MECHANICAL DEFECTS',\n",
       "       'FAILED TO YIELD RIGHT OF WAY: DISREGARDED TRAFFIC SIGNS, SIGNALS, ROAD MARKINGS',\n",
       "       'MADE AN IMPROPER TURN',\n",
       "       'DRIVING TOO FAST FOR CONDITIONS: FAILURE TO KEEP IN PROPER LANE OR RUNNING OFF ROAD: HIT AND RUN',\n",
       "       'FAILED TO YIELD RIGHT OF WAY: HIT AND RUN',\n",
       "       'WRONG SIDE OR WRONG WAY',\n",
       "       'EXCEEDED AUTHORIZED SPEED LIMIT: DRIVING TOO FAST FOR CONDITIONS: FAILURE TO KEEP IN PROPER LANE OR RUNNING OFF ROAD',\n",
       "       'FAILURE TO KEEP IN PROPER LANE OR RUNNING OFF ROAD: RAN OFF ROAD: HIT AND RUN: UNSAFE LANE CHANGE',\n",
       "       'DRIVING TOO FAST FOR CONDITIONS: FAILURE TO KEEP IN PROPER LANE OR RUNNING OFF ROAD: DROVE LEFT OF CENTER: RAN OFF ROAD',\n",
       "       'FAILED TO YIELD RIGHT OF WAY: MADE AN IMPROPER TURN',\n",
       "       'DISREGARDED TRAFFIC SIGNS, SIGNALS, ROAD MARKINGS: FAILURE TO KEEP IN PROPER LANE OR RUNNING OFF ROAD: OPERATING VEHICLE IN ERRATIC, RECKLESS, CARELESS, NEGLIGENT OR  AGGRESSIVE MANNER: HIT AND RUN: OTHER IMPROPER DRIVING',\n",
       "       'FAILURE TO KEEP IN PROPER LANE OR RUNNING OFF ROAD: OPERATING VEHICLE IN ERRATIC, RECKLESS, CARELESS, NEGLIGENT OR  AGGRESSIVE MANNER: RAN OFF ROAD: HIT AND RUN: UNSAFE LANE CHANGE',\n",
       "       'DRIVING TOO FAST FOR CONDITIONS: FAILURE TO KEEP IN PROPER LANE OR RUNNING OFF ROAD: RAN OFF ROAD',\n",
       "       'DROVE LEFT OF CENTER', 'UNSAFE LANE CHANGE',\n",
       "       'FAILED TO YIELD RIGHT OF WAY: UNSAFE LANE CHANGE',\n",
       "       'EXCEEDED AUTHORIZED SPEED LIMIT: RAN OFF ROAD',\n",
       "       'OVER-CORRECTING/OVER-STEERING: RAN OFF ROAD',\n",
       "       'DRIVING TOO FAST FOR CONDITIONS: FAILURE TO KEEP IN PROPER LANE OR RUNNING OFF ROAD',\n",
       "       'OPERATING VEHICLE IN ERRATIC, RECKLESS, CARELESS, NEGLIGENT OR  AGGRESSIVE MANNER',\n",
       "       'HIT AND RUN: UNSAFE BACKING',\n",
       "       'FAILURE TO KEEP IN PROPER LANE OR RUNNING OFF ROAD: OPERATING VEHICLE IN ERRATIC, RECKLESS, CARELESS, NEGLIGENT OR  AGGRESSIVE MANNER: OVER-CORRECTING/OVER-STEERING: UNSAFE LANE CHANGE',\n",
       "       'HIT AND RUN: UNKNOWN', 'MADE AN IMPROPER TURN: RAN OFF ROAD',\n",
       "       'FOLLOWED TOO CLOSELY: HIT AND RUN', 'OBJECT AVOIDANCE',\n",
       "       'DRIVING TOO FAST FOR CONDITIONS: MADE AN IMPROPER TURN',\n",
       "       'FAILURE TO KEEP IN PROPER LANE OR RUNNING OFF ROAD: HIT AND RUN: UNSAFE LANE CHANGE',\n",
       "       'DISREGARDED TRAFFIC SIGNS, SIGNALS, ROAD MARKINGS: OTHER IMPROPER DRIVING: OBJECT AVOIDANCE',\n",
       "       'MECHANICAL DEFECTS',\n",
       "       'DISREGARDED TRAFFIC SIGNS, SIGNALS, ROAD MARKINGS: HIT AND RUN',\n",
       "       'EXCEEDED AUTHORIZED SPEED LIMIT: DRIVING TOO FAST FOR CONDITIONS: FAILURE TO KEEP IN PROPER LANE OR RUNNING OFF ROAD: OPERATING VEHICLE IN ERRATIC, RECKLESS, CARELESS, NEGLIGENT OR  AGGRESSIVE MANNER: OVER-CORRECTING/OVER-STEERING',\n",
       "       'MECHANICAL DEFECTS: ROAD DEFECT',\n",
       "       'FAILURE TO KEEP IN PROPER LANE OR RUNNING OFF ROAD: OPERATING VEHICLE IN ERRATIC, RECKLESS, CARELESS, NEGLIGENT OR  AGGRESSIVE MANNER: RAN OFF ROAD: HIT AND RUN',\n",
       "       'DRIVING TOO FAST FOR CONDITIONS: FOLLOWED TOO CLOSELY: OTHER IMPROPER DRIVING',\n",
       "       'FAILURE TO KEEP IN PROPER LANE OR RUNNING OFF ROAD: UNSAFE LANE CHANGE: OTHER IMPROPER DRIVING',\n",
       "       'MADE AN IMPROPER TURN: VISIBILITY OBSTRUCTED: DROVE LEFT OF CENTER',\n",
       "       'UNSAFE LANE CHANGE: OBJECT AVOIDANCE',\n",
       "       'FAILURE TO KEEP IN PROPER LANE OR RUNNING OFF ROAD: OPERATING VEHICLE IN ERRATIC, RECKLESS, CARELESS, NEGLIGENT OR  AGGRESSIVE MANNER: HIT AND RUN',\n",
       "       'FAILURE TO KEEP IN PROPER LANE OR RUNNING OFF ROAD: OTHER IMPROPER DRIVING',\n",
       "       'DRIVING TOO FAST FOR CONDITIONS: FAILURE TO KEEP IN PROPER LANE OR RUNNING OFF ROAD: OVER-CORRECTING/OVER-STEERING: UNSAFE LANE CHANGE',\n",
       "       'DRIVING TOO FAST FOR CONDITIONS: MADE AN IMPROPER TURN: FAILURE TO KEEP IN PROPER LANE OR RUNNING OFF ROAD: OVER-CORRECTING/OVER-STEERING',\n",
       "       'EXCEEDED AUTHORIZED SPEED LIMIT: FAILURE TO KEEP IN PROPER LANE OR RUNNING OFF ROAD: OPERATING VEHICLE IN ERRATIC, RECKLESS, CARELESS, NEGLIGENT OR  AGGRESSIVE MANNER: RAN OFF ROAD',\n",
       "       'FAILURE TO KEEP IN PROPER LANE OR RUNNING OFF ROAD: DROVE LEFT OF CENTER: RAN OFF ROAD',\n",
       "       'UNSAFE LANE CHANGE: OTHER IMPROPER DRIVING',\n",
       "       'DRIVING TOO FAST FOR CONDITIONS: FAILURE TO KEEP IN PROPER LANE OR RUNNING OFF ROAD: OPERATING VEHICLE IN ERRATIC, RECKLESS, CARELESS, NEGLIGENT OR  AGGRESSIVE MANNER: OVER-CORRECTING/OVER-STEERING: UNSAFE LANE CHANGE',\n",
       "       'DRIVING TOO FAST FOR CONDITIONS: DROVE LEFT OF CENTER: RAN OFF ROAD',\n",
       "       'EXCEEDED AUTHORIZED SPEED LIMIT: OPERATING VEHICLE IN ERRATIC, RECKLESS, CARELESS, NEGLIGENT OR  AGGRESSIVE MANNER',\n",
       "       'FAILURE TO KEEP IN PROPER LANE OR RUNNING OFF ROAD: OPERATING VEHICLE IN ERRATIC, RECKLESS, CARELESS, NEGLIGENT OR  AGGRESSIVE MANNER: DROVE LEFT OF CENTER: RAN OFF ROAD',\n",
       "       'FAILED TO YIELD RIGHT OF WAY: VISIBILITY OBSTRUCTED',\n",
       "       'EXCEEDED AUTHORIZED SPEED LIMIT',\n",
       "       'FAILURE TO KEEP IN PROPER LANE OR RUNNING OFF ROAD: OVER-CORRECTING/OVER-STEERING: OBJECT AVOIDANCE',\n",
       "       'HIT AND RUN: DRIVERLESS VEHICLE',\n",
       "       'FAILURE TO KEEP IN PROPER LANE OR RUNNING OFF ROAD: OPERATING VEHICLE IN ERRATIC, RECKLESS, CARELESS, NEGLIGENT OR  AGGRESSIVE MANNER: RAN OFF ROAD',\n",
       "       'FAILURE TO KEEP IN PROPER LANE OR RUNNING OFF ROAD: DROVE LEFT OF CENTER',\n",
       "       'FAILURE TO KEEP IN PROPER LANE OR RUNNING OFF ROAD: RAN OFF ROAD: HIT AND RUN: DRIVERLESS VEHICLE: UNSAFE LANE CHANGE',\n",
       "       'DRIVING TOO FAST FOR CONDITIONS: FAILURE TO KEEP IN PROPER LANE OR RUNNING OFF ROAD: OPERATING VEHICLE IN ERRATIC, RECKLESS, CARELESS, NEGLIGENT OR  AGGRESSIVE MANNER: OVER-CORRECTING/OVER-STEERING: DROVE LEFT OF CENTER',\n",
       "       'FAILURE TO KEEP IN PROPER LANE OR RUNNING OFF ROAD: DROVE LEFT OF CENTER: UNSAFE LANE CHANGE',\n",
       "       'EXCEEDED AUTHORIZED SPEED LIMIT: DRIVING TOO FAST FOR CONDITIONS: HIT AND RUN',\n",
       "       'HIT AND RUN: OTHER IMPROPER DRIVING: UNKNOWN',\n",
       "       'FOLLOWED TOO CLOSELY: FAILURE TO KEEP IN PROPER LANE OR RUNNING OFF ROAD: UNSAFE LANE CHANGE',\n",
       "       'FAILURE TO KEEP IN PROPER LANE OR RUNNING OFF ROAD: OBJECT AVOIDANCE',\n",
       "       'DRIVING TOO FAST FOR CONDITIONS: FAILURE TO KEEP IN PROPER LANE OR RUNNING OFF ROAD: UNSAFE LANE CHANGE: OTHER IMPROPER DRIVING',\n",
       "       'DROVE LEFT OF CENTER: RAN OFF ROAD',\n",
       "       'DRIVING TOO FAST FOR CONDITIONS: FOLLOWED TOO CLOSELY',\n",
       "       'DISREGARDED TRAFFIC SIGNS, SIGNALS, ROAD MARKINGS: EXCEEDED AUTHORIZED SPEED LIMIT: OPERATING VEHICLE IN ERRATIC, RECKLESS, CARELESS, NEGLIGENT OR  AGGRESSIVE MANNER: DROVE LEFT OF CENTER: HIT AND RUN',\n",
       "       'FAILED TO YIELD RIGHT OF WAY: RAN OFF ROAD: UNSAFE LANE CHANGE',\n",
       "       'DROVE LEFT OF CENTER: HIT AND RUN',\n",
       "       'DRIVING TOO FAST FOR CONDITIONS: UNSAFE LANE CHANGE',\n",
       "       'DRIVING TOO FAST FOR CONDITIONS: FAILURE TO KEEP IN PROPER LANE OR RUNNING OFF ROAD: OPERATING VEHICLE IN ERRATIC, RECKLESS, CARELESS, NEGLIGENT OR  AGGRESSIVE MANNER: OVER-CORRECTING/OVER-STEERING',\n",
       "       'EXCEEDED AUTHORIZED SPEED LIMIT: FAILURE TO KEEP IN PROPER LANE OR RUNNING OFF ROAD: RAN OFF ROAD: UNSAFE LANE CHANGE',\n",
       "       'FOLLOWED TOO CLOSELY: OTHER IMPROPER DRIVING',\n",
       "       'RAN OFF ROAD: HIT AND RUN',\n",
       "       'DISREGARDED TRAFFIC SIGNS, SIGNALS, ROAD MARKINGS: OPERATING VEHICLE IN ERRATIC, RECKLESS, CARELESS, NEGLIGENT OR  AGGRESSIVE MANNER',\n",
       "       'DISREGARDED TRAFFIC SIGNS, SIGNALS, ROAD MARKINGS: MADE AN IMPROPER TURN: HIT AND RUN',\n",
       "       'MADE AN IMPROPER TURN: FAILURE TO KEEP IN PROPER LANE OR RUNNING OFF ROAD',\n",
       "       'NO IMPROPER DRIVING',\n",
       "       'DISREGARDED TRAFFIC SIGNS, SIGNALS, ROAD MARKINGS: DRIVING TOO FAST FOR CONDITIONS',\n",
       "       'MADE AN IMPROPER TURN: FAILURE TO KEEP IN PROPER LANE OR RUNNING OFF ROAD: DROVE LEFT OF CENTER: RAN OFF ROAD',\n",
       "       'OPERATING VEHICLE IN ERRATIC, RECKLESS, CARELESS, NEGLIGENT OR  AGGRESSIVE MANNER: HIT AND RUN',\n",
       "       'EXCEEDED AUTHORIZED SPEED LIMIT: FOLLOWED TOO CLOSELY: FAILURE TO KEEP IN PROPER LANE OR RUNNING OFF ROAD: OPERATING VEHICLE IN ERRATIC, RECKLESS, CARELESS, NEGLIGENT OR  AGGRESSIVE MANNER: UNSAFE LANE CHANGE',\n",
       "       'WRONG SIDE OR WRONG WAY: FAILURE TO KEEP IN PROPER LANE OR RUNNING OFF ROAD: HIT AND RUN: OTHER IMPROPER DRIVING',\n",
       "       'FOLLOWED TOO CLOSELY: OPERATING VEHICLE IN ERRATIC, RECKLESS, CARELESS, NEGLIGENT OR  AGGRESSIVE MANNER',\n",
       "       'FAILED TO YIELD RIGHT OF WAY: OTHER IMPROPER DRIVING',\n",
       "       'DRIVING TOO FAST FOR CONDITIONS: MADE AN IMPROPER TURN: OVER-CORRECTING/OVER-STEERING',\n",
       "       'VISIBILITY OBSTRUCTED: UNSAFE LANE CHANGE',\n",
       "       'MADE AN IMPROPER TURN: HIT AND RUN',\n",
       "       'OPERATING VEHICLE IN ERRATIC, RECKLESS, CARELESS, NEGLIGENT OR  AGGRESSIVE MANNER: RAN OFF ROAD',\n",
       "       'FAILED TO YIELD RIGHT OF WAY: DISREGARDED TRAFFIC SIGNS, SIGNALS, ROAD MARKINGS: MADE AN IMPROPER TURN',\n",
       "       'FOLLOWED TOO CLOSELY: UNKNOWN',\n",
       "       'OTHER IMPROPER DRIVING: OBJECT AVOIDANCE',\n",
       "       'EXCEEDED AUTHORIZED SPEED LIMIT: FAILURE TO KEEP IN PROPER LANE OR RUNNING OFF ROAD: RAN OFF ROAD: HIT AND RUN',\n",
       "       'EXCEEDED AUTHORIZED SPEED LIMIT: HIT AND RUN: OTHER IMPROPER DRIVING',\n",
       "       'FAILURE TO KEEP IN PROPER LANE OR RUNNING OFF ROAD: OVER-CORRECTING/OVER-STEERING: RAN OFF ROAD',\n",
       "       'MADE AN IMPROPER TURN: FAILURE TO KEEP IN PROPER LANE OR RUNNING OFF ROAD: HIT AND RUN',\n",
       "       'DISREGARDED TRAFFIC SIGNS, SIGNALS, ROAD MARKINGS: FAILURE TO KEEP IN PROPER LANE OR RUNNING OFF ROAD: OVER-CORRECTING/OVER-STEERING: UNSAFE LANE CHANGE',\n",
       "       'MADE AN IMPROPER TURN: FAILURE TO KEEP IN PROPER LANE OR RUNNING OFF ROAD: UNSAFE LANE CHANGE',\n",
       "       'WRONG SIDE OR WRONG WAY: OPERATING VEHICLE IN ERRATIC, RECKLESS, CARELESS, NEGLIGENT OR  AGGRESSIVE MANNER: HIT AND RUN',\n",
       "       'FOLLOWED TOO CLOSELY: HIT AND RUN: ROAD DEFECT',\n",
       "       'DRIVING TOO FAST FOR CONDITIONS: FAILURE TO KEEP IN PROPER LANE OR RUNNING OFF ROAD: RAN OFF ROAD: HIT AND RUN',\n",
       "       'HIT AND RUN: OBJECT AVOIDANCE',\n",
       "       'FAILED TO YIELD RIGHT OF WAY: UNSAFE LANE CHANGE: OTHER IMPROPER DRIVING',\n",
       "       'FAILURE TO KEEP IN PROPER LANE OR RUNNING OFF ROAD: DROVE LEFT OF CENTER: HIT AND RUN',\n",
       "       'DRIVING TOO FAST FOR CONDITIONS: FAILURE TO KEEP IN PROPER LANE OR RUNNING OFF ROAD: OPERATING VEHICLE IN ERRATIC, RECKLESS, CARELESS, NEGLIGENT OR  AGGRESSIVE MANNER: RAN OFF ROAD: UNSAFE LANE CHANGE',\n",
       "       'OVER-CORRECTING/OVER-STEERING',\n",
       "       'DISREGARDED TRAFFIC SIGNS, SIGNALS, ROAD MARKINGS: EXCEEDED AUTHORIZED SPEED LIMIT',\n",
       "       'FAILED TO YIELD RIGHT OF WAY: MADE AN IMPROPER TURN: HIT AND RUN',\n",
       "       'DISREGARDED TRAFFIC SIGNS, SIGNALS, ROAD MARKINGS: MECHANICAL DEFECTS',\n",
       "       'DRIVING TOO FAST FOR CONDITIONS: FAILURE TO KEEP IN PROPER LANE OR RUNNING OFF ROAD: OVER-CORRECTING/OVER-STEERING: RAN OFF ROAD',\n",
       "       'DISREGARDED TRAFFIC SIGNS, SIGNALS, ROAD MARKINGS: FAILURE TO KEEP IN PROPER LANE OR RUNNING OFF ROAD: OPERATING VEHICLE IN ERRATIC, RECKLESS, CARELESS, NEGLIGENT OR  AGGRESSIVE MANNER: RAN OFF ROAD: HIT AND RUN',\n",
       "       'FAILED TO YIELD RIGHT OF WAY: OPERATING VEHICLE IN ERRATIC, RECKLESS, CARELESS, NEGLIGENT OR  AGGRESSIVE MANNER',\n",
       "       'EXCEEDED AUTHORIZED SPEED LIMIT: DRIVING TOO FAST FOR CONDITIONS: FAILURE TO KEEP IN PROPER LANE OR RUNNING OFF ROAD: OPERATING VEHICLE IN ERRATIC, RECKLESS, CARELESS, NEGLIGENT OR  AGGRESSIVE MANNER: UNSAFE LANE CHANGE',\n",
       "       'FAILURE TO KEEP IN PROPER LANE OR RUNNING OFF ROAD: MECHANICAL DEFECTS: RAN OFF ROAD',\n",
       "       'EXCEEDED AUTHORIZED SPEED LIMIT: FAILURE TO KEEP IN PROPER LANE OR RUNNING OFF ROAD: DROVE LEFT OF CENTER: UNSAFE LANE CHANGE',\n",
       "       'FAILED TO YIELD RIGHT OF WAY: DISREGARDED TRAFFIC SIGNS, SIGNALS, ROAD MARKINGS: WRONG SIDE OR WRONG WAY: OTHER IMPROPER DRIVING',\n",
       "       'DRIVERLESS VEHICLE',\n",
       "       'DRIVING TOO FAST FOR CONDITIONS: MADE AN IMPROPER TURN: HIT AND RUN',\n",
       "       'MADE AN IMPROPER TURN: FAILURE TO KEEP IN PROPER LANE OR RUNNING OFF ROAD: OVER-CORRECTING/OVER-STEERING: RAN OFF ROAD',\n",
       "       'DRIVING TOO FAST FOR CONDITIONS: FAILURE TO KEEP IN PROPER LANE OR RUNNING OFF ROAD: RAN OFF ROAD: UNSAFE LANE CHANGE',\n",
       "       'DRIVING TOO FAST FOR CONDITIONS: FAILURE TO KEEP IN PROPER LANE OR RUNNING OFF ROAD: OTHER IMPROPER DRIVING',\n",
       "       'FAILED TO YIELD RIGHT OF WAY: RAN OFF ROAD',\n",
       "       'MADE AN IMPROPER TURN: FAILURE TO KEEP IN PROPER LANE OR RUNNING OFF ROAD: VISIBILITY OBSTRUCTED: DROVE LEFT OF CENTER: UNSAFE LANE CHANGE',\n",
       "       'DRIVING TOO FAST FOR CONDITIONS: OTHER IMPROPER DRIVING',\n",
       "       'EXCEEDED AUTHORIZED SPEED LIMIT: OPERATING VEHICLE IN ERRATIC, RECKLESS, CARELESS, NEGLIGENT OR  AGGRESSIVE MANNER: RAN OFF ROAD',\n",
       "       'FAILURE TO KEEP IN PROPER LANE OR RUNNING OFF ROAD: OPERATING VEHICLE IN ERRATIC, RECKLESS, CARELESS, NEGLIGENT OR  AGGRESSIVE MANNER: OVER-CORRECTING/OVER-STEERING: RAN OFF ROAD: UNSAFE LANE CHANGE',\n",
       "       'DRIVING TOO FAST FOR CONDITIONS: RAN OFF ROAD',\n",
       "       'EXCEEDED AUTHORIZED SPEED LIMIT: FAILURE TO KEEP IN PROPER LANE OR RUNNING OFF ROAD: OPERATING VEHICLE IN ERRATIC, RECKLESS, CARELESS, NEGLIGENT OR  AGGRESSIVE MANNER: OVER-CORRECTING/OVER-STEERING: DROVE LEFT OF CENTER',\n",
       "       'FOLLOWED TOO CLOSELY: OVER-CORRECTING/OVER-STEERING',\n",
       "       'WRONG SIDE OR WRONG WAY: FAILURE TO KEEP IN PROPER LANE OR RUNNING OFF ROAD: HIT AND RUN',\n",
       "       'DRIVING TOO FAST FOR CONDITIONS: FAILURE TO KEEP IN PROPER LANE OR RUNNING OFF ROAD: DROVE LEFT OF CENTER: RAN OFF ROAD: UNSAFE LANE CHANGE',\n",
       "       'WRONG SIDE OR WRONG WAY: FAILURE TO KEEP IN PROPER LANE OR RUNNING OFF ROAD',\n",
       "       'FAILURE TO KEEP IN PROPER LANE OR RUNNING OFF ROAD: OPERATING VEHICLE IN ERRATIC, RECKLESS, CARELESS, NEGLIGENT OR  AGGRESSIVE MANNER',\n",
       "       'OPERATING VEHICLE IN ERRATIC, RECKLESS, CARELESS, NEGLIGENT OR  AGGRESSIVE MANNER: DROVE LEFT OF CENTER: HIT AND RUN',\n",
       "       'DISREGARDED TRAFFIC SIGNS, SIGNALS, ROAD MARKINGS: DRIVING TOO FAST FOR CONDITIONS: FAILURE TO KEEP IN PROPER LANE OR RUNNING OFF ROAD',\n",
       "       'MADE AN IMPROPER TURN: FAILURE TO KEEP IN PROPER LANE OR RUNNING OFF ROAD: OPERATING VEHICLE IN ERRATIC, RECKLESS, CARELESS, NEGLIGENT OR  AGGRESSIVE MANNER: HIT AND RUN: UNSAFE LANE CHANGE',\n",
       "       'FOLLOWED TOO CLOSELY: HIT AND RUN: OTHER IMPROPER DRIVING',\n",
       "       'FAILED TO YIELD RIGHT OF WAY: DISREGARDED TRAFFIC SIGNS, SIGNALS, ROAD MARKINGS: HIT AND RUN',\n",
       "       'DISREGARDED TRAFFIC SIGNS, SIGNALS, ROAD MARKINGS: RAN OFF ROAD',\n",
       "       'FAILED TO YIELD RIGHT OF WAY: HIT AND RUN: OTHER IMPROPER DRIVING',\n",
       "       'MADE AN IMPROPER TURN: UNSAFE LANE CHANGE',\n",
       "       'DRIVING TOO FAST FOR CONDITIONS: FAILURE TO KEEP IN PROPER LANE OR RUNNING OFF ROAD: MECHANICAL DEFECTS',\n",
       "       'FOLLOWED TOO CLOSELY: UNSAFE BACKING',\n",
       "       'FAILURE TO KEEP IN PROPER LANE OR RUNNING OFF ROAD: OVER-CORRECTING/OVER-STEERING: RAN OFF ROAD: UNSAFE LANE CHANGE',\n",
       "       'DISREGARDED TRAFFIC SIGNS, SIGNALS, ROAD MARKINGS: WRONG SIDE OR WRONG WAY: FAILURE TO KEEP IN PROPER LANE OR RUNNING OFF ROAD: OPERATING VEHICLE IN ERRATIC, RECKLESS, CARELESS, NEGLIGENT OR  AGGRESSIVE MANNER: UNSAFE LANE CHANGE',\n",
       "       'MADE AN IMPROPER TURN: FAILURE TO KEEP IN PROPER LANE OR RUNNING OFF ROAD: OVER-CORRECTING/OVER-STEERING',\n",
       "       'FAILURE TO KEEP IN PROPER LANE OR RUNNING OFF ROAD: OVER-CORRECTING/OVER-STEERING: UNSAFE LANE CHANGE',\n",
       "       'FAILURE TO KEEP IN PROPER LANE OR RUNNING OFF ROAD: MECHANICAL DEFECTS: UNSAFE LANE CHANGE: ROAD DEFECT',\n",
       "       'DRIVING TOO FAST FOR CONDITIONS: FAILURE TO KEEP IN PROPER LANE OR RUNNING OFF ROAD: OPERATING VEHICLE IN ERRATIC, RECKLESS, CARELESS, NEGLIGENT OR  AGGRESSIVE MANNER: UNSAFE LANE CHANGE',\n",
       "       'DISREGARDED TRAFFIC SIGNS, SIGNALS, ROAD MARKINGS: EXCEEDED AUTHORIZED SPEED LIMIT: DRIVING TOO FAST FOR CONDITIONS: FAILURE TO KEEP IN PROPER LANE OR RUNNING OFF ROAD',\n",
       "       'MADE AN IMPROPER TURN: FAILURE TO KEEP IN PROPER LANE OR RUNNING OFF ROAD: OVER-CORRECTING/OVER-STEERING: UNSAFE LANE CHANGE',\n",
       "       'DRIVING TOO FAST FOR CONDITIONS: OPERATING VEHICLE IN ERRATIC, RECKLESS, CARELESS, NEGLIGENT OR  AGGRESSIVE MANNER: OVER-CORRECTING/OVER-STEERING: HIT AND RUN',\n",
       "       'FAILED TO YIELD RIGHT OF WAY: EXCEEDED AUTHORIZED SPEED LIMIT: FAILURE TO KEEP IN PROPER LANE OR RUNNING OFF ROAD: OPERATING VEHICLE IN ERRATIC, RECKLESS, CARELESS, NEGLIGENT OR  AGGRESSIVE MANNER',\n",
       "       'DRIVING TOO FAST FOR CONDITIONS: FAILURE TO KEEP IN PROPER LANE OR RUNNING OFF ROAD: DROVE LEFT OF CENTER: HIT AND RUN',\n",
       "       'RAN OFF ROAD: UNSAFE LANE CHANGE',\n",
       "       'DRIVING TOO FAST FOR CONDITIONS: FAILURE TO KEEP IN PROPER LANE OR RUNNING OFF ROAD: UNSAFE LANE CHANGE',\n",
       "       'DRIVING TOO FAST FOR CONDITIONS: OVER-CORRECTING/OVER-STEERING',\n",
       "       'DRIVING TOO FAST FOR CONDITIONS: HIT AND RUN',\n",
       "       'EXCEEDED AUTHORIZED SPEED LIMIT: FAILURE TO KEEP IN PROPER LANE OR RUNNING OFF ROAD: HIT AND RUN: OTHER IMPROPER DRIVING',\n",
       "       'EXCEEDED AUTHORIZED SPEED LIMIT: DRIVING TOO FAST FOR CONDITIONS',\n",
       "       'FAILURE TO KEEP IN PROPER LANE OR RUNNING OFF ROAD: OVER-CORRECTING/OVER-STEERING: MECHANICAL DEFECTS: RAN OFF ROAD: UNSAFE LANE CHANGE',\n",
       "       'DRIVING TOO FAST FOR CONDITIONS: FAILURE TO KEEP IN PROPER LANE OR RUNNING OFF ROAD: OVER-CORRECTING/OVER-STEERING: UNSAFE LANE CHANGE: OTHER IMPROPER DRIVING',\n",
       "       'DRIVING TOO FAST FOR CONDITIONS: HIT AND RUN: UNKNOWN',\n",
       "       'DRIVING TOO FAST FOR CONDITIONS: RAN OFF ROAD: HIT AND RUN',\n",
       "       'DRIVING TOO FAST FOR CONDITIONS: OPERATING VEHICLE IN ERRATIC, RECKLESS, CARELESS, NEGLIGENT OR  AGGRESSIVE MANNER: OVER-CORRECTING/OVER-STEERING: RAN OFF ROAD',\n",
       "       'WRONG SIDE OR WRONG WAY: FAILURE TO KEEP IN PROPER LANE OR RUNNING OFF ROAD: RAN OFF ROAD: DRIVERLESS VEHICLE: UNSAFE LANE CHANGE',\n",
       "       'WRONG SIDE OR WRONG WAY: FAILURE TO KEEP IN PROPER LANE OR RUNNING OFF ROAD: DROVE LEFT OF CENTER: UNSAFE LANE CHANGE',\n",
       "       'RAN OFF ROAD: OTHER IMPROPER DRIVING',\n",
       "       'DRIVING TOO FAST FOR CONDITIONS: UNSAFE BACKING',\n",
       "       'FAILED TO YIELD RIGHT OF WAY: DRIVING TOO FAST FOR CONDITIONS',\n",
       "       'DRIVING TOO FAST FOR CONDITIONS: FAILURE TO KEEP IN PROPER LANE OR RUNNING OFF ROAD: RAN OFF ROAD: HIT AND RUN: UNSAFE LANE CHANGE',\n",
       "       'EXCEEDED AUTHORIZED SPEED LIMIT: FAILURE TO KEEP IN PROPER LANE OR RUNNING OFF ROAD: UNSAFE LANE CHANGE',\n",
       "       'FAILURE TO KEEP IN PROPER LANE OR RUNNING OFF ROAD: OPERATING VEHICLE IN ERRATIC, RECKLESS, CARELESS, NEGLIGENT OR  AGGRESSIVE MANNER: HIT AND RUN: UNSAFE LANE CHANGE',\n",
       "       'FAILED TO YIELD RIGHT OF WAY: UNKNOWN',\n",
       "       'DISREGARDED TRAFFIC SIGNS, SIGNALS, ROAD MARKINGS: FAILURE TO KEEP IN PROPER LANE OR RUNNING OFF ROAD: OPERATING VEHICLE IN ERRATIC, RECKLESS, CARELESS, NEGLIGENT OR  AGGRESSIVE MANNER',\n",
       "       'FAILURE TO KEEP IN PROPER LANE OR RUNNING OFF ROAD: OPERATING VEHICLE IN ERRATIC, RECKLESS, CARELESS, NEGLIGENT OR  AGGRESSIVE MANNER: UNSAFE LANE CHANGE',\n",
       "       'DISREGARDED TRAFFIC SIGNS, SIGNALS, ROAD MARKINGS: RAN OFF ROAD: HIT AND RUN',\n",
       "       'WRONG SIDE OR WRONG WAY: DROVE LEFT OF CENTER',\n",
       "       'DRIVING TOO FAST FOR CONDITIONS: OVER-CORRECTING/OVER-STEERING: RAN OFF ROAD',\n",
       "       'OPERATING VEHICLE IN ERRATIC, RECKLESS, CARELESS, NEGLIGENT OR  AGGRESSIVE MANNER: OTHER IMPROPER DRIVING',\n",
       "       'DISREGARDED TRAFFIC SIGNS, SIGNALS, ROAD MARKINGS: FAILURE TO KEEP IN PROPER LANE OR RUNNING OFF ROAD: UNSAFE LANE CHANGE: OBJECT AVOIDANCE',\n",
       "       'FAILED TO YIELD RIGHT OF WAY: FAILURE TO KEEP IN PROPER LANE OR RUNNING OFF ROAD: UNSAFE LANE CHANGE',\n",
       "       'MADE AN IMPROPER TURN: FAILURE TO KEEP IN PROPER LANE OR RUNNING OFF ROAD: DROVE LEFT OF CENTER: HIT AND RUN',\n",
       "       'MADE AN IMPROPER TURN: FAILURE TO KEEP IN PROPER LANE OR RUNNING OFF ROAD: OVER-CORRECTING/OVER-STEERING: DROVE LEFT OF CENTER: RAN OFF ROAD',\n",
       "       'MADE AN IMPROPER TURN: DROVE LEFT OF CENTER: HIT AND RUN',\n",
       "       'DRIVING TOO FAST FOR CONDITIONS: MECHANICAL DEFECTS: DROVE LEFT OF CENTER',\n",
       "       'DISREGARDED TRAFFIC SIGNS, SIGNALS, ROAD MARKINGS: OBJECT AVOIDANCE',\n",
       "       'FAILURE TO KEEP IN PROPER LANE OR RUNNING OFF ROAD: RAN OFF ROAD: UNSAFE LANE CHANGE: OBJECT AVOIDANCE',\n",
       "       'DRIVING TOO FAST FOR CONDITIONS: FAILURE TO KEEP IN PROPER LANE OR RUNNING OFF ROAD: OVER-CORRECTING/OVER-STEERING: RAN OFF ROAD: UNSAFE LANE CHANGE',\n",
       "       'OPERATING VEHICLE IN ERRATIC, RECKLESS, CARELESS, NEGLIGENT OR  AGGRESSIVE MANNER: DROVE LEFT OF CENTER: RAN OFF ROAD',\n",
       "       'DROVE LEFT OF CENTER: RAN OFF ROAD: HIT AND RUN',\n",
       "       'DISREGARDED TRAFFIC SIGNS, SIGNALS, ROAD MARKINGS: FAILURE TO KEEP IN PROPER LANE OR RUNNING OFF ROAD: DROVE LEFT OF CENTER: UNSAFE LANE CHANGE',\n",
       "       'DISREGARDED TRAFFIC SIGNS, SIGNALS, ROAD MARKINGS: MADE AN IMPROPER TURN: RAN OFF ROAD: HIT AND RUN',\n",
       "       'DRIVERLESS VEHICLE: OTHER IMPROPER DRIVING',\n",
       "       'FAILURE TO KEEP IN PROPER LANE OR RUNNING OFF ROAD: DROVE LEFT OF CENTER: RAN OFF ROAD: HIT AND RUN',\n",
       "       'MADE AN IMPROPER TURN: RAN OFF ROAD: HIT AND RUN: OTHER IMPROPER DRIVING',\n",
       "       'FAILED TO YIELD RIGHT OF WAY: MADE AN IMPROPER TURN: OPERATING VEHICLE IN ERRATIC, RECKLESS, CARELESS, NEGLIGENT OR  AGGRESSIVE MANNER',\n",
       "       'HIT AND RUN: UNSAFE LANE CHANGE: OBJECT AVOIDANCE',\n",
       "       'FAILURE TO KEEP IN PROPER LANE OR RUNNING OFF ROAD: OPERATING VEHICLE IN ERRATIC, RECKLESS, CARELESS, NEGLIGENT OR  AGGRESSIVE MANNER: RAN OFF ROAD: UNSAFE LANE CHANGE',\n",
       "       'FOLLOWED TOO CLOSELY: OPERATING VEHICLE IN ERRATIC, RECKLESS, CARELESS, NEGLIGENT OR  AGGRESSIVE MANNER: HIT AND RUN',\n",
       "       'EXCEEDED AUTHORIZED SPEED LIMIT: WRONG SIDE OR WRONG WAY: FAILURE TO KEEP IN PROPER LANE OR RUNNING OFF ROAD: OPERATING VEHICLE IN ERRATIC, RECKLESS, CARELESS, NEGLIGENT OR  AGGRESSIVE MANNER: RAN OFF ROAD',\n",
       "       'OPERATING VEHICLE IN ERRATIC, RECKLESS, CARELESS, NEGLIGENT OR  AGGRESSIVE MANNER: HIT AND RUN: UNSAFE BACKING',\n",
       "       'DRIVING TOO FAST FOR CONDITIONS: WRONG SIDE OR WRONG WAY: OPERATING VEHICLE IN ERRATIC, RECKLESS, CARELESS, NEGLIGENT OR  AGGRESSIVE MANNER: DROVE LEFT OF CENTER: OTHER IMPROPER DRIVING',\n",
       "       'DRIVING TOO FAST FOR CONDITIONS: FOLLOWED TOO CLOSELY: HIT AND RUN',\n",
       "       'FAILED TO YIELD RIGHT OF WAY: FAILURE TO KEEP IN PROPER LANE OR RUNNING OFF ROAD',\n",
       "       'FAILURE TO KEEP IN PROPER LANE OR RUNNING OFF ROAD: HIT AND RUN: UNSAFE LANE CHANGE: UNKNOWN',\n",
       "       'FAILURE TO KEEP IN PROPER LANE OR RUNNING OFF ROAD: OPERATING VEHICLE IN ERRATIC, RECKLESS, CARELESS, NEGLIGENT OR  AGGRESSIVE MANNER: DROVE LEFT OF CENTER: HIT AND RUN: UNSAFE LANE CHANGE',\n",
       "       'RAN OFF ROAD: HIT AND RUN: DRIVERLESS VEHICLE: OTHER IMPROPER DRIVING',\n",
       "       'MADE AN IMPROPER TURN: OPERATING VEHICLE IN ERRATIC, RECKLESS, CARELESS, NEGLIGENT OR  AGGRESSIVE MANNER: HIT AND RUN',\n",
       "       'MADE AN IMPROPER TURN: DROVE LEFT OF CENTER',\n",
       "       'FOLLOWED TOO CLOSELY: FAILURE TO KEEP IN PROPER LANE OR RUNNING OFF ROAD',\n",
       "       'ROAD DEFECT',\n",
       "       'OPERATING VEHICLE IN ERRATIC, RECKLESS, CARELESS, NEGLIGENT OR  AGGRESSIVE MANNER: DROVE LEFT OF CENTER',\n",
       "       'FAILED TO YIELD RIGHT OF WAY: DISREGARDED TRAFFIC SIGNS, SIGNALS, ROAD MARKINGS: OPERATING VEHICLE IN ERRATIC, RECKLESS, CARELESS, NEGLIGENT OR  AGGRESSIVE MANNER',\n",
       "       'FAILURE TO KEEP IN PROPER LANE OR RUNNING OFF ROAD: HIT AND RUN: OTHER IMPROPER DRIVING',\n",
       "       'DRIVING TOO FAST FOR CONDITIONS: HIT AND RUN: OTHER IMPROPER DRIVING',\n",
       "       'OVER-CORRECTING/OVER-STEERING: OBJECT AVOIDANCE',\n",
       "       'DISREGARDED TRAFFIC SIGNS, SIGNALS, ROAD MARKINGS: FAILURE TO KEEP IN PROPER LANE OR RUNNING OFF ROAD: RAN OFF ROAD: UNSAFE LANE CHANGE',\n",
       "       'FAILURE TO KEEP IN PROPER LANE OR RUNNING OFF ROAD: OVER-CORRECTING/OVER-STEERING: MECHANICAL DEFECTS',\n",
       "       'DRIVING TOO FAST FOR CONDITIONS: FOLLOWED TOO CLOSELY: OPERATING VEHICLE IN ERRATIC, RECKLESS, CARELESS, NEGLIGENT OR  AGGRESSIVE MANNER',\n",
       "       'DISREGARDED TRAFFIC SIGNS, SIGNALS, ROAD MARKINGS: FAILURE TO KEEP IN PROPER LANE OR RUNNING OFF ROAD: HIT AND RUN',\n",
       "       'FOLLOWED TOO CLOSELY: UNSAFE LANE CHANGE',\n",
       "       'FAILURE TO KEEP IN PROPER LANE OR RUNNING OFF ROAD: RAN OFF ROAD: OBJECT AVOIDANCE',\n",
       "       'DISREGARDED TRAFFIC SIGNS, SIGNALS, ROAD MARKINGS: FAILURE TO KEEP IN PROPER LANE OR RUNNING OFF ROAD: UNSAFE LANE CHANGE',\n",
       "       'FAILED TO YIELD RIGHT OF WAY: OPERATING VEHICLE IN ERRATIC, RECKLESS, CARELESS, NEGLIGENT OR  AGGRESSIVE MANNER: HIT AND RUN',\n",
       "       'FAILURE TO KEEP IN PROPER LANE OR RUNNING OFF ROAD: UNSAFE LANE CHANGE: UNKNOWN',\n",
       "       'RAN OFF ROAD: HIT AND RUN: OTHER IMPROPER DRIVING',\n",
       "       'OVER-CORRECTING/OVER-STEERING: UNSAFE LANE CHANGE',\n",
       "       'MECHANICAL DEFECTS: RAN OFF ROAD: ROAD DEFECT',\n",
       "       'MADE AN IMPROPER TURN: OPERATING VEHICLE IN ERRATIC, RECKLESS, CARELESS, NEGLIGENT OR  AGGRESSIVE MANNER',\n",
       "       'DRIVING TOO FAST FOR CONDITIONS: MADE AN IMPROPER TURN: FAILURE TO KEEP IN PROPER LANE OR RUNNING OFF ROAD: UNSAFE LANE CHANGE',\n",
       "       'EXCEEDED AUTHORIZED SPEED LIMIT: DRIVING TOO FAST FOR CONDITIONS: FAILURE TO KEEP IN PROPER LANE OR RUNNING OFF ROAD: OVER-CORRECTING/OVER-STEERING: UNSAFE LANE CHANGE',\n",
       "       'MADE AN IMPROPER TURN: FAILURE TO KEEP IN PROPER LANE OR RUNNING OFF ROAD: OPERATING VEHICLE IN ERRATIC, RECKLESS, CARELESS, NEGLIGENT OR  AGGRESSIVE MANNER: RAN OFF ROAD: HIT AND RUN',\n",
       "       'DRIVING TOO FAST FOR CONDITIONS: FOLLOWED TOO CLOSELY: FAILURE TO KEEP IN PROPER LANE OR RUNNING OFF ROAD: OBJECT AVOIDANCE',\n",
       "       'MADE AN IMPROPER TURN: VISIBILITY OBSTRUCTED',\n",
       "       'DISREGARDED TRAFFIC SIGNS, SIGNALS, ROAD MARKINGS: FAILURE TO KEEP IN PROPER LANE OR RUNNING OFF ROAD: OPERATING VEHICLE IN ERRATIC, RECKLESS, CARELESS, NEGLIGENT OR  AGGRESSIVE MANNER: UNSAFE LANE CHANGE',\n",
       "       'MECHANICAL DEFECTS: OTHER IMPROPER DRIVING: ROAD DEFECT',\n",
       "       'EXCEEDED AUTHORIZED SPEED LIMIT: UNSAFE LANE CHANGE',\n",
       "       'MADE AN IMPROPER TURN: WRONG SIDE OR WRONG WAY: OPERATING VEHICLE IN ERRATIC, RECKLESS, CARELESS, NEGLIGENT OR  AGGRESSIVE MANNER',\n",
       "       'OVER-CORRECTING/OVER-STEERING: MECHANICAL DEFECTS: ROAD DEFECT',\n",
       "       'FAILED TO YIELD RIGHT OF WAY: MADE AN IMPROPER TURN: FAILURE TO KEEP IN PROPER LANE OR RUNNING OFF ROAD: UNSAFE LANE CHANGE',\n",
       "       'OPERATING VEHICLE IN ERRATIC, RECKLESS, CARELESS, NEGLIGENT OR  AGGRESSIVE MANNER: OVER-CORRECTING/OVER-STEERING: DROVE LEFT OF CENTER',\n",
       "       'DISREGARDED TRAFFIC SIGNS, SIGNALS, ROAD MARKINGS: DROVE LEFT OF CENTER',\n",
       "       'FAILURE TO KEEP IN PROPER LANE OR RUNNING OFF ROAD: UNSAFE LANE CHANGE: ROAD DEFECT',\n",
       "       'FAILURE TO KEEP IN PROPER LANE OR RUNNING OFF ROAD: OVER-CORRECTING/OVER-STEERING: UNSAFE LANE CHANGE: OTHER IMPROPER DRIVING',\n",
       "       'DROVE LEFT OF CENTER: RAN OFF ROAD: OBJECT AVOIDANCE',\n",
       "       'MADE AN IMPROPER TURN: FAILURE TO KEEP IN PROPER LANE OR RUNNING OFF ROAD: UNSAFE LANE CHANGE: OBJECT AVOIDANCE',\n",
       "       'EXCEEDED AUTHORIZED SPEED LIMIT: DRIVING TOO FAST FOR CONDITIONS: OPERATING VEHICLE IN ERRATIC, RECKLESS, CARELESS, NEGLIGENT OR  AGGRESSIVE MANNER',\n",
       "       'EXCEEDED AUTHORIZED SPEED LIMIT: HIT AND RUN',\n",
       "       'MADE AN IMPROPER TURN: FAILURE TO KEEP IN PROPER LANE OR RUNNING OFF ROAD: DROVE LEFT OF CENTER: RAN OFF ROAD: UNSAFE LANE CHANGE',\n",
       "       'MADE AN IMPROPER TURN: MECHANICAL DEFECTS: ROAD DEFECT',\n",
       "       'DISREGARDED TRAFFIC SIGNS, SIGNALS, ROAD MARKINGS: OPERATING VEHICLE IN ERRATIC, RECKLESS, CARELESS, NEGLIGENT OR  AGGRESSIVE MANNER: HIT AND RUN',\n",
       "       'FAILURE TO KEEP IN PROPER LANE OR RUNNING OFF ROAD: VISIBILITY OBSTRUCTED: UNSAFE LANE CHANGE',\n",
       "       'DRIVING TOO FAST FOR CONDITIONS: UNKNOWN',\n",
       "       'DRIVING TOO FAST FOR CONDITIONS: FAILURE TO KEEP IN PROPER LANE OR RUNNING OFF ROAD: OVER-CORRECTING/OVER-STEERING: DROVE LEFT OF CENTER: UNSAFE LANE CHANGE',\n",
       "       'DRIVING TOO FAST FOR CONDITIONS: OPERATING VEHICLE IN ERRATIC, RECKLESS, CARELESS, NEGLIGENT OR  AGGRESSIVE MANNER: RAN OFF ROAD: HIT AND RUN',\n",
       "       'DISREGARDED TRAFFIC SIGNS, SIGNALS, ROAD MARKINGS: FAILURE TO KEEP IN PROPER LANE OR RUNNING OFF ROAD: OPERATING VEHICLE IN ERRATIC, RECKLESS, CARELESS, NEGLIGENT OR  AGGRESSIVE MANNER: HIT AND RUN: UNSAFE LANE CHANGE',\n",
       "       'FAILURE TO KEEP IN PROPER LANE OR RUNNING OFF ROAD: OVER-CORRECTING/OVER-STEERING: RAN OFF ROAD: UNSAFE LANE CHANGE: ROAD DEFECT',\n",
       "       'DISREGARDED TRAFFIC SIGNS, SIGNALS, ROAD MARKINGS: EXCEEDED AUTHORIZED SPEED LIMIT: OPERATING VEHICLE IN ERRATIC, RECKLESS, CARELESS, NEGLIGENT OR  AGGRESSIVE MANNER: HIT AND RUN',\n",
       "       'WRONG SIDE OR WRONG WAY: DROVE LEFT OF CENTER: OTHER IMPROPER DRIVING',\n",
       "       'EXCEEDED AUTHORIZED SPEED LIMIT: FAILURE TO KEEP IN PROPER LANE OR RUNNING OFF ROAD: OVER-CORRECTING/OVER-STEERING: UNSAFE LANE CHANGE',\n",
       "       'DRIVING TOO FAST FOR CONDITIONS: OPERATING VEHICLE IN ERRATIC, RECKLESS, CARELESS, NEGLIGENT OR  AGGRESSIVE MANNER: RAN OFF ROAD',\n",
       "       'FOLLOWED TOO CLOSELY: MECHANICAL DEFECTS: ROAD DEFECT',\n",
       "       'DISREGARDED TRAFFIC SIGNS, SIGNALS, ROAD MARKINGS: FAILURE TO KEEP IN PROPER LANE OR RUNNING OFF ROAD: HIT AND RUN: UNSAFE LANE CHANGE',\n",
       "       'MADE AN IMPROPER TURN: FAILURE TO KEEP IN PROPER LANE OR RUNNING OFF ROAD: RAN OFF ROAD: UNSAFE LANE CHANGE',\n",
       "       'DISREGARDED TRAFFIC SIGNS, SIGNALS, ROAD MARKINGS: EXCEEDED AUTHORIZED SPEED LIMIT: OPERATING VEHICLE IN ERRATIC, RECKLESS, CARELESS, NEGLIGENT OR  AGGRESSIVE MANNER',\n",
       "       'RAN OFF ROAD: HIT AND RUN: UNKNOWN',\n",
       "       'DISREGARDED TRAFFIC SIGNS, SIGNALS, ROAD MARKINGS: FAILURE TO KEEP IN PROPER LANE OR RUNNING OFF ROAD: RAN OFF ROAD: HIT AND RUN: UNSAFE LANE CHANGE',\n",
       "       'HIT AND RUN: UNSAFE LANE CHANGE: OTHER IMPROPER DRIVING',\n",
       "       'VISIBILITY OBSTRUCTED',\n",
       "       'FAILURE TO KEEP IN PROPER LANE OR RUNNING OFF ROAD: HIT AND RUN: UNSAFE LANE CHANGE: UNSAFE BACKING',\n",
       "       'FAILURE TO KEEP IN PROPER LANE OR RUNNING OFF ROAD: DROVE LEFT OF CENTER: RAN OFF ROAD: HIT AND RUN: UNSAFE LANE CHANGE',\n",
       "       'FAILURE TO KEEP IN PROPER LANE OR RUNNING OFF ROAD: OVER-CORRECTING/OVER-STEERING: DROVE LEFT OF CENTER: UNSAFE LANE CHANGE',\n",
       "       'DRIVING TOO FAST FOR CONDITIONS: FAILURE TO KEEP IN PROPER LANE OR RUNNING OFF ROAD: OVER-CORRECTING/OVER-STEERING: DROVE LEFT OF CENTER: HIT AND RUN',\n",
       "       'EXCEEDED AUTHORIZED SPEED LIMIT: FAILURE TO KEEP IN PROPER LANE OR RUNNING OFF ROAD: OPERATING VEHICLE IN ERRATIC, RECKLESS, CARELESS, NEGLIGENT OR  AGGRESSIVE MANNER: RAN OFF ROAD: UNSAFE LANE CHANGE',\n",
       "       'FAILURE TO KEEP IN PROPER LANE OR RUNNING OFF ROAD: DROVE LEFT OF CENTER: UNSAFE LANE CHANGE: OTHER IMPROPER DRIVING',\n",
       "       'FAILURE TO KEEP IN PROPER LANE OR RUNNING OFF ROAD: HIT AND RUN: UNSAFE LANE CHANGE: OBJECT AVOIDANCE',\n",
       "       'DISREGARDED TRAFFIC SIGNS, SIGNALS, ROAD MARKINGS: UNKNOWN',\n",
       "       'MADE AN IMPROPER TURN: FAILURE TO KEEP IN PROPER LANE OR RUNNING OFF ROAD: HIT AND RUN: UNSAFE LANE CHANGE',\n",
       "       'FAILURE TO KEEP IN PROPER LANE OR RUNNING OFF ROAD: OVER-CORRECTING/OVER-STEERING: DROVE LEFT OF CENTER: RAN OFF ROAD: UNSAFE LANE CHANGE',\n",
       "       'DISREGARDED TRAFFIC SIGNS, SIGNALS, ROAD MARKINGS: MADE AN IMPROPER TURN: WRONG SIDE OR WRONG WAY: FAILURE TO KEEP IN PROPER LANE OR RUNNING OFF ROAD: UNSAFE LANE CHANGE',\n",
       "       'FAILURE TO KEEP IN PROPER LANE OR RUNNING OFF ROAD: DROVE LEFT OF CENTER: HIT AND RUN: UNSAFE LANE CHANGE',\n",
       "       'EXCEEDED AUTHORIZED SPEED LIMIT: FAILURE TO KEEP IN PROPER LANE OR RUNNING OFF ROAD: OPERATING VEHICLE IN ERRATIC, RECKLESS, CARELESS, NEGLIGENT OR  AGGRESSIVE MANNER: UNSAFE LANE CHANGE',\n",
       "       'DRIVING TOO FAST FOR CONDITIONS: MADE AN IMPROPER TURN: WRONG SIDE OR WRONG WAY',\n",
       "       'MADE AN IMPROPER TURN: FAILURE TO KEEP IN PROPER LANE OR RUNNING OFF ROAD: DROVE LEFT OF CENTER: UNSAFE LANE CHANGE',\n",
       "       'FAILURE TO KEEP IN PROPER LANE OR RUNNING OFF ROAD: OVER-CORRECTING/OVER-STEERING: HIT AND RUN: UNSAFE LANE CHANGE',\n",
       "       'WRONG SIDE OR WRONG WAY: FAILURE TO KEEP IN PROPER LANE OR RUNNING OFF ROAD: UNSAFE LANE CHANGE',\n",
       "       'DISREGARDED TRAFFIC SIGNS, SIGNALS, ROAD MARKINGS: EXCEEDED AUTHORIZED SPEED LIMIT: FAILURE TO KEEP IN PROPER LANE OR RUNNING OFF ROAD: OPERATING VEHICLE IN ERRATIC, RECKLESS, CARELESS, NEGLIGENT OR  AGGRESSIVE MANNER: UNSAFE LANE CHANGE',\n",
       "       'DRIVING TOO FAST FOR CONDITIONS: OVER-CORRECTING/OVER-STEERING: OTHER IMPROPER DRIVING',\n",
       "       'DRIVING TOO FAST FOR CONDITIONS: OPERATING VEHICLE IN ERRATIC, RECKLESS, CARELESS, NEGLIGENT OR  AGGRESSIVE MANNER: OTHER IMPROPER DRIVING',\n",
       "       'DRIVING TOO FAST FOR CONDITIONS: FAILURE TO KEEP IN PROPER LANE OR RUNNING OFF ROAD: DROVE LEFT OF CENTER: UNSAFE LANE CHANGE',\n",
       "       'DISREGARDED TRAFFIC SIGNS, SIGNALS, ROAD MARKINGS: OTHER IMPROPER DRIVING',\n",
       "       'EXCEEDED AUTHORIZED SPEED LIMIT: FAILURE TO KEEP IN PROPER LANE OR RUNNING OFF ROAD: OVER-CORRECTING/OVER-STEERING: RAN OFF ROAD: UNSAFE LANE CHANGE',\n",
       "       'DISREGARDED TRAFFIC SIGNS, SIGNALS, ROAD MARKINGS: OPERATING VEHICLE IN ERRATIC, RECKLESS, CARELESS, NEGLIGENT OR  AGGRESSIVE MANNER: RAN OFF ROAD',\n",
       "       'FAILURE TO KEEP IN PROPER LANE OR RUNNING OFF ROAD: OPERATING VEHICLE IN ERRATIC, RECKLESS, CARELESS, NEGLIGENT OR  AGGRESSIVE MANNER: DROVE LEFT OF CENTER: RAN OFF ROAD: UNSAFE LANE CHANGE',\n",
       "       'DROVE LEFT OF CENTER: HIT AND RUN: OTHER IMPROPER DRIVING',\n",
       "       'FAILED TO YIELD RIGHT OF WAY: DROVE LEFT OF CENTER',\n",
       "       'FAILED TO YIELD RIGHT OF WAY: FAILURE TO KEEP IN PROPER LANE OR RUNNING OFF ROAD: OPERATING VEHICLE IN ERRATIC, RECKLESS, CARELESS, NEGLIGENT OR  AGGRESSIVE MANNER: HIT AND RUN: UNSAFE LANE CHANGE',\n",
       "       'MADE AN IMPROPER TURN: OTHER IMPROPER DRIVING',\n",
       "       'DRIVING TOO FAST FOR CONDITIONS: FAILURE TO KEEP IN PROPER LANE OR RUNNING OFF ROAD: OPERATING VEHICLE IN ERRATIC, RECKLESS, CARELESS, NEGLIGENT OR  AGGRESSIVE MANNER: OVER-CORRECTING/OVER-STEERING: RAN OFF ROAD',\n",
       "       'EXCEEDED AUTHORIZED SPEED LIMIT: FAILURE TO KEEP IN PROPER LANE OR RUNNING OFF ROAD: RAN OFF ROAD: UNSAFE LANE CHANGE: OTHER IMPROPER DRIVING',\n",
       "       'MADE AN IMPROPER TURN: FAILURE TO KEEP IN PROPER LANE OR RUNNING OFF ROAD: RAN OFF ROAD: HIT AND RUN: UNSAFE LANE CHANGE',\n",
       "       'FAILED TO YIELD RIGHT OF WAY: FOLLOWED TOO CLOSELY',\n",
       "       'DISREGARDED TRAFFIC SIGNS, SIGNALS, ROAD MARKINGS: MECHANICAL DEFECTS: ROAD DEFECT',\n",
       "       'FAILURE TO KEEP IN PROPER LANE OR RUNNING OFF ROAD: OPERATING VEHICLE IN ERRATIC, RECKLESS, CARELESS, NEGLIGENT OR  AGGRESSIVE MANNER: HIT AND RUN: DRIVERLESS VEHICLE: UNSAFE LANE CHANGE',\n",
       "       'OVER-CORRECTING/OVER-STEERING: OTHER IMPROPER DRIVING',\n",
       "       'FAILED TO YIELD RIGHT OF WAY: EXCEEDED AUTHORIZED SPEED LIMIT: OPERATING VEHICLE IN ERRATIC, RECKLESS, CARELESS, NEGLIGENT OR  AGGRESSIVE MANNER: HIT AND RUN',\n",
       "       'OVER-CORRECTING/OVER-STEERING: DROVE LEFT OF CENTER',\n",
       "       'EXCEEDED AUTHORIZED SPEED LIMIT: OPERATING VEHICLE IN ERRATIC, RECKLESS, CARELESS, NEGLIGENT OR  AGGRESSIVE MANNER: RAN OFF ROAD: UNSAFE LANE CHANGE',\n",
       "       'DRIVING TOO FAST FOR CONDITIONS: FAILURE TO KEEP IN PROPER LANE OR RUNNING OFF ROAD: OPERATING VEHICLE IN ERRATIC, RECKLESS, CARELESS, NEGLIGENT OR  AGGRESSIVE MANNER: UNSAFE LANE CHANGE: OTHER IMPROPER DRIVING',\n",
       "       'RAN OFF ROAD: OBJECT AVOIDANCE',\n",
       "       'MADE AN IMPROPER TURN: WRONG SIDE OR WRONG WAY: FAILURE TO KEEP IN PROPER LANE OR RUNNING OFF ROAD: DROVE LEFT OF CENTER: RAN OFF ROAD',\n",
       "       'OPERATING VEHICLE IN ERRATIC, RECKLESS, CARELESS, NEGLIGENT OR  AGGRESSIVE MANNER: UNSAFE LANE CHANGE',\n",
       "       'FAILURE TO KEEP IN PROPER LANE OR RUNNING OFF ROAD: MECHANICAL DEFECTS: RAN OFF ROAD: UNSAFE LANE CHANGE: ROAD DEFECT',\n",
       "       'FOLLOWED TOO CLOSELY: RAN OFF ROAD',\n",
       "       'EXCEEDED AUTHORIZED SPEED LIMIT: FAILURE TO KEEP IN PROPER LANE OR RUNNING OFF ROAD: MECHANICAL DEFECTS: UNSAFE LANE CHANGE: ROAD DEFECT',\n",
       "       'FAILED TO YIELD RIGHT OF WAY: EXCEEDED AUTHORIZED SPEED LIMIT',\n",
       "       'WRONG SIDE OR WRONG WAY: HIT AND RUN',\n",
       "       'EXCEEDED AUTHORIZED SPEED LIMIT: FAILURE TO KEEP IN PROPER LANE OR RUNNING OFF ROAD: OPERATING VEHICLE IN ERRATIC, RECKLESS, CARELESS, NEGLIGENT OR  AGGRESSIVE MANNER: HIT AND RUN: UNSAFE LANE CHANGE',\n",
       "       'FAILED TO YIELD RIGHT OF WAY: HIT AND RUN: UNKNOWN',\n",
       "       'DISREGARDED TRAFFIC SIGNS, SIGNALS, ROAD MARKINGS: WRONG SIDE OR WRONG WAY',\n",
       "       'OVER-CORRECTING/OVER-STEERING: HIT AND RUN',\n",
       "       'WRONG SIDE OR WRONG WAY: OPERATING VEHICLE IN ERRATIC, RECKLESS, CARELESS, NEGLIGENT OR  AGGRESSIVE MANNER',\n",
       "       'FAILURE TO KEEP IN PROPER LANE OR RUNNING OFF ROAD: OPERATING VEHICLE IN ERRATIC, RECKLESS, CARELESS, NEGLIGENT OR  AGGRESSIVE MANNER: UNSAFE LANE CHANGE: OTHER IMPROPER DRIVING',\n",
       "       'EXCEEDED AUTHORIZED SPEED LIMIT: FAILURE TO KEEP IN PROPER LANE OR RUNNING OFF ROAD: OPERATING VEHICLE IN ERRATIC, RECKLESS, CARELESS, NEGLIGENT OR  AGGRESSIVE MANNER: OVER-CORRECTING/OVER-STEERING: UNSAFE LANE CHANGE',\n",
       "       'MADE AN IMPROPER TURN: VISIBILITY OBSTRUCTED: RAN OFF ROAD',\n",
       "       'FAILED TO YIELD RIGHT OF WAY: MECHANICAL DEFECTS: ROAD DEFECT',\n",
       "       'FAILURE TO KEEP IN PROPER LANE OR RUNNING OFF ROAD: OPERATING VEHICLE IN ERRATIC, RECKLESS, CARELESS, NEGLIGENT OR  AGGRESSIVE MANNER: DROVE LEFT OF CENTER: UNSAFE LANE CHANGE',\n",
       "       'EXCEEDED AUTHORIZED SPEED LIMIT: MADE AN IMPROPER TURN: OPERATING VEHICLE IN ERRATIC, RECKLESS, CARELESS, NEGLIGENT OR  AGGRESSIVE MANNER: HIT AND RUN',\n",
       "       'WRONG SIDE OR WRONG WAY: FAILURE TO KEEP IN PROPER LANE OR RUNNING OFF ROAD: RAN OFF ROAD: HIT AND RUN: UNSAFE LANE CHANGE',\n",
       "       'DISREGARDED TRAFFIC SIGNS, SIGNALS, ROAD MARKINGS: MADE AN IMPROPER TURN: OPERATING VEHICLE IN ERRATIC, RECKLESS, CARELESS, NEGLIGENT OR  AGGRESSIVE MANNER',\n",
       "       'DISREGARDED TRAFFIC SIGNS, SIGNALS, ROAD MARKINGS: UNSAFE LANE CHANGE',\n",
       "       'WRONG SIDE OR WRONG WAY: DROVE LEFT OF CENTER: RAN OFF ROAD',\n",
       "       'EXCEEDED AUTHORIZED SPEED LIMIT: FAILURE TO KEEP IN PROPER LANE OR RUNNING OFF ROAD: RAN OFF ROAD: HIT AND RUN: UNSAFE LANE CHANGE',\n",
       "       'FAILED TO YIELD RIGHT OF WAY: FAILURE TO KEEP IN PROPER LANE OR RUNNING OFF ROAD: DROVE LEFT OF CENTER: UNSAFE LANE CHANGE',\n",
       "       'FAILED TO YIELD RIGHT OF WAY: DRIVING TOO FAST FOR CONDITIONS: OVER-CORRECTING/OVER-STEERING',\n",
       "       'MADE AN IMPROPER TURN: FAILURE TO KEEP IN PROPER LANE OR RUNNING OFF ROAD: OPERATING VEHICLE IN ERRATIC, RECKLESS, CARELESS, NEGLIGENT OR  AGGRESSIVE MANNER: RAN OFF ROAD: UNSAFE LANE CHANGE',\n",
       "       'FAILED TO YIELD RIGHT OF WAY: EXCEEDED AUTHORIZED SPEED LIMIT: OTHER IMPROPER DRIVING',\n",
       "       'DRIVING TOO FAST FOR CONDITIONS: OPERATING VEHICLE IN ERRATIC, RECKLESS, CARELESS, NEGLIGENT OR  AGGRESSIVE MANNER: UNSAFE LANE CHANGE',\n",
       "       'WRONG SIDE OR WRONG WAY: FAILURE TO KEEP IN PROPER LANE OR RUNNING OFF ROAD: DROVE LEFT OF CENTER: RAN OFF ROAD: UNSAFE LANE CHANGE',\n",
       "       'DRIVING TOO FAST FOR CONDITIONS: MADE AN IMPROPER TURN: FAILURE TO KEEP IN PROPER LANE OR RUNNING OFF ROAD: HIT AND RUN: UNSAFE LANE CHANGE',\n",
       "       'MADE AN IMPROPER TURN: WRONG SIDE OR WRONG WAY: OTHER IMPROPER DRIVING',\n",
       "       'DISREGARDED TRAFFIC SIGNS, SIGNALS, ROAD MARKINGS: EXCEEDED AUTHORIZED SPEED LIMIT: DRIVING TOO FAST FOR CONDITIONS: OPERATING VEHICLE IN ERRATIC, RECKLESS, CARELESS, NEGLIGENT OR  AGGRESSIVE MANNER',\n",
       "       'DRIVING TOO FAST FOR CONDITIONS: OPERATING VEHICLE IN ERRATIC, RECKLESS, CARELESS, NEGLIGENT OR  AGGRESSIVE MANNER: HIT AND RUN',\n",
       "       'FAILED TO YIELD RIGHT OF WAY: DISREGARDED TRAFFIC SIGNS, SIGNALS, ROAD MARKINGS: OTHER IMPROPER DRIVING',\n",
       "       'EXCEEDED AUTHORIZED SPEED LIMIT: FOLLOWED TOO CLOSELY',\n",
       "       'MADE AN IMPROPER TURN: DROVE LEFT OF CENTER: RAN OFF ROAD',\n",
       "       'VISIBILITY OBSTRUCTED: RAN OFF ROAD',\n",
       "       'FAILURE TO KEEP IN PROPER LANE OR RUNNING OFF ROAD: OVER-CORRECTING/OVER-STEERING: RAN OFF ROAD: HIT AND RUN: UNSAFE LANE CHANGE',\n",
       "       'DRIVING TOO FAST FOR CONDITIONS: FAILURE TO KEEP IN PROPER LANE OR RUNNING OFF ROAD: UNSAFE LANE CHANGE: OBJECT AVOIDANCE',\n",
       "       'MADE AN IMPROPER TURN: HIT AND RUN: UNSAFE BACKING',\n",
       "       'DISREGARDED TRAFFIC SIGNS, SIGNALS, ROAD MARKINGS: DRIVING TOO FAST FOR CONDITIONS: RAN OFF ROAD: HIT AND RUN',\n",
       "       'FAILURE TO KEEP IN PROPER LANE OR RUNNING OFF ROAD: RAN OFF ROAD: UNSAFE LANE CHANGE: OTHER IMPROPER DRIVING',\n",
       "       'DRIVING TOO FAST FOR CONDITIONS: FAILURE TO KEEP IN PROPER LANE OR RUNNING OFF ROAD: OPERATING VEHICLE IN ERRATIC, RECKLESS, CARELESS, NEGLIGENT OR  AGGRESSIVE MANNER: DROVE LEFT OF CENTER: UNSAFE LANE CHANGE',\n",
       "       'DRIVING TOO FAST FOR CONDITIONS: MADE AN IMPROPER TURN: FAILURE TO KEEP IN PROPER LANE OR RUNNING OFF ROAD: OPERATING VEHICLE IN ERRATIC, RECKLESS, CARELESS, NEGLIGENT OR  AGGRESSIVE MANNER: RAN OFF ROAD',\n",
       "       'FAILURE TO KEEP IN PROPER LANE OR RUNNING OFF ROAD: RAN OFF ROAD: HIT AND RUN: UNSAFE LANE CHANGE: OTHER IMPROPER DRIVING',\n",
       "       'FAILED TO YIELD RIGHT OF WAY: DISREGARDED TRAFFIC SIGNS, SIGNALS, ROAD MARKINGS: MADE AN IMPROPER TURN: DROVE LEFT OF CENTER',\n",
       "       'EXCEEDED AUTHORIZED SPEED LIMIT: FAILURE TO KEEP IN PROPER LANE OR RUNNING OFF ROAD: DROVE LEFT OF CENTER: RAN OFF ROAD: UNSAFE LANE CHANGE',\n",
       "       'EXCEEDED AUTHORIZED SPEED LIMIT: DROVE LEFT OF CENTER: RAN OFF ROAD: HIT AND RUN',\n",
       "       'MADE AN IMPROPER TURN: UNKNOWN',\n",
       "       'DRIVING TOO FAST FOR CONDITIONS: FAILURE TO KEEP IN PROPER LANE OR RUNNING OFF ROAD: DROVE LEFT OF CENTER: HIT AND RUN: UNSAFE LANE CHANGE',\n",
       "       'DRIVING TOO FAST FOR CONDITIONS: OPERATING VEHICLE IN ERRATIC, RECKLESS, CARELESS, NEGLIGENT OR  AGGRESSIVE MANNER',\n",
       "       'DRIVING TOO FAST FOR CONDITIONS: FAILURE TO KEEP IN PROPER LANE OR RUNNING OFF ROAD: HIT AND RUN: UNSAFE LANE CHANGE',\n",
       "       'DISREGARDED TRAFFIC SIGNS, SIGNALS, ROAD MARKINGS: FAILURE TO KEEP IN PROPER LANE OR RUNNING OFF ROAD: OPERATING VEHICLE IN ERRATIC, RECKLESS, CARELESS, NEGLIGENT OR  AGGRESSIVE MANNER: DROVE LEFT OF CENTER: HIT AND RUN',\n",
       "       'MADE AN IMPROPER TURN: RAN OFF ROAD: HIT AND RUN',\n",
       "       'DRIVING TOO FAST FOR CONDITIONS: MADE AN IMPROPER TURN: RAN OFF ROAD',\n",
       "       'DRIVING TOO FAST FOR CONDITIONS: DROVE LEFT OF CENTER: RAN OFF ROAD: HIT AND RUN',\n",
       "       'FOLLOWED TOO CLOSELY: OVER-CORRECTING/OVER-STEERING: UNSAFE LANE CHANGE',\n",
       "       'OVER-CORRECTING/OVER-STEERING: DROVE LEFT OF CENTER: OBJECT AVOIDANCE',\n",
       "       'EXCEEDED AUTHORIZED SPEED LIMIT: FAILURE TO KEEP IN PROPER LANE OR RUNNING OFF ROAD: HIT AND RUN: UNSAFE LANE CHANGE',\n",
       "       'RAN OFF ROAD: OTHER IMPROPER DRIVING: UNSAFE BACKING',\n",
       "       'OPERATING VEHICLE IN ERRATIC, RECKLESS, CARELESS, NEGLIGENT OR  AGGRESSIVE MANNER: HIT AND RUN: UNSAFE LANE CHANGE',\n",
       "       'UNSAFE LANE CHANGE: OTHER IMPROPER DRIVING: UNKNOWN',\n",
       "       'DISREGARDED TRAFFIC SIGNS, SIGNALS, ROAD MARKINGS: MADE AN IMPROPER TURN',\n",
       "       'EXCEEDED AUTHORIZED SPEED LIMIT: MADE AN IMPROPER TURN: FAILURE TO KEEP IN PROPER LANE OR RUNNING OFF ROAD: UNSAFE LANE CHANGE',\n",
       "       'MADE AN IMPROPER TURN: FAILURE TO KEEP IN PROPER LANE OR RUNNING OFF ROAD: DROVE LEFT OF CENTER: HIT AND RUN: UNSAFE LANE CHANGE',\n",
       "       'OTHER IMPROPER DRIVING: UNKNOWN',\n",
       "       'HIT AND RUN: UNSAFE LANE CHANGE: UNKNOWN',\n",
       "       'DISREGARDED TRAFFIC SIGNS, SIGNALS, ROAD MARKINGS: DRIVING TOO FAST FOR CONDITIONS: OVER-CORRECTING/OVER-STEERING: RAN OFF ROAD',\n",
       "       'FAILED TO YIELD RIGHT OF WAY: DISREGARDED TRAFFIC SIGNS, SIGNALS, ROAD MARKINGS: MADE AN IMPROPER TURN: WRONG SIDE OR WRONG WAY',\n",
       "       'WRONG SIDE OR WRONG WAY: FAILURE TO KEEP IN PROPER LANE OR RUNNING OFF ROAD: OVER-CORRECTING/OVER-STEERING: UNSAFE LANE CHANGE',\n",
       "       'DISREGARDED TRAFFIC SIGNS, SIGNALS, ROAD MARKINGS: MECHANICAL DEFECTS: RAN OFF ROAD: ROAD DEFECT',\n",
       "       'EXCEEDED AUTHORIZED SPEED LIMIT: OVER-CORRECTING/OVER-STEERING: UNSAFE LANE CHANGE',\n",
       "       'EXCEEDED AUTHORIZED SPEED LIMIT: DRIVING TOO FAST FOR CONDITIONS: FAILURE TO KEEP IN PROPER LANE OR RUNNING OFF ROAD: UNSAFE LANE CHANGE',\n",
       "       'FAILED TO YIELD RIGHT OF WAY: OPERATING VEHICLE IN ERRATIC, RECKLESS, CARELESS, NEGLIGENT OR  AGGRESSIVE MANNER: OVER-CORRECTING/OVER-STEERING: HIT AND RUN',\n",
       "       'WRONG SIDE OR WRONG WAY: FAILURE TO KEEP IN PROPER LANE OR RUNNING OFF ROAD: HIT AND RUN: UNSAFE LANE CHANGE',\n",
       "       'OPERATING VEHICLE IN ERRATIC, RECKLESS, CARELESS, NEGLIGENT OR  AGGRESSIVE MANNER: OVER-CORRECTING/OVER-STEERING: HIT AND RUN',\n",
       "       'WRONG SIDE OR WRONG WAY: DROVE LEFT OF CENTER: HIT AND RUN',\n",
       "       'EXCEEDED AUTHORIZED SPEED LIMIT: DRIVING TOO FAST FOR CONDITIONS: RAN OFF ROAD',\n",
       "       'DISREGARDED TRAFFIC SIGNS, SIGNALS, ROAD MARKINGS: MECHANICAL DEFECTS: HIT AND RUN: ROAD DEFECT',\n",
       "       'DRIVING TOO FAST FOR CONDITIONS: FAILURE TO KEEP IN PROPER LANE OR RUNNING OFF ROAD: OVER-CORRECTING/OVER-STEERING: HIT AND RUN: UNSAFE LANE CHANGE',\n",
       "       'FAILURE TO KEEP IN PROPER LANE OR RUNNING OFF ROAD: UNSAFE LANE CHANGE: OBJECT AVOIDANCE',\n",
       "       'FAILURE TO KEEP IN PROPER LANE OR RUNNING OFF ROAD: RAN OFF ROAD: UNSAFE LANE CHANGE: UNSAFE BACKING',\n",
       "       'DISREGARDED TRAFFIC SIGNS, SIGNALS, ROAD MARKINGS: MADE AN IMPROPER TURN: FAILURE TO KEEP IN PROPER LANE OR RUNNING OFF ROAD: RAN OFF ROAD: UNSAFE LANE CHANGE',\n",
       "       'WRONG SIDE OR WRONG WAY: DRIVERLESS VEHICLE',\n",
       "       'MADE AN IMPROPER TURN: UNSAFE LANE CHANGE: OTHER IMPROPER DRIVING',\n",
       "       'DISREGARDED TRAFFIC SIGNS, SIGNALS, ROAD MARKINGS: EXCEEDED AUTHORIZED SPEED LIMIT: OBJECT AVOIDANCE',\n",
       "       'DISREGARDED TRAFFIC SIGNS, SIGNALS, ROAD MARKINGS: DRIVING TOO FAST FOR CONDITIONS: FAILURE TO KEEP IN PROPER LANE OR RUNNING OFF ROAD: UNSAFE LANE CHANGE',\n",
       "       'OVER-CORRECTING/OVER-STEERING: UNSAFE LANE CHANGE: OTHER IMPROPER DRIVING',\n",
       "       'OPERATING VEHICLE IN ERRATIC, RECKLESS, CARELESS, NEGLIGENT OR  AGGRESSIVE MANNER: DROVE LEFT OF CENTER: RAN OFF ROAD: HIT AND RUN',\n",
       "       'WRONG SIDE OR WRONG WAY: FAILURE TO KEEP IN PROPER LANE OR RUNNING OFF ROAD: DROVE LEFT OF CENTER: HIT AND RUN: UNSAFE LANE CHANGE',\n",
       "       'FAILED TO YIELD RIGHT OF WAY: HIT AND RUN: UNSAFE BACKING',\n",
       "       'OPERATING VEHICLE IN ERRATIC, RECKLESS, CARELESS, NEGLIGENT OR  AGGRESSIVE MANNER: HIT AND RUN: OBJECT AVOIDANCE',\n",
       "       'FAILED TO YIELD RIGHT OF WAY: HIT AND RUN: UNSAFE LANE CHANGE',\n",
       "       'DRIVING TOO FAST FOR CONDITIONS: FAILURE TO KEEP IN PROPER LANE OR RUNNING OFF ROAD: OPERATING VEHICLE IN ERRATIC, RECKLESS, CARELESS, NEGLIGENT OR  AGGRESSIVE MANNER: HIT AND RUN: UNSAFE LANE CHANGE',\n",
       "       'MADE AN IMPROPER TURN: HIT AND RUN: UNSAFE LANE CHANGE',\n",
       "       'DRIVING TOO FAST FOR CONDITIONS: OVER-CORRECTING/OVER-STEERING: HIT AND RUN',\n",
       "       'RAN OFF ROAD: UNSAFE BACKING',\n",
       "       'FAILED TO YIELD RIGHT OF WAY: OBJECT AVOIDANCE',\n",
       "       'WRONG SIDE OR WRONG WAY: FAILURE TO KEEP IN PROPER LANE OR RUNNING OFF ROAD: RAN OFF ROAD: UNSAFE LANE CHANGE',\n",
       "       'FAILED TO YIELD RIGHT OF WAY: DISREGARDED TRAFFIC SIGNS, SIGNALS, ROAD MARKINGS: DROVE LEFT OF CENTER',\n",
       "       'DRIVING TOO FAST FOR CONDITIONS: HIT AND RUN: UNSAFE LANE CHANGE',\n",
       "       'FAILURE TO KEEP IN PROPER LANE OR RUNNING OFF ROAD: OVER-CORRECTING/OVER-STEERING: MECHANICAL DEFECTS: UNSAFE LANE CHANGE: ROAD DEFECT',\n",
       "       'DRIVING TOO FAST FOR CONDITIONS: FAILURE TO KEEP IN PROPER LANE OR RUNNING OFF ROAD: RAN OFF ROAD: UNSAFE LANE CHANGE: OTHER IMPROPER DRIVING',\n",
       "       'DRIVING TOO FAST FOR CONDITIONS: MECHANICAL DEFECTS: ROAD DEFECT',\n",
       "       'DRIVING TOO FAST FOR CONDITIONS: ROAD DEFECT',\n",
       "       'EXCEEDED AUTHORIZED SPEED LIMIT: MADE AN IMPROPER TURN: FAILURE TO KEEP IN PROPER LANE OR RUNNING OFF ROAD: RAN OFF ROAD: UNSAFE LANE CHANGE',\n",
       "       'FAILED TO YIELD RIGHT OF WAY: DISREGARDED TRAFFIC SIGNS, SIGNALS, ROAD MARKINGS: EXCEEDED AUTHORIZED SPEED LIMIT',\n",
       "       'FAILED TO YIELD RIGHT OF WAY: DISREGARDED TRAFFIC SIGNS, SIGNALS, ROAD MARKINGS: DRIVERLESS VEHICLE',\n",
       "       'OVER-CORRECTING/OVER-STEERING: DROVE LEFT OF CENTER: HIT AND RUN',\n",
       "       'FAILED TO YIELD RIGHT OF WAY: FAILURE TO KEEP IN PROPER LANE OR RUNNING OFF ROAD: HIT AND RUN: UNSAFE LANE CHANGE',\n",
       "       'FAILED TO YIELD RIGHT OF WAY: MADE AN IMPROPER TURN: FAILURE TO KEEP IN PROPER LANE OR RUNNING OFF ROAD: HIT AND RUN: UNSAFE LANE CHANGE',\n",
       "       'DISREGARDED TRAFFIC SIGNS, SIGNALS, ROAD MARKINGS: FAILURE TO KEEP IN PROPER LANE OR RUNNING OFF ROAD: UNSAFE LANE CHANGE: UNSAFE BACKING',\n",
       "       'FAILED TO YIELD RIGHT OF WAY: FOLLOWED TOO CLOSELY: OTHER IMPROPER DRIVING',\n",
       "       'MADE AN IMPROPER TURN: FAILURE TO KEEP IN PROPER LANE OR RUNNING OFF ROAD: OPERATING VEHICLE IN ERRATIC, RECKLESS, CARELESS, NEGLIGENT OR  AGGRESSIVE MANNER: OVER-CORRECTING/OVER-STEERING: UNSAFE LANE CHANGE',\n",
       "       'MADE AN IMPROPER TURN: UNSAFE BACKING',\n",
       "       'EXCEEDED AUTHORIZED SPEED LIMIT: FAILURE TO KEEP IN PROPER LANE OR RUNNING OFF ROAD: UNSAFE LANE CHANGE: OTHER IMPROPER DRIVING',\n",
       "       'FOLLOWED TOO CLOSELY: DROVE LEFT OF CENTER: OTHER IMPROPER DRIVING',\n",
       "       'DISREGARDED TRAFFIC SIGNS, SIGNALS, ROAD MARKINGS: MADE AN IMPROPER TURN: FAILURE TO KEEP IN PROPER LANE OR RUNNING OFF ROAD: UNSAFE LANE CHANGE',\n",
       "       'VISIBILITY OBSTRUCTED: HIT AND RUN',\n",
       "       'FOLLOWED TOO CLOSELY: FAILURE TO KEEP IN PROPER LANE OR RUNNING OFF ROAD: DROVE LEFT OF CENTER: UNSAFE LANE CHANGE',\n",
       "       'DRIVING TOO FAST FOR CONDITIONS: WRONG SIDE OR WRONG WAY: FAILURE TO KEEP IN PROPER LANE OR RUNNING OFF ROAD: DROVE LEFT OF CENTER: UNSAFE LANE CHANGE',\n",
       "       'FAILED TO YIELD RIGHT OF WAY: WRONG SIDE OR WRONG WAY',\n",
       "       'DISREGARDED TRAFFIC SIGNS, SIGNALS, ROAD MARKINGS: VISIBILITY OBSTRUCTED',\n",
       "       'DISREGARDED TRAFFIC SIGNS, SIGNALS, ROAD MARKINGS: DRIVING TOO FAST FOR CONDITIONS: HIT AND RUN',\n",
       "       'EXCEEDED AUTHORIZED SPEED LIMIT: RAN OFF ROAD: HIT AND RUN',\n",
       "       'FOLLOWED TOO CLOSELY: OBJECT AVOIDANCE',\n",
       "       'FAILED TO YIELD RIGHT OF WAY: FAILURE TO KEEP IN PROPER LANE OR RUNNING OFF ROAD: RAN OFF ROAD: UNSAFE LANE CHANGE',\n",
       "       'MADE AN IMPROPER TURN: OVER-CORRECTING/OVER-STEERING',\n",
       "       'EXCEEDED AUTHORIZED SPEED LIMIT: OPERATING VEHICLE IN ERRATIC, RECKLESS, CARELESS, NEGLIGENT OR  AGGRESSIVE MANNER: UNSAFE LANE CHANGE',\n",
       "       'DISREGARDED TRAFFIC SIGNS, SIGNALS, ROAD MARKINGS: EXCEEDED AUTHORIZED SPEED LIMIT: FAILURE TO KEEP IN PROPER LANE OR RUNNING OFF ROAD: HIT AND RUN: UNSAFE LANE CHANGE',\n",
       "       'FAILURE TO KEEP IN PROPER LANE OR RUNNING OFF ROAD: HIT AND RUN: DRIVERLESS VEHICLE: UNSAFE LANE CHANGE: OTHER IMPROPER DRIVING',\n",
       "       'OPERATING VEHICLE IN ERRATIC, RECKLESS, CARELESS, NEGLIGENT OR  AGGRESSIVE MANNER: OVER-CORRECTING/OVER-STEERING',\n",
       "       'MADE AN IMPROPER TURN: WRONG SIDE OR WRONG WAY: DROVE LEFT OF CENTER: OBJECT AVOIDANCE',\n",
       "       'DISREGARDED TRAFFIC SIGNS, SIGNALS, ROAD MARKINGS: FAILURE TO KEEP IN PROPER LANE OR RUNNING OFF ROAD: MECHANICAL DEFECTS: RAN OFF ROAD: UNSAFE LANE CHANGE',\n",
       "       'OVER-CORRECTING/OVER-STEERING: RAN OFF ROAD: UNSAFE LANE CHANGE',\n",
       "       'DRIVING TOO FAST FOR CONDITIONS: OVER-CORRECTING/OVER-STEERING: UNSAFE LANE CHANGE',\n",
       "       'MADE AN IMPROPER TURN: FOLLOWED TOO CLOSELY',\n",
       "       'DISREGARDED TRAFFIC SIGNS, SIGNALS, ROAD MARKINGS: EXCEEDED AUTHORIZED SPEED LIMIT: HIT AND RUN',\n",
       "       'FAILED TO YIELD RIGHT OF WAY: UNSAFE BACKING',\n",
       "       'MADE AN IMPROPER TURN: WRONG SIDE OR WRONG WAY: HIT AND RUN',\n",
       "       'DISREGARDED TRAFFIC SIGNS, SIGNALS, ROAD MARKINGS: MADE AN IMPROPER TURN: RAN OFF ROAD',\n",
       "       'EXCEEDED AUTHORIZED SPEED LIMIT: FAILURE TO KEEP IN PROPER LANE OR RUNNING OFF ROAD: DROVE LEFT OF CENTER: HIT AND RUN: UNSAFE LANE CHANGE',\n",
       "       'FAILURE TO KEEP IN PROPER LANE OR RUNNING OFF ROAD: DROVE LEFT OF CENTER: RAN OFF ROAD: UNSAFE LANE CHANGE: OBJECT AVOIDANCE',\n",
       "       'FAILED TO YIELD RIGHT OF WAY: DISREGARDED TRAFFIC SIGNS, SIGNALS, ROAD MARKINGS: MADE AN IMPROPER TURN: HIT AND RUN',\n",
       "       'FAILURE TO KEEP IN PROPER LANE OR RUNNING OFF ROAD: MECHANICAL DEFECTS: UNSAFE LANE CHANGE: ROAD DEFECT: OBJECT AVOIDANCE',\n",
       "       'EXCEEDED AUTHORIZED SPEED LIMIT: RAN OFF ROAD: HIT AND RUN: OTHER IMPROPER DRIVING',\n",
       "       'HIT AND RUN: DRIVERLESS VEHICLE: UNSAFE BACKING',\n",
       "       'DRIVING TOO FAST FOR CONDITIONS: MADE AN IMPROPER TURN: OPERATING VEHICLE IN ERRATIC, RECKLESS, CARELESS, NEGLIGENT OR  AGGRESSIVE MANNER',\n",
       "       'FAILED TO YIELD RIGHT OF WAY: FOLLOWED TOO CLOSELY: HIT AND RUN',\n",
       "       'WRONG SIDE OR WRONG WAY: FAILURE TO KEEP IN PROPER LANE OR RUNNING OFF ROAD: MECHANICAL DEFECTS: DROVE LEFT OF CENTER: UNSAFE LANE CHANGE',\n",
       "       'DISREGARDED TRAFFIC SIGNS, SIGNALS, ROAD MARKINGS: OPERATING VEHICLE IN ERRATIC, RECKLESS, CARELESS, NEGLIGENT OR  AGGRESSIVE MANNER: UNSAFE LANE CHANGE',\n",
       "       'DRIVING TOO FAST FOR CONDITIONS: MADE AN IMPROPER TURN: FAILURE TO KEEP IN PROPER LANE OR RUNNING OFF ROAD: RAN OFF ROAD: UNSAFE LANE CHANGE',\n",
       "       'EXCEEDED AUTHORIZED SPEED LIMIT: FAILURE TO KEEP IN PROPER LANE OR RUNNING OFF ROAD: VISIBILITY OBSTRUCTED: UNSAFE LANE CHANGE',\n",
       "       'MADE AN IMPROPER TURN: FAILURE TO KEEP IN PROPER LANE OR RUNNING OFF ROAD: OPERATING VEHICLE IN ERRATIC, RECKLESS, CARELESS, NEGLIGENT OR  AGGRESSIVE MANNER: OVER-CORRECTING/OVER-STEERING: HIT AND RUN',\n",
       "       'DRIVING TOO FAST FOR CONDITIONS: FAILURE TO KEEP IN PROPER LANE OR RUNNING OFF ROAD: DROVE LEFT OF CENTER: RAN OFF ROAD: HIT AND RUN',\n",
       "       'OPERATING VEHICLE IN ERRATIC, RECKLESS, CARELESS, NEGLIGENT OR  AGGRESSIVE MANNER: HIT AND RUN: OTHER IMPROPER DRIVING',\n",
       "       'MECHANICAL DEFECTS: ROAD DEFECT: OBJECT AVOIDANCE',\n",
       "       'DISREGARDED TRAFFIC SIGNS, SIGNALS, ROAD MARKINGS: RAN OFF ROAD: HIT AND RUN: OBJECT AVOIDANCE',\n",
       "       'MADE AN IMPROPER TURN: OPERATING VEHICLE IN ERRATIC, RECKLESS, CARELESS, NEGLIGENT OR  AGGRESSIVE MANNER: UNSAFE LANE CHANGE',\n",
       "       'MADE AN IMPROPER TURN: WRONG SIDE OR WRONG WAY: FAILURE TO KEEP IN PROPER LANE OR RUNNING OFF ROAD: UNSAFE LANE CHANGE',\n",
       "       'FAILED TO YIELD RIGHT OF WAY: DISREGARDED TRAFFIC SIGNS, SIGNALS, ROAD MARKINGS: UNSAFE LANE CHANGE',\n",
       "       'MADE AN IMPROPER TURN: OBJECT AVOIDANCE',\n",
       "       'EXCEEDED AUTHORIZED SPEED LIMIT: OPERATING VEHICLE IN ERRATIC, RECKLESS, CARELESS, NEGLIGENT OR  AGGRESSIVE MANNER: DROVE LEFT OF CENTER',\n",
       "       'DRIVING TOO FAST FOR CONDITIONS: FOLLOWED TOO CLOSELY: UNSAFE LANE CHANGE',\n",
       "       'FAILURE TO KEEP IN PROPER LANE OR RUNNING OFF ROAD: HIT AND RUN: UNSAFE LANE CHANGE: OTHER IMPROPER DRIVING',\n",
       "       'EXCEEDED AUTHORIZED SPEED LIMIT: OVER-CORRECTING/OVER-STEERING',\n",
       "       'DISREGARDED TRAFFIC SIGNS, SIGNALS, ROAD MARKINGS: FOLLOWED TOO CLOSELY',\n",
       "       'OVER-CORRECTING/OVER-STEERING: RAN OFF ROAD: HIT AND RUN: OTHER IMPROPER DRIVING',\n",
       "       'EXCEEDED AUTHORIZED SPEED LIMIT: OPERATING VEHICLE IN ERRATIC, RECKLESS, CARELESS, NEGLIGENT OR  AGGRESSIVE MANNER: HIT AND RUN',\n",
       "       'VISIBILITY OBSTRUCTED: UNSAFE BACKING',\n",
       "       'DISREGARDED TRAFFIC SIGNS, SIGNALS, ROAD MARKINGS: EXCEEDED AUTHORIZED SPEED LIMIT: FAILURE TO KEEP IN PROPER LANE OR RUNNING OFF ROAD: UNSAFE LANE CHANGE',\n",
       "       'DRIVING TOO FAST FOR CONDITIONS: OVER-CORRECTING/OVER-STEERING: DROVE LEFT OF CENTER: RAN OFF ROAD',\n",
       "       'WRONG SIDE OR WRONG WAY: OTHER IMPROPER DRIVING',\n",
       "       'DRIVING TOO FAST FOR CONDITIONS: WRONG SIDE OR WRONG WAY: OVER-CORRECTING/OVER-STEERING: DROVE LEFT OF CENTER',\n",
       "       'FOLLOWED TOO CLOSELY: VISIBILITY OBSTRUCTED',\n",
       "       'DRIVING TOO FAST FOR CONDITIONS: FOLLOWED TOO CLOSELY: OBJECT AVOIDANCE',\n",
       "       'DRIVING TOO FAST FOR CONDITIONS: OPERATING VEHICLE IN ERRATIC, RECKLESS, CARELESS, NEGLIGENT OR  AGGRESSIVE MANNER: HIT AND RUN: UNSAFE LANE CHANGE',\n",
       "       'WRONG SIDE OR WRONG WAY: UNSAFE LANE CHANGE',\n",
       "       'MECHANICAL DEFECTS: UNSAFE BACKING: ROAD DEFECT',\n",
       "       'DISREGARDED TRAFFIC SIGNS, SIGNALS, ROAD MARKINGS: DRIVING TOO FAST FOR CONDITIONS: OPERATING VEHICLE IN ERRATIC, RECKLESS, CARELESS, NEGLIGENT OR  AGGRESSIVE MANNER: DROVE LEFT OF CENTER',\n",
       "       'MADE AN IMPROPER TURN: HIT AND RUN: OTHER IMPROPER DRIVING',\n",
       "       'WRONG SIDE OR WRONG WAY: FAILURE TO KEEP IN PROPER LANE OR RUNNING OFF ROAD: OVER-CORRECTING/OVER-STEERING: RAN OFF ROAD: UNSAFE LANE CHANGE',\n",
       "       'DISREGARDED TRAFFIC SIGNS, SIGNALS, ROAD MARKINGS: DRIVING TOO FAST FOR CONDITIONS: RAN OFF ROAD',\n",
       "       'OVER-CORRECTING/OVER-STEERING: UNSAFE LANE CHANGE: OBJECT AVOIDANCE',\n",
       "       'EXCEEDED AUTHORIZED SPEED LIMIT: MADE AN IMPROPER TURN: FAILURE TO KEEP IN PROPER LANE OR RUNNING OFF ROAD: HIT AND RUN: UNSAFE LANE CHANGE',\n",
       "       'EXCEEDED AUTHORIZED SPEED LIMIT: DRIVING TOO FAST FOR CONDITIONS: FAILURE TO KEEP IN PROPER LANE OR RUNNING OFF ROAD: RAN OFF ROAD: UNSAFE LANE CHANGE',\n",
       "       'MECHANICAL DEFECTS: HIT AND RUN: OTHER IMPROPER DRIVING: ROAD DEFECT',\n",
       "       'FAILURE TO KEEP IN PROPER LANE OR RUNNING OFF ROAD: RAN OFF ROAD: DRIVERLESS VEHICLE: UNSAFE LANE CHANGE',\n",
       "       'DRIVING TOO FAST FOR CONDITIONS: DROVE LEFT OF CENTER',\n",
       "       'EXCEEDED AUTHORIZED SPEED LIMIT: DROVE LEFT OF CENTER: RAN OFF ROAD',\n",
       "       'WRONG SIDE OR WRONG WAY: FAILURE TO KEEP IN PROPER LANE OR RUNNING OFF ROAD: OVER-CORRECTING/OVER-STEERING: DROVE LEFT OF CENTER: UNSAFE LANE CHANGE',\n",
       "       'DISREGARDED TRAFFIC SIGNS, SIGNALS, ROAD MARKINGS: WRONG SIDE OR WRONG WAY: DROVE LEFT OF CENTER: HIT AND RUN',\n",
       "       'MECHANICAL DEFECTS: DROVE LEFT OF CENTER: RAN OFF ROAD: ROAD DEFECT',\n",
       "       'DISREGARDED TRAFFIC SIGNS, SIGNALS, ROAD MARKINGS: HIT AND RUN: UNSAFE LANE CHANGE',\n",
       "       'FAILED TO YIELD RIGHT OF WAY: MADE AN IMPROPER TURN: OBJECT AVOIDANCE',\n",
       "       'DISREGARDED TRAFFIC SIGNS, SIGNALS, ROAD MARKINGS: HIT AND RUN: OTHER IMPROPER DRIVING',\n",
       "       'MADE AN IMPROPER TURN: FAILURE TO KEEP IN PROPER LANE OR RUNNING OFF ROAD: UNSAFE LANE CHANGE: OTHER IMPROPER DRIVING',\n",
       "       'FAILURE TO KEEP IN PROPER LANE OR RUNNING OFF ROAD: VISIBILITY OBSTRUCTED: RAN OFF ROAD: UNSAFE LANE CHANGE',\n",
       "       'WRONG SIDE OR WRONG WAY: OVER-CORRECTING/OVER-STEERING', '<Null>',\n",
       "       'DRIVING TOO FAST FOR CONDITIONS: OBJECT AVOIDANCE',\n",
       "       'VISIBILITY OBSTRUCTED: OBJECT AVOIDANCE',\n",
       "       'EXCEEDED AUTHORIZED SPEED LIMIT: DRIVING TOO FAST FOR CONDITIONS: FAILURE TO KEEP IN PROPER LANE OR RUNNING OFF ROAD: OVER-CORRECTING/OVER-STEERING: DROVE LEFT OF CENTER',\n",
       "       'EXCEEDED AUTHORIZED SPEED LIMIT: FAILURE TO KEEP IN PROPER LANE OR RUNNING OFF ROAD: OVER-CORRECTING/OVER-STEERING',\n",
       "       'EXCEEDED AUTHORIZED SPEED LIMIT: DRIVING TOO FAST FOR CONDITIONS: FAILURE TO KEEP IN PROPER LANE OR RUNNING OFF ROAD: UNSAFE LANE CHANGE: OBJECT AVOIDANCE',\n",
       "       'EXCEEDED AUTHORIZED SPEED LIMIT: FAILURE TO KEEP IN PROPER LANE OR RUNNING OFF ROAD',\n",
       "       'DISREGARDED TRAFFIC SIGNS, SIGNALS, ROAD MARKINGS: EXCEEDED AUTHORIZED SPEED LIMIT: DRIVING TOO FAST FOR CONDITIONS',\n",
       "       'EXCEEDED AUTHORIZED SPEED LIMIT: DRIVING TOO FAST FOR CONDITIONS: FAILURE TO KEEP IN PROPER LANE OR RUNNING OFF ROAD: OVER-CORRECTING/OVER-STEERING: RAN OFF ROAD',\n",
       "       'EXCEEDED AUTHORIZED SPEED LIMIT: DRIVING TOO FAST FOR CONDITIONS: UNSAFE LANE CHANGE',\n",
       "       'TOO FAST FOR CONDITIONS: OTHER IMPROPER DRIVING',\n",
       "       'DISREGARDED TRAFFIC SIGNS, SIGNALS, ROAD MARKINGS: DRIVING TOO FAST FOR CONDITIONS: OPERATING VEHICLE IN ERRATIC, RECKLESS, CARELESS, NEGLIGENT OR  AGGRESSIVE MANNER',\n",
       "       'DISREGARDED TRAFFIC SIGNS, SIGNALS, ROAD MARKINGS: WRONG SIDE OR WRONG WAY: HIT AND RUN',\n",
       "       'FAILED TO YIELD RIGHT OF WAY: DISREGARDED TRAFFIC SIGNS, SIGNALS, ROAD MARKINGS: FAILURE TO KEEP IN PROPER LANE OR RUNNING OFF ROAD: UNSAFE LANE CHANGE',\n",
       "       'WRONG SIDE OR WRONG WAY: FAILURE TO KEEP IN PROPER LANE OR RUNNING OFF ROAD: UNSAFE LANE CHANGE: UNSAFE BACKING',\n",
       "       'UNSAFE LANE CHANGE: UNKNOWN', 'OTHER',\n",
       "       'DRIVING TOO FAST FOR CONDITIONS: MECHANICAL DEFECTS: RAN OFF ROAD: ROAD DEFECT',\n",
       "       'RAN OFF ROAD: HIT AND RUN: DRIVERLESS VEHICLE',\n",
       "       'EXCEEDED AUTHORIZED SPEED LIMIT: OPERATING VEHICLE IN ERRATIC, RECKLESS, CARELESS, NEGLIGENT OR  AGGRESSIVE MANNER: OVER-CORRECTING/OVER-STEERING',\n",
       "       'DRIVING TOO FAST FOR CONDITIONS: FAILURE TO KEEP IN PROPER LANE OR RUNNING OFF ROAD: MECHANICAL DEFECTS: RAN OFF ROAD: UNSAFE LANE CHANGE',\n",
       "       'DISREGARDED TRAFFIC SIGNS, SIGNALS, ROAD MARKINGS: FAILURE TO KEEP IN PROPER LANE OR RUNNING OFF ROAD: OPERATING VEHICLE IN ERRATIC, RECKLESS, CARELESS, NEGLIGENT OR  AGGRESSIVE MANNER: DROVE LEFT OF CENTER: UNSAFE LANE CHANGE',\n",
       "       'DRIVING TOO FAST FOR CONDITIONS: OVER-CORRECTING/OVER-STEERING: DRIVERLESS VEHICLE: OTHER IMPROPER DRIVING',\n",
       "       'FAILED TO YIELD RIGHT OF WAY: OPERATING VEHICLE IN ERRATIC, RECKLESS, CARELESS, NEGLIGENT OR  AGGRESSIVE MANNER: OTHER IMPROPER DRIVING',\n",
       "       'DISREGARDED TRAFFIC SIGNS, SIGNALS, ROAD MARKINGS: DRIVING TOO FAST FOR CONDITIONS: FAILURE TO KEEP IN PROPER LANE OR RUNNING OFF ROAD: RAN OFF ROAD: UNSAFE LANE CHANGE',\n",
       "       'FAILED TO YIELD RIGHT OF WAY: MADE AN IMPROPER TURN: VISIBILITY OBSTRUCTED',\n",
       "       'DISREGARDED TRAFFIC SIGNS, SIGNALS, ROAD MARKINGS: VISIBILITY OBSTRUCTED: OTHER IMPROPER DRIVING',\n",
       "       'DISREGARDED TRAFFIC SIGNS, SIGNALS, ROAD MARKINGS: DRIVING TOO FAST FOR CONDITIONS: UNSAFE LANE CHANGE',\n",
       "       'DRIVING TOO FAST FOR CONDITIONS: RAN OFF ROAD: OTHER IMPROPER DRIVING',\n",
       "       'FAILED TO YIELD RIGHT OF WAY: RAN OFF ROAD: HIT AND RUN',\n",
       "       'EXCEEDED AUTHORIZED SPEED LIMIT: DRIVING TOO FAST FOR CONDITIONS: OTHER IMPROPER DRIVING',\n",
       "       'WRONG SIDE OR WRONG WAY: RAN OFF ROAD',\n",
       "       'WRONG SIDE OR WRONG WAY: UNSAFE BACKING'], dtype=object)"
      ]
     },
     "execution_count": 33,
     "metadata": {},
     "output_type": "execute_result"
    }
   ],
   "source": [
    "df.V1_Vehicle.unique()"
   ]
  },
  {
   "cell_type": "code",
   "execution_count": 34,
   "id": "56387142",
   "metadata": {},
   "outputs": [
    {
     "data": {
      "text/plain": [
       "array(['SLOW/STOPPED VEHICLE', 'MOTOR VEHICLE IN TRANSPORT', nan,\n",
       "       'OTHER FIXED OBJECTS (BUILDING, TUNNEL, ETC.)',\n",
       "       'RAN OFF ROAD RIGHT', 'TREE/SHRUB', 'RAN OFF ROAD LEFT',\n",
       "       'PEDESTRIAN', 'OTHER NON-COLLISION', 'OTHER POST, POLE OR SUPPORT',\n",
       "       'FENCE/WALL', 'PARKED MOTOR VEHICLE', 'LIGHT/LUMINARY SUPPORT',\n",
       "       'PEDAL CYCLE', 'CROSS MEDIAN/CENTERLINE', 'OVERTURN/ROLLOVER',\n",
       "       'UTILITY POLE', 'MEDIAN BARRIER', 'OTHER MOVABLE OBJECT',\n",
       "       'FIRE/EXPLOSION', 'DITCH', 'UNKNOWN NON-COLLISION',\n",
       "       'HIGHWAY TRAFFIC SIGN POST', '<Null>', 'CONCRETE TRAFFIC BARRIER',\n",
       "       'TRAFFIC SIGNAL SUPPORT', 'WORK ZONE MAINTENANCE EQUIPMENT',\n",
       "       'CURB', 'CARGO/EQUIPMENT LOSS OR SHIFT',\n",
       "       'EQUIPMENT FAILURE (BLOWN TIRE, BRAKE FAILURE, ETC.)',\n",
       "       'UNKNOWN MOVABLE OBJECT', 'BRIDGE RAIL', 'OTHER NON-MOTORIST',\n",
       "       'OTHER ANIMAL', 'CROSS MEDIAN', 'GUARDRAIL FACE',\n",
       "       'STRUCK BY FALLING, SHIFTING CARGO OR ANYTHING SET IN MOTION',\n",
       "       'JACKKNIFE', 'CABLE BARRIER', 'THROWN OR FALLING OBJECT',\n",
       "       'OTHER TRAFFIC BARRIER', 'FELL/JUMPED FROM MOTOR VEHICLE',\n",
       "       'EMBANKMENT', 'IMPACT ATTENUATOR/CRASH CUSHION',\n",
       "       'BRIDGE PIER OR ABUTMENT', 'NOT REPORTED', 'UNKNOWN FIXED OBJECT',\n",
       "       'REENTERING ROADWAY', 'SEPARATION OF UNITS', 'DOG/COYOTE',\n",
       "       'CULVERT', 'BURRO', 'GUARDRAIL END', 'BRIDGE OVERHEAD STRUCTURE',\n",
       "       'CROSS CENTERLINE', 'OVERHEAD SIGN SUPPORT'], dtype=object)"
      ]
     },
     "execution_count": 34,
     "metadata": {},
     "output_type": "execute_result"
    }
   ],
   "source": [
    "df.V1_Most_Ha.unique()"
   ]
  },
  {
   "cell_type": "code",
   "execution_count": 35,
   "id": "9e4ab39b",
   "metadata": {},
   "outputs": [
    {
     "data": {
      "text/plain": [
       "array(['SLOW/STOPPED VEHICLE', 'RAN OFF ROAD RIGHT: FENCE/WALL', nan, ...,\n",
       "       'RAN OFF ROAD RIGHT: CURB: LIGHT/LUMINARY SUPPORT: FENCE/WALL',\n",
       "       'RAN OFF ROAD RIGHT: MEDIAN BARRIER: RAN OFF ROAD LEFT: MEDIAN BARRIER: OVERTURN/ROLLOVER',\n",
       "       'RAN OFF ROAD LEFT: OVERHEAD SIGN SUPPORT'], dtype=object)"
      ]
     },
     "execution_count": 35,
     "metadata": {},
     "output_type": "execute_result"
    }
   ],
   "source": [
    "df.V1_All_Eve.unique()"
   ]
  },
  {
   "cell_type": "code",
   "execution_count": 36,
   "id": "622a64ec",
   "metadata": {},
   "outputs": [
    {
     "data": {
      "text/plain": [
       "array(['PICKUP', 'CARRY-ALL', 'SEDAN, 4 DOOR', 'SEDAN, 2 DOOR',\n",
       "       'HATCHBACK, 2 DOOR', 'UTILITY', 'SEDAN', nan, 'MOPED', 'VAN',\n",
       "       'HARDTOP, 4 DOOR', 'TRACTOR TRUCK, DIESEL', 'BUS', 'UNKNOWN',\n",
       "       'CONVERTIBLE', 'MOTORCYCLE', 'OTHER', 'HATCHBACK, 4 DOOR',\n",
       "       'FLATBED OR PLATFORM', 'TOW TRUCK/WRECKER', 'REFRIGERATED VAN',\n",
       "       'HARDTOP, 2 DOOR', 'AMBULANCE', 'STATION WAGON', 'MOTORIZED HOME',\n",
       "       'HATCHBACK/FASTBACK', 'TRACTOR TRUCK, GASOLINE', 'SEMI', 'COUPE',\n",
       "       'TENT TRAILER', 'STAKE OR RACK', 'GARBAGE OR REFUSE',\n",
       "       'CONCRETE MIXER', 'TANKER', 'DUMP', 'LIMOUSINE', 'PALLET',\n",
       "       'PICKUP WITH MOUNTED CAMPER', 'VAN CAMPER', 'MOTORBIKE', 'HARDTOP',\n",
       "       'CHASSIS AND CAB', 'BULK AGRICULTURE', 'LIFT BOOM', 'FIRE TRUCK',\n",
       "       'MOTORSCOOTER', 'ARMORED TRUCK', 'HOPPER (BOTTOM DUMP)', 'LOG',\n",
       "       'TRAVEL', 'LIVESTOCK RACK', '3-DOOR', 'WAGON',\n",
       "       'CONSTRUCTION VEHICLE', 'COACH', 'MULTI-WHEEL', 'MOTORIZED CART',\n",
       "       'BEVERAGE TRUCK', 'VANETTE', 'WELL DRILLER', 'ROADSTER',\n",
       "       'AUTO CARRIER', 'FLATRACK', 'GOLF CART', 'LUNCH WAGON', '<Null>',\n",
       "       'MINICYCLE', 'LOWBOY OR LOWBED', 'GLASS RACK'], dtype=object)"
      ]
     },
     "execution_count": 36,
     "metadata": {},
     "output_type": "execute_result"
    }
   ],
   "source": [
    "df.V2_Type.unique()"
   ]
  },
  {
   "cell_type": "code",
   "execution_count": 37,
   "id": "4963e5c8",
   "metadata": {},
   "outputs": [
    {
     "data": {
      "text/plain": [
       "array(['W', 'S', 'E', 'N', nan, '<Null>', 'U', 'X'], dtype=object)"
      ]
     },
     "execution_count": 37,
     "metadata": {},
     "output_type": "execute_result"
    }
   ],
   "source": [
    "df.V2_Dir.unique()"
   ]
  },
  {
   "cell_type": "code",
   "execution_count": 38,
   "id": "b7e3e29f",
   "metadata": {},
   "outputs": [
    {
     "data": {
      "text/plain": [
       "array([36, 28, 33, 26, 31, 51, 64, 0, 50, 45, 24, 37, 72, 40, 49, 21, 22,\n",
       "       60, 35, 29, 61, 67, 42, 43, 30, 23, 54, 58, 34, 48, 46, 27, 17, 59,\n",
       "       65, 18, 38, 19, 52, 74, 57, 44, 63, 70, 62, 53, 55, 32, 25, 56, 68,\n",
       "       66, 71, 76, 47, 39, 84, 16, 69, 41, 77, 20, 88, 73, 83, 80, 78, 82,\n",
       "       79, 81, 75, 87, 15, 99, 91, 86, 89, 95, 98, 85, 90, 92, 93, 97,\n",
       "       '57', '21', '26', '32', '29', '33', '0', '36', '48', '25', '44',\n",
       "       '84', '30', '19', '39', '41', '27', '31', '53', '43', '56', '62',\n",
       "       '73', '82', '42', '28', '18', '23', '86', '49', '67', '50', '59',\n",
       "       '46', '16', '40', '24', '37', '54', '60', '38', '52', '35', '47',\n",
       "       '45', '63', '70', '61', '71', '68', '66', '78', '22', '58', '64',\n",
       "       '20', '34', '17', '51', '65', '55', '74', '76', '75', '69', '77',\n",
       "       '72', '87', '79', '85', '91', '81', '80', '15', '88', '93', '98',\n",
       "       '92', '90', nan, '<Null>', '94', '83', '89', '95', '96', '97', '2',\n",
       "       96], dtype=object)"
      ]
     },
     "execution_count": 38,
     "metadata": {},
     "output_type": "execute_result"
    }
   ],
   "source": [
    "df.V2_Driver_.unique()"
   ]
  },
  {
   "cell_type": "code",
   "execution_count": 39,
   "id": "28609126",
   "metadata": {},
   "outputs": [
    {
     "data": {
      "text/plain": [
       "array([1.0, nan, 3.0, 5.0, 2.0, 4.0, 7.0, 6.0, '4', '6', '3', '1', '2',\n",
       "       '5', '7', '<Null>', '8', '12', 'L1', 'R1', 'L2', 'SL', 'CL', 'R2',\n",
       "       'L3', 'R3'], dtype=object)"
      ]
     },
     "execution_count": 39,
     "metadata": {},
     "output_type": "execute_result"
    }
   ],
   "source": [
    "df.V2_Lane_Nu.unique()"
   ]
  },
  {
   "cell_type": "code",
   "execution_count": 40,
   "id": "80f1fc82",
   "metadata": {},
   "outputs": [
    {
     "data": {
      "text/plain": [
       "array(['STOPPED', 'GOING STRAIGHT', 'PARKED', nan, 'TURNING LEFT',\n",
       "       'TURNING RIGHT', 'NOT REPORTED', 'UNKNOWN', 'CHANGING LANES',\n",
       "       'PASSING OTHER VEHICLE', 'OTHER', 'MAKING U-TURN',\n",
       "       'DRIVERLESS-MOVING VEHICLE', 'BACKING UP',\n",
       "       'OTHER TURNING MOVEMENT', 'ENTERING PARK POSITION',\n",
       "       'LEAVING PARK POSITION', 'RACING', 'TRAVELING WRONG WAY', '<Null>',\n",
       "       'NEGOTIATING A CURVE', 'ENTERING LANE', 'LEAVING LANE'],\n",
       "      dtype=object)"
      ]
     },
     "execution_count": 40,
     "metadata": {},
     "output_type": "execute_result"
    }
   ],
   "source": [
    "df.V2_Action.unique()"
   ]
  },
  {
   "cell_type": "code",
   "execution_count": 41,
   "id": "83f27f80",
   "metadata": {},
   "outputs": [
    {
     "data": {
      "text/plain": [
       "array(['APPARENTLY NORMAL', nan, 'FELL ASLEEP, FAINTED, FATIGUED, ETC.',\n",
       "       'DRUG INVOLVEMENT', 'HAD BEEN DRINKING', 'OTHER IMPROPER DRIVING',\n",
       "       'ILLNESS', 'DRUG INVOLVEMENT: OTHER IMPROPER DRIVING',\n",
       "       'INATTENTION/DISTRACTED', 'OBSTRUCTED VIEW',\n",
       "       'FELL ASLEEP, FAINTED, FATIGUED, ETC.: OBSTRUCTED VIEW',\n",
       "       'PHYSICAL IMPAIRMENT', 'HAD BEEN DRINKING: OTHER IMPROPER DRIVING',\n",
       "       'HAD BEEN DRINKING: DRUG INVOLVEMENT', '<Null>', 'UNKNOWN',\n",
       "       'HIT AND RUN', 'UNKNOWN;'], dtype=object)"
      ]
     },
     "execution_count": 41,
     "metadata": {},
     "output_type": "execute_result"
    }
   ],
   "source": [
    "df.V2_Driver1.unique()"
   ]
  },
  {
   "cell_type": "code",
   "execution_count": 42,
   "id": "ab4a432d",
   "metadata": {},
   "outputs": [
    {
     "data": {
      "text/plain": [
       "array([nan, 'UNKNOWN', 'RADIO/CD PLAYER', 'ANIMALS', 'OTHER',\n",
       "       'ELECTRONIC EQUIPMENT (COMPUTERS, ON BOARD NAVIGATION SYSTEM, ETC.)',\n",
       "       '<Null>', 'CELL PHONE',\n",
       "       'EXTERNAL DISTRACTION (OUTSIDE THE VEHICLE)',\n",
       "       'OTHER INSIDE THE VEHICLE', 'CELL PHONE (TEXTING)'], dtype=object)"
      ]
     },
     "execution_count": 42,
     "metadata": {},
     "output_type": "execute_result"
    }
   ],
   "source": [
    "df.V2_Drive_1.unique()"
   ]
  },
  {
   "cell_type": "code",
   "execution_count": 43,
   "id": "1453241d",
   "metadata": {},
   "outputs": [
    {
     "data": {
      "text/plain": [
       "array([nan, 'UNKNOWN', 'DRIVERLESS VEHICLE', 'OTHER IMPROPER DRIVING',\n",
       "       'FAILED TO YIELD RIGHT OF WAY: HIT AND RUN',\n",
       "       'DISREGARDED TRAFFIC SIGNS, SIGNALS, ROAD MARKINGS',\n",
       "       'FOLLOWED TOO CLOSELY', 'HIT AND RUN',\n",
       "       'FAILED TO YIELD RIGHT OF WAY', 'DROVE LEFT OF CENTER',\n",
       "       'EXCEEDED AUTHORIZED SPEED LIMIT', 'HIT AND RUN: UNSAFE BACKING',\n",
       "       'DRIVING TOO FAST FOR CONDITIONS',\n",
       "       'MECHANICAL DEFECTS: ROAD DEFECT', 'NO IMPROPER DRIVING',\n",
       "       'EXCEEDED AUTHORIZED SPEED LIMIT: FAILURE TO KEEP IN PROPER LANE OR RUNNING OFF ROAD: OTHER IMPROPER DRIVING',\n",
       "       'FAILURE TO KEEP IN PROPER LANE OR RUNNING OFF ROAD',\n",
       "       'UNSAFE LANE CHANGE',\n",
       "       'FAILURE TO KEEP IN PROPER LANE OR RUNNING OFF ROAD: UNSAFE LANE CHANGE',\n",
       "       'HIT AND RUN: UNKNOWN', 'FOLLOWED TOO CLOSELY: HIT AND RUN',\n",
       "       'HIT AND RUN: UNSAFE LANE CHANGE', 'OBJECT AVOIDANCE',\n",
       "       'RAN OFF ROAD',\n",
       "       'OPERATING VEHICLE IN ERRATIC, RECKLESS, CARELESS, NEGLIGENT OR  AGGRESSIVE MANNER: HIT AND RUN',\n",
       "       'EXCEEDED AUTHORIZED SPEED LIMIT: DRIVING TOO FAST FOR CONDITIONS: OPERATING VEHICLE IN ERRATIC, RECKLESS, CARELESS, NEGLIGENT OR  AGGRESSIVE MANNER',\n",
       "       'DRIVING TOO FAST FOR CONDITIONS: FOLLOWED TOO CLOSELY',\n",
       "       'MADE AN IMPROPER TURN', 'WRONG SIDE OR WRONG WAY',\n",
       "       'OVER-CORRECTING/OVER-STEERING',\n",
       "       'OPERATING VEHICLE IN ERRATIC, RECKLESS, CARELESS, NEGLIGENT OR  AGGRESSIVE MANNER',\n",
       "       'FAILURE TO KEEP IN PROPER LANE OR RUNNING OFF ROAD: OPERATING VEHICLE IN ERRATIC, RECKLESS, CARELESS, NEGLIGENT OR  AGGRESSIVE MANNER: UNSAFE LANE CHANGE: OTHER IMPROPER DRIVING',\n",
       "       'VISIBILITY OBSTRUCTED: OTHER IMPROPER DRIVING',\n",
       "       'VISIBILITY OBSTRUCTED: UNSAFE LANE CHANGE', 'UNSAFE BACKING',\n",
       "       'VISIBILITY OBSTRUCTED',\n",
       "       'EXCEEDED AUTHORIZED SPEED LIMIT: OVER-CORRECTING/OVER-STEERING',\n",
       "       'DISREGARDED TRAFFIC SIGNS, SIGNALS, ROAD MARKINGS: EXCEEDED AUTHORIZED SPEED LIMIT',\n",
       "       'FAILURE TO KEEP IN PROPER LANE OR RUNNING OFF ROAD: HIT AND RUN: UNSAFE LANE CHANGE',\n",
       "       'MECHANICAL DEFECTS: HIT AND RUN: ROAD DEFECT',\n",
       "       'FAILED TO YIELD RIGHT OF WAY: OTHER IMPROPER DRIVING',\n",
       "       'FAILED TO YIELD RIGHT OF WAY: MADE AN IMPROPER TURN',\n",
       "       'OVER-CORRECTING/OVER-STEERING: RAN OFF ROAD',\n",
       "       'MECHANICAL DEFECTS: DRIVERLESS VEHICLE: ROAD DEFECT',\n",
       "       'DRIVING TOO FAST FOR CONDITIONS: FAILURE TO KEEP IN PROPER LANE OR RUNNING OFF ROAD: HIT AND RUN: UNSAFE LANE CHANGE',\n",
       "       'EXCEEDED AUTHORIZED SPEED LIMIT: OTHER IMPROPER DRIVING',\n",
       "       'DROVE LEFT OF CENTER: RAN OFF ROAD',\n",
       "       'FAILURE TO KEEP IN PROPER LANE OR RUNNING OFF ROAD: OVER-CORRECTING/OVER-STEERING: UNSAFE LANE CHANGE',\n",
       "       'RAN OFF ROAD: OBJECT AVOIDANCE',\n",
       "       'EXCEEDED AUTHORIZED SPEED LIMIT: HIT AND RUN',\n",
       "       'OVER-CORRECTING/OVER-STEERING: RAN OFF ROAD: OBJECT AVOIDANCE',\n",
       "       'FOLLOWED TOO CLOSELY: UNSAFE LANE CHANGE',\n",
       "       'EXCEEDED AUTHORIZED SPEED LIMIT: DRIVING TOO FAST FOR CONDITIONS',\n",
       "       'FAILURE TO KEEP IN PROPER LANE OR RUNNING OFF ROAD: UNSAFE LANE CHANGE: OBJECT AVOIDANCE',\n",
       "       'FAILED TO YIELD RIGHT OF WAY: DISREGARDED TRAFFIC SIGNS, SIGNALS, ROAD MARKINGS',\n",
       "       'ROAD DEFECT: OBJECT AVOIDANCE',\n",
       "       'EXCEEDED AUTHORIZED SPEED LIMIT: OPERATING VEHICLE IN ERRATIC, RECKLESS, CARELESS, NEGLIGENT OR  AGGRESSIVE MANNER',\n",
       "       'WRONG SIDE OR WRONG WAY: HIT AND RUN',\n",
       "       'DRIVING TOO FAST FOR CONDITIONS: UNKNOWN',\n",
       "       'DRIVING TOO FAST FOR CONDITIONS: UNSAFE LANE CHANGE', '<Null>',\n",
       "       'HIT AND RUN: OBJECT AVOIDANCE',\n",
       "       'EXCEEDED AUTHORIZED SPEED LIMIT: OVER-CORRECTING/OVER-STEERING: OBJECT AVOIDANCE',\n",
       "       'DRIVING TOO FAST FOR CONDITIONS: MECHANICAL DEFECTS',\n",
       "       'HIT AND RUN: OTHER IMPROPER DRIVING',\n",
       "       'UNSAFE LANE CHANGE: UNKNOWN', 'OTHER IMPROPER DRIVING: UNKNOWN',\n",
       "       'EXCEEDED AUTHORIZED SPEED LIMIT: RAN OFF ROAD',\n",
       "       'UNSAFE LANE CHANGE: OBJECT AVOIDANCE',\n",
       "       'OPERATING VEHICLE IN ERRATIC, RECKLESS, CARELESS, NEGLIGENT OR  AGGRESSIVE MANNER: UNSAFE LANE CHANGE',\n",
       "       'OTHER', 'MECHANICAL DEFECTS'], dtype=object)"
      ]
     },
     "execution_count": 43,
     "metadata": {},
     "output_type": "execute_result"
    }
   ],
   "source": [
    "df.V2_Vehicle.unique()"
   ]
  },
  {
   "cell_type": "code",
   "execution_count": 44,
   "id": "bd66e860",
   "metadata": {},
   "outputs": [
    {
     "data": {
      "text/plain": [
       "array(['MOTOR VEHICLE IN TRANSPORT', nan, 'SLOW/STOPPED VEHICLE',\n",
       "       'LIGHT/LUMINARY SUPPORT', 'FENCE/WALL', 'PEDESTRIAN', 'TREE/SHRUB',\n",
       "       'CROSS MEDIAN/CENTERLINE',\n",
       "       'OTHER FIXED OBJECTS (BUILDING, TUNNEL, ETC.)',\n",
       "       'OTHER NON-COLLISION', 'OVERTURN/ROLLOVER', 'FIRE/EXPLOSION',\n",
       "       'PARKED MOTOR VEHICLE', 'UTILITY POLE', '<Null>',\n",
       "       'CARGO/EQUIPMENT LOSS OR SHIFT', 'RAN OFF ROAD RIGHT',\n",
       "       'REENTERING ROADWAY', 'CURB',\n",
       "       'STRUCK BY FALLING, SHIFTING CARGO OR ANYTHING SET IN MOTION',\n",
       "       'MEDIAN BARRIER', 'CONCRETE TRAFFIC BARRIER',\n",
       "       'OTHER MOVABLE OBJECT', 'THROWN OR FALLING OBJECT',\n",
       "       'UNKNOWN NON-COLLISION',\n",
       "       'EQUIPMENT FAILURE (BLOWN TIRE, BRAKE FAILURE, ETC.)',\n",
       "       'PEDAL CYCLE', 'UNKNOWN MOVABLE OBJECT', 'NOT REPORTED',\n",
       "       'RAN OFF ROAD LEFT', 'DITCH', 'WORK ZONE MAINTENANCE EQUIPMENT',\n",
       "       'OTHER NON-MOTORIST', 'EMBANKMENT', 'TRAFFIC SIGNAL SUPPORT',\n",
       "       'OTHER POST, POLE OR SUPPORT', 'CROSS MEDIAN',\n",
       "       'OTHER TRAFFIC BARRIER', 'OTHER ANIMAL',\n",
       "       'HIGHWAY TRAFFIC SIGN POST'], dtype=object)"
      ]
     },
     "execution_count": 44,
     "metadata": {},
     "output_type": "execute_result"
    }
   ],
   "source": [
    "df.V2_Most_Ha.unique()"
   ]
  },
  {
   "cell_type": "code",
   "execution_count": 45,
   "id": "c859a572",
   "metadata": {},
   "outputs": [
    {
     "data": {
      "text/plain": [
       "array([nan, 'SLOW/STOPPED VEHICLE',\n",
       "       'OTHER FIXED OBJECTS (BUILDING, TUNNEL, ETC.)',\n",
       "       'CROSS MEDIAN/CENTERLINE', 'OTHER NON-COLLISION',\n",
       "       'SLOW/STOPPED VEHICLE: OTHER NON-COLLISION', 'RAN OFF ROAD RIGHT',\n",
       "       'RAN OFF ROAD LEFT: LIGHT/LUMINARY SUPPORT',\n",
       "       'SLOW/STOPPED VEHICLE: RAN OFF ROAD RIGHT', 'NOT REPORTED',\n",
       "       'RAN OFF ROAD LEFT: OTHER POST, POLE OR SUPPORT: FENCE/WALL',\n",
       "       'RAN OFF ROAD RIGHT: MEDIAN BARRIER', 'PEDESTRIAN',\n",
       "       'CROSS MEDIAN/CENTERLINE: SLOW/STOPPED VEHICLE',\n",
       "       'OVERTURN/ROLLOVER',\n",
       "       'RAN OFF ROAD RIGHT: OTHER FIXED OBJECTS (BUILDING, TUNNEL, ETC.): TREE/SHRUB',\n",
       "       'CARGO/EQUIPMENT LOSS OR SHIFT',\n",
       "       'RAN OFF ROAD RIGHT: TREE/SHRUB: PARKED MOTOR VEHICLE: PARKED MOTOR VEHICLE',\n",
       "       'RAN OFF ROAD RIGHT: FENCE/WALL',\n",
       "       'RAN OFF ROAD RIGHT: FENCE/WALL: TREE/SHRUB',\n",
       "       'RAN OFF ROAD RIGHT: TREE/SHRUB: FENCE/WALL',\n",
       "       'OTHER MOVABLE OBJECT',\n",
       "       'SLOW/STOPPED VEHICLE: CROSS MEDIAN/CENTERLINE',\n",
       "       'RAN OFF ROAD RIGHT: TREE/SHRUB',\n",
       "       'CROSS MEDIAN/CENTERLINE: FENCE/WALL',\n",
       "       'SLOW/STOPPED VEHICLE: OVERTURN/ROLLOVER',\n",
       "       'RAN OFF ROAD RIGHT: OTHER POST, POLE OR SUPPORT: TREE/SHRUB',\n",
       "       'RAN OFF ROAD RIGHT: LIGHT/LUMINARY SUPPORT',\n",
       "       'RAN OFF ROAD RIGHT: PARKED MOTOR VEHICLE', 'RAN OFF ROAD LEFT',\n",
       "       'PEDESTRIAN: FENCE/WALL', 'LIGHT/LUMINARY SUPPORT',\n",
       "       'MEDIAN BARRIER',\n",
       "       'RAN OFF ROAD LEFT: TREE/SHRUB: OTHER FIXED OBJECTS (BUILDING, TUNNEL, ETC.)',\n",
       "       'CROSS MEDIAN/CENTERLINE: OVERTURN/ROLLOVER',\n",
       "       'OTHER NON-COLLISION: TREE/SHRUB: FENCE/WALL',\n",
       "       'RAN OFF ROAD RIGHT: OTHER FIXED OBJECTS (BUILDING, TUNNEL, ETC.)',\n",
       "       'PARKED MOTOR VEHICLE: TREE/SHRUB: OTHER POST, POLE OR SUPPORT',\n",
       "       'FENCE/WALL',\n",
       "       'EQUIPMENT FAILURE (BLOWN TIRE, BRAKE FAILURE, ETC.)',\n",
       "       'RAN OFF ROAD LEFT: FENCE/WALL', 'PARKED MOTOR VEHICLE',\n",
       "       'RAN OFF ROAD RIGHT: FENCE/WALL: EQUIPMENT FAILURE (BLOWN TIRE, BRAKE FAILURE, ETC.)',\n",
       "       'SLOW/STOPPED VEHICLE: FENCE/WALL: RAN OFF ROAD LEFT',\n",
       "       'RAN OFF ROAD LEFT: CROSS MEDIAN/CENTERLINE: TREE/SHRUB',\n",
       "       'RAN OFF ROAD RIGHT: TREE/SHRUB: OTHER FIXED OBJECTS (BUILDING, TUNNEL, ETC.)',\n",
       "       'SLOW/STOPPED VEHICLE: SLOW/STOPPED VEHICLE',\n",
       "       'RAN OFF ROAD RIGHT: NOT REPORTED',\n",
       "       'SLOW/STOPPED VEHICLE: MEDIAN BARRIER',\n",
       "       'SLOW/STOPPED VEHICLE: RAN OFF ROAD LEFT: CROSS MEDIAN/CENTERLINE: OTHER FIXED OBJECTS (BUILDING, TUNNEL, ETC.)',\n",
       "       'MEDIAN BARRIER: LIGHT/LUMINARY SUPPORT',\n",
       "       'RAN OFF ROAD RIGHT: UTILITY POLE',\n",
       "       'SEPARATION OF UNITS: BRIDGE OVERHEAD STRUCTURE: SEPARATION OF UNITS',\n",
       "       'RAN OFF ROAD LEFT: TREE/SHRUB',\n",
       "       'OTHER FIXED OBJECTS (BUILDING, TUNNEL, ETC.): PARKED MOTOR VEHICLE',\n",
       "       'SEPARATION OF UNITS: RAN OFF ROAD RIGHT: OTHER POST, POLE OR SUPPORT',\n",
       "       'TREE/SHRUB',\n",
       "       'RAN OFF ROAD RIGHT: FENCE/WALL: OTHER POST, POLE OR SUPPORT',\n",
       "       'RAN OFF ROAD LEFT: MEDIAN BARRIER',\n",
       "       'SLOW/STOPPED VEHICLE: RAN OFF ROAD LEFT: MEDIAN BARRIER',\n",
       "       'FENCE/WALL: OVERTURN/ROLLOVER', 'GUARDRAIL FACE',\n",
       "       'RAN OFF ROAD RIGHT: OTHER MOVABLE OBJECT', 'EMBANKMENT',\n",
       "       'MEDIAN BARRIER: FENCE/WALL',\n",
       "       'RAN OFF ROAD RIGHT: LIGHT/LUMINARY SUPPORT: TREE/SHRUB',\n",
       "       'PEDAL CYCLE',\n",
       "       'CROSS MEDIAN/CENTERLINE: RAN OFF ROAD LEFT: NOT REPORTED',\n",
       "       'OTHER POST, POLE OR SUPPORT: SLOW/STOPPED VEHICLE',\n",
       "       'FIRE/EXPLOSION', 'PARKED MOTOR VEHICLE: CROSS MEDIAN/CENTERLINE',\n",
       "       'RAN OFF ROAD RIGHT: OTHER POST, POLE OR SUPPORT',\n",
       "       'RAN OFF ROAD RIGHT: MEDIAN BARRIER: FIRE/EXPLOSION',\n",
       "       'MEDIAN BARRIER: MEDIAN BARRIER',\n",
       "       'SLOW/STOPPED VEHICLE: SLOW/STOPPED VEHICLE: SLOW/STOPPED VEHICLE',\n",
       "       'RAN OFF ROAD RIGHT: EMBANKMENT: TREE/SHRUB',\n",
       "       'OVERTURN/ROLLOVER: OTHER MOVABLE OBJECT: FENCE/WALL',\n",
       "       'RAN OFF ROAD LEFT: HIGHWAY TRAFFIC SIGN POST: GUARDRAIL END: OVERTURN/ROLLOVER',\n",
       "       'SLOW/STOPPED VEHICLE: LIGHT/LUMINARY SUPPORT',\n",
       "       'RAN OFF ROAD RIGHT: EMBANKMENT: HIGHWAY TRAFFIC SIGN POST',\n",
       "       'FENCE/WALL: FENCE/WALL', 'UTILITY POLE',\n",
       "       'SLOW/STOPPED VEHICLE: FENCE/WALL', 'DOG/COYOTE',\n",
       "       'MEDIAN BARRIER: SLOW/STOPPED VEHICLE',\n",
       "       'OVERTURN/ROLLOVER: SLOW/STOPPED VEHICLE',\n",
       "       'OVERTURN/ROLLOVER: CROSS MEDIAN/CENTERLINE',\n",
       "       'PARKED MOTOR VEHICLE: NOT REPORTED',\n",
       "       'OVERTURN/ROLLOVER: RAN OFF ROAD RIGHT: FENCE/WALL',\n",
       "       'RAN OFF ROAD RIGHT: CROSS MEDIAN/CENTERLINE',\n",
       "       'LIGHT/LUMINARY SUPPORT: OTHER POST, POLE OR SUPPORT: TREE/SHRUB',\n",
       "       'OTHER POST, POLE OR SUPPORT',\n",
       "       'OTHER NON-COLLISION: SLOW/STOPPED VEHICLE',\n",
       "       'FENCE/WALL: TREE/SHRUB', 'HIGHWAY TRAFFIC SIGN POST',\n",
       "       'SLOW/STOPPED VEHICLE: BURRO',\n",
       "       'PARKED MOTOR VEHICLE: RAN OFF ROAD RIGHT',\n",
       "       'OVERTURN/ROLLOVER: MEDIAN BARRIER: CROSS MEDIAN/CENTERLINE',\n",
       "       'CROSS MEDIAN/CENTERLINE: LIGHT/LUMINARY SUPPORT',\n",
       "       'SLOW/STOPPED VEHICLE: CROSS MEDIAN/CENTERLINE: MEDIAN BARRIER',\n",
       "       'SEPARATION OF UNITS',\n",
       "       'RAN OFF ROAD LEFT: CROSS MEDIAN/CENTERLINE: OVERTURN/ROLLOVER',\n",
       "       'OVERTURN/ROLLOVER: TREE/SHRUB',\n",
       "       'SLOW/STOPPED VEHICLE: PARKED MOTOR VEHICLE',\n",
       "       'RAN OFF ROAD RIGHT: SLOW/STOPPED VEHICLE',\n",
       "       'CROSS MEDIAN/CENTERLINE: SLOW/STOPPED VEHICLE: OVERTURN/ROLLOVER',\n",
       "       'CROSS MEDIAN/CENTERLINE: RAN OFF ROAD LEFT: OTHER NON-COLLISION: OTHER FIXED OBJECTS (BUILDING, TUNNEL, ETC.)',\n",
       "       'SLOW/STOPPED VEHICLE: RAN OFF ROAD RIGHT: FENCE/WALL',\n",
       "       'RAN OFF ROAD RIGHT: LIGHT/LUMINARY SUPPORT: OTHER FIXED OBJECTS (BUILDING, TUNNEL, ETC.)',\n",
       "       'RAN OFF ROAD LEFT: CROSS MEDIAN/CENTERLINE: OTHER FIXED OBJECTS (BUILDING, TUNNEL, ETC.)',\n",
       "       'CROSS MEDIAN/CENTERLINE: RAN OFF ROAD LEFT: LIGHT/LUMINARY SUPPORT: OTHER FIXED OBJECTS (BUILDING, TUNNEL, ETC.)',\n",
       "       'SLOW/STOPPED VEHICLE: CROSS MEDIAN/CENTERLINE: RAN OFF ROAD LEFT: FENCE/WALL: FENCE/WALL',\n",
       "       'PEDESTRIAN: TREE/SHRUB', 'SLOW/STOPPED VEHICLE: TREE/SHRUB',\n",
       "       'RAN OFF ROAD RIGHT: OVERTURN/ROLLOVER: FENCE/WALL',\n",
       "       'CROSS MEDIAN/CENTERLINE: RAN OFF ROAD LEFT: FENCE/WALL: FENCE/WALL',\n",
       "       'RAN OFF ROAD RIGHT: OTHER NON-COLLISION: NOT REPORTED',\n",
       "       'CROSS MEDIAN/CENTERLINE: HIGHWAY TRAFFIC SIGN POST',\n",
       "       'RAN OFF ROAD RIGHT: CROSS MEDIAN/CENTERLINE: RAN OFF ROAD LEFT',\n",
       "       'OTHER NON-COLLISION: NOT REPORTED',\n",
       "       'OTHER NON-COLLISION: PARKED MOTOR VEHICLE',\n",
       "       'RAN OFF ROAD LEFT: RAN OFF ROAD RIGHT',\n",
       "       'CROSS MEDIAN/CENTERLINE: RAN OFF ROAD LEFT',\n",
       "       'OVERTURN/ROLLOVER: NOT REPORTED',\n",
       "       'RAN OFF ROAD RIGHT: UNKNOWN FIXED OBJECT',\n",
       "       'CROSS MEDIAN/CENTERLINE: RAN OFF ROAD LEFT: TREE/SHRUB: FENCE/WALL',\n",
       "       'UNKNOWN NON-COLLISION', 'CROSS MEDIAN/CENTERLINE: NOT REPORTED',\n",
       "       'OTHER NON-COLLISION: RAN OFF ROAD RIGHT: OTHER MOVABLE OBJECT: FENCE/WALL',\n",
       "       'RAN OFF ROAD RIGHT: PEDESTRIAN',\n",
       "       'CROSS MEDIAN/CENTERLINE: RAN OFF ROAD LEFT: CROSS MEDIAN/CENTERLINE: CROSS MEDIAN/CENTERLINE',\n",
       "       'TREE/SHRUB: OTHER FIXED OBJECTS (BUILDING, TUNNEL, ETC.)',\n",
       "       'SLOW/STOPPED VEHICLE: HIGHWAY TRAFFIC SIGN POST: FENCE/WALL',\n",
       "       'MEDIAN BARRIER: NOT REPORTED',\n",
       "       'RAN OFF ROAD RIGHT: OVERTURN/ROLLOVER',\n",
       "       'PARKED MOTOR VEHICLE: FENCE/WALL',\n",
       "       'RAN OFF ROAD LEFT: NOT REPORTED',\n",
       "       'EMBANKMENT: FENCE/WALL: OVERTURN/ROLLOVER',\n",
       "       'RAN OFF ROAD RIGHT: FENCE/WALL: FENCE/WALL',\n",
       "       'SLOW/STOPPED VEHICLE: NOT REPORTED',\n",
       "       'OTHER MOVABLE OBJECT: MEDIAN BARRIER',\n",
       "       'IMPACT ATTENUATOR/CRASH CUSHION', 'UNKNOWN MOVABLE OBJECT',\n",
       "       'OVERTURN/ROLLOVER: OTHER POST, POLE OR SUPPORT',\n",
       "       'RAN OFF ROAD RIGHT: HIGHWAY TRAFFIC SIGN POST: FENCE/WALL',\n",
       "       'PARKED MOTOR VEHICLE: SLOW/STOPPED VEHICLE',\n",
       "       'SLOW/STOPPED VEHICLE: FENCE/WALL: OVERTURN/ROLLOVER',\n",
       "       'OVERTURN/ROLLOVER: FENCE/WALL',\n",
       "       'OTHER NON-COLLISION: RAN OFF ROAD RIGHT: OTHER MOVABLE OBJECT: OTHER FIXED OBJECTS (BUILDING, TUNNEL, ETC.)',\n",
       "       'RAN OFF ROAD LEFT: MEDIAN BARRIER: MEDIAN BARRIER',\n",
       "       'SLOW/STOPPED VEHICLE: RAN OFF ROAD RIGHT: LIGHT/LUMINARY SUPPORT',\n",
       "       'RAN OFF ROAD RIGHT: FENCE/WALL: OVERTURN/ROLLOVER',\n",
       "       'RAN OFF ROAD LEFT: GUARDRAIL FACE: NOT REPORTED',\n",
       "       'OTHER POST, POLE OR SUPPORT: LIGHT/LUMINARY SUPPORT',\n",
       "       'CROSS MEDIAN/CENTERLINE: RAN OFF ROAD RIGHT: FENCE/WALL',\n",
       "       'GUARDRAIL END', 'PARKED MOTOR VEHICLE: PARKED MOTOR VEHICLE',\n",
       "       'RAN OFF ROAD RIGHT: UTILITY POLE: LIGHT/LUMINARY SUPPORT',\n",
       "       'SLOW/STOPPED VEHICLE: FENCE/WALL: FENCE/WALL',\n",
       "       'CROSS MEDIAN/CENTERLINE: TREE/SHRUB',\n",
       "       'OVERTURN/ROLLOVER: FIRE/EXPLOSION',\n",
       "       'OTHER MOVABLE OBJECT: NOT REPORTED',\n",
       "       'RAN OFF ROAD LEFT: OTHER POST, POLE OR SUPPORT: NOT REPORTED',\n",
       "       'RAN OFF ROAD RIGHT: FENCE/WALL: UTILITY POLE',\n",
       "       'RAN OFF ROAD LEFT: DITCH: GUARDRAIL END',\n",
       "       'CARGO/EQUIPMENT LOSS OR SHIFT: MEDIAN BARRIER',\n",
       "       'RAN OFF ROAD RIGHT: HIGHWAY TRAFFIC SIGN POST',\n",
       "       'SLOW/STOPPED VEHICLE: FIRE/EXPLOSION',\n",
       "       'CROSS MEDIAN/CENTERLINE: MEDIAN BARRIER: OVERTURN/ROLLOVER',\n",
       "       'SLOW/STOPPED VEHICLE: RAN OFF ROAD RIGHT: TREE/SHRUB',\n",
       "       'MEDIAN BARRIER: OVERTURN/ROLLOVER',\n",
       "       'OVERTURN/ROLLOVER: OVERTURN/ROLLOVER',\n",
       "       'RAN OFF ROAD RIGHT: EMBANKMENT: FENCE/WALL',\n",
       "       'OTHER NON-COLLISION: RAN OFF ROAD RIGHT: FENCE/WALL',\n",
       "       'RAN OFF ROAD RIGHT: RAN OFF ROAD LEFT: MEDIAN BARRIER',\n",
       "       'GUARDRAIL FACE: NOT REPORTED', 'RAN OFF ROAD LEFT: EMBANKMENT',\n",
       "       'FENCE/WALL: MEDIAN BARRIER', 'RAN OFF ROAD RIGHT: DITCH',\n",
       "       'OTHER NON-COLLISION: RAN OFF ROAD LEFT: OTHER MOVABLE OBJECT',\n",
       "       'IMPACT ATTENUATOR/CRASH CUSHION: FENCE/WALL',\n",
       "       'RAN OFF ROAD RIGHT: EMBANKMENT',\n",
       "       'RAN OFF ROAD LEFT: OVERTURN/ROLLOVER',\n",
       "       'RAN OFF ROAD LEFT: HIGHWAY TRAFFIC SIGN POST',\n",
       "       'RAN OFF ROAD RIGHT: MEDIAN BARRIER: TREE/SHRUB',\n",
       "       'PARKED MOTOR VEHICLE: MEDIAN BARRIER',\n",
       "       'OTHER NON-COLLISION: OVERTURN/ROLLOVER',\n",
       "       'FENCE/WALL: OTHER FIXED OBJECTS (BUILDING, TUNNEL, ETC.)',\n",
       "       'RAN OFF ROAD RIGHT: OTHER MOVABLE OBJECT: FENCE/WALL',\n",
       "       'RAN OFF ROAD RIGHT: OTHER MOVABLE OBJECT: TREE/SHRUB',\n",
       "       'RAN OFF ROAD LEFT: RAN OFF ROAD RIGHT: NOT REPORTED',\n",
       "       'RAN OFF ROAD LEFT: OTHER FIXED OBJECTS (BUILDING, TUNNEL, ETC.)',\n",
       "       'MEDIAN BARRIER: MEDIAN BARRIER: MEDIAN BARRIER',\n",
       "       'RAN OFF ROAD RIGHT: FENCE/WALL: PARKED MOTOR VEHICLE',\n",
       "       'OVERTURN/ROLLOVER: RAN OFF ROAD LEFT: TREE/SHRUB',\n",
       "       'SLOW/STOPPED VEHICLE: RAN OFF ROAD RIGHT: FENCE/WALL: TREE/SHRUB',\n",
       "       'RAN OFF ROAD LEFT: OTHER POST, POLE OR SUPPORT: TREE/SHRUB',\n",
       "       'OVERTURN/ROLLOVER: MEDIAN BARRIER',\n",
       "       'RAN OFF ROAD RIGHT: OTHER FIXED OBJECTS (BUILDING, TUNNEL, ETC.): FENCE/WALL',\n",
       "       'RAN OFF ROAD RIGHT: FENCE/WALL: NOT REPORTED',\n",
       "       'RAN OFF ROAD RIGHT: UTILITY POLE: FENCE/WALL',\n",
       "       'SLOW/STOPPED VEHICLE: RAN OFF ROAD RIGHT: LIGHT/LUMINARY SUPPORT: OTHER FIXED OBJECTS (BUILDING, TUNNEL, ETC.)',\n",
       "       'OTHER FIXED OBJECTS (BUILDING, TUNNEL, ETC.): FENCE/WALL',\n",
       "       'RAN OFF ROAD RIGHT: FENCE/WALL: OTHER MOVABLE OBJECT',\n",
       "       'RAN OFF ROAD LEFT: PARKED MOTOR VEHICLE: PARKED MOTOR VEHICLE',\n",
       "       'RAN OFF ROAD LEFT: OTHER MOVABLE OBJECT',\n",
       "       'RAN OFF ROAD LEFT: TREE/SHRUB: EMBANKMENT: FENCE/WALL',\n",
       "       'WORK ZONE MAINTENANCE EQUIPMENT',\n",
       "       'RAN OFF ROAD LEFT: LIGHT/LUMINARY SUPPORT: TREE/SHRUB',\n",
       "       'RAN OFF ROAD LEFT: UTILITY POLE',\n",
       "       'RAN OFF ROAD RIGHT: OVERHEAD SIGN SUPPORT',\n",
       "       'RAN OFF ROAD RIGHT: GUARDRAIL FACE', 'RAN OFF ROAD LEFT: DITCH',\n",
       "       'RAN OFF ROAD RIGHT: TREE/SHRUB: OTHER POST, POLE OR SUPPORT',\n",
       "       'MEDIAN BARRIER: WORK ZONE MAINTENANCE EQUIPMENT',\n",
       "       'RAN OFF ROAD RIGHT: OTHER FIXED OBJECTS (BUILDING, TUNNEL, ETC.): FENCE/WALL: TREE/SHRUB',\n",
       "       'RAN OFF ROAD RIGHT: OTHER NON-COLLISION',\n",
       "       'RAN OFF ROAD LEFT: OTHER POST, POLE OR SUPPORT',\n",
       "       'RAN OFF ROAD RIGHT: IMPACT ATTENUATOR/CRASH CUSHION',\n",
       "       'OVERTURN/ROLLOVER: OTHER FIXED OBJECTS (BUILDING, TUNNEL, ETC.)',\n",
       "       'HIGHWAY TRAFFIC SIGN POST: FENCE/WALL',\n",
       "       'MEDIAN BARRIER: MEDIAN BARRIER: RAN OFF ROAD RIGHT: OTHER FIXED OBJECTS (BUILDING, TUNNEL, ETC.)',\n",
       "       'RAN OFF ROAD RIGHT: OTHER NON-COLLISION: OTHER NON-COLLISION',\n",
       "       'OVERTURN/ROLLOVER: RAN OFF ROAD RIGHT: FENCE/WALL: HIGHWAY TRAFFIC SIGN POST',\n",
       "       'MEDIAN BARRIER: OTHER POST, POLE OR SUPPORT: OVERTURN/ROLLOVER',\n",
       "       'RAN OFF ROAD LEFT: FENCE/WALL: TREE/SHRUB',\n",
       "       'RAN OFF ROAD RIGHT: FENCE/WALL: PEDESTRIAN',\n",
       "       'RAN OFF ROAD RIGHT: OTHER POST, POLE OR SUPPORT: NOT REPORTED',\n",
       "       'JACKKNIFE: OVERTURN/ROLLOVER',\n",
       "       'UNKNOWN NON-COLLISION: NOT REPORTED',\n",
       "       'RAN OFF ROAD LEFT: CULVERT: OTHER FIXED OBJECTS (BUILDING, TUNNEL, ETC.)',\n",
       "       'TREE/SHRUB: FENCE/WALL',\n",
       "       'RAN OFF ROAD LEFT: OTHER FIXED OBJECTS (BUILDING, TUNNEL, ETC.): OTHER FIXED OBJECTS (BUILDING, TUNNEL, ETC.)',\n",
       "       'RAN OFF ROAD RIGHT: OTHER FIXED OBJECTS (BUILDING, TUNNEL, ETC.): HIGHWAY TRAFFIC SIGN POST',\n",
       "       'TREE/SHRUB: OTHER POST, POLE OR SUPPORT',\n",
       "       'RAN OFF ROAD RIGHT: OTHER FIXED OBJECTS (BUILDING, TUNNEL, ETC.): LIGHT/LUMINARY SUPPORT: MEDIAN BARRIER',\n",
       "       'RAN OFF ROAD RIGHT: LIGHT/LUMINARY SUPPORT: OVERHEAD SIGN SUPPORT',\n",
       "       'FENCE/WALL: RAN OFF ROAD LEFT: FENCE/WALL',\n",
       "       'SEPARATION OF UNITS: NOT REPORTED',\n",
       "       'FENCE/WALL: FENCE/WALL: FENCE/WALL',\n",
       "       'OVERHEAD SIGN SUPPORT: CARGO/EQUIPMENT LOSS OR SHIFT',\n",
       "       'CARGO/EQUIPMENT LOSS OR SHIFT: OVERHEAD SIGN SUPPORT: MEDIAN BARRIER',\n",
       "       'BRIDGE PIER OR ABUTMENT',\n",
       "       'MEDIAN BARRIER: CARGO/EQUIPMENT LOSS OR SHIFT',\n",
       "       'PARKED MOTOR VEHICLE: RAN OFF ROAD RIGHT: OTHER FIXED OBJECTS (BUILDING, TUNNEL, ETC.)',\n",
       "       'RAN OFF ROAD LEFT: GUARDRAIL FACE',\n",
       "       'OVERTURN/ROLLOVER: LIGHT/LUMINARY SUPPORT',\n",
       "       'MEDIAN BARRIER: EMBANKMENT', 'PEDESTRIAN: SLOW/STOPPED VEHICLE',\n",
       "       'PARKED MOTOR VEHICLE: LIGHT/LUMINARY SUPPORT',\n",
       "       'UNKNOWN NON-COLLISION: RAN OFF ROAD LEFT', '<Null>',\n",
       "       'MOTOR VEHICLE IN TRANSPORT',\n",
       "       'MOTOR VEHICLE IN TRANSPORT: CURB: RAN OFF ROAD RIGHT: OTHER POST, POLE OR SUPPORT',\n",
       "       'PARKED MOTOR VEHICLE: RAN OFF ROAD LEFT: FENCE/WALL: TREE/SHRUB',\n",
       "       'OTHER FIXED OBJECTS (BUILDING, TUNNEL, ETC.): TREE/SHRUB',\n",
       "       'RAN OFF ROAD RIGHT: UTILITY POLE: OTHER MOVABLE OBJECT',\n",
       "       'RAN OFF ROAD LEFT: LIGHT/LUMINARY SUPPORT: FENCE/WALL',\n",
       "       'OVERTURN/ROLLOVER: SLOW/STOPPED VEHICLE: SLOW/STOPPED VEHICLE',\n",
       "       'OVERTURN/ROLLOVER: RAN OFF ROAD LEFT',\n",
       "       'RAN OFF ROAD RIGHT: TREE/SHRUB: OVERTURN/ROLLOVER',\n",
       "       'RAN OFF ROAD RIGHT: FENCE/WALL: LIGHT/LUMINARY SUPPORT: OVERTURN/ROLLOVER',\n",
       "       'FENCE/WALL: OTHER POST, POLE OR SUPPORT',\n",
       "       'RAN OFF ROAD RIGHT: TREE/SHRUB: NOT REPORTED',\n",
       "       'RAN OFF ROAD RIGHT: UNKNOWN MOVABLE OBJECT',\n",
       "       'LIGHT/LUMINARY SUPPORT: CROSS MEDIAN/CENTERLINE',\n",
       "       'RAN OFF ROAD RIGHT: SLOW/STOPPED VEHICLE: TREE/SHRUB',\n",
       "       'RAN OFF ROAD RIGHT: TREE/SHRUB: LIGHT/LUMINARY SUPPORT',\n",
       "       'SLOW/STOPPED VEHICLE: SLOW/STOPPED VEHICLE: MEDIAN BARRIER',\n",
       "       'RAN OFF ROAD RIGHT: OTHER MOVABLE OBJECT: OVERTURN/ROLLOVER',\n",
       "       'DITCH',\n",
       "       'RAN OFF ROAD RIGHT: FENCE/WALL: OTHER POST, POLE OR SUPPORT: PARKED MOTOR VEHICLE',\n",
       "       'RAN OFF ROAD LEFT: OTHER FIXED OBJECTS (BUILDING, TUNNEL, ETC.): FENCE/WALL',\n",
       "       'RAN OFF ROAD RIGHT: RAN OFF ROAD LEFT',\n",
       "       'RAN OFF ROAD RIGHT: FENCE/WALL: LIGHT/LUMINARY SUPPORT',\n",
       "       'CROSS MEDIAN/CENTERLINE: SLOW/STOPPED VEHICLE: SLOW/STOPPED VEHICLE',\n",
       "       'LIGHT/LUMINARY SUPPORT: RAN OFF ROAD RIGHT: TREE/SHRUB',\n",
       "       'SLOW/STOPPED VEHICLE: SLOW/STOPPED VEHICLE: SLOW/STOPPED VEHICLE: SLOW/STOPPED VEHICLE',\n",
       "       'RAN OFF ROAD RIGHT: OTHER POST, POLE OR SUPPORT: PEDESTRIAN: TREE/SHRUB',\n",
       "       'UTILITY POLE: OTHER FIXED OBJECTS (BUILDING, TUNNEL, ETC.)',\n",
       "       'RAN OFF ROAD RIGHT: OTHER FIXED OBJECTS (BUILDING, TUNNEL, ETC.): OTHER FIXED OBJECTS (BUILDING, TUNNEL, ETC.)',\n",
       "       'RAN OFF ROAD RIGHT: OTHER NON-COLLISION: OTHER FIXED OBJECTS (BUILDING, TUNNEL, ETC.)',\n",
       "       'SLOW/STOPPED VEHICLE: OTHER FIXED OBJECTS (BUILDING, TUNNEL, ETC.)',\n",
       "       'RAN OFF ROAD LEFT: MEDIAN BARRIER: RAN OFF ROAD RIGHT: MEDIAN BARRIER',\n",
       "       'GUARDRAIL FACE: SLOW/STOPPED VEHICLE: SLOW/STOPPED VEHICLE',\n",
       "       'CROSS MEDIAN/CENTERLINE: SLOW/STOPPED VEHICLE: PARKED MOTOR VEHICLE',\n",
       "       'OVERTURN/ROLLOVER: RAN OFF ROAD RIGHT',\n",
       "       'CROSS MEDIAN/CENTERLINE: OTHER MOVABLE OBJECT',\n",
       "       'SLOW/STOPPED VEHICLE: IMPACT ATTENUATOR/CRASH CUSHION',\n",
       "       'RAN OFF ROAD RIGHT: FENCE/WALL: TREE/SHRUB: FENCE/WALL',\n",
       "       'RAN OFF ROAD RIGHT: SLOW/STOPPED VEHICLE: FENCE/WALL',\n",
       "       'OTHER NON-COLLISION: RAN OFF ROAD RIGHT: FENCE/WALL: FENCE/WALL',\n",
       "       'EMBANKMENT: FENCE/WALL',\n",
       "       'OTHER NON-COLLISION: RAN OFF ROAD RIGHT: FENCE/WALL: TREE/SHRUB',\n",
       "       'PEDESTRIAN: DOG/COYOTE: LIGHT/LUMINARY SUPPORT',\n",
       "       'RAN OFF ROAD RIGHT: HIGHWAY TRAFFIC SIGN POST: TREE/SHRUB',\n",
       "       'RAN OFF ROAD LEFT: OTHER MOVABLE OBJECT: TREE/SHRUB',\n",
       "       'SEPARATION OF UNITS: RAN OFF ROAD LEFT: NOT REPORTED',\n",
       "       'UTILITY POLE: NOT REPORTED',\n",
       "       'RAN OFF ROAD RIGHT: LIGHT/LUMINARY SUPPORT: FENCE/WALL',\n",
       "       'SEPARATION OF UNITS: CURB: RAN OFF ROAD RIGHT',\n",
       "       'RAN OFF ROAD RIGHT: FENCE/WALL: RAN OFF ROAD RIGHT: UTILITY POLE',\n",
       "       'CURB: DITCH', 'REENTERING ROADWAY', 'CURB',\n",
       "       'STRUCK BY FALLING, SHIFTING CARGO OR ANYTHING SET IN MOTION',\n",
       "       'CURB: RAN OFF ROAD RIGHT', 'CROSS MEDIAN',\n",
       "       'CONCRETE TRAFFIC BARRIER', 'CROSS CENTERLINE',\n",
       "       'CURB: RAN OFF ROAD RIGHT: TREE/SHRUB: OTHER MOVABLE OBJECT',\n",
       "       'SLOW/STOPPED VEHICLE: SLOW/STOPPED VEHICLE: CURB: CONCRETE TRAFFIC BARRIER',\n",
       "       'TRAFFIC SIGNAL SUPPORT', 'CURB: PARKED MOTOR VEHICLE',\n",
       "       'CURB: RAN OFF ROAD RIGHT: UTILITY POLE',\n",
       "       'CURB: OTHER POST, POLE OR SUPPORT',\n",
       "       'CROSS CENTERLINE: MEDIAN BARRIER: CABLE BARRIER',\n",
       "       'CURB: SLOW/STOPPED VEHICLE',\n",
       "       'CROSS MEDIAN/CENTERLINE: RAN OFF ROAD LEFT: CURB: FENCE/WALL',\n",
       "       'THROWN OR FALLING OBJECT',\n",
       "       'CONCRETE TRAFFIC BARRIER: CONCRETE TRAFFIC BARRIER',\n",
       "       'CURB: TREE/SHRUB', 'CURB: RAN OFF ROAD LEFT',\n",
       "       'CROSS MEDIAN/CENTERLINE: REENTERING ROADWAY',\n",
       "       'CROSS MEDIAN: OVERTURN/ROLLOVER', 'CURB: CURB',\n",
       "       'CURB: LIGHT/LUMINARY SUPPORT',\n",
       "       'MEDIAN BARRIER: CURB: UTILITY POLE',\n",
       "       'CURB: RAN OFF ROAD LEFT: FENCE/WALL',\n",
       "       'RAN OFF ROAD LEFT: CURB: TREE/SHRUB',\n",
       "       'SLOW/STOPPED VEHICLE: CURB: TREE/SHRUB: LIGHT/LUMINARY SUPPORT',\n",
       "       'CURB: TRAFFIC SIGNAL SUPPORT', 'RAN OFF ROAD RIGHT: CURB',\n",
       "       'SEPARATION OF UNITS: CURB: RAN OFF ROAD LEFT',\n",
       "       'CURB: CROSS MEDIAN',\n",
       "       'CROSS MEDIAN/CENTERLINE: UNKNOWN MOVABLE OBJECT',\n",
       "       'OVERTURN/ROLLOVER: PARKED MOTOR VEHICLE',\n",
       "       'CURB: RAN OFF ROAD RIGHT: OTHER POST, POLE OR SUPPORT',\n",
       "       'RAN OFF ROAD LEFT: CURB', 'CROSS MEDIAN/CENTERLINE: CURB',\n",
       "       'SLOW/STOPPED VEHICLE: SLOW/STOPPED VEHICLE: RAN OFF ROAD RIGHT: CURB',\n",
       "       'RAN OFF ROAD RIGHT: CURB: OTHER FIXED OBJECTS (BUILDING, TUNNEL, ETC.)',\n",
       "       'SLOW/STOPPED VEHICLE: CURB: RAN OFF ROAD RIGHT',\n",
       "       'CROSS MEDIAN/CENTERLINE: RAN OFF ROAD LEFT: OTHER POST, POLE OR SUPPORT',\n",
       "       'RAN OFF ROAD LEFT: CONCRETE TRAFFIC BARRIER',\n",
       "       'OVERTURN/ROLLOVER: CONCRETE TRAFFIC BARRIER',\n",
       "       'CURB: UNKNOWN FIXED OBJECT', 'OVERTURN/ROLLOVER: CURB',\n",
       "       'CURB: LIGHT/LUMINARY SUPPORT: TREE/SHRUB',\n",
       "       'RAN OFF ROAD RIGHT: CURB: FENCE/WALL',\n",
       "       'OTHER POST, POLE OR SUPPORT: PARKED MOTOR VEHICLE',\n",
       "       'OTHER NON-COLLISION: CURB',\n",
       "       'CONCRETE TRAFFIC BARRIER: CONCRETE TRAFFIC BARRIER: CONCRETE TRAFFIC BARRIER',\n",
       "       'CURB: RAN OFF ROAD LEFT: REENTERING ROADWAY',\n",
       "       'CROSS MEDIAN: SLOW/STOPPED VEHICLE',\n",
       "       'CROSS CENTERLINE: SLOW/STOPPED VEHICLE',\n",
       "       'CROSS CENTERLINE: UNKNOWN MOVABLE OBJECT',\n",
       "       'CROSS CENTERLINE: CURB: RAN OFF ROAD LEFT: LIGHT/LUMINARY SUPPORT',\n",
       "       'CURB: OVERTURN/ROLLOVER', 'OTHER TRAFFIC BARRIER',\n",
       "       'OVERTURN/ROLLOVER: OTHER NON-COLLISION',\n",
       "       'CROSS MEDIAN/CENTERLINE: CURB: RAN OFF ROAD LEFT: TREE/SHRUB',\n",
       "       'PEDESTRIAN: DOG/COYOTE', 'CURB: FENCE/WALL',\n",
       "       'CURB: RAN OFF ROAD RIGHT: TREE/SHRUB',\n",
       "       'CROSS MEDIAN: HIGHWAY TRAFFIC SIGN POST',\n",
       "       'RAN OFF ROAD RIGHT: FENCE/WALL: FENCE/WALL: FENCE/WALL',\n",
       "       'PARKED MOTOR VEHICLE: CURB: RAN OFF ROAD RIGHT',\n",
       "       'PARKED MOTOR VEHICLE: CONCRETE TRAFFIC BARRIER',\n",
       "       'RAN OFF ROAD RIGHT: CONCRETE TRAFFIC BARRIER: CONCRETE TRAFFIC BARRIER',\n",
       "       'CROSS CENTERLINE: CURB: TREE/SHRUB',\n",
       "       'SLOW/STOPPED VEHICLE: RAN OFF ROAD RIGHT: REENTERING ROADWAY: SLOW/STOPPED VEHICLE',\n",
       "       'SLOW/STOPPED VEHICLE: CURB',\n",
       "       'RAN OFF ROAD RIGHT: UTILITY POLE: DITCH',\n",
       "       'CURB: CROSS MEDIAN/CENTERLINE',\n",
       "       'SEPARATION OF UNITS: OVERTURN/ROLLOVER', 'OTHER NON-MOTORIST',\n",
       "       'SLOW/STOPPED VEHICLE: RAN OFF ROAD RIGHT: UTILITY POLE',\n",
       "       'CURB: UTILITY POLE',\n",
       "       'OTHER MOVABLE OBJECT: FENCE/WALL: FENCE/WALL',\n",
       "       'RAN OFF ROAD LEFT: CURB: FENCE/WALL',\n",
       "       'SLOW/STOPPED VEHICLE: OTHER MOVABLE OBJECT',\n",
       "       'FENCE/WALL: RAN OFF ROAD LEFT', 'CROSS MEDIAN: CROSS MEDIAN',\n",
       "       'CURB: RAN OFF ROAD LEFT: CURB',\n",
       "       'RAN OFF ROAD RIGHT: MEDIAN BARRIER: MEDIAN BARRIER',\n",
       "       'PARKED MOTOR VEHICLE: CURB: RAN OFF ROAD RIGHT: OTHER MOVABLE OBJECT: REENTERING ROADWAY',\n",
       "       'RAN OFF ROAD RIGHT: CONCRETE TRAFFIC BARRIER',\n",
       "       'CURB: PEDESTRIAN: OTHER FIXED OBJECTS (BUILDING, TUNNEL, ETC.)',\n",
       "       'CURB: CROSS MEDIAN: TREE/SHRUB',\n",
       "       'CURB: FENCE/WALL: OVERTURN/ROLLOVER',\n",
       "       'THROWN OR FALLING OBJECT: SLOW/STOPPED VEHICLE',\n",
       "       'SLOW/STOPPED VEHICLE: CONCRETE TRAFFIC BARRIER',\n",
       "       'CROSS MEDIAN: LIGHT/LUMINARY SUPPORT',\n",
       "       'RAN OFF ROAD RIGHT: TRAFFIC SIGNAL SUPPORT',\n",
       "       'CONCRETE TRAFFIC BARRIER: MEDIAN BARRIER',\n",
       "       'SLOW/STOPPED VEHICLE: CROSS MEDIAN: CURB',\n",
       "       'RAN OFF ROAD RIGHT: CROSS MEDIAN',\n",
       "       'RAN OFF ROAD RIGHT: OTHER TRAFFIC BARRIER',\n",
       "       'OTHER NON-COLLISION: RAN OFF ROAD RIGHT: CURB: OVERTURN/ROLLOVER',\n",
       "       'LIGHT/LUMINARY SUPPORT: SLOW/STOPPED VEHICLE',\n",
       "       'OVERTURN/ROLLOVER: CURB: OTHER POST, POLE OR SUPPORT',\n",
       "       'CROSS CENTERLINE: MEDIAN BARRIER', 'OTHER ANIMAL',\n",
       "       'OTHER NON-COLLISION: STRUCK BY FALLING, SHIFTING CARGO OR ANYTHING SET IN MOTION',\n",
       "       'RAN OFF ROAD RIGHT: CURB: TREE/SHRUB',\n",
       "       'CURB: CONCRETE TRAFFIC BARRIER',\n",
       "       'CURB: OTHER FIXED OBJECTS (BUILDING, TUNNEL, ETC.)',\n",
       "       'CROSS MEDIAN/CENTERLINE: OTHER POST, POLE OR SUPPORT',\n",
       "       'RAN OFF ROAD LEFT: CURB: REENTERING ROADWAY',\n",
       "       'CURB: RAN OFF ROAD RIGHT: FENCE/WALL',\n",
       "       'RAN OFF ROAD RIGHT: CURB: OVERTURN/ROLLOVER',\n",
       "       'OTHER MOVABLE OBJECT: OTHER FIXED OBJECTS (BUILDING, TUNNEL, ETC.)',\n",
       "       'CURB: SLOW/STOPPED VEHICLE: SLOW/STOPPED VEHICLE',\n",
       "       'CROSS MEDIAN: CURB',\n",
       "       'OVERTURN/ROLLOVER: RAN OFF ROAD RIGHT: CURB',\n",
       "       'RAN OFF ROAD RIGHT: CURB: PARKED MOTOR VEHICLE',\n",
       "       'CURB: OTHER TRAFFIC BARRIER',\n",
       "       'MEDIAN BARRIER: CONCRETE TRAFFIC BARRIER',\n",
       "       'EQUIPMENT FAILURE (BLOWN TIRE, BRAKE FAILURE, ETC.): EMBANKMENT',\n",
       "       'RAN OFF ROAD RIGHT: CURB: LIGHT/LUMINARY SUPPORT',\n",
       "       'CONCRETE TRAFFIC BARRIER: SLOW/STOPPED VEHICLE',\n",
       "       'CURB: HIGHWAY TRAFFIC SIGN POST',\n",
       "       'STRUCK BY FALLING, SHIFTING CARGO OR ANYTHING SET IN MOTION: HIGHWAY TRAFFIC SIGN POST',\n",
       "       'JACKKNIFE: FENCE/WALL', 'PARKED MOTOR VEHICLE: CURB',\n",
       "       'CURB: CROSS MEDIAN/CENTERLINE: CURB: RAN OFF ROAD LEFT',\n",
       "       'MEDIAN BARRIER: CROSS MEDIAN/CENTERLINE'], dtype=object)"
      ]
     },
     "execution_count": 45,
     "metadata": {},
     "output_type": "execute_result"
    }
   ],
   "source": [
    "df.V2_All_Eve.unique()"
   ]
  },
  {
   "cell_type": "code",
   "execution_count": 46,
   "id": "c312f7c5",
   "metadata": {},
   "outputs": [
    {
     "data": {
      "text/plain": [
       "array(['SLOW/STOPPED VEHICLE', 'MOTOR VEHICLE IN TRANSPORT', nan,\n",
       "       'PARKED MOTOR VEHICLE', 'RAN OFF ROAD RIGHT',\n",
       "       'OTHER FIXED OBJECTS (BUILDING, TUNNEL, ETC.)',\n",
       "       'RAN OFF ROAD LEFT', 'PEDAL CYCLE', 'CROSS MEDIAN/CENTERLINE',\n",
       "       'OTHER NON-COLLISION', 'PEDESTRIAN', 'LIGHT/LUMINARY SUPPORT',\n",
       "       'OTHER POST, POLE OR SUPPORT', 'OVERTURN/ROLLOVER', 'FENCE/WALL',\n",
       "       'UTILITY POLE', 'TREE/SHRUB', 'MEDIAN BARRIER',\n",
       "       'OTHER MOVABLE OBJECT', 'HIGHWAY TRAFFIC SIGN POST', '<Null>',\n",
       "       'HORSE', 'FIRE/EXPLOSION', 'CONCRETE TRAFFIC BARRIER',\n",
       "       'WORK ZONE MAINTENANCE EQUIPMENT', 'UNKNOWN MOVABLE OBJECT',\n",
       "       'CROSS MEDIAN', 'CURB',\n",
       "       'EQUIPMENT FAILURE (BLOWN TIRE, BRAKE FAILURE, ETC.)',\n",
       "       'CARGO/EQUIPMENT LOSS OR SHIFT', 'BRIDGE RAIL',\n",
       "       'STRUCK BY FALLING, SHIFTING CARGO OR ANYTHING SET IN MOTION',\n",
       "       'JACKKNIFE', 'CROSS CENTERLINE', 'CABLE BARRIER', 'DITCH',\n",
       "       'THROWN OR FALLING OBJECT', 'GUARDRAIL FACE',\n",
       "       'UNKNOWN NON-COLLISION', 'OTHER TRAFFIC BARRIER', 'EMBANKMENT',\n",
       "       'IMPACT ATTENUATOR/CRASH CUSHION',\n",
       "       'FELL/JUMPED FROM MOTOR VEHICLE', 'TRAFFIC SIGNAL SUPPORT',\n",
       "       'SEPARATION OF UNITS', 'DOG/COYOTE', 'OTHER NON-MOTORIST', 'BURRO',\n",
       "       'GUARDRAIL END', 'REENTERING ROADWAY', 'ANTELOPE'], dtype=object)"
      ]
     },
     "execution_count": 46,
     "metadata": {},
     "output_type": "execute_result"
    }
   ],
   "source": [
    "df.First_Harm.unique()"
   ]
  },
  {
   "cell_type": "code",
   "execution_count": 47,
   "id": "ed6a60b9",
   "metadata": {},
   "outputs": [
    {
     "data": {
      "text/plain": [
       "array([nan, 'OTHER',\n",
       "       'LYING AND/OR ILLEGALLY IN ROADWAY: FAILURE TO YIELD RIGHT OF WAY',\n",
       "       'NOT VISIBLE (DARK CLOTHING): DARTING',\n",
       "       'LYING AND/OR ILLEGALLY IN ROADWAY: NOT VISIBLE (DARK CLOTHING)',\n",
       "       'WRONG SIDE OF ROAD', 'LYING AND/OR ILLEGALLY IN ROADWAY',\n",
       "       'DARTING',\n",
       "       'FAILURE TO OBEY TRAFFIC SIGNS, SIGNALS, OR OFFICER: FAILURE TO YIELD RIGHT OF WAY',\n",
       "       'IMPROPER CROSSING: FAILURE TO YIELD RIGHT OF WAY',\n",
       "       'IMPROPER CROSSING', 'IMPROPER CROSSING: DARTING', 'UNKNOWN',\n",
       "       'NOT VISIBLE (DARK CLOTHING): IMPROPER CROSSING',\n",
       "       'FAILURE TO OBEY TRAFFIC SIGNS, SIGNALS, OR OFFICER',\n",
       "       'WRONG SIDE OF ROAD: DARTING: IMPROPER CROSSING',\n",
       "       'DARTING: IMPROPER CROSSING',\n",
       "       'WRONG SIDE OF ROAD: NOT VISIBLE (DARK CLOTHING)',\n",
       "       'WRONG SIDE OF ROAD: IMPROPER CROSSING',\n",
       "       'NOT VISIBLE (DARK CLOTHING)',\n",
       "       'INATTENTIVE (TALKING, EATING, ETC.)',\n",
       "       'DARTING: FAILURE TO YIELD RIGHT OF WAY: INATTENTIVE (TALKING, EATING, ETC.): IMPROPER CROSSING',\n",
       "       'IMPROPER CROSSING: FAILURE TO OBEY TRAFFIC SIGNS, SIGNALS, OR OFFICER',\n",
       "       'IMPROPER CROSSING: IMPROPER CROSSING',\n",
       "       'NOT VISIBLE (DARK CLOTHING): IMPROPER CROSSING: DARTING',\n",
       "       'FAILURE TO YIELD RIGHT OF WAY: IMPROPER CROSSING',\n",
       "       'DARTING: FAILURE TO YIELD RIGHT OF WAY: NOT VISIBLE (DARK CLOTHING)',\n",
       "       'LYING AND/OR ILLEGALLY IN ROADWAY: DARTING',\n",
       "       'IMPROPER CROSSING: LYING AND/OR ILLEGALLY IN ROADWAY',\n",
       "       'WRONG SIDE OF ROAD: FAILURE TO OBEY TRAFFIC SIGNS, SIGNALS, OR OFFICER: IMPROPER CROSSING',\n",
       "       'FAILURE TO YIELD RIGHT OF WAY',\n",
       "       'IMPROPER CROSSING: DARTING: NOT VISIBLE (DARK CLOTHING)',\n",
       "       'DARTING: FAILURE TO YIELD RIGHT OF WAY',\n",
       "       'DARTING: FAILURE TO YIELD RIGHT OF WAY: IMPROPER CROSSING',\n",
       "       'IMPROPER CROSSING: INATTENTIVE (TALKING, EATING, ETC.)',\n",
       "       'FAILURE TO YIELD RIGHT OF WAY: OTHER: WRONG SIDE OF ROAD',\n",
       "       'DARTING: LYING AND/OR ILLEGALLY IN ROADWAY: IMPROPER CROSSING',\n",
       "       'WRONG SIDE OF ROAD: DARTING',\n",
       "       'IMPROPER CROSSING: FAILURE TO YIELD RIGHT OF WAY: DARTING',\n",
       "       'FAILURE TO OBEY TRAFFIC SIGNS, SIGNALS, OR OFFICER: FAILURE TO YIELD RIGHT OF WAY: DARTING',\n",
       "       'FAILURE TO YIELD RIGHT OF WAY: DARTING: DARTING: IMPROPER CROSSING: FAILURE TO YIELD RIGHT OF WAY',\n",
       "       'IMPROPER CROSSING: FAILURE TO OBEY TRAFFIC SIGNS, SIGNALS, OR OFFICER: FAILURE TO YIELD RIGHT OF WAY',\n",
       "       'FAILURE TO YIELD RIGHT OF WAY: DARTING',\n",
       "       'NOT VISIBLE (DARK CLOTHING): INATTENTIVE (TALKING, EATING, ETC.): FAILURE TO OBEY TRAFFIC SIGNS, SIGNALS, OR OFFICER',\n",
       "       'LYING AND/OR ILLEGALLY IN ROADWAY: IMPROPER CROSSING: FAILURE TO YIELD RIGHT OF WAY',\n",
       "       'FAILURE TO OBEY TRAFFIC SIGNS, SIGNALS, OR OFFICER: IMPROPER CROSSING',\n",
       "       'NOT VISIBLE (DARK CLOTHING): OTHER',\n",
       "       'FAILURE TO OBEY TRAFFIC SIGNS, SIGNALS, OR OFFICER: FAILURE TO YIELD RIGHT OF WAY: INATTENTIVE (TALKING, EATING, ETC.)',\n",
       "       'FAILURE TO OBEY TRAFFIC SIGNS, SIGNALS, OR OFFICER: INATTENTIVE (TALKING, EATING, ETC.): IMPROPER CROSSING',\n",
       "       'DARTING: INATTENTIVE (TALKING, EATING, ETC.): NOT VISIBLE (DARK CLOTHING)',\n",
       "       'INATTENTIVE (TALKING, EATING, ETC.): DARTING',\n",
       "       'DARTING: IMPROPER CROSSING: LYING AND/OR ILLEGALLY IN ROADWAY',\n",
       "       'INATTENTIVE (TALKING, EATING, ETC.): NOT VISIBLE (DARK CLOTHING)',\n",
       "       'IMPROPER CROSSING: DARTING: FAILURE TO YIELD RIGHT OF WAY',\n",
       "       'NOT VISIBLE (DARK CLOTHING): DARTING: IMPROPER CROSSING',\n",
       "       'FAILURE TO OBEY TRAFFIC SIGNS, SIGNALS, OR OFFICER: DARTING',\n",
       "       'DARTING: FAILURE TO YIELD RIGHT OF WAY: FAILURE TO OBEY TRAFFIC SIGNS, SIGNALS, OR OFFICER',\n",
       "       'DARTING: WRONG SIDE OF ROAD',\n",
       "       'FAILURE TO YIELD RIGHT OF WAY: IMPROPER CROSSING: DARTING',\n",
       "       'NOT VISIBLE (DARK CLOTHING): IMPROPER CROSSING: LYING AND/OR ILLEGALLY IN ROADWAY',\n",
       "       'DARTING: IMPROPER CROSSING: FAILURE TO YIELD RIGHT OF WAY',\n",
       "       'DARTING: FAILURE TO OBEY TRAFFIC SIGNS, SIGNALS, OR OFFICER',\n",
       "       'INATTENTIVE (TALKING, EATING, ETC.): DARTING: IMPROPER CROSSING',\n",
       "       'IMPROPER CROSSING: FAILURE TO YIELD RIGHT OF WAY: NOT VISIBLE (DARK CLOTHING)',\n",
       "       'FAILURE TO YIELD RIGHT OF WAY: FAILURE TO OBEY TRAFFIC SIGNS, SIGNALS, OR OFFICER: DARTING',\n",
       "       'FAILURE TO YIELD RIGHT OF WAY: FAILURE TO YIELD RIGHT OF WAY: IMPROPER CROSSING',\n",
       "       'NOT VISIBLE (DARK CLOTHING): WRONG SIDE OF ROAD: IMPROPER CROSSING',\n",
       "       'LYING AND/OR ILLEGALLY IN ROADWAY: DARTING: FAILURE TO YIELD RIGHT OF WAY',\n",
       "       'NOT VISIBLE (DARK CLOTHING): LYING AND/OR ILLEGALLY IN ROADWAY',\n",
       "       'FAILURE TO YIELD RIGHT OF WAY: UNKNOWN',\n",
       "       'UNKNOWN: IMPROPER CROSSING',\n",
       "       'LYING AND/OR ILLEGALLY IN ROADWAY: FAILURE TO YIELD RIGHT OF WAY: IMPROPER CROSSING',\n",
       "       'UNKNOWN: FAILURE TO OBEY TRAFFIC SIGNS, SIGNALS, OR OFFICER',\n",
       "       'LYING AND/OR ILLEGALLY IN ROADWAY: IMPROPER CROSSING: DARTING',\n",
       "       'UNKNOWN: NOT VISIBLE (DARK CLOTHING)',\n",
       "       'UNKNOWN: LYING AND/OR ILLEGALLY IN ROADWAY',\n",
       "       'IMPROPER CROSSING: UNKNOWN: DARTING',\n",
       "       'DARTING: UNKNOWN: IMPROPER CROSSING', 'UNKNOWN: UNKNOWN',\n",
       "       'IMPROPER CROSSING: FAILURE TO OBEY TRAFFIC SIGNS, SIGNALS, OR OFFICER: DARTING',\n",
       "       'UNKNOWN: DARTING: IMPROPER CROSSING',\n",
       "       'UNKNOWN: WRONG SIDE OF ROAD',\n",
       "       'UNKNOWN: UNKNOWN: IMPROPER CROSSING: IMPROPER CROSSING',\n",
       "       'FAILURE TO OBEY TRAFFIC SIGNS, SIGNALS, OR OFFICER: UNKNOWN',\n",
       "       'UNKNOWN: DARTING',\n",
       "       'UNKNOWN: DARTING: FAILURE TO OBEY TRAFFIC SIGNS, SIGNALS, OR OFFICER',\n",
       "       'IMPROPER CROSSING: INATTENTIVE (TALKING, EATING, ETC.): UNKNOWN',\n",
       "       'UNKNOWN: IMPROPER CROSSING: DARTING',\n",
       "       'UNKNOWN: FAILURE TO YIELD RIGHT OF WAY',\n",
       "       'INATTENTIVE (TALKING, EATING, ETC.): UNKNOWN',\n",
       "       'IMPROPER CROSSING: UNKNOWN', 'UNKNOWN: OTHER', 'DARTING: UNKNOWN',\n",
       "       'NOT VISIBLE (DARK CLOTHING): WRONG SIDE OF ROAD: UNKNOWN',\n",
       "       'NOT VISIBLE (DARK CLOTHING): UNKNOWN',\n",
       "       'UNKNOWN: FAILURE TO YIELD RIGHT OF WAY: DARTING',\n",
       "       'IMPROPER CROSSING: UNKNOWN: IMPROPER CROSSING: UNKNOWN',\n",
       "       'DARTING: FAILURE TO OBEY TRAFFIC SIGNS, SIGNALS, OR OFFICER: UNKNOWN',\n",
       "       'DARTING: FAILURE TO YIELD RIGHT OF WAY: UNKNOWN',\n",
       "       'UNKNOWN: INATTENTIVE (TALKING, EATING, ETC.): IMPROPER CROSSING',\n",
       "       'WRONG SIDE OF ROAD: DARTING: FAILURE TO OBEY TRAFFIC SIGNS, SIGNALS, OR OFFICER',\n",
       "       'OTHER: UNKNOWN', 'UNKNOWN: UNKNOWN: DARTING: DARTING',\n",
       "       'FAILURE TO YIELD RIGHT OF WAY: DARTING: UNKNOWN',\n",
       "       'IMPROPER CROSSING: FAILURE TO OBEY TRAFFIC SIGNS, SIGNALS, OR OFFICER: UNKNOWN',\n",
       "       'WRONG SIDE OF ROAD: UNKNOWN: NOT VISIBLE (DARK CLOTHING)',\n",
       "       'FAILURE TO OBEY TRAFFIC SIGNS, SIGNALS, OR OFFICER: INATTENTIVE (TALKING, EATING, ETC.): NOT VISIBLE (DARK CLOTHING)',\n",
       "       'DARTING: UNKNOWN: FAILURE TO YIELD RIGHT OF WAY',\n",
       "       'DARTING: INATTENTIVE (TALKING, EATING, ETC.): IMPROPER CROSSING',\n",
       "       'DARTING: IMPROPER CROSSING: UNKNOWN',\n",
       "       'FAILURE TO YIELD RIGHT OF WAY: FAILURE TO OBEY TRAFFIC SIGNS, SIGNALS, OR OFFICER: UNKNOWN',\n",
       "       'FAILURE TO OBEY TRAFFIC SIGNS, SIGNALS, OR OFFICER: UNKNOWN: DARTING',\n",
       "       'FAILURE TO YIELD RIGHT OF WAY: IMPROPER CROSSING: UNKNOWN',\n",
       "       'INATTENTIVE (TALKING, EATING, ETC.): IMPROPER CROSSING: DARTING',\n",
       "       'DARTING: INATTENTIVE (TALKING, EATING, ETC.): UNKNOWN',\n",
       "       'INATTENTIVE (TALKING, EATING, ETC.): UNKNOWN: FAILURE TO OBEY TRAFFIC SIGNS, SIGNALS, OR OFFICER',\n",
       "       'IMPROPER CROSSING: DARTING: FAILURE TO OBEY TRAFFIC SIGNS, SIGNALS, OR OFFICER',\n",
       "       'WRONG SIDE OF ROAD: UNKNOWN: IMPROPER CROSSING',\n",
       "       'UNKNOWN: NOT VISIBLE (DARK CLOTHING): DARTING',\n",
       "       'WRONG SIDE OF ROAD: UNKNOWN',\n",
       "       'IMPROPER CROSSING: UNKNOWN: INATTENTIVE (TALKING, EATING, ETC.)',\n",
       "       'FAILURE TO YIELD RIGHT OF WAY: UNKNOWN: FAILURE TO OBEY TRAFFIC SIGNS, SIGNALS, OR OFFICER',\n",
       "       'LYING AND/OR ILLEGALLY IN ROADWAY: UNKNOWN',\n",
       "       'FAILURE TO OBEY TRAFFIC SIGNS, SIGNALS, OR OFFICER: UNKNOWN: IMPROPER CROSSING',\n",
       "       'WRONG SIDE OF ROAD: DARTING: FAILURE TO YIELD RIGHT OF WAY',\n",
       "       'DARTING: FAILURE TO YIELD RIGHT OF WAY: INATTENTIVE (TALKING, EATING, ETC.)',\n",
       "       'UNKNOWN: FAILURE TO YIELD RIGHT OF WAY: IMPROPER CROSSING',\n",
       "       'UNKNOWN: OTHER: DARTING',\n",
       "       'FAILURE TO YIELD RIGHT OF WAY: DARTING: IMPROPER CROSSING',\n",
       "       'DARTING: DARTING: FAILURE TO OBEY TRAFFIC SIGNS, SIGNALS, OR OFFICER: UNKNOWN: FAILURE TO OBEY TRAFFIC SIGNS, SIGNALS, OR OFFICER',\n",
       "       'WRONG SIDE OF ROAD: FAILURE TO YIELD RIGHT OF WAY: IMPROPER CROSSING',\n",
       "       'LYING AND/OR ILLEGALLY IN ROADWAY: UNKNOWN: IMPROPER CROSSING',\n",
       "       'WRONG SIDE OF ROAD: UNKNOWN: DARTING',\n",
       "       'DARTING: NOT VISIBLE (DARK CLOTHING): UNKNOWN',\n",
       "       'WRONG SIDE OF ROAD: FAILURE TO OBEY TRAFFIC SIGNS, SIGNALS, OR OFFICER: DARTING',\n",
       "       'WRONG SIDE OF ROAD: UNKNOWN: OTHER', 'UNKNOWN: UNKNOWN: UNKNOWN',\n",
       "       'UNKNOWN: DARTING: LYING AND/OR ILLEGALLY IN ROADWAY',\n",
       "       'IMPROPER CROSSING: LYING AND/OR ILLEGALLY IN ROADWAY: DARTING',\n",
       "       '<Null>', 'FAILURE TO YIELD RIGHT OF WAY: UNKNOWN: DARTING',\n",
       "       'NOT VISIBLE (DARK CLOTHING): IMPROPER CROSSING: FAILURE TO YIELD RIGHT OF WAY',\n",
       "       'IMPROPER CROSSING: DARTING: UNKNOWN',\n",
       "       'DARTING: LYING AND/OR ILLEGALLY IN ROADWAY: UNKNOWN',\n",
       "       'IMPROPER CROSSING: NOT VISIBLE (DARK CLOTHING): UNKNOWN',\n",
       "       'IMPROPER CROSSING: FAILURE TO YIELD RIGHT OF WAY: UNKNOWN',\n",
       "       'NOT VISIBLE (DARK CLOTHING): UNKNOWN: IMPROPER CROSSING',\n",
       "       'DARTING: FAILURE TO YIELD RIGHT OF WAY: FAILURE TO OBEY TRAFFIC SIGNS, SIGNALS, OR OFFICER: FAILURE TO YIELD RIGHT OF WAY: FAILURE TO OBEY TRAFFIC SIGNS, SIGNALS, OR OFFICER',\n",
       "       'FAILURE TO YIELD RIGHT OF WAY: NOT VISIBLE (DARK CLOTHING): IMPROPER CROSSING: LYING AND/OR ILLEGALLY IN ROADWAY: NOT VISIBLE (DARK CLOTHING)',\n",
       "       'UNKNOWN: FAILURE TO OBEY TRAFFIC SIGNS, SIGNALS, OR OFFICER: DARTING',\n",
       "       'NOT VISIBLE (DARK CLOTHING): UNKNOWN: UNKNOWN',\n",
       "       'IMPROPER CROSSING: FAILURE TO YIELD RIGHT OF WAY: FAILURE TO OBEY TRAFFIC SIGNS, SIGNALS, OR OFFICER',\n",
       "       'UNKNOWN: LYING AND/OR ILLEGALLY IN ROADWAY: IMPROPER CROSSING',\n",
       "       'IMPROPER CROSSING: NOT VISIBLE (DARK CLOTHING): DARTING',\n",
       "       'FAILURE TO OBEY TRAFFIC SIGNS, SIGNALS, OR OFFICER: DARTING: INATTENTIVE (TALKING, EATING, ETC.)',\n",
       "       'UNKNOWN: IMPROPER CROSSING: IMPROPER CROSSING: NOT VISIBLE (DARK CLOTHING): UNKNOWN',\n",
       "       'UNKNOWN: FAILURE TO OBEY TRAFFIC SIGNS, SIGNALS, OR OFFICER: IMPROPER CROSSING',\n",
       "       'IMPROPER CROSSING: NOT VISIBLE (DARK CLOTHING)',\n",
       "       'FAILURE TO OBEY TRAFFIC SIGNS, SIGNALS, OR OFFICER: DARTING: UNKNOWN',\n",
       "       'UNKNOWN: UNKNOWN: OTHER: OTHER',\n",
       "       'FAILURE TO YIELD RIGHT OF WAY: UNKNOWN: NOT VISIBLE (DARK CLOTHING)',\n",
       "       'UNKNOWN: FAILURE TO OBEY TRAFFIC SIGNS, SIGNALS, OR OFFICER: FAILURE TO YIELD RIGHT OF WAY',\n",
       "       'IMPROPER CROSSING: DARTING: INATTENTIVE (TALKING, EATING, ETC.)',\n",
       "       'DARTING: IMPROPER CROSSING: INATTENTIVE (TALKING, EATING, ETC.)',\n",
       "       'UNKNOWN: NOT VISIBLE (DARK CLOTHING): WRONG SIDE OF ROAD',\n",
       "       'UNKNOWN: FAILURE TO YIELD RIGHT OF WAY: NOT VISIBLE (DARK CLOTHING)',\n",
       "       'IMPROPER CROSSING: FAILURE TO YIELD RIGHT OF WAY: LYING AND/OR ILLEGALLY IN ROADWAY',\n",
       "       'UNKNOWN: UNKNOWN: OTHER: OTHER: NOT VISIBLE (DARK CLOTHING)',\n",
       "       'IMPROPER CROSSING: UNKNOWN: FAILURE TO OBEY TRAFFIC SIGNS, SIGNALS, OR OFFICER',\n",
       "       'OTHER: INATTENTIVE (TALKING, EATING, ETC.): UNKNOWN',\n",
       "       'WRONG SIDE OF ROAD: IMPROPER CROSSING: DARTING',\n",
       "       'UNKNOWN: INATTENTIVE (TALKING, EATING, ETC.)',\n",
       "       'UNKNOWN: IMPROPER CROSSING: UNKNOWN: FAILURE TO OBEY TRAFFIC SIGNS, SIGNALS, OR OFFICER: IMPROPER CROSSING',\n",
       "       'DARTING: LYING AND/OR ILLEGALLY IN ROADWAY: FAILURE TO OBEY TRAFFIC SIGNS, SIGNALS, OR OFFICER',\n",
       "       'FAILURE TO OBEY TRAFFIC SIGNS, SIGNALS, OR OFFICER: IMPROPER CROSSING: FAILURE TO YIELD RIGHT OF WAY',\n",
       "       'UNKNOWN: WRONG SIDE OF ROAD: UNKNOWN: WRONG SIDE OF ROAD',\n",
       "       'IMPROPER CROSSING: WRONG SIDE OF ROAD: DARTING',\n",
       "       'UNKNOWN: IMPROPER CROSSING: NOT VISIBLE (DARK CLOTHING)',\n",
       "       'NOT VISIBLE (DARK CLOTHING): NOT VISIBLE (DARK CLOTHING)',\n",
       "       'WRONG SIDE OF ROAD: WRONG SIDE OF ROAD',\n",
       "       'LYING AND/OR ILLEGALLY IN ROADWAY: LYING AND/OR ILLEGALLY IN ROADWAY'],\n",
       "      dtype=object)"
      ]
     },
     "execution_count": 47,
     "metadata": {},
     "output_type": "execute_result"
    }
   ],
   "source": [
    "df.Nonmotoris.unique()"
   ]
  },
  {
   "cell_type": "code",
   "execution_count": 48,
   "id": "ec98a248",
   "metadata": {},
   "outputs": [
    {
     "data": {
      "text/plain": [
       "array(['DRY', 'WET', 'OTHER: WET: DRY', nan, 'ICE', 'ICE: SNOW: DRY',\n",
       "       'WET: DRY', 'DRY: WET', 'SNOW: DRY', 'SNOW', 'ICE: WET: DRY',\n",
       "       'UNKNOWN', 'OTHER', 'MOVING WATER', 'STANDING WATER', 'SLUSH',\n",
       "       'SAND, MUD, DIRT, OIL, GRAVEL'], dtype=object)"
      ]
     },
     "execution_count": 48,
     "metadata": {},
     "output_type": "execute_result"
    }
   ],
   "source": [
    "df.Factors_Ro.unique()"
   ]
  },
  {
   "cell_type": "code",
   "execution_count": 49,
   "id": "fde1f4f8",
   "metadata": {},
   "outputs": [
    {
     "data": {
      "text/plain": [
       "array(['DAYLIGHT', 'DARK - CONTINUOUS LIGHTING', 'DARK - SPOT LIGHTING',\n",
       "       'DAWN', 'DARK - NO LIGHTING', 'DUSK', 'UNKNOWN', nan, 'OTHER',\n",
       "       'DARK - UNKNOWN LIGHTING', 'DARK - SPOT ROADWAY LIGHTING',\n",
       "       'DARK - CONTINUOUS ROADWAY LIGHTING',\n",
       "       'DARK - UNKNOWN ROADWAY LIGHTING', 'DARK - NO ROADWAY LIGHTING'],\n",
       "      dtype=object)"
      ]
     },
     "execution_count": 49,
     "metadata": {},
     "output_type": "execute_result"
    }
   ],
   "source": [
    "df.Lighting.unique()"
   ]
  },
  {
   "cell_type": "code",
   "execution_count": 50,
   "id": "1a09a626",
   "metadata": {},
   "outputs": [
    {
     "data": {
      "text/plain": [
       "array(['NONE', nan, 'INACTIVE WORK ZONE', 'OTHER HIGHWAY',\n",
       "       'WET, ICY, SNOW, SLUSH', 'WEATHER: WET, ICY, SNOW, SLUSH',\n",
       "       'DEBRIS', 'ACTIVE WORK ZONE', 'OTHER ENVIRONMENTAL', 'WEATHER',\n",
       "       'WORN TRAFFIC SURFACE: ACTIVE WORK ZONE', 'GLARE',\n",
       "       'ANIMAL IN ROADWAY', 'RUTS, HOLES, BUMPS: ACTIVE WORK ZONE',\n",
       "       'NONE: ANIMAL IN ROADWAY', 'WEATHER: INACTIVE WORK ZONE',\n",
       "       'UNKNOWN', 'ROAD OBSTRUCTION', 'WEATHER: OTHER ENVIRONMENTAL',\n",
       "       'WEATHER: WET, ICY, SNOW, SLUSH: INACTIVE WORK ZONE',\n",
       "       'ACTIVE WORK ZONE: ANIMAL IN ROADWAY',\n",
       "       'DEBRIS: WET, ICY, SNOW, SLUSH',\n",
       "       'WORN TRAFFIC SURFACE: RUTS, HOLES, BUMPS',\n",
       "       'WORN TRAFFIC SURFACE: RUTS, HOLES, BUMPS: ACTIVE WORK ZONE',\n",
       "       'RUTS, HOLES, BUMPS', 'WET, ICY, SNOW, SLUSH: INACTIVE WORK ZONE',\n",
       "       'WORN TRAFFIC SURFACE', 'ROAD OBSTRUCTION: ACTIVE WORK ZONE',\n",
       "       'SHOULDERS', 'GLARE: OTHER ENVIRONMENTAL',\n",
       "       'WEATHER: ACTIVE WORK ZONE', 'DEBRIS: ACTIVE WORK ZONE',\n",
       "       'WEATHER: WORN TRAFFIC SURFACE',\n",
       "       'INACTIVE WORK ZONE: OTHER HIGHWAY',\n",
       "       'WEATHER: ROAD OBSTRUCTION: WET, ICY, SNOW, SLUSH',\n",
       "       'ROAD OBSTRUCTION: OTHER HIGHWAY', 'DEBRIS: OTHER HIGHWAY',\n",
       "       'WEATHER: WET, ICY, SNOW, SLUSH: OTHER HIGHWAY',\n",
       "       'WET, ICY, SNOW, SLUSH: OTHER HIGHWAY', 'GLARE: OTHER HIGHWAY',\n",
       "       'WEATHER: ROAD OBSTRUCTION', 'DRY',\n",
       "       'WET, ICY, SNOW, SLUSH: OTHER ENVIRONMENTAL', 'WET', 'ICE',\n",
       "       'OTHER', 'GLARE: ACTIVE WORK ZONE', 'SNOW', '<Null>',\n",
       "       'ROAD OBSTRUCTION: OTHER ENVIRONMENTAL: WORN TRAFFIC SURFACE: INACTIVE WORK ZONE',\n",
       "       'WEATHER: OTHER HIGHWAY', 'NONE: OTHER HIGHWAY', 'NONE: GLARE',\n",
       "       'NONE: WET, ICY, SNOW, SLUSH', 'NONE: UNKNOWN',\n",
       "       'UNKNOWN: OTHER HIGHWAY',\n",
       "       'WORN TRAFFIC SURFACE: RUTS, HOLES, BUMPS: OTHER HIGHWAY',\n",
       "       'GLARE: WORN TRAFFIC SURFACE: OTHER HIGHWAY',\n",
       "       'NONE: GLARE: OTHER HIGHWAY', 'NONE: DEBRIS',\n",
       "       'RUTS, HOLES, BUMPS: OTHER HIGHWAY',\n",
       "       'WORN TRAFFIC SURFACE: OTHER HIGHWAY', 'WEATHER: DEBRIS',\n",
       "       'WET, ICY, SNOW, SLUSH: UNKNOWN: OTHER HIGHWAY',\n",
       "       'BACKUP DUE TO REGULAR CONGESTION',\n",
       "       'BACKUP DUE TO PRIOR CRASH: BACKUP DUE TO REGULAR CONGESTION',\n",
       "       'DEBRIS: WORK ZONE (CONST. MAINT. UTILITY)',\n",
       "       'BACKUP DUE TO PRIOR CRASH',\n",
       "       'BACKUP DUE TO REGULAR CONGESTION: WORK ZONE (CONST. MAINT. UTILITY)',\n",
       "       'GLARE: VISUAL OBSTRUCTION(S)',\n",
       "       'WORK ZONE (CONST. MAINT. UTILITY)',\n",
       "       'WET, ICY, SNOW, SLUSH: WORK ZONE (CONST. MAINT. UTILITY)',\n",
       "       'ANIMAL IN ROADWAY: BACKUP DUE TO PRIOR NON-RECURRING INCIDENT',\n",
       "       'WEATHER: WET, ICY, SNOW, SLUSH: BACKUP DUE TO REGULAR CONGESTION',\n",
       "       'BACKUP DUE TO PRIOR CRASH: WEATHER: WET, ICY, SNOW, SLUSH',\n",
       "       'WET, ICY, SNOW, SLUSH: BACKUP DUE TO REGULAR CONGESTION: WORK ZONE (CONST. MAINT. UTILITY)',\n",
       "       'BACKUP DUE TO PRIOR NON-RECURRING INCIDENT',\n",
       "       'UNKNOWN: WORK ZONE (CONST. MAINT. UTILITY)',\n",
       "       'NONE: WORK ZONE (CONST. MAINT. UTILITY)',\n",
       "       'WEATHER: WET, ICY, SNOW, SLUSH: BACKUP DUE TO PRIOR CRASH',\n",
       "       'BACKUP DUE TO PRIOR CRASH: WORK ZONE (CONST. MAINT. UTILITY)',\n",
       "       'WEATHER: BACKUP DUE TO REGULAR CONGESTION',\n",
       "       'WET, ICY, SNOW, SLUSH: BACKUP DUE TO PRIOR CRASH',\n",
       "       'NONE: BACKUP DUE TO REGULAR CONGESTION: WORK ZONE (CONST. MAINT. UTILITY)',\n",
       "       'GLARE: BACKUP DUE TO REGULAR CONGESTION',\n",
       "       'WEATHER: WORK ZONE (CONST. MAINT. UTILITY)',\n",
       "       'BACKUP DUE TO PRIOR NON-RECURRING INCIDENT: WORK ZONE (CONST. MAINT. UTILITY)',\n",
       "       'WEATHER: WORN TRAFFIC SURFACE: WET, ICY, SNOW, SLUSH',\n",
       "       'WET, ICY, SNOW, SLUSH: BACKUP DUE TO REGULAR CONGESTION',\n",
       "       'NONE: ROAD OBSTRUCTION',\n",
       "       'ROAD OBSTRUCTION: WORK ZONE (CONST. MAINT. UTILITY)',\n",
       "       'VISUAL OBSTRUCTION(S)',\n",
       "       'OTHER HIGHWAY: BACKUP DUE TO REGULAR CONGESTION',\n",
       "       'WEATHER: WET, ICY, SNOW, SLUSH: WORK ZONE (CONST. MAINT. UTILITY)',\n",
       "       'WEATHER: WET, ICY, SNOW, SLUSH: BACKUP DUE TO PRIOR NON-RECURRING INCIDENT',\n",
       "       'UNKNOWN: BACKUP DUE TO REGULAR CONGESTION',\n",
       "       'UNKNOWN: WORK ZONE (CONST. MAINT. UTILITY): NON-ROADWAY WORK',\n",
       "       'NONE: WEATHER: WET, ICY, SNOW, SLUSH',\n",
       "       'NONE: BACKUP DUE TO REGULAR CONGESTION',\n",
       "       'NONE: BACKUP DUE TO PRIOR CRASH: WORK ZONE (CONST. MAINT. UTILITY)',\n",
       "       'BACKUP DUE TO PRIOR NON-RECURRING INCIDENT: BACKUP DUE TO REGULAR CONGESTION',\n",
       "       'WORN TRAFFIC SURFACE: WORK ZONE (CONST. MAINT. UTILITY)',\n",
       "       'ACTIVE WORK ZONE;', 'NONE: VISUAL OBSTRUCTION(S)',\n",
       "       'DEBRIS: ROAD OBSTRUCTION', 'NON-ROADWAY WORK',\n",
       "       'GLARE: BACKUP DUE TO PRIOR NON-RECURRING INCIDENT',\n",
       "       'BACKUP DUE TO REGULAR CONGESTION: NON-ROADWAY WORK',\n",
       "       'DEBRIS: UNKNOWN: BACKUP DUE TO PRIOR CRASH',\n",
       "       'NONE: BACKUP DUE TO PRIOR CRASH',\n",
       "       'GLARE: VISUAL OBSTRUCTION(S): WORK ZONE (CONST. MAINT. UTILITY)',\n",
       "       'WEATHER: OTHER HIGHWAY: WET, ICY, SNOW, SLUSH',\n",
       "       'NONE: WET, ICY, SNOW, SLUSH: BACKUP DUE TO REGULAR CONGESTION',\n",
       "       'SHOULDERS: WET, ICY, SNOW, SLUSH', 'WET, ICY, SNOW, SLUSH;',\n",
       "       'WET, ICY, SNOW, SLUSH: UNKNOWN',\n",
       "       'UNKNOWN: BACKUP DUE TO PRIOR CRASH',\n",
       "       'WORK ZONE (CONST. MAINT. UTILITY): NON-ROADWAY WORK',\n",
       "       'WEATHER: ROAD OBSTRUCTION: BACKUP DUE TO REGULAR CONGESTION',\n",
       "       'WEATHER: GLARE: WET, ICY, SNOW, SLUSH',\n",
       "       'ROAD OBSTRUCTION: BACKUP DUE TO REGULAR CONGESTION: WORK ZONE (CONST. MAINT. UTILITY)',\n",
       "       'DEBRIS: UNKNOWN', 'NONE: OTHER ENVIRONMENTAL',\n",
       "       'GLARE: WORN TRAFFIC SURFACE: WORK ZONE (CONST. MAINT. UTILITY)',\n",
       "       'GLARE: VISUAL OBSTRUCTION(S): BACKUP DUE TO PRIOR CRASH',\n",
       "       'VISUAL OBSTRUCTION(S): BACKUP DUE TO PRIOR NON-RECURRING INCIDENT',\n",
       "       'VISUAL OBSTRUCTION(S): WORK ZONE (CONST. MAINT. UTILITY)',\n",
       "       'DEBRIS: BACKUP DUE TO REGULAR CONGESTION',\n",
       "       'DEBRIS: BACKUP DUE TO PRIOR NON-RECURRING INCIDENT',\n",
       "       'NONE: BACKUP DUE TO PRIOR NON-RECURRING INCIDENT',\n",
       "       'ROAD OBSTRUCTION: RUTS, HOLES, BUMPS: WORK ZONE (CONST. MAINT. UTILITY)'],\n",
       "      dtype=object)"
      ]
     },
     "execution_count": 50,
     "metadata": {},
     "output_type": "execute_result"
    }
   ],
   "source": [
    "df.HWY_Factor.unique()"
   ]
  },
  {
   "cell_type": "code",
   "execution_count": 51,
   "id": "ae86e091",
   "metadata": {},
   "outputs": [
    {
     "data": {
      "text/plain": [
       "array(['LVMPD', 'NHP', 'CLSD', 'NLPD', 'HEPD', nan, 'LVMP', 'SPPD',\n",
       "       'MSPD', 'UNLVPD'], dtype=object)"
      ]
     },
     "execution_count": 51,
     "metadata": {},
     "output_type": "execute_result"
    }
   ],
   "source": [
    "df.Agency.unique()"
   ]
  },
  {
   "cell_type": "code",
   "execution_count": 52,
   "id": "302ed057",
   "metadata": {},
   "outputs": [
    {
     "data": {
      "text/plain": [
       "array([2134364, 2073852, 2073843, ..., 3146060, 3145783, 3147946],\n",
       "      dtype=object)"
      ]
     },
     "execution_count": 52,
     "metadata": {},
     "output_type": "execute_result"
    }
   ],
   "source": [
    "df.Accident_R.unique()"
   ]
  },
  {
   "cell_type": "code",
   "execution_count": 53,
   "id": "ee91b833",
   "metadata": {},
   "outputs": [
    {
     "data": {
      "text/plain": [
       "array([nan, 'YES'], dtype=object)"
      ]
     },
     "execution_count": 53,
     "metadata": {},
     "output_type": "execute_result"
    }
   ],
   "source": [
    "df.Pedalcycli.unique()"
   ]
  },
  {
   "cell_type": "code",
   "execution_count": 54,
   "id": "2102f4ef",
   "metadata": {},
   "outputs": [
    {
     "data": {
      "text/plain": [
       "array([nan, 'YES'], dtype=object)"
      ]
     },
     "execution_count": 54,
     "metadata": {},
     "output_type": "execute_result"
    }
   ],
   "source": [
    "df.Pedestrian.unique()"
   ]
  },
  {
   "cell_type": "code",
   "execution_count": 55,
   "id": "ba68fc6b",
   "metadata": {},
   "outputs": [
    {
     "data": {
      "text/plain": [
       "array([nan, 'YES'], dtype=object)"
      ]
     },
     "execution_count": 55,
     "metadata": {},
     "output_type": "execute_result"
    }
   ],
   "source": [
    "df.Motorcycli.unique()"
   ]
  },
  {
   "cell_type": "code",
   "execution_count": 56,
   "id": "2ca6f5f9",
   "metadata": {},
   "outputs": [
    {
     "data": {
      "text/plain": [
       "array([nan, 'DOG', 'UNKNOWN', 'OTHER ANIMAL', 'COYOTE', 'ANTELOPE',\n",
       "       'DOG/COYOTE', 'BURRO', 'HORSE', 'CATTLE'], dtype=object)"
      ]
     },
     "execution_count": 56,
     "metadata": {},
     "output_type": "execute_result"
    }
   ],
   "source": [
    "df.AnimalType.unique()"
   ]
  },
  {
   "cell_type": "code",
   "execution_count": 57,
   "id": "7ab86a47",
   "metadata": {},
   "outputs": [
    {
     "data": {
      "text/plain": [
       "array(['2015/05/12 00:00:00+00', '2015/01/07 00:00:00+00',\n",
       "       '2015/05/02 00:00:00+00', ..., '2018/01/01 00:00:00+00',\n",
       "       '2017/11/27 00:00:00+00', nan], dtype=object)"
      ]
     },
     "execution_count": 57,
     "metadata": {},
     "output_type": "execute_result"
    }
   ],
   "source": [
    "df.CrashDateT.unique()"
   ]
  },
  {
   "cell_type": "code",
   "execution_count": 58,
   "id": "72988fbf",
   "metadata": {},
   "outputs": [
    {
     "data": {
      "text/plain": [
       "array([3.96602584e+08, 5.53002311e+08, 3.21293667e+08, 8.14842369e+08,\n",
       "       4.76978816e+08, 1.39609963e+09, 6.00536579e+05, 9.34874976e+06,\n",
       "       1.84898368e+08, 7.97540339e+07, 1.06097279e+07, 5.95654454e+04,\n",
       "       2.19132386e+05, 7.09161084e+05, 1.07565193e+07, 5.72176818e+05,\n",
       "       5.35327903e+06, 1.08720670e+07, 3.25341052e+06, 6.78200885e+06,\n",
       "       1.72170572e+06, 2.44100170e+06, 8.61272474e+05, 3.77629727e+06,\n",
       "       2.25709608e+05, 1.72783300e+06, 2.32113923e+06, 1.12514518e+07,\n",
       "       2.45892434e+05, 7.01956299e+05, 3.27255226e+05, 2.20164504e+05,\n",
       "       6.72436109e+05, 1.22927867e+05, 4.53589058e+05, 8.01652774e+05,\n",
       "       1.44012611e+06, 2.95390757e+06, 1.30163455e+05, 2.74059130e+04,\n",
       "       7.01337938e+05, 8.41678026e+04, 1.02606893e+06, 2.45709501e+05,\n",
       "       4.94366097e+05, 1.52620274e+05, 4.49730018e+05, 2.26109948e+05,\n",
       "       1.27810972e+05, 0.00000000e+00, 3.58726780e+08, 8.23907423e+08,\n",
       "       4.27004655e+08, 4.87972624e+08, 7.12761255e+08, 1.14826650e+09,\n",
       "       1.08436229e+07, 1.84296946e+08, 9.04269104e+05, 2.95390757e+06,\n",
       "       2.44100171e+06, 2.25709608e+05, 1.12514518e+07, 7.97540339e+07,\n",
       "       1.72783300e+06, 1.07081805e+07, 6.72436109e+05, 6.78200774e+06,\n",
       "       3.25341052e+06, 9.34874976e+06, 4.49730017e+05, 1.30163455e+05,\n",
       "       8.61272474e+05, 2.32113923e+06, 1.06097279e+07, 3.77629727e+06,\n",
       "       1.02606893e+06, 1.52620274e+05, 1.22927867e+05, 5.72176818e+05,\n",
       "       7.01956299e+05, 8.99163209e+06, 3.27255226e+05, 4.53589058e+05,\n",
       "       2.45892434e+05, 1.72170572e+06, 2.26109948e+05, 4.94366097e+05,\n",
       "       1.01489583e+05])"
      ]
     },
     "execution_count": 58,
     "metadata": {},
     "output_type": "execute_result"
    }
   ],
   "source": [
    "df.AREA.unique()"
   ]
  },
  {
   "cell_type": "code",
   "execution_count": 59,
   "id": "80b2068e",
   "metadata": {},
   "outputs": [
    {
     "data": {
      "text/plain": [
       "array([258219.532     , 288225.9969    , 122795.0741    , 159606.4409    ,\n",
       "       181083.8268    , 625331.6984    ,   4711.013848  ,  23244.91034   ,\n",
       "       153149.5903    ,  70999.41666   ,  19211.6511    ,   1028.3924    ,\n",
       "         1985.324108  ,   4769.223098  ,  29149.59987   ,   4053.784474  ,\n",
       "        10943.23048   ,  22684.90259   ,   9698.005263  ,  15033.72487   ,\n",
       "         8859.075839  ,  13760.71365   ,   6177.704909  ,  11673.07472   ,\n",
       "         1995.189276  ,   5761.802499  ,  13162.27996   ,  16039.76777   ,\n",
       "         2070.763815  ,   3682.016556  ,   2325.866988  ,   2010.558964  ,\n",
       "         3767.767767  ,   1869.626781  ,   3355.118206  ,   3869.462865  ,\n",
       "         6725.607464  ,  10502.09378   ,   1668.201297  ,    742.6702119 ,\n",
       "         3999.702104  ,   1340.300601  ,   9219.005034  ,   2374.654032  ,\n",
       "         5319.379949  ,   2149.372305  ,   3343.751963  ,   2015.634869  ,\n",
       "         1434.950413  ,      0.        , 122795.074116  , 159606.440904  ,\n",
       "       258827.090972  , 181083.826841  , 289465.092536  , 614268.755967  ,\n",
       "        22683.0716917 , 153475.118803  ,   3333.55515114,  10502.0937768 ,\n",
       "        13760.7136515 ,   1995.18927623,  16039.7677657 ,  70999.4166596 ,\n",
       "         5761.80249935,  29758.989722  ,   3767.76776659,  15033.7248684 ,\n",
       "         9698.00526347,  23244.9103395 ,   3343.75196306,   1668.20129735,\n",
       "         6177.70490894,  13162.2799633 ,  19211.6511002 ,  11673.0747237 ,\n",
       "         9219.00503361,   2149.37230525,   1869.6267811 ,   4053.78447447,\n",
       "         3682.01655623,  24193.7587243 ,   2325.86698793,   3355.11820595,\n",
       "         2070.76381485,   8859.07583936,   2015.63486948,   5319.37994946,\n",
       "         1276.39011591])"
      ]
     },
     "execution_count": 59,
     "metadata": {},
     "output_type": "execute_result"
    }
   ],
   "source": [
    "df.PERIMETER.unique()"
   ]
  },
  {
   "cell_type": "code",
   "execution_count": 60,
   "id": "4cc28c82",
   "metadata": {},
   "outputs": [
    {
     "data": {
      "text/plain": [
       "array([ 5.,  4.,  3.,  2.,  1.,  6.,  0., nan])"
      ]
     },
     "execution_count": 60,
     "metadata": {},
     "output_type": "execute_result"
    }
   ],
   "source": [
    "df.WARD.unique()"
   ]
  },
  {
   "cell_type": "code",
   "execution_count": 61,
   "id": "d9132c1f",
   "metadata": {},
   "outputs": [
    {
     "data": {
      "text/plain": [
       "array([ 0, 57], dtype=int64)"
      ]
     },
     "execution_count": 61,
     "metadata": {},
     "output_type": "execute_result"
    }
   ],
   "source": [
    "df.CNTY_IS.unique()"
   ]
  },
  {
   "cell_type": "code",
   "execution_count": 62,
   "id": "44aac6d8",
   "metadata": {},
   "outputs": [
    {
     "data": {
      "text/plain": [
       "array([113,  73,  57, 105,  83,  93,   0], dtype=int64)"
      ]
     },
     "execution_count": 62,
     "metadata": {},
     "output_type": "execute_result"
    }
   ],
   "source": [
    "df.SHADE.unique()"
   ]
  },
  {
   "cell_type": "code",
   "execution_count": 63,
   "id": "d3ef5596",
   "metadata": {},
   "outputs": [
    {
     "data": {
      "text/plain": [
       "array([9.10588865e+03, 1.27155427e+04, 7.37591719e+03, 1.87062816e+04,\n",
       "       1.09499707e+04, 3.20109367e+04, 1.37864780e+01, 2.14618621e+02,\n",
       "       4.23450488e+03, 1.83090801e+03, 2.43566811e+02, 1.36743994e+00,\n",
       "       5.03060749e+00, 1.62801635e+01, 2.45826981e+02, 1.31354249e+01,\n",
       "       1.22894868e+02, 2.49589313e+02, 7.46883272e+01, 1.55694123e+02,\n",
       "       3.95250828e+01, 5.60379126e+01, 1.97721744e+01, 8.66922032e+01,\n",
       "       5.18160033e+00, 3.96657464e+01, 5.32862377e+01, 2.58298825e+02,\n",
       "       5.64493613e+00, 1.61147637e+01, 7.51277628e+00, 5.05430175e+00,\n",
       "       1.54370707e+01, 2.82204681e+00, 1.04130136e+01, 1.84034890e+01,\n",
       "       3.30608787e+01, 6.78126581e+01, 2.98815372e+00, 6.29155710e-01,\n",
       "       1.61005681e+01, 1.93223460e+00, 2.35553956e+01, 5.64073655e+00,\n",
       "       1.13491294e+01, 3.50369340e+00, 1.03244219e+01, 5.19079092e+00,\n",
       "       2.93414791e+00, 2.48936324e+02, 3.20160985e+04, 9.10654163e+03,\n",
       "       0.00000000e+00, 8.23526665e+03, 1.89662750e+04, 9.80522997e+03,\n",
       "       1.12023553e+04, 1.63181194e+04, 2.63606772e+04, 2.44407975e+02,\n",
       "       4.21965254e+03, 2.07592452e+01, 2.58298825e+02, 1.83090801e+03,\n",
       "       2.45826981e+02, 1.55694097e+02, 2.14618622e+02, 1.00946921e+01,\n",
       "       2.43566811e+02, 2.06420295e+02, 2.32988954e+00])"
      ]
     },
     "execution_count": 63,
     "metadata": {},
     "output_type": "execute_result"
    }
   ],
   "source": [
    "df.ACRES.unique()"
   ]
  },
  {
   "cell_type": "code",
   "execution_count": 64,
   "id": "578d31e2",
   "metadata": {
    "scrolled": true
   },
   "outputs": [
    {
     "data": {
      "text/plain": [
       "array([1.42279510e+01, 1.98680355e+01, 1.15248706e+01, 2.92285651e+01,\n",
       "       1.71093292e+01, 5.00170886e+01, 2.15413700e-02, 3.35341600e-01,\n",
       "       6.61641387e+00, 2.86079377e+00, 3.80573140e-01, 2.13662000e-03,\n",
       "       7.86032000e-03, 2.54377600e-02, 3.84104660e-01, 2.05241000e-02,\n",
       "       1.92023230e-01, 3.89983300e-01, 1.16700510e-01, 2.43272070e-01,\n",
       "       6.17579400e-02, 8.75592400e-02, 3.08940200e-02, 1.35456570e-01,\n",
       "       8.09625000e-03, 6.19777300e-02, 8.32597500e-02, 4.03591910e-01,\n",
       "       8.82021000e-03, 2.51793200e-02, 1.17387100e-02, 7.89735000e-03,\n",
       "       2.41204200e-02, 4.40945000e-03, 1.62703300e-02, 2.87554500e-02,\n",
       "       5.16576200e-02, 1.05957280e-01, 4.66899000e-03, 9.83060000e-04,\n",
       "       2.51571400e-02, 3.01912000e-03, 3.68053100e-02, 8.81365000e-03,\n",
       "       1.77330100e-02, 5.47452000e-03, 1.61319100e-02, 8.11061000e-03,\n",
       "       4.58461000e-03, 3.88963010e-01, 5.00251539e+01, 1.42289713e+01,\n",
       "       0.00000000e+00, 1.28676041e+01, 2.96348047e+01, 1.53206718e+01,\n",
       "       1.75036802e+01, 2.54970616e+01, 4.11885581e+01, 3.81887460e-01,\n",
       "       6.59320710e+00, 3.24363200e-02, 2.43272030e-01, 1.57729600e-02,\n",
       "       3.22531710e-01, 3.64045000e-03])"
      ]
     },
     "execution_count": 64,
     "metadata": {},
     "output_type": "execute_result"
    }
   ],
   "source": [
    "df.SQ_MILES.unique()"
   ]
  },
  {
   "cell_type": "code",
   "execution_count": 83,
   "id": "1f9dd4cd",
   "metadata": {},
   "outputs": [
    {
     "data": {
      "text/plain": [
       "array([nan, 'UNKNOWN', 'DRIVERLESS VEHICLE', 'OTHER IMPROPER DRIVING',\n",
       "       'FAILED TO YIELD RIGHT OF WAY: HIT AND RUN',\n",
       "       'DISREGARDED TRAFFIC SIGNS, SIGNALS, ROAD MARKINGS',\n",
       "       'FOLLOWED TOO CLOSELY', 'HIT AND RUN',\n",
       "       'FAILED TO YIELD RIGHT OF WAY', 'DROVE LEFT OF CENTER',\n",
       "       'EXCEEDED AUTHORIZED SPEED LIMIT', 'HIT AND RUN: UNSAFE BACKING',\n",
       "       'DRIVING TOO FAST FOR CONDITIONS',\n",
       "       'MECHANICAL DEFECTS: ROAD DEFECT', 'NO IMPROPER DRIVING',\n",
       "       'EXCEEDED AUTHORIZED SPEED LIMIT: FAILURE TO KEEP IN PROPER LANE OR RUNNING OFF ROAD: OTHER IMPROPER DRIVING',\n",
       "       'FAILURE TO KEEP IN PROPER LANE OR RUNNING OFF ROAD',\n",
       "       'UNSAFE LANE CHANGE',\n",
       "       'FAILURE TO KEEP IN PROPER LANE OR RUNNING OFF ROAD: UNSAFE LANE CHANGE',\n",
       "       'HIT AND RUN: UNKNOWN', 'FOLLOWED TOO CLOSELY: HIT AND RUN',\n",
       "       'HIT AND RUN: UNSAFE LANE CHANGE', 'OBJECT AVOIDANCE',\n",
       "       'RAN OFF ROAD',\n",
       "       'OPERATING VEHICLE IN ERRATIC, RECKLESS, CARELESS, NEGLIGENT OR  AGGRESSIVE MANNER: HIT AND RUN',\n",
       "       'EXCEEDED AUTHORIZED SPEED LIMIT: DRIVING TOO FAST FOR CONDITIONS: OPERATING VEHICLE IN ERRATIC, RECKLESS, CARELESS, NEGLIGENT OR  AGGRESSIVE MANNER',\n",
       "       'DRIVING TOO FAST FOR CONDITIONS: FOLLOWED TOO CLOSELY',\n",
       "       'MADE AN IMPROPER TURN', 'WRONG SIDE OR WRONG WAY',\n",
       "       'OVER-CORRECTING/OVER-STEERING',\n",
       "       'OPERATING VEHICLE IN ERRATIC, RECKLESS, CARELESS, NEGLIGENT OR  AGGRESSIVE MANNER',\n",
       "       'FAILURE TO KEEP IN PROPER LANE OR RUNNING OFF ROAD: OPERATING VEHICLE IN ERRATIC, RECKLESS, CARELESS, NEGLIGENT OR  AGGRESSIVE MANNER: UNSAFE LANE CHANGE: OTHER IMPROPER DRIVING',\n",
       "       'VISIBILITY OBSTRUCTED: OTHER IMPROPER DRIVING',\n",
       "       'VISIBILITY OBSTRUCTED: UNSAFE LANE CHANGE', 'UNSAFE BACKING',\n",
       "       'VISIBILITY OBSTRUCTED',\n",
       "       'EXCEEDED AUTHORIZED SPEED LIMIT: OVER-CORRECTING/OVER-STEERING',\n",
       "       'DISREGARDED TRAFFIC SIGNS, SIGNALS, ROAD MARKINGS: EXCEEDED AUTHORIZED SPEED LIMIT',\n",
       "       'FAILURE TO KEEP IN PROPER LANE OR RUNNING OFF ROAD: HIT AND RUN: UNSAFE LANE CHANGE',\n",
       "       'MECHANICAL DEFECTS: HIT AND RUN: ROAD DEFECT',\n",
       "       'FAILED TO YIELD RIGHT OF WAY: OTHER IMPROPER DRIVING',\n",
       "       'FAILED TO YIELD RIGHT OF WAY: MADE AN IMPROPER TURN',\n",
       "       'OVER-CORRECTING/OVER-STEERING: RAN OFF ROAD',\n",
       "       'MECHANICAL DEFECTS: DRIVERLESS VEHICLE: ROAD DEFECT',\n",
       "       'DRIVING TOO FAST FOR CONDITIONS: FAILURE TO KEEP IN PROPER LANE OR RUNNING OFF ROAD: HIT AND RUN: UNSAFE LANE CHANGE',\n",
       "       'EXCEEDED AUTHORIZED SPEED LIMIT: OTHER IMPROPER DRIVING',\n",
       "       'DROVE LEFT OF CENTER: RAN OFF ROAD',\n",
       "       'FAILURE TO KEEP IN PROPER LANE OR RUNNING OFF ROAD: OVER-CORRECTING/OVER-STEERING: UNSAFE LANE CHANGE',\n",
       "       'RAN OFF ROAD: OBJECT AVOIDANCE',\n",
       "       'EXCEEDED AUTHORIZED SPEED LIMIT: HIT AND RUN',\n",
       "       'OVER-CORRECTING/OVER-STEERING: RAN OFF ROAD: OBJECT AVOIDANCE',\n",
       "       'FOLLOWED TOO CLOSELY: UNSAFE LANE CHANGE',\n",
       "       'EXCEEDED AUTHORIZED SPEED LIMIT: DRIVING TOO FAST FOR CONDITIONS',\n",
       "       'FAILURE TO KEEP IN PROPER LANE OR RUNNING OFF ROAD: UNSAFE LANE CHANGE: OBJECT AVOIDANCE',\n",
       "       'FAILED TO YIELD RIGHT OF WAY: DISREGARDED TRAFFIC SIGNS, SIGNALS, ROAD MARKINGS',\n",
       "       'ROAD DEFECT: OBJECT AVOIDANCE',\n",
       "       'EXCEEDED AUTHORIZED SPEED LIMIT: OPERATING VEHICLE IN ERRATIC, RECKLESS, CARELESS, NEGLIGENT OR  AGGRESSIVE MANNER',\n",
       "       'WRONG SIDE OR WRONG WAY: HIT AND RUN',\n",
       "       'DRIVING TOO FAST FOR CONDITIONS: UNKNOWN',\n",
       "       'DRIVING TOO FAST FOR CONDITIONS: UNSAFE LANE CHANGE', '<Null>',\n",
       "       'HIT AND RUN: OBJECT AVOIDANCE',\n",
       "       'EXCEEDED AUTHORIZED SPEED LIMIT: OVER-CORRECTING/OVER-STEERING: OBJECT AVOIDANCE',\n",
       "       'DRIVING TOO FAST FOR CONDITIONS: MECHANICAL DEFECTS',\n",
       "       'HIT AND RUN: OTHER IMPROPER DRIVING',\n",
       "       'UNSAFE LANE CHANGE: UNKNOWN', 'OTHER IMPROPER DRIVING: UNKNOWN',\n",
       "       'EXCEEDED AUTHORIZED SPEED LIMIT: RAN OFF ROAD',\n",
       "       'UNSAFE LANE CHANGE: OBJECT AVOIDANCE',\n",
       "       'OPERATING VEHICLE IN ERRATIC, RECKLESS, CARELESS, NEGLIGENT OR  AGGRESSIVE MANNER: UNSAFE LANE CHANGE',\n",
       "       'OTHER', 'MECHANICAL DEFECTS'], dtype=object)"
      ]
     },
     "execution_count": 83,
     "metadata": {},
     "output_type": "execute_result"
    }
   ],
   "source": [
    "df.V2_Vehicle.unique()"
   ]
  },
  {
   "cell_type": "code",
   "execution_count": 91,
   "id": "61f39b90",
   "metadata": {},
   "outputs": [
    {
     "data": {
      "text/plain": [
       "array(['CLEAR', 'CLOUDY', 'RAIN', 'SEVERE CROSSWINDS', 'CLOUDY: RAIN',\n",
       "       'UNKNOWN', 'BLOWING SAND, SOIL, DIRT, SNOW', 'FOG, SMOG, SMOKE',\n",
       "       'CLOUDY: BLOWING SAND, SOIL, DIRT, SNOW', 'SNOW',\n",
       "       'CLOUDY: SEVERE CROSSWINDS', 'CLOUDY: FOG, SMOG, SMOKE',\n",
       "       'RAIN: BLOWING SAND, SOIL, DIRT, SNOW', 'OTHER', nan,\n",
       "       'CLEAR: CLOUDY', 'CLEAR: OTHER', 'CLEAR: UNKNOWN', 'CLEAR: RAIN',\n",
       "       'CLEAR: BLOWING SAND, SOIL, DIRT, SNOW', 'CLOUDY: OTHER',\n",
       "       'CLOUDY: UNKNOWN', 'CLEAR: SEVERE CROSSWINDS', 'BLOWING SNOW',\n",
       "       'SLEET, HAIL (FREEZING RAIN OR DRIZZLE)', 'NOT REPORTED'],\n",
       "      dtype=object)"
      ]
     },
     "execution_count": 91,
     "metadata": {},
     "output_type": "execute_result"
    }
   ],
   "source": [
    "df.Weather.unique()"
   ]
  }
 ],
 "metadata": {
  "kernelspec": {
   "display_name": "PythonData",
   "language": "python",
   "name": "pythondata"
  },
  "language_info": {
   "codemirror_mode": {
    "name": "ipython",
    "version": 3
   },
   "file_extension": ".py",
   "mimetype": "text/x-python",
   "name": "python",
   "nbconvert_exporter": "python",
   "pygments_lexer": "ipython3",
   "version": "3.9.12"
  }
 },
 "nbformat": 4,
 "nbformat_minor": 5
}

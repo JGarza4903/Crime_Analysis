{
 "cells": [
  {
   "cell_type": "code",
   "execution_count": 1,
   "id": "d430ce9e-2681-4532-949c-ea370d07ab85",
   "metadata": {},
   "outputs": [
    {
     "data": {
      "text/html": [
       "<div>\n",
       "<style scoped>\n",
       "    .dataframe tbody tr th:only-of-type {\n",
       "        vertical-align: middle;\n",
       "    }\n",
       "\n",
       "    .dataframe tbody tr th {\n",
       "        vertical-align: top;\n",
       "    }\n",
       "\n",
       "    .dataframe thead th {\n",
       "        text-align: right;\n",
       "    }\n",
       "</style>\n",
       "<table border=\"1\" class=\"dataframe\">\n",
       "  <thead>\n",
       "    <tr style=\"text-align: right;\">\n",
       "      <th></th>\n",
       "      <th>X</th>\n",
       "      <th>Y</th>\n",
       "      <th>OBJECTID</th>\n",
       "      <th>Crash_Severity</th>\n",
       "      <th>County</th>\n",
       "      <th>Crash_Date</th>\n",
       "      <th>Crash_Year</th>\n",
       "      <th>Crash_Time</th>\n",
       "      <th>Primary_Street</th>\n",
       "      <th>Secondary_Street</th>\n",
       "      <th>...</th>\n",
       "      <th>V2_All_Events</th>\n",
       "      <th>Nonmotorist_Factors</th>\n",
       "      <th>Factors_Roadway</th>\n",
       "      <th>Lighting</th>\n",
       "      <th>HWY_Factors</th>\n",
       "      <th>Accident_Rec_Num</th>\n",
       "      <th>Pedalcyclist</th>\n",
       "      <th>Pedestrian</th>\n",
       "      <th>Motorcyclist</th>\n",
       "      <th>AnimalType</th>\n",
       "    </tr>\n",
       "  </thead>\n",
       "  <tbody>\n",
       "    <tr>\n",
       "      <th>0</th>\n",
       "      <td>-115.106709</td>\n",
       "      <td>36.236043</td>\n",
       "      <td>663733</td>\n",
       "      <td>PROPERTY DAMAGE ONLY</td>\n",
       "      <td>CLARK</td>\n",
       "      <td>2016-01-04 10:27:00+00:00</td>\n",
       "      <td>2016</td>\n",
       "      <td>10:27:00 AM</td>\n",
       "      <td>IR15N</td>\n",
       "      <td>IR15N TO SR573W/E INT48</td>\n",
       "      <td>...</td>\n",
       "      <td>UNKNOWN</td>\n",
       "      <td>UNKNOWN</td>\n",
       "      <td>DRY</td>\n",
       "      <td>DAYLIGHT</td>\n",
       "      <td>NONE</td>\n",
       "      <td>2224407</td>\n",
       "      <td>NO</td>\n",
       "      <td>NO</td>\n",
       "      <td>NO</td>\n",
       "      <td>NO</td>\n",
       "    </tr>\n",
       "    <tr>\n",
       "      <th>1</th>\n",
       "      <td>-119.673794</td>\n",
       "      <td>39.626433</td>\n",
       "      <td>663734</td>\n",
       "      <td>PROPERTY DAMAGE ONLY</td>\n",
       "      <td>WASHOE</td>\n",
       "      <td>2016-01-07 05:52:59+00:00</td>\n",
       "      <td>2016</td>\n",
       "      <td>5:53:00 AM</td>\n",
       "      <td>HUBBLE DR</td>\n",
       "      <td>BAREBACK DR</td>\n",
       "      <td>...</td>\n",
       "      <td>UNKNOWN</td>\n",
       "      <td>UNKNOWN</td>\n",
       "      <td>UNKNOWN</td>\n",
       "      <td>UNKNOWN</td>\n",
       "      <td>UNKNOWN</td>\n",
       "      <td>2310434</td>\n",
       "      <td>NO</td>\n",
       "      <td>NO</td>\n",
       "      <td>NO</td>\n",
       "      <td>NO</td>\n",
       "    </tr>\n",
       "    <tr>\n",
       "      <th>2</th>\n",
       "      <td>-115.101063</td>\n",
       "      <td>36.240200</td>\n",
       "      <td>663735</td>\n",
       "      <td>PROPERTY DAMAGE ONLY</td>\n",
       "      <td>CLARK</td>\n",
       "      <td>2016-01-04 07:21:59+00:00</td>\n",
       "      <td>2016</td>\n",
       "      <td>7:22:00 AM</td>\n",
       "      <td>SR573</td>\n",
       "      <td>IR15N TO SR573W INT48</td>\n",
       "      <td>...</td>\n",
       "      <td>UNKNOWN</td>\n",
       "      <td>UNKNOWN</td>\n",
       "      <td>DRY</td>\n",
       "      <td>DAYLIGHT</td>\n",
       "      <td>WET, ICY, SNOW, SLUSH</td>\n",
       "      <td>2224394</td>\n",
       "      <td>NO</td>\n",
       "      <td>NO</td>\n",
       "      <td>NO</td>\n",
       "      <td>NO</td>\n",
       "    </tr>\n",
       "    <tr>\n",
       "      <th>3</th>\n",
       "      <td>-119.633092</td>\n",
       "      <td>39.516952</td>\n",
       "      <td>663736</td>\n",
       "      <td>PROPERTY DAMAGE ONLY</td>\n",
       "      <td>WASHOE</td>\n",
       "      <td>2016-01-06 00:20:00+00:00</td>\n",
       "      <td>2016</td>\n",
       "      <td>12:20:00 AM</td>\n",
       "      <td>IR80W</td>\n",
       "      <td>MILE MARKER 24</td>\n",
       "      <td>...</td>\n",
       "      <td>UNKNOWN</td>\n",
       "      <td>UNKNOWN</td>\n",
       "      <td>DRY</td>\n",
       "      <td>DARK - NO LIGHTING</td>\n",
       "      <td>WET, ICY, SNOW, SLUSH</td>\n",
       "      <td>2224528</td>\n",
       "      <td>NO</td>\n",
       "      <td>NO</td>\n",
       "      <td>NO</td>\n",
       "      <td>NO</td>\n",
       "    </tr>\n",
       "    <tr>\n",
       "      <th>4</th>\n",
       "      <td>-115.140570</td>\n",
       "      <td>36.192680</td>\n",
       "      <td>663737</td>\n",
       "      <td>PROPERTY DAMAGE ONLY</td>\n",
       "      <td>CLARK</td>\n",
       "      <td>2016-01-03 02:29:59+00:00</td>\n",
       "      <td>2016</td>\n",
       "      <td>2:30:00 AM</td>\n",
       "      <td>IR15S</td>\n",
       "      <td>SR147E TO IR15S INT45</td>\n",
       "      <td>...</td>\n",
       "      <td>UNKNOWN</td>\n",
       "      <td>UNKNOWN</td>\n",
       "      <td>WET</td>\n",
       "      <td>DARK - SPOT LIGHTING</td>\n",
       "      <td>NONE</td>\n",
       "      <td>2215025</td>\n",
       "      <td>NO</td>\n",
       "      <td>NO</td>\n",
       "      <td>NO</td>\n",
       "      <td>NO</td>\n",
       "    </tr>\n",
       "  </tbody>\n",
       "</table>\n",
       "<p>5 rows × 42 columns</p>\n",
       "</div>"
      ],
      "text/plain": [
       "            X          Y  OBJECTID        Crash_Severity  County  \\\n",
       "0 -115.106709  36.236043    663733  PROPERTY DAMAGE ONLY   CLARK   \n",
       "1 -119.673794  39.626433    663734  PROPERTY DAMAGE ONLY  WASHOE   \n",
       "2 -115.101063  36.240200    663735  PROPERTY DAMAGE ONLY   CLARK   \n",
       "3 -119.633092  39.516952    663736  PROPERTY DAMAGE ONLY  WASHOE   \n",
       "4 -115.140570  36.192680    663737  PROPERTY DAMAGE ONLY   CLARK   \n",
       "\n",
       "                  Crash_Date  Crash_Year   Crash_Time Primary_Street  \\\n",
       "0  2016-01-04 10:27:00+00:00        2016  10:27:00 AM          IR15N   \n",
       "1  2016-01-07 05:52:59+00:00        2016   5:53:00 AM      HUBBLE DR   \n",
       "2  2016-01-04 07:21:59+00:00        2016   7:22:00 AM          SR573   \n",
       "3  2016-01-06 00:20:00+00:00        2016  12:20:00 AM          IR80W   \n",
       "4  2016-01-03 02:29:59+00:00        2016   2:30:00 AM          IR15S   \n",
       "\n",
       "          Secondary_Street  ... V2_All_Events  Nonmotorist_Factors  \\\n",
       "0  IR15N TO SR573W/E INT48  ...       UNKNOWN              UNKNOWN   \n",
       "1              BAREBACK DR  ...       UNKNOWN              UNKNOWN   \n",
       "2    IR15N TO SR573W INT48  ...       UNKNOWN              UNKNOWN   \n",
       "3           MILE MARKER 24  ...       UNKNOWN              UNKNOWN   \n",
       "4    SR147E TO IR15S INT45  ...       UNKNOWN              UNKNOWN   \n",
       "\n",
       "   Factors_Roadway              Lighting            HWY_Factors  \\\n",
       "0              DRY              DAYLIGHT                   NONE   \n",
       "1          UNKNOWN               UNKNOWN                UNKNOWN   \n",
       "2              DRY              DAYLIGHT  WET, ICY, SNOW, SLUSH   \n",
       "3              DRY    DARK - NO LIGHTING  WET, ICY, SNOW, SLUSH   \n",
       "4              WET  DARK - SPOT LIGHTING                   NONE   \n",
       "\n",
       "  Accident_Rec_Num  Pedalcyclist Pedestrian  Motorcyclist AnimalType  \n",
       "0          2224407            NO         NO            NO         NO  \n",
       "1          2310434            NO         NO            NO         NO  \n",
       "2          2224394            NO         NO            NO         NO  \n",
       "3          2224528            NO         NO            NO         NO  \n",
       "4          2215025            NO         NO            NO         NO  \n",
       "\n",
       "[5 rows x 42 columns]"
      ]
     },
     "execution_count": 1,
     "metadata": {},
     "output_type": "execute_result"
    }
   ],
   "source": [
    "import pandas as pd\n",
    "df = pd.read_csv(\"../Analysis/cleaned_traffic_data.csv\")\n",
    "df.head()\n"
   ]
  },
  {
   "cell_type": "code",
   "execution_count": null,
   "id": "934251db-6ed8-4a2f-8533-fc4c01dd2d5e",
   "metadata": {},
   "outputs": [],
   "source": [
    "df.columns"
   ]
  },
  {
   "cell_type": "code",
   "execution_count": null,
   "id": "eb6e4817-e387-423d-b797-009b6e10c306",
   "metadata": {},
   "outputs": [],
   "source": [
    "df['Crash_Severity'].value_counts()"
   ]
  },
  {
   "cell_type": "code",
   "execution_count": null,
   "id": "2611c3c8-c660-4ec7-84b1-ec2b8f3c8ae7",
   "metadata": {},
   "outputs": [],
   "source": [
    "df['Weather'].value_counts()"
   ]
  },
  {
   "cell_type": "code",
   "execution_count": 2,
   "id": "03e8bca4-9f69-4d9f-a87c-755cb6dcf38c",
   "metadata": {},
   "outputs": [
    {
     "data": {
      "text/plain": [
       "UNKNOWN                     128502\n",
       "POSSIBLE INJURY              69561\n",
       "SUSPECTED MINOR INJURY       22594\n",
       "SUSPECTED SERIOUS INJURY      3836\n",
       "FATAL                         1175\n",
       "Name: Injury_Type, dtype: int64"
      ]
     },
     "execution_count": 2,
     "metadata": {},
     "output_type": "execute_result"
    }
   ],
   "source": [
    "df['Injury_Type'].value_counts()"
   ]
  },
  {
   "cell_type": "code",
   "execution_count": null,
   "id": "6d61eb53-ccc1-4599-9ac8-5156c6778129",
   "metadata": {},
   "outputs": [],
   "source": [
    "df['Crash_Type'].value_counts()"
   ]
  },
  {
   "cell_type": "code",
   "execution_count": null,
   "id": "9de117fd-8a5a-4d76-861b-aaedf1661cda",
   "metadata": {},
   "outputs": [],
   "source": [
    "df['V1_Type'].value_counts()"
   ]
  },
  {
   "cell_type": "code",
   "execution_count": null,
   "id": "3dcea87a-0462-48f3-83a7-ed6a76c12179",
   "metadata": {},
   "outputs": [],
   "source": [
    "df['V2_Type'].value_counts()"
   ]
  },
  {
   "cell_type": "code",
   "execution_count": null,
   "id": "3214e5ad-f61a-4a39-a2c3-35d4746818cf",
   "metadata": {},
   "outputs": [],
   "source": [
    "df['V1_Action'].value_counts()"
   ]
  },
  {
   "cell_type": "code",
   "execution_count": null,
   "id": "3e61914e-53b0-4cb0-8060-74ab877acf83",
   "metadata": {},
   "outputs": [],
   "source": [
    "df['V2_Action'].value_counts()"
   ]
  },
  {
   "cell_type": "code",
   "execution_count": null,
   "id": "6be9c9df-1a01-4792-bc04-d9c5284f8f72",
   "metadata": {},
   "outputs": [],
   "source": [
    "df['V1_Driver_Factors'].value_counts()"
   ]
  },
  {
   "cell_type": "code",
   "execution_count": null,
   "id": "a72a9fe3-a19b-4afb-b400-db2dce44c1a8",
   "metadata": {},
   "outputs": [],
   "source": [
    "# df['V2_Driver_Factors'].value_counts()\n",
    "# Looks like this column was dropped?"
   ]
  },
  {
   "cell_type": "code",
   "execution_count": null,
   "id": "9e3dbc7b-39ca-43af-a293-b1164ed9e698",
   "metadata": {},
   "outputs": [],
   "source": [
    "df['V1_Driver_Distracted'].value_counts()"
   ]
  },
  {
   "cell_type": "code",
   "execution_count": null,
   "id": "41582b74-0432-446a-8479-29097d3f763f",
   "metadata": {},
   "outputs": [],
   "source": [
    "df['V2_Driver_Distracted'].value_counts()"
   ]
  },
  {
   "cell_type": "code",
   "execution_count": null,
   "id": "a76d1eb3-0f6f-4435-b393-fcb8aeb8a975",
   "metadata": {},
   "outputs": [],
   "source": [
    "df['V1_Most_Harmful_Event'].value_counts()"
   ]
  },
  {
   "cell_type": "code",
   "execution_count": null,
   "id": "a11d7b86-fd0c-4b18-a50e-1a65d50f2455",
   "metadata": {},
   "outputs": [],
   "source": [
    "df['V2_Most_Harmful_Event'].value_counts()"
   ]
  },
  {
   "cell_type": "code",
   "execution_count": null,
   "id": "c2a7bf6b-59fb-4c61-8963-a38257a9f5f2",
   "metadata": {},
   "outputs": [],
   "source": [
    "df['V1_All_Events'].value_counts()"
   ]
  },
  {
   "cell_type": "code",
   "execution_count": null,
   "id": "fbbbe69d-87ae-4989-b026-72852d36100c",
   "metadata": {},
   "outputs": [],
   "source": [
    "df['V2_All_Events'].value_counts()"
   ]
  },
  {
   "cell_type": "code",
   "execution_count": null,
   "id": "688e9681-58fb-49e4-95a1-6d3c959c80c4",
   "metadata": {},
   "outputs": [],
   "source": [
    "df['Nonmotorist_Factors'].value_counts()"
   ]
  },
  {
   "cell_type": "code",
   "execution_count": null,
   "id": "6cdf6d35-ea62-42fe-9a77-0b1b2a328531",
   "metadata": {},
   "outputs": [],
   "source": [
    "df['Factors_Roadway'].value_counts()"
   ]
  },
  {
   "cell_type": "code",
   "execution_count": null,
   "id": "e168a0c2-9fa7-48f4-87ee-e22aeec9791c",
   "metadata": {},
   "outputs": [],
   "source": [
    "df['Lighting'].value_counts()"
   ]
  },
  {
   "cell_type": "code",
   "execution_count": null,
   "id": "592d6200-fe21-46f7-8a05-1e67f2eb71f7",
   "metadata": {},
   "outputs": [],
   "source": [
    "df['HWY_Factors'].value_counts()"
   ]
  },
  {
   "cell_type": "code",
   "execution_count": null,
   "id": "8a7dee28-1b45-4e68-93b5-a86e629f68d2",
   "metadata": {},
   "outputs": [],
   "source": [
    "df['AnimalType'].value_counts()"
   ]
  },
  {
   "cell_type": "code",
   "execution_count": 3,
   "id": "7e047a8f-d25d-4aae-a3d6-5d4bee1325c9",
   "metadata": {},
   "outputs": [
    {
     "data": {
      "text/plain": [
       "PDO    128261\n",
       "NO      97407\n",
       "Name: Property_Damage_Only, dtype: int64"
      ]
     },
     "execution_count": 3,
     "metadata": {},
     "output_type": "execute_result"
    }
   ],
   "source": [
    "df['Property_Damage_Only'].value_counts()"
   ]
  },
  {
   "cell_type": "code",
   "execution_count": null,
   "id": "1592a472-3164-4b05-8faf-afd19e37a958",
   "metadata": {},
   "outputs": [],
   "source": []
  }
 ],
 "metadata": {
  "kernelspec": {
   "display_name": "mlenv",
   "language": "python",
   "name": "mlenv"
  },
  "language_info": {
   "codemirror_mode": {
    "name": "ipython",
    "version": 3
   },
   "file_extension": ".py",
   "mimetype": "text/x-python",
   "name": "python",
   "nbconvert_exporter": "python",
   "pygments_lexer": "ipython3",
   "version": "3.9.15"
  }
 },
 "nbformat": 4,
 "nbformat_minor": 5
}

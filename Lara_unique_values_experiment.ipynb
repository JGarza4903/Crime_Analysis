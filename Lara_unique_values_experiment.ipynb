{
 "cells": [
  {
   "cell_type": "code",
   "execution_count": 9,
   "id": "d430ce9e-2681-4532-949c-ea370d07ab85",
   "metadata": {},
   "outputs": [
    {
     "data": {
      "text/html": [
       "<div>\n",
       "<style scoped>\n",
       "    .dataframe tbody tr th:only-of-type {\n",
       "        vertical-align: middle;\n",
       "    }\n",
       "\n",
       "    .dataframe tbody tr th {\n",
       "        vertical-align: top;\n",
       "    }\n",
       "\n",
       "    .dataframe thead th {\n",
       "        text-align: right;\n",
       "    }\n",
       "</style>\n",
       "<table border=\"1\" class=\"dataframe\">\n",
       "  <thead>\n",
       "    <tr style=\"text-align: right;\">\n",
       "      <th></th>\n",
       "      <th>Unnamed: 0</th>\n",
       "      <th>X</th>\n",
       "      <th>Y</th>\n",
       "      <th>OBJECTID</th>\n",
       "      <th>Crash_Severity</th>\n",
       "      <th>County</th>\n",
       "      <th>Crash_Date</th>\n",
       "      <th>Crash_Year</th>\n",
       "      <th>Crash_Time</th>\n",
       "      <th>Weather</th>\n",
       "      <th>...</th>\n",
       "      <th>V2_All_Events</th>\n",
       "      <th>Nonmotorist_Factors</th>\n",
       "      <th>Factors_Roadway</th>\n",
       "      <th>Lighting</th>\n",
       "      <th>HWY_Factors</th>\n",
       "      <th>Accident_Rec_Num</th>\n",
       "      <th>Pedalcyclist</th>\n",
       "      <th>Pedestrian</th>\n",
       "      <th>Motorcyclist</th>\n",
       "      <th>AnimalType</th>\n",
       "    </tr>\n",
       "  </thead>\n",
       "  <tbody>\n",
       "    <tr>\n",
       "      <th>0</th>\n",
       "      <td>0</td>\n",
       "      <td>-115.106709</td>\n",
       "      <td>36.236043</td>\n",
       "      <td>663733</td>\n",
       "      <td>PROPERTY DAMAGE ONLY</td>\n",
       "      <td>CLARK</td>\n",
       "      <td>2016-01-04 10:27:00+00:00</td>\n",
       "      <td>2016</td>\n",
       "      <td>10:27:00 AM</td>\n",
       "      <td>CLOUDY</td>\n",
       "      <td>...</td>\n",
       "      <td>Unknown</td>\n",
       "      <td>Unknown</td>\n",
       "      <td>DRY</td>\n",
       "      <td>DAYLIGHT</td>\n",
       "      <td>NONE</td>\n",
       "      <td>2224407.0</td>\n",
       "      <td>No</td>\n",
       "      <td>No</td>\n",
       "      <td>No</td>\n",
       "      <td>No</td>\n",
       "    </tr>\n",
       "    <tr>\n",
       "      <th>1</th>\n",
       "      <td>1</td>\n",
       "      <td>-119.673794</td>\n",
       "      <td>39.626433</td>\n",
       "      <td>663734</td>\n",
       "      <td>PROPERTY DAMAGE ONLY</td>\n",
       "      <td>WASHOE</td>\n",
       "      <td>2016-01-07 05:52:59+00:00</td>\n",
       "      <td>2016</td>\n",
       "      <td>5:53:00 AM</td>\n",
       "      <td>SNOW</td>\n",
       "      <td>...</td>\n",
       "      <td>Unknown</td>\n",
       "      <td>Unknown</td>\n",
       "      <td>Unknown</td>\n",
       "      <td>Unknown</td>\n",
       "      <td>Unknown</td>\n",
       "      <td>2310434.0</td>\n",
       "      <td>No</td>\n",
       "      <td>No</td>\n",
       "      <td>No</td>\n",
       "      <td>No</td>\n",
       "    </tr>\n",
       "    <tr>\n",
       "      <th>2</th>\n",
       "      <td>2</td>\n",
       "      <td>-115.101063</td>\n",
       "      <td>36.240200</td>\n",
       "      <td>663735</td>\n",
       "      <td>PROPERTY DAMAGE ONLY</td>\n",
       "      <td>CLARK</td>\n",
       "      <td>2016-01-04 07:21:59+00:00</td>\n",
       "      <td>2016</td>\n",
       "      <td>7:22:00 AM</td>\n",
       "      <td>CLOUDY: RAIN</td>\n",
       "      <td>...</td>\n",
       "      <td>Unknown</td>\n",
       "      <td>Unknown</td>\n",
       "      <td>DRY</td>\n",
       "      <td>DAYLIGHT</td>\n",
       "      <td>WET, ICY, SNOW, SLUSH</td>\n",
       "      <td>2224394.0</td>\n",
       "      <td>No</td>\n",
       "      <td>No</td>\n",
       "      <td>No</td>\n",
       "      <td>No</td>\n",
       "    </tr>\n",
       "    <tr>\n",
       "      <th>3</th>\n",
       "      <td>3</td>\n",
       "      <td>-119.633092</td>\n",
       "      <td>39.516952</td>\n",
       "      <td>663736</td>\n",
       "      <td>PROPERTY DAMAGE ONLY</td>\n",
       "      <td>WASHOE</td>\n",
       "      <td>2016-01-06 00:20:00+00:00</td>\n",
       "      <td>2016</td>\n",
       "      <td>12:20:00 AM</td>\n",
       "      <td>CLEAR</td>\n",
       "      <td>...</td>\n",
       "      <td>Unknown</td>\n",
       "      <td>Unknown</td>\n",
       "      <td>DRY</td>\n",
       "      <td>DARK - NO LIGHTING</td>\n",
       "      <td>WET, ICY, SNOW, SLUSH</td>\n",
       "      <td>2224528.0</td>\n",
       "      <td>No</td>\n",
       "      <td>No</td>\n",
       "      <td>No</td>\n",
       "      <td>No</td>\n",
       "    </tr>\n",
       "    <tr>\n",
       "      <th>4</th>\n",
       "      <td>4</td>\n",
       "      <td>-115.140570</td>\n",
       "      <td>36.192680</td>\n",
       "      <td>663737</td>\n",
       "      <td>PROPERTY DAMAGE ONLY</td>\n",
       "      <td>CLARK</td>\n",
       "      <td>2016-01-03 02:29:59+00:00</td>\n",
       "      <td>2016</td>\n",
       "      <td>2:30:00 AM</td>\n",
       "      <td>CLEAR</td>\n",
       "      <td>...</td>\n",
       "      <td>Unknown</td>\n",
       "      <td>Unknown</td>\n",
       "      <td>WET</td>\n",
       "      <td>DARK - SPOT LIGHTING</td>\n",
       "      <td>NONE</td>\n",
       "      <td>2215025.0</td>\n",
       "      <td>No</td>\n",
       "      <td>No</td>\n",
       "      <td>No</td>\n",
       "      <td>No</td>\n",
       "    </tr>\n",
       "  </tbody>\n",
       "</table>\n",
       "<p>5 rows × 39 columns</p>\n",
       "</div>"
      ],
      "text/plain": [
       "   Unnamed: 0           X          Y  OBJECTID        Crash_Severity  County  \\\n",
       "0           0 -115.106709  36.236043    663733  PROPERTY DAMAGE ONLY   CLARK   \n",
       "1           1 -119.673794  39.626433    663734  PROPERTY DAMAGE ONLY  WASHOE   \n",
       "2           2 -115.101063  36.240200    663735  PROPERTY DAMAGE ONLY   CLARK   \n",
       "3           3 -119.633092  39.516952    663736  PROPERTY DAMAGE ONLY  WASHOE   \n",
       "4           4 -115.140570  36.192680    663737  PROPERTY DAMAGE ONLY   CLARK   \n",
       "\n",
       "                  Crash_Date  Crash_Year   Crash_Time       Weather  ...  \\\n",
       "0  2016-01-04 10:27:00+00:00        2016  10:27:00 AM        CLOUDY  ...   \n",
       "1  2016-01-07 05:52:59+00:00        2016   5:53:00 AM          SNOW  ...   \n",
       "2  2016-01-04 07:21:59+00:00        2016   7:22:00 AM  CLOUDY: RAIN  ...   \n",
       "3  2016-01-06 00:20:00+00:00        2016  12:20:00 AM         CLEAR  ...   \n",
       "4  2016-01-03 02:29:59+00:00        2016   2:30:00 AM         CLEAR  ...   \n",
       "\n",
       "   V2_All_Events  Nonmotorist_Factors Factors_Roadway              Lighting  \\\n",
       "0        Unknown              Unknown             DRY              DAYLIGHT   \n",
       "1        Unknown              Unknown         Unknown               Unknown   \n",
       "2        Unknown              Unknown             DRY              DAYLIGHT   \n",
       "3        Unknown              Unknown             DRY    DARK - NO LIGHTING   \n",
       "4        Unknown              Unknown             WET  DARK - SPOT LIGHTING   \n",
       "\n",
       "             HWY_Factors  Accident_Rec_Num Pedalcyclist Pedestrian  \\\n",
       "0                   NONE         2224407.0           No         No   \n",
       "1                Unknown         2310434.0           No         No   \n",
       "2  WET, ICY, SNOW, SLUSH         2224394.0           No         No   \n",
       "3  WET, ICY, SNOW, SLUSH         2224528.0           No         No   \n",
       "4                   NONE         2215025.0           No         No   \n",
       "\n",
       "  Motorcyclist AnimalType  \n",
       "0           No         No  \n",
       "1           No         No  \n",
       "2           No         No  \n",
       "3           No         No  \n",
       "4           No         No  \n",
       "\n",
       "[5 rows x 39 columns]"
      ]
     },
     "execution_count": 9,
     "metadata": {},
     "output_type": "execute_result"
    }
   ],
   "source": [
    "import pandas as pd\n",
    "df = pd.read_csv(\"Analysis/cleaned_traffic_data.csv\")\n",
    "df.head()\n"
   ]
  },
  {
   "cell_type": "code",
   "execution_count": 14,
   "id": "934251db-6ed8-4a2f-8533-fc4c01dd2d5e",
   "metadata": {},
   "outputs": [
    {
     "data": {
      "text/plain": [
       "Index(['Unnamed: 0', 'X', 'Y', 'OBJECTID', 'Crash_Severity', 'County',\n",
       "       'Crash_Date', 'Crash_Year', 'Crash_Time', 'Weather', 'Fatalities',\n",
       "       'Injured', 'Property_Damage_Only', 'Injury_Type', 'Crash_Type',\n",
       "       'Total_Vehicles', 'V1_Type', 'V1_Driver_Age', 'V1_Action',\n",
       "       'V1_Driver_Factors', 'V1_Driver_Distracted', 'V1_Most_Harmful_Event',\n",
       "       'V1_All_Events', 'V2_Type', 'V2_Driver_Age', 'V2_Action',\n",
       "       'V2_Driver_Distracted', 'V2_Vehicle_Factors', 'V2_Most_Harmful_Event',\n",
       "       'V2_All_Events', 'Nonmotorist_Factors', 'Factors_Roadway', 'Lighting',\n",
       "       'HWY_Factors', 'Accident_Rec_Num', 'Pedalcyclist', 'Pedestrian',\n",
       "       'Motorcyclist', 'AnimalType'],\n",
       "      dtype='object')"
      ]
     },
     "execution_count": 14,
     "metadata": {},
     "output_type": "execute_result"
    }
   ],
   "source": [
    "df.columns"
   ]
  },
  {
   "cell_type": "code",
   "execution_count": 17,
   "id": "eb6e4817-e387-423d-b797-009b6e10c306",
   "metadata": {},
   "outputs": [
    {
     "data": {
      "text/plain": [
       "PROPERTY DAMAGE ONLY    128261\n",
       "INJURY CRASH             96232\n",
       "FATAL CRASH               1175\n",
       "Name: Crash_Severity, dtype: int64"
      ]
     },
     "execution_count": 17,
     "metadata": {},
     "output_type": "execute_result"
    }
   ],
   "source": [
    "df['Crash_Severity'].value_counts()"
   ]
  },
  {
   "cell_type": "code",
   "execution_count": 18,
   "id": "2611c3c8-c660-4ec7-84b1-ec2b8f3c8ae7",
   "metadata": {},
   "outputs": [
    {
     "data": {
      "text/plain": [
       "CLEAR                                                                           181357\n",
       "CLOUDY                                                                           29848\n",
       "RAIN                                                                              5256\n",
       "UNKNOWN                                                                           1709\n",
       "BLOWING SNOW                                                                      1643\n",
       "SNOW                                                                              1475\n",
       "CLOUDY: RAIN                                                                      1343\n",
       "FOG, SMOG, SMOKE                                                                  1200\n",
       "BLOWING SAND, SOIL, DIRT, SNOW                                                     542\n",
       "SEVERE CROSSWINDS                                                                  481\n",
       "SLEET, HAIL (FREEZING RAIN OR DRIZZLE)                                             222\n",
       "OTHER                                                                              133\n",
       "CLOUDY: SNOW                                                                       126\n",
       "CLOUDY: BLOWING SAND, SOIL, DIRT, SNOW                                              46\n",
       "CLOUDY: SEVERE CROSSWINDS                                                           45\n",
       "NOT REPORTED                                                                        41\n",
       "RAIN: SNOW                                                                          24\n",
       "CLOUDY: OTHER                                                                       21\n",
       "RAIN: SEVERE CROSSWINDS                                                             18\n",
       "SEVERE CROSSWINDS: BLOWING SAND, SOIL, DIRT, SNOW                                   18\n",
       "CLOUDY: FOG, SMOG, SMOKE                                                            17\n",
       "SNOW: SEVERE CROSSWINDS                                                             11\n",
       "RAIN: SLEET, HAIL (FREEZING RAIN OR DRIZZLE)                                        11\n",
       "SLEET, HAIL (FREEZING RAIN OR DRIZZLE): SNOW                                         9\n",
       "FOG, SMOG, SMOKE: RAIN                                                               9\n",
       "SNOW: OTHER                                                                          8\n",
       "RAIN: OTHER                                                                          6\n",
       "RAIN: BLOWING SAND, SOIL, DIRT, SNOW                                                 5\n",
       "FOG, SMOG, SMOKE: SNOW                                                               4\n",
       "CLOUDY: SLEET, HAIL (FREEZING RAIN OR DRIZZLE)                                       4\n",
       "SLEET, HAIL (FREEZING RAIN OR DRIZZLE): BLOWING SAND, SOIL, DIRT, SNOW               3\n",
       "SNOW: UNKNOWN                                                                        3\n",
       "NOT DESIGN FOR THIS NUMBER                                                           3\n",
       "CLOUDY: RAIN: SNOW                                                                   3\n",
       "CLOUDY: RAIN: SEVERE CROSSWINDS                                                      2\n",
       "CLOUDY: SNOW: OTHER                                                                  2\n",
       "FOG, SMOG, SMOKE: BLOWING SAND, SOIL, DIRT, SNOW                                     2\n",
       "CLOUDY: UNKNOWN                                                                      2\n",
       "BLOWING SAND, DIRT, SOIL, SNOW;                                                      2\n",
       "CLOUDY: SEVERE CROSSWINDS: BLOWING SAND, SOIL, DIRT, SNOW                            1\n",
       "BLOWING SAND, SOIL, DIRT, SNOW: OTHER                                                1\n",
       "CLOUDY: RAIN: OTHER                                                                  1\n",
       "SLEET, HAIL (FREEZING RAIN OR DRIZZLE): OTHER                                        1\n",
       "SEVERE CROSSWINDS: UNKNOWN                                                           1\n",
       "CLOUDY: RAIN: BLOWING SAND, SOIL, DIRT, SNOW                                         1\n",
       "SEVERE CROSSWINDS: OTHER                                                             1\n",
       "RAIN: UNKNOWN                                                                        1\n",
       "RAIN: SLEET, HAIL (FREEZING RAIN OR DRIZZLE): BLOWING SAND, SOIL, DIRT, SNOW         1\n",
       "RAIN: SNOW: OTHER                                                                    1\n",
       "SEVERE CROSSWINDS;                                                                   1\n",
       "RAIN: SEVERE CROSSWINDS: BLOWING SAND, SOIL, DIRT, SNOW                              1\n",
       "CLOUDY: FOG, SMOG, SMOKE: RAIN                                                       1\n",
       "CLOUDY: BLOWING SAND, SOIL, DIRT, SNOW: OTHER                                        1\n",
       "Name: Weather, dtype: int64"
      ]
     },
     "execution_count": 18,
     "metadata": {},
     "output_type": "execute_result"
    }
   ],
   "source": [
    "df['Weather'].value_counts()"
   ]
  },
  {
   "cell_type": "code",
   "execution_count": 19,
   "id": "03e8bca4-9f69-4d9f-a87c-755cb6dcf38c",
   "metadata": {},
   "outputs": [
    {
     "data": {
      "text/plain": [
       "U    128502\n",
       "C     69561\n",
       "B     22594\n",
       "A      3836\n",
       "K      1175\n",
       "Name: Injury_Type, dtype: int64"
      ]
     },
     "execution_count": 19,
     "metadata": {},
     "output_type": "execute_result"
    }
   ],
   "source": [
    "df['Injury_Type'].value_counts()"
   ]
  },
  {
   "cell_type": "code",
   "execution_count": 12,
   "id": "6d61eb53-ccc1-4599-9ac8-5156c6778129",
   "metadata": {},
   "outputs": [
    {
     "data": {
      "text/plain": [
       "PROPERTY DAMAGE ONLY    128261\n",
       "INJURY CRASH             96232\n",
       "FATAL CRASH               1175\n",
       "Name: Crash_Severity, dtype: int64"
      ]
     },
     "execution_count": 12,
     "metadata": {},
     "output_type": "execute_result"
    }
   ],
   "source": [
    "df['Crash_Type'].value_counts()"
   ]
  },
  {
   "cell_type": "code",
   "execution_count": 20,
   "id": "9de117fd-8a5a-4d76-861b-aaedf1661cda",
   "metadata": {},
   "outputs": [
    {
     "data": {
      "text/plain": [
       "SEDAN, 4 DOOR          80454\n",
       "CARRY-ALL              37899\n",
       "PICKUP                 32294\n",
       "HATCHBACK, 4 DOOR      11429\n",
       "VAN                     9066\n",
       "                       ...  \n",
       "MOTORIZED SCOOTER          3\n",
       "RETRACTABLE HARDTOP        3\n",
       "ATV                        2\n",
       "HEARSE                     2\n",
       "GRAIN                      1\n",
       "Name: V1_Type, Length: 74, dtype: int64"
      ]
     },
     "execution_count": 20,
     "metadata": {},
     "output_type": "execute_result"
    }
   ],
   "source": [
    "df['V1_Type'].value_counts()"
   ]
  },
  {
   "cell_type": "code",
   "execution_count": 26,
   "id": "3dcea87a-0462-48f3-83a7-ed6a76c12179",
   "metadata": {},
   "outputs": [
    {
     "data": {
      "text/plain": [
       "SEDAN, 4 DOOR          64546\n",
       "Unknown                39932\n",
       "CARRY-ALL              34746\n",
       "PICKUP                 25929\n",
       "HATCHBACK, 4 DOOR      10221\n",
       "                       ...  \n",
       "TRAVEL                     1\n",
       "MINIBIKE                   1\n",
       "GRAIN                      1\n",
       "BOAT                       1\n",
       "RETRACTABLE HARDTOP        1\n",
       "Name: V2_Type, Length: 76, dtype: int64"
      ]
     },
     "execution_count": 26,
     "metadata": {},
     "output_type": "execute_result"
    }
   ],
   "source": [
    "df['V2_Type'].value_counts()"
   ]
  },
  {
   "cell_type": "code",
   "execution_count": 21,
   "id": "3214e5ad-f61a-4a39-a2c3-35d4746818cf",
   "metadata": {},
   "outputs": [
    {
     "data": {
      "text/plain": [
       "GOING STRAIGHT               128403\n",
       "TURNING LEFT                  30980\n",
       "CHANGING LANES                15840\n",
       "TURNING RIGHT                 13437\n",
       "NOT REPORTED                  12844\n",
       "MAKING U-TURN                  3484\n",
       "BACKING UP                     3364\n",
       "LEAVING LANE                   3146\n",
       "UNKNOWN                        3085\n",
       "OTHER                          2504\n",
       "ENTERING LANE                  1925\n",
       "STOPPED                        1839\n",
       "PASSING OTHER VEHICLE          1583\n",
       "NEGOTIATING A CURVE            1405\n",
       "TRAVELING WRONG WAY             625\n",
       "PARKED                          396\n",
       "LEAVING PARK POSITION           376\n",
       "DRIVERLESS-MOVING VEHICLE       200\n",
       "OTHER TURNING MOVEMENT          104\n",
       "RACING                           95\n",
       "ENTERING PARK POSITION           25\n",
       "U-TURN                            4\n",
       "LANE CHANGE                       4\n",
       "Name: V1_Action, dtype: int64"
      ]
     },
     "execution_count": 21,
     "metadata": {},
     "output_type": "execute_result"
    }
   ],
   "source": [
    "df['V1_Action'].value_counts()"
   ]
  },
  {
   "cell_type": "code",
   "execution_count": 27,
   "id": "3e61914e-53b0-4cb0-8060-74ab877acf83",
   "metadata": {},
   "outputs": [
    {
     "data": {
      "text/plain": [
       "GOING STRAIGHT               102697\n",
       "STOPPED                       55462\n",
       "Unknown                       39038\n",
       "TURNING LEFT                  11065\n",
       "PARKED                         7580\n",
       "TURNING RIGHT                  4212\n",
       "UNKNOWN                        1245\n",
       "CHANGING LANES                 1203\n",
       "NEGOTIATING A CURVE             541\n",
       "NOT REPORTED                    505\n",
       "MAKING U-TURN                   472\n",
       "OTHER                           360\n",
       "ENTERING LANE                   267\n",
       "PASSING OTHER VEHICLE           255\n",
       "DRIVERLESS-MOVING VEHICLE       243\n",
       "BACKING UP                      214\n",
       "LEAVING LANE                    213\n",
       "LEAVING PARK POSITION            39\n",
       "TRAVELING WRONG WAY              22\n",
       "OTHER TURNING MOVEMENT           16\n",
       "RACING                           11\n",
       "ENTERING PARK POSITION            8\n",
       "Name: V2_Action, dtype: int64"
      ]
     },
     "execution_count": 27,
     "metadata": {},
     "output_type": "execute_result"
    }
   ],
   "source": [
    "df['V2_Action'].value_counts()"
   ]
  },
  {
   "cell_type": "code",
   "execution_count": 22,
   "id": "6be9c9df-1a01-4792-bc04-d9c5284f8f72",
   "metadata": {},
   "outputs": [
    {
     "data": {
      "text/plain": [
       "APPARENTLY NORMAL                                                                                         159433\n",
       "Unknown                                                                                                    14430\n",
       "OTHER IMPROPER DRIVING                                                                                     13137\n",
       "HAD BEEN DRINKING                                                                                          11807\n",
       "INATTENTION/DISTRACTED                                                                                      8922\n",
       "                                                                                                           ...  \n",
       "INATTENTION/DISTRACTED: OBSTRUCTED VIEW: OTHER IMPROPER DRIVING                                                1\n",
       "DRUG INVOLVEMENT: OBSTRUCTED VIEW                                                                              1\n",
       "PHYSICAL IMPAIRMENT: DRUG INVOLVEMENT: OTHER IMPROPER DRIVING                                                  1\n",
       "PHYSICAL IMPAIRMENT: INATTENTION/DISTRACTED: ILLNESS                                                           1\n",
       "INATTENTION/DISTRACTED: FELL ASLEEP, FAINTED, FATIGUED, ETC.: DRUG INVOLVEMENT: OTHER IMPROPER DRIVING         1\n",
       "Name: V1_Driver_Factors, Length: 66, dtype: int64"
      ]
     },
     "execution_count": 22,
     "metadata": {},
     "output_type": "execute_result"
    }
   ],
   "source": [
    "df['V1_Driver_Factors'].value_counts()"
   ]
  },
  {
   "cell_type": "code",
   "execution_count": 29,
   "id": "a72a9fe3-a19b-4afb-b400-db2dce44c1a8",
   "metadata": {},
   "outputs": [],
   "source": [
    "# df['V2_Driver_Factors'].value_counts()\n",
    "# Looks like this column was dropped?"
   ]
  },
  {
   "cell_type": "code",
   "execution_count": 23,
   "id": "9e3dbc7b-39ca-43af-a293-b1164ed9e698",
   "metadata": {},
   "outputs": [
    {
     "data": {
      "text/plain": [
       "Unknown                                                               215668\n",
       "UNKNOWN                                                                 2762\n",
       "OTHER                                                                   1383\n",
       "ELECTRONIC EQUIPMENT                                                    1312\n",
       "EXTERNAL DISTRACTION (OUTSIDE THE VEHICLE)                              1119\n",
       "OTHER INSIDE THE VEHICLE                                                1046\n",
       "RADIO/CD PLAYER                                                          962\n",
       "CELL PHONE                                                               308\n",
       "CHILDREN                                                                 287\n",
       "CELL PHONE (TEXTING)                                                     238\n",
       "EATING                                                                   200\n",
       "ANIMALS                                                                  136\n",
       "CELL PHONE (TALKING)                                                      91\n",
       "SMOKING                                                                   71\n",
       "PERSONAL HYGIENE                                                          48\n",
       "READING                                                                   33\n",
       "ELECTRONIC EQUIPMENT (COMPUTERS, ON BOARD NAVIGATION SYSTEM, ETC.)         4\n",
       "Name: V1_Driver_Distracted, dtype: int64"
      ]
     },
     "execution_count": 23,
     "metadata": {},
     "output_type": "execute_result"
    }
   ],
   "source": [
    "df['V1_Driver_Distracted'].value_counts()"
   ]
  },
  {
   "cell_type": "code",
   "execution_count": 30,
   "id": "41582b74-0432-446a-8479-29097d3f763f",
   "metadata": {},
   "outputs": [
    {
     "data": {
      "text/plain": [
       "Unknown                                       225477\n",
       "UNKNOWN                                           67\n",
       "OTHER                                             39\n",
       "ELECTRONIC EQUIPMENT                              19\n",
       "EXTERNAL DISTRACTION (OUTSIDE THE VEHICLE)        19\n",
       "RADIO/CD PLAYER                                   15\n",
       "OTHER INSIDE THE VEHICLE                          14\n",
       "CELL PHONE (TEXTING)                               5\n",
       "PERSONAL HYGIENE                                   3\n",
       "CELL PHONE                                         2\n",
       "ANIMALS                                            2\n",
       "EATING                                             2\n",
       "CELL PHONE (TALKING)                               2\n",
       "READING                                            1\n",
       "CHILDREN                                           1\n",
       "Name: V2_Driver_Distracted, dtype: int64"
      ]
     },
     "execution_count": 30,
     "metadata": {},
     "output_type": "execute_result"
    }
   ],
   "source": [
    "df['V2_Driver_Distracted'].value_counts()"
   ]
  },
  {
   "cell_type": "code",
   "execution_count": 24,
   "id": "a76d1eb3-0f6f-4435-b393-fcb8aeb8a975",
   "metadata": {},
   "outputs": [
    {
     "data": {
      "text/plain": [
       "Unknown                       114304\n",
       "MOTOR VEHICLE IN TRANSPORT     60385\n",
       "SLOW/STOPPED VEHICLE           31389\n",
       "PARKED MOTOR VEHICLE            2748\n",
       "OVERTURN/ROLLOVER               2257\n",
       "                               ...  \n",
       "DOWNHILL RUNAWAY                   5\n",
       "OVERHEAD SIGN SUPPORT              4\n",
       "RAILWAY VEHICLE                    3\n",
       "BRIDGE OVERHEAD STRUCTURE          2\n",
       "MAILBOX                            1\n",
       "Name: V1_Most_Harmful_Event, Length: 66, dtype: int64"
      ]
     },
     "execution_count": 24,
     "metadata": {},
     "output_type": "execute_result"
    }
   ],
   "source": [
    "df['V1_Most_Harmful_Event'].value_counts()"
   ]
  },
  {
   "cell_type": "code",
   "execution_count": 31,
   "id": "a11d7b86-fd0c-4b18-a50e-1a65d50f2455",
   "metadata": {},
   "outputs": [
    {
     "data": {
      "text/plain": [
       "Unknown                                                        129812\n",
       "MOTOR VEHICLE IN TRANSPORT                                      85228\n",
       "SLOW/STOPPED VEHICLE                                             7477\n",
       "PARKED MOTOR VEHICLE                                             1007\n",
       "CARGO/EQUIPMENT LOSS OR SHIFT                                     281\n",
       "OVERTURN/ROLLOVER                                                 265\n",
       "OTHER MOVABLE OBJECT                                              245\n",
       "OTHER NON-COLLISION                                               204\n",
       "STRUCK BY FALLING, SHIFTING CARGO OR ANYTHING SET IN MOTION       166\n",
       "EQUIPMENT FAILURE (BLOWN TIRE, BRAKE FAILURE, ETC.)               100\n",
       "THROWN OR FALLING OBJECT                                           83\n",
       "CROSS MEDIAN/CENTERLINE                                            69\n",
       "MEDIAN BARRIER                                                     66\n",
       "CONCRETE TRAFFIC BARRIER                                           64\n",
       "NOT REPORTED                                                       53\n",
       "RAN OFF ROAD RIGHT                                                 52\n",
       "CROSS CENTERLINE                                                   52\n",
       "CURB                                                               40\n",
       "REENTERING ROADWAY                                                 40\n",
       "FENCE/WALL                                                         38\n",
       "RAN OFF ROAD LEFT                                                  28\n",
       "UNKNOWN NON-COLLISION                                              27\n",
       "UNKNOWN MOVABLE OBJECT                                             26\n",
       "PEDESTRIAN                                                         26\n",
       "IMMERSION                                                          23\n",
       "FELL/JUMPED FROM MOTOR VEHICLE                                     17\n",
       "OTHER ANIMAL                                                       17\n",
       "CROSS MEDIAN                                                       16\n",
       "OTHER POST, POLE OR SUPPORT                                        15\n",
       "WORK ZONE MAINTENANCE EQUIPMENT                                    13\n",
       "OTHER NON-MOTORIST                                                 10\n",
       "IMPACT ATTENUATOR/CRASH CUSHION                                     9\n",
       "SEPARATION OF UNITS                                                 9\n",
       "GUARDRAIL FACE                                                      8\n",
       "FIRE/EXPLOSION                                                      8\n",
       "EMBANKMENT                                                          8\n",
       "TREE/SHRUB                                                          7\n",
       "JACKKNIFE                                                           7\n",
       "OTHER FIXED OBJECTS (BUILDING, TUNNEL, ETC.)                        6\n",
       "LIGHT/LUMINARY SUPPORT                                              6\n",
       "DEER                                                                5\n",
       "TRAFFIC SIGNAL SUPPORT                                              4\n",
       "HORSE                                                               4\n",
       "DOWNHILL RUNAWAY                                                    4\n",
       "UTILITY POLE                                                        3\n",
       "PEDAL CYCLE                                                         3\n",
       "OTHER TRAFFIC BARRIER                                               3\n",
       "HIGHWAY TRAFFIC SIGN POST                                           3\n",
       "DITCH                                                               3\n",
       "CULVERT                                                             2\n",
       "BRIDGE PARAPET END                                                  1\n",
       "BRIDGE RAIL                                                         1\n",
       "BRIDGE OVERHEAD STRUCTURE                                           1\n",
       "BIG HORN SHEEP                                                      1\n",
       "BURRO                                                               1\n",
       "UNKNOWN FIXED OBJECT                                                1\n",
       "Name: V2_Most_Harmful_Event, dtype: int64"
      ]
     },
     "execution_count": 31,
     "metadata": {},
     "output_type": "execute_result"
    }
   ],
   "source": [
    "df['V2_Most_Harmful_Event'].value_counts()"
   ]
  },
  {
   "cell_type": "code",
   "execution_count": 25,
   "id": "c2a7bf6b-59fb-4c61-8963-a38257a9f5f2",
   "metadata": {},
   "outputs": [
    {
     "data": {
      "text/plain": [
       "Unknown                                                                                                                                          106623\n",
       "SLOW/STOPPED VEHICLE                                                                                                                              60738\n",
       "NOT REPORTED                                                                                                                                       6523\n",
       "PARKED MOTOR VEHICLE                                                                                                                               4663\n",
       "PEDESTRIAN                                                                                                                                         3377\n",
       "                                                                                                                                                  ...  \n",
       "OTHER MOVABLE OBJECT: OVERTURN/ROLLOVER: SLOW/STOPPED VEHICLE: NOT REPORTED                                                                           1\n",
       "FIRE/EXPLOSION: EQUIPMENT FAILURE (BLOWN TIRE, BRAKE FAILURE, ETC.): SLOW/STOPPED VEHICLE                                                             1\n",
       "OTHER FIXED OBJECTS (BUILDING, TUNNEL, ETC.): OTHER FIXED OBJECTS (BUILDING, TUNNEL, ETC.): LIGHT/LUMINARY SUPPORT: HIGHWAY TRAFFIC SIGN POST         1\n",
       "OTHER MOVABLE OBJECT: OVERHEAD SIGN SUPPORT                                                                                                           1\n",
       "CURB: CURB: TREE/SHRUB: EMBANKMENT: FIRE/EXPLOSION                                                                                                    1\n",
       "Name: V1_All_Events, Length: 4929, dtype: int64"
      ]
     },
     "execution_count": 25,
     "metadata": {},
     "output_type": "execute_result"
    }
   ],
   "source": [
    "df['V1_All_Events'].value_counts()"
   ]
  },
  {
   "cell_type": "code",
   "execution_count": 32,
   "id": "fbbbe69d-87ae-4989-b026-72852d36100c",
   "metadata": {},
   "outputs": [
    {
     "data": {
      "text/plain": [
       "Unknown                                                                                        183781\n",
       "SLOW/STOPPED VEHICLE                                                                            24697\n",
       "NOT REPORTED                                                                                     4745\n",
       "PARKED MOTOR VEHICLE                                                                             2870\n",
       "OVERTURN/ROLLOVER                                                                                 751\n",
       "                                                                                                ...  \n",
       "RAN OFF ROAD LEFT: JACKKNIFE: UTILITY POLE: FENCE/WALL                                              1\n",
       "RAN OFF ROAD RIGHT: OTHER FIXED OBJECTS (BUILDING, TUNNEL, ETC.): HIGHWAY TRAFFIC SIGN POST         1\n",
       "CULVERT: LIGHT/LUMINARY SUPPORT                                                                     1\n",
       "GUARDRAIL FACE: PEDESTRIAN: PARKED MOTOR VEHICLE                                                    1\n",
       "OTHER NON-COLLISION: CROSS MEDIAN                                                                   1\n",
       "Name: V2_All_Events, Length: 885, dtype: int64"
      ]
     },
     "execution_count": 32,
     "metadata": {},
     "output_type": "execute_result"
    }
   ],
   "source": [
    "df['V2_All_Events'].value_counts()"
   ]
  },
  {
   "cell_type": "code",
   "execution_count": 34,
   "id": "688e9681-58fb-49e4-95a1-6d3c959c80c4",
   "metadata": {},
   "outputs": [
    {
     "data": {
      "text/plain": [
       "Unknown                                                                                     221251\n",
       "UNKNOWN                                                                                       1480\n",
       "IMPROPER CROSSING                                                                              969\n",
       "DARTING                                                                                        314\n",
       "WRONG SIDE OF ROAD                                                                             233\n",
       "                                                                                             ...  \n",
       "FAILURE TO YIELD RIGHT OF WAY: NOT VISIBLE (DARK CLOTHING): IMPROPER CROSSING                    1\n",
       "OTHER: IMPROPER CROSSING: FAILURE TO YIELD RIGHT OF WAY                                          1\n",
       "FAILURE TO YIELD RIGHT OF WAY: FAILURE TO OBEY TRAFFIC SIGNS, SIGNALS, OR OFFICER: OTHER         1\n",
       "WRONG SIDE OF ROAD: IMPROPER CROSSING: FAILURE TO YIELD RIGHT OF WAY: DARTING                    1\n",
       "IMPROPER CROSSING: LYING AND/OR ILLEGALLY IN ROADWAY: NOT VISIBLE (DARK CLOTHING)                1\n",
       "Name: Nonmotorist_Factors, Length: 164, dtype: int64"
      ]
     },
     "execution_count": 34,
     "metadata": {},
     "output_type": "execute_result"
    }
   ],
   "source": [
    "df['Nonmotorist_Factors'].value_counts()"
   ]
  },
  {
   "cell_type": "code",
   "execution_count": 33,
   "id": "6cdf6d35-ea62-42fe-9a77-0b1b2a328531",
   "metadata": {},
   "outputs": [
    {
     "data": {
      "text/plain": [
       "DRY                             178086\n",
       "Unknown                          25831\n",
       "WET                              12620\n",
       "UNKNOWN                           6835\n",
       "ICE                               1167\n",
       "SNOW                               687\n",
       "SLUSH                              178\n",
       "SAND, MUD, DIRT, OIL, GRAVEL       102\n",
       "STANDING WATER                      87\n",
       "OTHER                               41\n",
       "MOVING WATER                        31\n",
       "ICE: WET                             1\n",
       "OTHER: ICE: SNOW                     1\n",
       "ICE: SNOW                            1\n",
       "Name: Factors_Roadway, dtype: int64"
      ]
     },
     "execution_count": 33,
     "metadata": {},
     "output_type": "execute_result"
    }
   ],
   "source": [
    "df['Factors_Roadway'].value_counts()"
   ]
  },
  {
   "cell_type": "code",
   "execution_count": 35,
   "id": "e168a0c2-9fa7-48f4-87ee-e22aeec9791c",
   "metadata": {},
   "outputs": [
    {
     "data": {
      "text/plain": [
       "DAYLIGHT                              130991\n",
       "Unknown                                30916\n",
       "DARK - CONTINUOUS LIGHTING             23406\n",
       "DARK - SPOT LIGHTING                   22787\n",
       "DARK - NO LIGHTING                      7959\n",
       "DUSK                                    4752\n",
       "DAWN                                    3075\n",
       "UNKNOWN                                 1028\n",
       "DARK - UNKNOWN LIGHTING                  540\n",
       "OTHER                                     68\n",
       "DARK - CONTINUOUS ROADWAY LIGHTING        60\n",
       "DARK - SPOT ROADWAY LIGHTING              39\n",
       "DARK - NO ROADWAY LIGHTING                38\n",
       "DARK - UNKNOWN ROADWAY LIGHTING            7\n",
       "DARK- SPOT LIGHTING                        1\n",
       "DARK - CONTINUOUS LIGHTING                 1\n",
       "Name: Lighting, dtype: int64"
      ]
     },
     "execution_count": 35,
     "metadata": {},
     "output_type": "execute_result"
    }
   ],
   "source": [
    "df['Lighting'].value_counts()"
   ]
  },
  {
   "cell_type": "code",
   "execution_count": 36,
   "id": "592d6200-fe21-46f7-8a05-1e67f2eb71f7",
   "metadata": {},
   "outputs": [
    {
     "data": {
      "text/plain": [
       "NONE                                                                              149511\n",
       "Unknown                                                                            32788\n",
       "BACKUP DUE TO REGULAR CONGESTION                                                    9148\n",
       "OTHER HIGHWAY                                                                       8728\n",
       "WET, ICY, SNOW, SLUSH                                                               5192\n",
       "                                                                                   ...  \n",
       "ROAD OBSTRUCTION: BACKUP DUE TO PRIOR NON-RECURRING INCIDENT: NON-ROADWAY WORK         1\n",
       "WET, ICY, SNOW, SLUSH: RUTS, HOLES, BUMPS                                              1\n",
       "BACKUP DUE TO REGULAR CONGESTION: OTHER ENVIRONMENTAL                                  1\n",
       "DEBRIS: ROAD OBSTRUCTION: WET, ICY, SNOW, SLUSH                                        1\n",
       "WEATHER: GLARE: OTHER ENVIRONMENTAL                                                    1\n",
       "Name: HWY_Factors, Length: 206, dtype: int64"
      ]
     },
     "execution_count": 36,
     "metadata": {},
     "output_type": "execute_result"
    }
   ],
   "source": [
    "df['HWY_Factors'].value_counts()"
   ]
  },
  {
   "cell_type": "code",
   "execution_count": 37,
   "id": "8a7dee28-1b45-4e68-93b5-a86e629f68d2",
   "metadata": {},
   "outputs": [
    {
     "data": {
      "text/plain": [
       "No                221748\n",
       "DEER                1600\n",
       "HORSE                846\n",
       "UNKNOWN              390\n",
       "CATTLE               282\n",
       "DOG/COYOTE           248\n",
       "BURRO                168\n",
       "ELK                  143\n",
       "OTHER ANIMAL         134\n",
       "ANTELOPE              67\n",
       "BEAR                  21\n",
       "BIG HORN SHEEP        21\n",
       "Name: AnimalType, dtype: int64"
      ]
     },
     "execution_count": 37,
     "metadata": {},
     "output_type": "execute_result"
    }
   ],
   "source": [
    "df['AnimalType'].value_counts()"
   ]
  },
  {
   "cell_type": "code",
   "execution_count": null,
   "id": "7e047a8f-d25d-4aae-a3d6-5d4bee1325c9",
   "metadata": {},
   "outputs": [],
   "source": []
  }
 ],
 "metadata": {
  "kernelspec": {
   "display_name": "mlenv",
   "language": "python",
   "name": "mlenv"
  },
  "language_info": {
   "codemirror_mode": {
    "name": "ipython",
    "version": 3
   },
   "file_extension": ".py",
   "mimetype": "text/x-python",
   "name": "python",
   "nbconvert_exporter": "python",
   "pygments_lexer": "ipython3",
   "version": "3.9.15"
  }
 },
 "nbformat": 4,
 "nbformat_minor": 5
}

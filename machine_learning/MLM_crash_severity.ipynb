{
 "cells": [
  {
   "cell_type": "markdown",
   "id": "8d344241-ee65-4769-b209-764291c5d04e",
   "metadata": {
    "tags": []
   },
   "source": [
    "# Statewide Data with Crash Severity as Target"
   ]
  },
  {
   "cell_type": "markdown",
   "id": "8854a586-4c69-4c3b-879d-917c3803db92",
   "metadata": {
    "tags": []
   },
   "source": [
    "## Imports and Setup"
   ]
  },
  {
   "cell_type": "code",
   "execution_count": 3,
   "id": "48537812-b2f8-4b1b-b5e0-d4eedab007a6",
   "metadata": {},
   "outputs": [],
   "source": [
    "# Initial imports\n",
    "import pandas as pd\n",
    "import numpy as np\n",
    "import psycopg2 \n",
    "from sklearn.ensemble import RandomForestClassifier\n",
    "from sklearn.preprocessing import StandardScaler\n",
    "from sklearn.model_selection import train_test_split\n",
    "from sklearn.metrics import confusion_matrix, accuracy_score, classification_report"
   ]
  },
  {
   "cell_type": "code",
   "execution_count": 4,
   "id": "7aeadbd2-344a-47a4-bee7-8d738ee8d73f",
   "metadata": {},
   "outputs": [
    {
     "ename": "ModuleNotFoundError",
     "evalue": "No module named 'secret'",
     "output_type": "error",
     "traceback": [
      "\u001b[0;31m---------------------------------------------------------------------------\u001b[0m",
      "\u001b[0;31mModuleNotFoundError\u001b[0m                       Traceback (most recent call last)",
      "Cell \u001b[0;32mIn[4], line 2\u001b[0m\n\u001b[1;32m      1\u001b[0m \u001b[38;5;66;03m# Load in password\u001b[39;00m\n\u001b[0;32m----> 2\u001b[0m \u001b[38;5;28;01mfrom\u001b[39;00m \u001b[38;5;21;01msecret\u001b[39;00m \u001b[38;5;28;01mimport\u001b[39;00m secret, database, username, host\n\u001b[1;32m      4\u001b[0m \u001b[38;5;66;03m# Establish connection to database\u001b[39;00m\n\u001b[1;32m      5\u001b[0m conn \u001b[38;5;241m=\u001b[39m psycopg2\u001b[38;5;241m.\u001b[39mconnect(\n\u001b[1;32m      6\u001b[0m     host \u001b[38;5;241m=\u001b[39m host,\n\u001b[1;32m      7\u001b[0m     database \u001b[38;5;241m=\u001b[39m database,\n\u001b[1;32m      8\u001b[0m     user \u001b[38;5;241m=\u001b[39musername,\n\u001b[1;32m      9\u001b[0m     password \u001b[38;5;241m=\u001b[39m secret\n\u001b[1;32m     10\u001b[0m )\n",
      "\u001b[0;31mModuleNotFoundError\u001b[0m: No module named 'secret'"
     ]
    }
   ],
   "source": [
    "# Load in password\n",
    "from secret import secret, database, username, host\n",
    "\n",
    "# Establish connection to database\n",
    "conn = psycopg2.connect(\n",
    "    host = host,\n",
    "    database = database,\n",
    "    user =username,\n",
    "    password = secret\n",
    ")"
   ]
  },
  {
   "cell_type": "code",
   "execution_count": null,
   "id": "643f1b97",
   "metadata": {},
   "outputs": [],
   "source": [
    "# Load the data\n",
    "query = 'SELECT * FROM clark_co_traffic'\n",
    "traffic_df = pd.read_sql_query(query, conn)"
   ]
  },
  {
   "cell_type": "markdown",
   "id": "847e68eb-ba94-4abb-977f-22079f781289",
   "metadata": {
    "tags": []
   },
   "source": [
    "## Preprocess Data"
   ]
  },
  {
   "cell_type": "code",
   "execution_count": null,
   "id": "e962ba2d-04d5-4a8c-881e-48c9499e0e44",
   "metadata": {},
   "outputs": [],
   "source": [
    "# Drop unnecessary columns\n",
    "traffic_df.drop(columns = ['objectid','injury_type','accident_rec_num','primary_street', 'secondary_street', 'fatalities', 'injured','property_damage_only' ], inplace = True)"
   ]
  },
  {
   "cell_type": "code",
   "execution_count": null,
   "id": "c2950dd1-a680-4005-8d6f-561f5fa5da95",
   "metadata": {},
   "outputs": [],
   "source": [
    "traffic_df.columns"
   ]
  },
  {
   "cell_type": "code",
   "execution_count": null,
   "id": "5436abee-58e7-4fa9-b01c-7686e6fb0313",
   "metadata": {},
   "outputs": [],
   "source": [
    "# Split single column with multiple data points into separate columns\n",
    "traffic_df[['v1_driver_factors_1', 'v1_driver_factors_2','v1_driver_factors_3', 'v1_driver_factors_4']] = traffic_df['v1_driver_factors'].str.split(':', expand=True)\n",
    "\n",
    "traffic_df[['v1_vehicle_factors_1', 'v1_vehicle_factors_2','v1_vehicle_factors_3', 'v1_vehicle_factors_4', 'v1_vehicle_factors_5']] = traffic_df['v1_vehicle_factors'].str.split(':', expand=True)\n",
    "\n",
    "traffic_df[['v1_all_events_1', 'v1_all_events_2','v1_all_events_3', 'v1_all_events_4', 'v1_all_events_5']] = traffic_df['v1_all_events'].str.split(':', expand=True)\n",
    "\n",
    "traffic_df[['v2_driver_factors_1', 'v2_driver_factors_2']] = traffic_df['v2_driver_factors'].str.split(':', expand=True)\n",
    "\n",
    "traffic_df[['v2_vehicle_factors_1', 'v2_vehicle_factors_2','v2_vehicle_factors_3', 'v2_vehicle_factors_4', 'v2_vehicle_factors_5']] = traffic_df['v2_vehicle_factors'].str.split(':', expand=True)\n",
    "\n",
    "traffic_df[['v2_all_events_1', 'v2_all_events_2','v2_all_events_3', 'v2_all_events_4', 'v2_all_events_5']] = traffic_df['v1_all_events'].str.split(':', expand=True)\n",
    "\n",
    "traffic_df[['nonmotorist_factors_1', 'nonmotorist_factors_2','nonmotorist_factors_3', 'nonmotorist_factors_4', 'nonmotorist_factors_5']] = traffic_df['nonmotorist_factors'].str.split(':', expand=True)\n",
    "\n",
    "traffic_df[['factors_roadway_1', 'factors_roadway_2','factors_roadways_3']] = traffic_df['factors_roadway'].str.split(':', expand=True)\n",
    "\n",
    "traffic_df[['hwy_factors_1', 'hwy_factors_2','hwy_factors_3', 'hwy_factors_4']] = traffic_df['hwy_factors'].str.split(':', expand=True)\n",
    "\n",
    "traffic_df.drop(columns = ['v1_driver_factors','v1_vehicle_factors','v1_all_events','v2_driver_factors','v2_vehicle_factors', 'v2_all_events', 'nonmotorist_factors', 'factors_roadway', 'hwy_factors',], inplace = True)"
   ]
  },
  {
   "cell_type": "code",
   "execution_count": null,
   "id": "03d32ffa",
   "metadata": {},
   "outputs": [],
   "source": [
    "traffic_df['crash_severity'].value_counts()"
   ]
  },
  {
   "cell_type": "code",
   "execution_count": null,
   "id": "0a0a8599-db0c-4999-8149-0c6f69365afc",
   "metadata": {},
   "outputs": [],
   "source": [
    "# Change target values to numeric\n",
    "# Values are based on Nevada Traffic Records Coordinating Committee Data Dictionary,\n",
    "# https://zerofatalitiesnv.com/app/uploads/2021/04/2021-01-NV-TRCC-Data-Dictionary.pdf\n",
    "injury_num = {\n",
    "    'PROPERTY DAMAGE ONLY': 0,\n",
    "    'INJURY CRASH': 1,\n",
    "    'FATAL CRASH': 2,    \n",
    "}\n",
    "\n",
    "traffic_df['crash_severity'] = traffic_df['crash_severity'].apply(lambda x: injury_num[x])\n",
    "\n",
    "traffic_df['crash_severity'].value_counts()"
   ]
  },
  {
   "cell_type": "code",
   "execution_count": null,
   "id": "62ea2fc2-6d78-4722-9eab-1f37355f5fea",
   "metadata": {},
   "outputs": [],
   "source": [
    "# Extract datetime values into separate columns\n",
    "traffic_df['crash_month'] = pd.DatetimeIndex(traffic_df['crash_date']).month\n",
    "traffic_df['crash_day'] = pd.DatetimeIndex(traffic_df['crash_date']).day\n",
    "traffic_df['crash_day_of_week'] = pd.DatetimeIndex(traffic_df['crash_date']).dayofweek\n",
    "traffic_df['crash_hour'] = pd.DatetimeIndex(traffic_df['crash_time']).hour\n"
   ]
  },
  {
   "cell_type": "code",
   "execution_count": null,
   "id": "6c2b8233-ba32-42ce-9a3c-42e1c4766c9b",
   "metadata": {},
   "outputs": [],
   "source": [
    "# Drop original datetime columns\n",
    "traffic_df.drop(columns = ['crash_date', 'crash_time'], inplace = True)"
   ]
  },
  {
   "cell_type": "code",
   "execution_count": null,
   "id": "83db37c8-f6a0-49cc-a278-464e87470490",
   "metadata": {},
   "outputs": [],
   "source": [
    "traffic_df.dtypes"
   ]
  },
  {
   "cell_type": "code",
   "execution_count": null,
   "id": "b2af9028-2524-4638-934b-4cca148fdf3e",
   "metadata": {},
   "outputs": [],
   "source": [
    "# Get names of all columns with dtypes of \"object\"\n",
    "sel_cols = list(traffic_df.select_dtypes(include='object'))"
   ]
  },
  {
   "cell_type": "code",
   "execution_count": null,
   "id": "91e1a0ea-da4f-4fcb-a52f-87b3219e1d25",
   "metadata": {},
   "outputs": [],
   "source": [
    "# Preprocessing to convert all strings to numeric values\n",
    "traffic_df_encoded = pd.get_dummies(traffic_df, columns = sel_cols)\n",
    "traffic_df_encoded.head()"
   ]
  },
  {
   "cell_type": "markdown",
   "id": "71c67082-df2a-40cd-87e4-e15c7d3ecb20",
   "metadata": {
    "jp-MarkdownHeadingCollapsed": true,
    "tags": []
   },
   "source": [
    "## Model with Crash Severity as Target and All Other Columns as Features"
   ]
  },
  {
   "cell_type": "code",
   "execution_count": null,
   "id": "2885c44a-fc82-4093-b2b5-22879e5fe2d3",
   "metadata": {},
   "outputs": [],
   "source": [
    "# Separate data into features and target\n",
    "y = traffic_df_encoded['crash_severity'].values\n",
    "X = traffic_df_encoded.drop(columns = 'crash_severity')"
   ]
  },
  {
   "cell_type": "code",
   "execution_count": null,
   "id": "c495654c-8282-4a7d-87b7-c50b29a8b940",
   "metadata": {},
   "outputs": [],
   "source": [
    "# Split dataset into training and testing\n",
    "X_train, X_test, y_train, y_test = train_test_split(X, y, stratify = y)\n",
    "X_train.shape"
   ]
  },
  {
   "cell_type": "code",
   "execution_count": null,
   "id": "863c1592-7db8-45ab-8e92-fc3f38efb463",
   "metadata": {},
   "outputs": [],
   "source": [
    "# Scale the model\n",
    "scaler = StandardScaler() \n",
    "\n",
    "# Fit the scaler with the training data\n",
    "X_scaler = scaler.fit(X_train)\n",
    "X_train_scaled = X_scaler.transform(X_train)\n",
    "X_test_scaled = X_scaler.transform(X_test)"
   ]
  },
  {
   "cell_type": "code",
   "execution_count": null,
   "id": "a8b918a8-c725-4db6-90bb-d9cb0b35133f",
   "metadata": {
    "tags": []
   },
   "outputs": [],
   "source": [
    "# Create and fit the Random Forest model\n",
    "rf_model = RandomForestClassifier(n_estimators = 128)\n",
    "rf_model = rf_model.fit(X_train_scaled, y_train)"
   ]
  },
  {
   "cell_type": "code",
   "execution_count": null,
   "id": "0aaf1143-cd7c-4341-9aa9-797b83b073e7",
   "metadata": {},
   "outputs": [],
   "source": [
    "# Create predictions\n",
    "predictions = rf_model.predict(X_test_scaled)\n",
    "results = pd.DataFrame({\n",
    "    \"Prediction\": predictions,\n",
    "    \"Actual\": y_test\n",
    "}).reset_index(drop = True)\n",
    "results.head()"
   ]
  },
  {
   "cell_type": "code",
   "execution_count": null,
   "id": "a8d8fad2-4186-4e0d-84aa-2124bf9daac7",
   "metadata": {},
   "outputs": [],
   "source": [
    "# Assess accuracy score\n",
    "accuracy = accuracy_score(y_test, predictions)\n",
    "accuracy"
   ]
  },
  {
   "cell_type": "code",
   "execution_count": null,
   "id": "7a0008c2-9fdc-4e53-aece-e85a7c298a30",
   "metadata": {},
   "outputs": [],
   "source": [
    "# Generate confusion matrix and dataframe\n",
    "cm = confusion_matrix(y_test, predictions)\n",
    "\n",
    "index_values = ['Actual: Property Damage Only', \n",
    "                'Actual: Injury Crash',  \n",
    "                'Actual: Fatal Crash']\n",
    "\n",
    "column_values = ['Predicted: Property Damage Only', \n",
    "                'Predicted: Injury Crash', \n",
    "                'Predicted: Fatal Crash']\n",
    "\n",
    "cm_df = pd.DataFrame(cm, index = index_values, columns = column_values)\n",
    "cm_df\n",
    "                  "
   ]
  },
  {
   "cell_type": "markdown",
   "id": "df3a2263-9c3a-494f-943e-cb8e94adc002",
   "metadata": {
    "tags": []
   },
   "source": [
    "## Statewide Results with Crash Severity as Target and All Other Columns as Features"
   ]
  },
  {
   "cell_type": "code",
   "execution_count": null,
   "id": "1a5fe4fa-3012-439c-afa1-9cc2e960cadc",
   "metadata": {},
   "outputs": [],
   "source": [
    "# Display results\n",
    "print('Statewide Data with Crash Severity as Target, All Other Columns as Features')\n",
    "print('Confusion Matrix')\n",
    "display(cm_df)\n",
    "print(f'\\nAccuracy Score: {accuracy}\\n')\n",
    "print('Classification Report')\n",
    "print(classification_report(y_test, predictions))"
   ]
  },
  {
   "cell_type": "markdown",
   "id": "13e6c9dc-0cae-4f27-a28d-c59a3e84a46d",
   "metadata": {
    "tags": []
   },
   "source": [
    "### Importances with Crash Severity as Target and All Other Columns as Features"
   ]
  },
  {
   "cell_type": "code",
   "execution_count": null,
   "id": "3be79ed2-a28a-467d-a332-78159ca49857",
   "metadata": {},
   "outputs": [],
   "source": [
    "# Calculate importance of features\n",
    "importances = rf_model.feature_importances_\n",
    "listo = sorted(zip(rf_model.feature_importances_, X.columns), reverse = True)\n",
    "listo"
   ]
  },
  {
   "cell_type": "markdown",
   "id": "af070cc6-f461-4ae0-8aa6-a00b6b3f0a41",
   "metadata": {
    "jp-MarkdownHeadingCollapsed": true,
    "tags": []
   },
   "source": [
    "# Second Version of Model: Only Top 50% of Importances as Features"
   ]
  },
  {
   "cell_type": "markdown",
   "id": "cbb99c68-1092-49b8-a67a-f9963c50601c",
   "metadata": {
    "tags": []
   },
   "source": [
    "### Importances to Exclude"
   ]
  },
  {
   "cell_type": "code",
   "execution_count": null,
   "id": "5fc5dee7-ec00-4d03-bdf1-637eb767e5f6",
   "metadata": {},
   "outputs": [],
   "source": [
    "important = sorted(zip(rf_model.feature_importances_, X.columns), reverse = True)\n",
    "low_priority = important[772:]"
   ]
  },
  {
   "cell_type": "code",
   "execution_count": null,
   "id": "d9f259c9-beb7-489c-b6ef-f68623961a44",
   "metadata": {},
   "outputs": [],
   "source": [
    "imp_only_list = []\n",
    "listy_list = []\n",
    "\n",
    "# iterate using index with enumerate function\n",
    "for index, tuple in enumerate(low_priority):\n",
    "       \n",
    "    # access through index\n",
    "      # by appending to list\n",
    "    imp_only_list.append(low_priority[index])\n",
    "     \n",
    "# iterate through the list\n",
    "for x in imp_only_list:\n",
    "    for y in x:\n",
    "         listy_list.append(y)\n",
    "\n",
    "final_list = listy_list[1::2]\n"
   ]
  },
  {
   "cell_type": "markdown",
   "id": "3d0c77c0-16ed-4eb6-b4b2-23f68bccf4c1",
   "metadata": {
    "tags": []
   },
   "source": [
    "### Dataframe without Low-Value Importances"
   ]
  },
  {
   "cell_type": "code",
   "execution_count": null,
   "id": "32b55fe0-f315-438c-865c-05be042da738",
   "metadata": {},
   "outputs": [],
   "source": [
    "important_df = traffic_df_encoded.drop(columns = final_list)\n",
    "important_df.head()"
   ]
  },
  {
   "cell_type": "markdown",
   "id": "48deda5c-68f3-4a74-92ff-151eb2e92ae6",
   "metadata": {
    "tags": []
   },
   "source": [
    "## Model with Crash Severity as Target and Only High-Value Importances as Features"
   ]
  },
  {
   "cell_type": "code",
   "execution_count": null,
   "id": "c54a7455-9b42-4808-8408-21f1af17c88a",
   "metadata": {},
   "outputs": [],
   "source": [
    "# Separate data into features and target\n",
    "y_imp = important_df['crash_severity'].values\n",
    "\n",
    "X_imp = important_df.drop(columns = 'crash_severity')"
   ]
  },
  {
   "cell_type": "code",
   "execution_count": null,
   "id": "76e7feb4-23eb-4f28-b32c-341fb1f8e18c",
   "metadata": {},
   "outputs": [],
   "source": [
    "# had to remove stratify because there was a singleton array\n",
    "X_train_imp, X_test_imp, y_train_imp, y_test_imp = train_test_split(X_imp, y_imp)\n",
    "X_train_imp.shape"
   ]
  },
  {
   "cell_type": "code",
   "execution_count": null,
   "id": "fc8d95fc-7de0-4392-a975-76ba7e90aff6",
   "metadata": {},
   "outputs": [],
   "source": [
    "# Scale the model\n",
    "scaler_imp = StandardScaler() \n",
    "\n",
    "# Fit the scaler with the training data\n",
    "X_scaler_imp = scaler_imp.fit(X_train_imp)\n",
    "X_train_scaled_imp = X_scaler_imp.transform(X_train_imp)\n",
    "X_test_scaled_imp = X_scaler_imp.transform(X_test_imp)"
   ]
  },
  {
   "cell_type": "code",
   "execution_count": null,
   "id": "7b094096-f045-43cf-b139-b5fdf7b50fa3",
   "metadata": {},
   "outputs": [],
   "source": [
    "# Create and fit the Random Forest model\n",
    "rf_model_imp = RandomForestClassifier(n_estimators = 128)\n",
    "rf_model_imp = rf_model.fit(X_train_scaled_imp, y_train_imp)"
   ]
  },
  {
   "cell_type": "code",
   "execution_count": null,
   "id": "2f1e1b3b-f8bf-4347-a4c5-a896db5737ba",
   "metadata": {},
   "outputs": [],
   "source": [
    "# Create predictions\n",
    "predictions_imp = rf_model_imp.predict(X_test_scaled_imp)\n",
    "results_imp = pd.DataFrame({\n",
    "    \"Prediction\": predictions_imp,\n",
    "    \"Actual\": y_test_imp\n",
    "}).reset_index(drop = True)\n",
    "results_imp.head()"
   ]
  },
  {
   "cell_type": "code",
   "execution_count": null,
   "id": "2b8dd4cd-44d6-49af-96c5-e9c3a5cb3112",
   "metadata": {},
   "outputs": [],
   "source": [
    "# Assess accuracy score\n",
    "accuracy_imp = accuracy_score(y_test_imp, predictions_imp)\n",
    "accuracy_imp"
   ]
  },
  {
   "cell_type": "code",
   "execution_count": null,
   "id": "1b1fec85-f937-465d-bad8-31b9e215a79a",
   "metadata": {},
   "outputs": [],
   "source": [
    "# Generate confusion matrix and dataframe\n",
    "cm_imp = confusion_matrix(y_test_imp, predictions_imp)\n",
    "\n",
    "index_values_imp = ['Actual: Property Damage Only', \n",
    "                'Actual: Injury Crash',  \n",
    "                'Actual: Fatal Crash']\n",
    "\n",
    "column_values_imp = ['Predicted: Property Damage Only', \n",
    "                'Predicted: Injury Crash', \n",
    "                'Predicted: Fatal Crash']\n",
    "\n",
    "cm_df_imp = pd.DataFrame(cm_imp, index = index_values_imp, columns = column_values_imp)\n",
    "cm_df_imp"
   ]
  },
  {
   "cell_type": "markdown",
   "id": "d3e65830-11b8-4483-bd92-3b8ff51d7635",
   "metadata": {
    "tags": []
   },
   "source": [
    "## Statewide Results with Crash Severity as Target and High-Priority Columns as Features"
   ]
  },
  {
   "cell_type": "code",
   "execution_count": null,
   "id": "0f63ed22-f662-4700-85f7-4f7d0d5b5ed3",
   "metadata": {},
   "outputs": [],
   "source": [
    "# Display results\n",
    "print('Statewide Data with Crash Severity as Target, High-Priority Columns as Features')\n",
    "print('Confusion Matrix')\n",
    "display(cm_df_imp)\n",
    "print(f'\\nAccuracy Score: {accuracy_imp}\\n')\n",
    "print('Classification Report')\n",
    "print(classification_report(y_test_imp, predictions_imp))"
   ]
  },
  {
   "cell_type": "markdown",
   "id": "aa956ee9-8fca-4951-841e-a2bee3469cb7",
   "metadata": {
    "jp-MarkdownHeadingCollapsed": true,
    "tags": []
   },
   "source": [
    "### Calculate Importance of Features"
   ]
  },
  {
   "cell_type": "code",
   "execution_count": null,
   "id": "a3a4ef97-ceac-4e6e-8350-844f4f9d4b4a",
   "metadata": {},
   "outputs": [],
   "source": [
    "importances_high_priority = rf_model_imp.feature_importances_\n",
    "sorted(zip(importances_high_priority, X_imp.columns), reverse = True)"
   ]
  },
  {
   "cell_type": "markdown",
   "id": "65b99a47-7186-432f-bc72-16f20af2c5b4",
   "metadata": {},
   "source": [
    "# Third Version of Model with Crash Severity as Target and Only Importances >= 0.01"
   ]
  },
  {
   "cell_type": "code",
   "execution_count": null,
   "id": "0d6ff00d-3a52-4940-8c54-a14944221d40",
   "metadata": {},
   "outputs": [],
   "source": [
    "lowest_priority = important[17:]"
   ]
  },
  {
   "cell_type": "code",
   "execution_count": null,
   "id": "bd64cb4c-aebf-42ee-b7b1-0c272f3651e3",
   "metadata": {},
   "outputs": [],
   "source": [
    "imp_low_list = []\n",
    "exclude_list = []\n",
    "\n",
    "# iterate using index with enumerate function\n",
    "for index, tuple in enumerate(lowest_priority):\n",
    "       \n",
    "    # access through index by appending to list\n",
    "    imp_low_list.append(lowest_priority[index])\n",
    "     \n",
    "# iterate through the list\n",
    "for x in imp_low_list:\n",
    "    for y in x:\n",
    "        exclude_list.append(y)\n",
    "\n",
    "final_exclude_list = exclude_list[1::2]\n"
   ]
  },
  {
   "cell_type": "code",
   "execution_count": null,
   "id": "65925043-590f-46ed-9915-7aa3043cc272",
   "metadata": {},
   "outputs": [],
   "source": [
    "imp_top_df = traffic_df_encoded.drop(columns = final_exclude_list)\n",
    "imp_top_df.head()"
   ]
  },
  {
   "cell_type": "markdown",
   "id": "de852e14-95f9-4572-a56d-8a4aa76bb93d",
   "metadata": {},
   "source": [
    "## Model with Crash Type as Target and Only Importances >= 0.01 as Features"
   ]
  },
  {
   "cell_type": "code",
   "execution_count": null,
   "id": "baadfe6b-a965-430e-a412-febee9f7da1b",
   "metadata": {},
   "outputs": [],
   "source": [
    "# Separate data into features and target\n",
    "y_imp_top = imp_top_df['crash_type'].values\n",
    "X_imp_top = imp_top_df.drop(columns = 'crash_type')"
   ]
  },
  {
   "cell_type": "code",
   "execution_count": null,
   "id": "4828f0e7-e062-44d8-83db-f0f09e68e6ea",
   "metadata": {},
   "outputs": [],
   "source": [
    "X_train_imp_top, X_test_imp_top, y_train_imp_top, y_test_imp_top = train_test_split(X_imp_top, y_imp_top)\n",
    "X_train_imp_top.shape"
   ]
  },
  {
   "cell_type": "code",
   "execution_count": null,
   "id": "7a82255a-637e-421c-b2b8-7790d482f939",
   "metadata": {},
   "outputs": [],
   "source": [
    "# Scale the model\n",
    "scaler_imp_top = StandardScaler() \n",
    "\n",
    "# Fit the scaler with the training data\n",
    "X_scaler_imp_top = scaler_imp_top.fit(X_train_imp_top)\n",
    "X_train_scaled_imp_top = X_scaler_imp_top.transform(X_train_imp_top)\n",
    "X_test_scaled_imp_top = X_scaler_imp_top.transform(X_test_imp_top)"
   ]
  },
  {
   "cell_type": "code",
   "execution_count": null,
   "id": "514eb803-df62-4bf4-9438-a74932426de8",
   "metadata": {},
   "outputs": [],
   "source": [
    "# Create and fit the Random Forest model\n",
    "rf_model_imp_top = RandomForestClassifier(n_estimators = 128)\n",
    "rf_model_imp_top = rf_model_imp_top.fit(X_train_scaled_imp_top, y_train_imp_top)"
   ]
  },
  {
   "cell_type": "code",
   "execution_count": null,
   "id": "2e199e47-4cae-4ca5-bab1-a8f35a676d0e",
   "metadata": {},
   "outputs": [],
   "source": [
    "# Create predictions\n",
    "predictions_imp_top = rf_model_imp_top.predict(X_test_scaled_imp_top)\n",
    "results_imp_top = pd.DataFrame({\n",
    "    \"Prediction\": predictions_imp_top,\n",
    "    \"Actual\": y_test_imp_top\n",
    "}).reset_index(drop = True)\n",
    "results_imp_top.head()"
   ]
  },
  {
   "cell_type": "code",
   "execution_count": null,
   "id": "2651c080-ef59-4469-9d71-d1d43c72c4cb",
   "metadata": {},
   "outputs": [],
   "source": [
    "# Assess accuracy score\n",
    "accuracy_imp_top = accuracy_score(y_test_imp_top, predictions_imp_top)\n",
    "accuracy_imp_top"
   ]
  },
  {
   "cell_type": "code",
   "execution_count": null,
   "id": "cb42e92f-0eda-49f6-a72a-d591c75a6fc6",
   "metadata": {},
   "outputs": [],
   "source": [
    "# Generate confusion matrix and dataframe\n",
    "cm_imp_top = confusion_matrix(y_test_imp_top, predictions_imp_top)\n",
    "\n",
    "index_values_imp = ['Actual: Unknown', \n",
    "                'Actual: Property Damage Only', \n",
    "                'Actual: Possible Injury', \n",
    "                'Actual: Suspected Minor Injury', \n",
    "                'Actual: Suspected Serious Injury', \n",
    "                'Actual: Fatal Injury']\n",
    "\n",
    "column_values_imp = ['Predicted: Unknown', \n",
    "                'Predicted: Property Damage Only', \n",
    "                'Predicted: Possible Injury', \n",
    "                'Predicted: Suspected Minor Injury', \n",
    "                'Predicted: Suspected Serious Injury', \n",
    "                'Predicted: Fatal Injury']\n",
    "\n",
    "cm_df_imp_top = pd.DataFrame(cm_imp_top, index = index_values_imp, columns = column_values_imp)\n",
    "cm_df_imp_top"
   ]
  },
  {
   "cell_type": "markdown",
   "id": "8d077781-338d-4c64-a08c-753e6798d3fe",
   "metadata": {},
   "source": [
    "## Statewide Results with Crash Type as Target and Only Importances >= 0.01 as Features"
   ]
  },
  {
   "cell_type": "code",
   "execution_count": null,
   "id": "773a94f1-1b75-44ad-b99a-e5a2468198ab",
   "metadata": {},
   "outputs": [],
   "source": [
    "# Display results\n",
    "print('Statewide Data with Crash Type as Target, Only Top 17 as Features')\n",
    "print('Confusion Matrix')\n",
    "display(cm_df_imp_top)\n",
    "print(f'\\nAccuracy Score: {accuracy_imp_top}\\n')\n",
    "print('Classification Report')\n",
    "print(classification_report(y_test_imp_top, predictions_imp_top))"
   ]
  },
  {
   "cell_type": "code",
   "execution_count": null,
   "id": "ab7a8974-2f00-4657-bcb3-047c5a7e43a9",
   "metadata": {},
   "outputs": [],
   "source": []
  }
 ],
 "metadata": {
  "kernelspec": {
   "display_name": "mlenv",
   "language": "python",
   "name": "mlenv"
  },
  "language_info": {
   "codemirror_mode": {
    "name": "ipython",
    "version": 3
   },
   "file_extension": ".py",
   "mimetype": "text/x-python",
   "name": "python",
   "nbconvert_exporter": "python",
   "pygments_lexer": "ipython3",
   "version": "3.9.15"
  },
  "vscode": {
   "interpreter": {
    "hash": "653a2afc849ebc42aceb60e0243103e726213ea70459e94e35399998f7bca6d0"
   }
  }
 },
 "nbformat": 4,
 "nbformat_minor": 5
}

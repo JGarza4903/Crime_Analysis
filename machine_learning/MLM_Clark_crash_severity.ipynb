{
 "cells": [
  {
   "cell_type": "markdown",
   "id": "a3421ce1-56a0-44e2-a25d-38f770003c8c",
   "metadata": {},
   "source": [
    "# Clark County Only, Crash Severity as Target"
   ]
  },
  {
   "cell_type": "markdown",
   "id": "c5f28364-4135-4c5b-b1ea-1ac1cbe8199a",
   "metadata": {
    "tags": []
   },
   "source": [
    "## Imports and Setup"
   ]
  },
  {
   "cell_type": "code",
   "execution_count": 1,
   "id": "48537812-b2f8-4b1b-b5e0-d4eedab007a6",
   "metadata": {},
   "outputs": [],
   "source": [
    "# Initial imports\n",
    "import pandas as pd\n",
    "import numpy as np\n",
    "import psycopg2 \n",
    "from sklearn.ensemble import RandomForestClassifier\n",
    "from sklearn.preprocessing import StandardScaler\n",
    "from sklearn.model_selection import train_test_split\n",
    "from sklearn.metrics import confusion_matrix, accuracy_score, classification_report"
   ]
  },
  {
   "cell_type": "code",
   "execution_count": 2,
   "id": "7aeadbd2-344a-47a4-bee7-8d738ee8d73f",
   "metadata": {},
   "outputs": [
    {
     "ename": "ModuleNotFoundError",
     "evalue": "No module named 'secret'",
     "output_type": "error",
     "traceback": [
      "\u001b[0;31m---------------------------------------------------------------------------\u001b[0m",
      "\u001b[0;31mModuleNotFoundError\u001b[0m                       Traceback (most recent call last)",
      "Cell \u001b[0;32mIn[2], line 2\u001b[0m\n\u001b[1;32m      1\u001b[0m \u001b[38;5;66;03m# Load in password\u001b[39;00m\n\u001b[0;32m----> 2\u001b[0m \u001b[38;5;28;01mfrom\u001b[39;00m \u001b[38;5;21;01msecret\u001b[39;00m \u001b[38;5;28;01mimport\u001b[39;00m secret, database, username, host\n\u001b[1;32m      4\u001b[0m \u001b[38;5;66;03m# Establish connection to database\u001b[39;00m\n\u001b[1;32m      5\u001b[0m conn \u001b[38;5;241m=\u001b[39m psycopg2\u001b[38;5;241m.\u001b[39mconnect(\n\u001b[1;32m      6\u001b[0m     host \u001b[38;5;241m=\u001b[39m host,\n\u001b[1;32m      7\u001b[0m     database \u001b[38;5;241m=\u001b[39m database,\n\u001b[1;32m      8\u001b[0m     user \u001b[38;5;241m=\u001b[39musername,\n\u001b[1;32m      9\u001b[0m     password \u001b[38;5;241m=\u001b[39m secret\n\u001b[1;32m     10\u001b[0m )\n",
      "\u001b[0;31mModuleNotFoundError\u001b[0m: No module named 'secret'"
     ]
    }
   ],
   "source": [
    "# Load in password\n",
    "from secret import secret, database, username, host\n",
    "\n",
    "# Establish connection to database\n",
    "conn = psycopg2.connect(\n",
    "    host = host,\n",
    "    database = database,\n",
    "    user =username,\n",
    "    password = secret\n",
    ")"
   ]
  },
  {
   "cell_type": "code",
   "execution_count": null,
   "id": "643f1b97",
   "metadata": {},
   "outputs": [],
   "source": [
    "# Load the data\n",
    "query = 'SELECT * FROM clark_co_traffic'\n",
    "traffic_df = pd.read_sql_query(query, conn)"
   ]
  },
  {
   "cell_type": "markdown",
   "id": "2d6b7657-934f-4f2f-ab9d-6c146391790d",
   "metadata": {
    "jp-MarkdownHeadingCollapsed": true,
    "tags": []
   },
   "source": [
    "## Preprocess Data"
   ]
  },
  {
   "cell_type": "code",
   "execution_count": null,
   "id": "e962ba2d-04d5-4a8c-881e-48c9499e0e44",
   "metadata": {},
   "outputs": [],
   "source": [
    "# Drop unnecessary columns\n",
    "traffic_df.drop(columns = ['objectid','injury_type','accident_rec_num','primary_street', 'secondary_street', 'fatalities', 'injured','property_damage_only' ], inplace = True)"
   ]
  },
  {
   "cell_type": "code",
   "execution_count": null,
   "id": "76bb0dfd-e09d-464a-8084-2d19c5c2a886",
   "metadata": {},
   "outputs": [],
   "source": [
    "# Filter for Clark County\n",
    "traffic_df = traffic_df.loc[traffic_df['county'] == 'CLARK']\n",
    "traffic_df.drop(columns = ['county'], inplace = True)"
   ]
  },
  {
   "cell_type": "code",
   "execution_count": null,
   "id": "c2950dd1-a680-4005-8d6f-561f5fa5da95",
   "metadata": {},
   "outputs": [],
   "source": [
    "traffic_df.columns"
   ]
  },
  {
   "cell_type": "code",
   "execution_count": null,
   "id": "d7dc9eb3-de6e-4cd4-a7bc-fa8874ef211e",
   "metadata": {},
   "outputs": [],
   "source": [
    "# Split single column with multiple data points into separate columns\n",
    "traffic_df[['v1_driver_factors_1', 'v1_driver_factors_2','v1_driver_factors_3', 'v1_driver_factors_4']] = traffic_df['v1_driver_factors'].str.split(':', expand=True)\n",
    "\n",
    "traffic_df[['v1_vehicle_factors_1', 'v1_vehicle_factors_2','v1_vehicle_factors_3', 'v1_vehicle_factors_4', 'v1_vehicle_factors_5']] = traffic_df['v1_vehicle_factors'].str.split(':', expand=True)\n",
    "\n",
    "traffic_df[['v1_all_events_1', 'v1_all_events_2','v1_all_events_3', 'v1_all_events_4', 'v1_all_events_5']] = traffic_df['v1_all_events'].str.split(':', expand=True)\n",
    "\n",
    "traffic_df[['v2_driver_factors_1', 'v2_driver_factors_2']] = traffic_df['v2_driver_factors'].str.split(':', expand=True)\n",
    "\n",
    "traffic_df[['v2_vehicle_factors_1', 'v2_vehicle_factors_2','v2_vehicle_factors_3', 'v2_vehicle_factors_4', 'v2_vehicle_factors_5']] = traffic_df['v2_vehicle_factors'].str.split(':', expand=True)\n",
    "\n",
    "traffic_df[['v2_all_events_1', 'v2_all_events_2','v2_all_events_3', 'v2_all_events_4', 'v2_all_events_5']] = traffic_df['v1_all_events'].str.split(':', expand=True)\n",
    "\n",
    "traffic_df[['nonmotorist_factors_1', 'nonmotorist_factors_2','nonmotorist_factors_3', 'nonmotorist_factors_4', 'nonmotorist_factors_5']] = traffic_df['nonmotorist_factors'].str.split(':', expand=True)\n",
    "\n",
    "# traffic_df[['factors_roadway_1', 'factors_roadway_2','factors_roadways_3']] = traffic_df['factors_roadway'].str.split(':', expand=True)\n",
    "\n",
    "traffic_df[['hwy_factors_1', 'hwy_factors_2','hwy_factors_3', 'hwy_factors_4']] = traffic_df['hwy_factors'].str.split(':', expand=True)\n",
    "\n",
    "traffic_df.drop(columns = ['v1_driver_factors','v1_vehicle_factors','v1_all_events','v2_driver_factors','v2_vehicle_factors', 'v2_all_events', 'nonmotorist_factors','hwy_factors',], inplace = True)"
   ]
  },
  {
   "cell_type": "code",
   "execution_count": null,
   "id": "03d32ffa",
   "metadata": {},
   "outputs": [],
   "source": [
    "traffic_df['crash_severity'].value_counts()"
   ]
  },
  {
   "cell_type": "code",
   "execution_count": null,
   "id": "0a0a8599-db0c-4999-8149-0c6f69365afc",
   "metadata": {},
   "outputs": [],
   "source": [
    "# Change target values to numeric\n",
    "# Values are based on Nevada Traffic Records Coordinating Committee Data Dictionary,\n",
    "# https://zerofatalitiesnv.com/app/uploads/2021/04/2021-01-NV-TRCC-Data-Dictionary.pdf\n",
    "injury_num = {\n",
    "    'PROPERTY DAMAGE ONLY': 0,\n",
    "    'INJURY CRASH': 1,\n",
    "    'FATAL CRASH': 2,    \n",
    "}\n",
    "\n",
    "traffic_df['crash_severity'] = traffic_df['crash_severity'].apply(lambda x: injury_num[x])\n",
    "\n",
    "traffic_df['crash_severity'].value_counts()"
   ]
  },
  {
   "cell_type": "code",
   "execution_count": null,
   "id": "62ea2fc2-6d78-4722-9eab-1f37355f5fea",
   "metadata": {},
   "outputs": [],
   "source": [
    "# Extract datetime values into separate columns\n",
    "traffic_df['crash_month'] = pd.DatetimeIndex(traffic_df['crash_date']).month\n",
    "traffic_df['crash_day'] = pd.DatetimeIndex(traffic_df['crash_date']).day\n",
    "traffic_df['crash_day_of_week'] = pd.DatetimeIndex(traffic_df['crash_date']).dayofweek\n",
    "traffic_df['crash_hour'] = pd.DatetimeIndex(traffic_df['crash_time']).hour\n"
   ]
  },
  {
   "cell_type": "code",
   "execution_count": null,
   "id": "6c2b8233-ba32-42ce-9a3c-42e1c4766c9b",
   "metadata": {},
   "outputs": [],
   "source": [
    "# Drop original datetime columns\n",
    "traffic_df.drop(columns = ['crash_date', 'crash_time'], inplace = True)"
   ]
  },
  {
   "cell_type": "code",
   "execution_count": null,
   "id": "83db37c8-f6a0-49cc-a278-464e87470490",
   "metadata": {},
   "outputs": [],
   "source": [
    "traffic_df.dtypes"
   ]
  },
  {
   "cell_type": "code",
   "execution_count": null,
   "id": "b2af9028-2524-4638-934b-4cca148fdf3e",
   "metadata": {},
   "outputs": [],
   "source": [
    "# Get names of all columns with dtypes of \"object\"\n",
    "sel_cols = list(traffic_df.select_dtypes(include='object'))"
   ]
  },
  {
   "cell_type": "code",
   "execution_count": null,
   "id": "91e1a0ea-da4f-4fcb-a52f-87b3219e1d25",
   "metadata": {},
   "outputs": [],
   "source": [
    "# Preprocessing to convert all strings to numeric values\n",
    "traffic_df_encoded = pd.get_dummies(traffic_df, columns = sel_cols)\n",
    "traffic_df_encoded.head()"
   ]
  },
  {
   "cell_type": "markdown",
   "id": "43e5560c-20b0-4968-a932-e42360951459",
   "metadata": {
    "jp-MarkdownHeadingCollapsed": true,
    "tags": []
   },
   "source": [
    "## Model for Clark County with Crash Severity as Target and All Other Columns as Features"
   ]
  },
  {
   "cell_type": "code",
   "execution_count": null,
   "id": "2885c44a-fc82-4093-b2b5-22879e5fe2d3",
   "metadata": {},
   "outputs": [],
   "source": [
    "# Separate data into features and target\n",
    "y = traffic_df_encoded['crash_severity'].values\n",
    "X = traffic_df_encoded.drop(columns = 'crash_severity')"
   ]
  },
  {
   "cell_type": "code",
   "execution_count": null,
   "id": "c495654c-8282-4a7d-87b7-c50b29a8b940",
   "metadata": {},
   "outputs": [],
   "source": [
    "# Split dataset into training and testing\n",
    "X_train, X_test, y_train, y_test = train_test_split(X, y, stratify = y)\n",
    "X_train.shape"
   ]
  },
  {
   "cell_type": "code",
   "execution_count": null,
   "id": "863c1592-7db8-45ab-8e92-fc3f38efb463",
   "metadata": {},
   "outputs": [],
   "source": [
    "# Scale the model\n",
    "scaler = StandardScaler() \n",
    "\n",
    "# Fit the scaler with the training data\n",
    "X_scaler = scaler.fit(X_train)\n",
    "X_train_scaled = X_scaler.transform(X_train)\n",
    "X_test_scaled = X_scaler.transform(X_test)"
   ]
  },
  {
   "cell_type": "code",
   "execution_count": null,
   "id": "a8b918a8-c725-4db6-90bb-d9cb0b35133f",
   "metadata": {
    "tags": []
   },
   "outputs": [],
   "source": [
    "# Create and fit the Random Forest model\n",
    "rf_model = RandomForestClassifier(n_estimators = 128)\n",
    "rf_model = rf_model.fit(X_train_scaled, y_train)"
   ]
  },
  {
   "cell_type": "code",
   "execution_count": null,
   "id": "0aaf1143-cd7c-4341-9aa9-797b83b073e7",
   "metadata": {},
   "outputs": [],
   "source": [
    "# Create predictions\n",
    "predictions = rf_model.predict(X_test_scaled)\n",
    "results = pd.DataFrame({\n",
    "    \"Prediction\": predictions,\n",
    "    \"Actual\": y_test\n",
    "}).reset_index(drop = True)\n",
    "results.head()"
   ]
  },
  {
   "cell_type": "code",
   "execution_count": null,
   "id": "a8d8fad2-4186-4e0d-84aa-2124bf9daac7",
   "metadata": {},
   "outputs": [],
   "source": [
    "# Assess accuracy score\n",
    "accuracy = accuracy_score(y_test, predictions)\n",
    "accuracy"
   ]
  },
  {
   "cell_type": "code",
   "execution_count": null,
   "id": "7a0008c2-9fdc-4e53-aece-e85a7c298a30",
   "metadata": {},
   "outputs": [],
   "source": [
    "# Generate confusion matrix and dataframe\n",
    "cm = confusion_matrix(y_test, predictions)\n",
    "\n",
    "index_values = ['Actual: Property Damage Only', \n",
    "                'Actual: Injury Crash',  \n",
    "                'Actual: Fatal Crash']\n",
    "\n",
    "column_values = ['Predicted: Property Damage Only', \n",
    "                'Predicted: Injury Crash', \n",
    "                'Predicted: Fatal Crash']\n",
    "\n",
    "cm_df = pd.DataFrame(cm, index = index_values, columns = column_values)\n",
    "cm_df\n",
    "                  "
   ]
  },
  {
   "cell_type": "markdown",
   "id": "df3a2263-9c3a-494f-943e-cb8e94adc002",
   "metadata": {
    "tags": []
   },
   "source": [
    "## Results for Clark County with Crash Severity as Target and All Other Columns as Features"
   ]
  },
  {
   "cell_type": "code",
   "execution_count": null,
   "id": "1a5fe4fa-3012-439c-afa1-9cc2e960cadc",
   "metadata": {},
   "outputs": [],
   "source": [
    "# Display results\n",
    "print('Clark County Data with Crash Severity as Target, All Other Columns as Features')\n",
    "print('Confusion Matrix')\n",
    "display(cm_df)\n",
    "print(f'\\nAccuracy Score: {accuracy}\\n')\n",
    "print('Classification Report')\n",
    "print(classification_report(y_test, predictions))"
   ]
  },
  {
   "cell_type": "markdown",
   "id": "13e6c9dc-0cae-4f27-a28d-c59a3e84a46d",
   "metadata": {
    "tags": []
   },
   "source": [
    "### Importances for Clark County with Crash Severity as Target and All Other Columns as Features"
   ]
  },
  {
   "cell_type": "code",
   "execution_count": null,
   "id": "3be79ed2-a28a-467d-a332-78159ca49857",
   "metadata": {},
   "outputs": [],
   "source": [
    "# Calculate importance of features\n",
    "importances = rf_model.feature_importances_\n",
    "sorted(zip(importances, X.columns), reverse = True)\n"
   ]
  }
 ],
 "metadata": {
  "kernelspec": {
   "display_name": "mlenv",
   "language": "python",
   "name": "mlenv"
  },
  "language_info": {
   "codemirror_mode": {
    "name": "ipython",
    "version": 3
   },
   "file_extension": ".py",
   "mimetype": "text/x-python",
   "name": "python",
   "nbconvert_exporter": "python",
   "pygments_lexer": "ipython3",
   "version": "3.9.15"
  },
  "vscode": {
   "interpreter": {
    "hash": "653a2afc849ebc42aceb60e0243103e726213ea70459e94e35399998f7bca6d0"
   }
  }
 },
 "nbformat": 4,
 "nbformat_minor": 5
}

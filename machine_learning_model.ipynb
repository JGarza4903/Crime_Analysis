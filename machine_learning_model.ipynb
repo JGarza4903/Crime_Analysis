{
 "cells": [
  {
   "cell_type": "code",
   "execution_count": 1,
   "id": "48537812-b2f8-4b1b-b5e0-d4eedab007a6",
   "metadata": {},
   "outputs": [],
   "source": [
    "# Import dependencies\n",
    "import pandas as pd\n",
    "import sqlalchemy\n",
    "from sqlalchemy.ext.automap import automap_base\n",
    "from sqlalchemy.orm import session\n",
    "from sqlalchemy import create_engine, func\n",
    "import psycopg2\n",
    "\n",
    "from sklearn.model_selection import train_test_split\n",
    "from sklearn.metrics import accuracy_score, confusion_matrix, classification_report\n",
    "\n",
    "# Change as needed, if we pick a different model\n",
    "from sklearn.svm import SVC \n"
   ]
  },
  {
   "cell_type": "code",
   "execution_count": 2,
   "id": "94567c1d-74ae-42e2-8300-0d2d1983f126",
   "metadata": {},
   "outputs": [],
   "source": [
    "# # based on:\n",
    "# # https://pythontic.com/pandas/serialization/postgresql\n",
    "# # https://medium.com/@alestamm/importing-data-from-a-postgresql-database-to-a-pandas-dataframe-5f4bffcd8bb2\n",
    "# # https://naysan.ca/2020/05/31/postgresql-to-pandas/\n",
    "# # https://towardsdatascience.com/python-and-postgresql-how-to-access-a-postgresql-database-like-a-data-scientist-b5a9c5a0ea43\n",
    "\n",
    "# # Load data from database\n",
    "# # Create an engine instance\n",
    "# alchemyEngine   = create_engine('postgresql+psycopg2://test:@127.0.0.1', pool_recycle=3600);\n",
    "\n",
    "# engine = create_engine('postgresql+psycopg2:INSERT HERE')\n",
    "\n",
    "\n",
    "# # Connect to PostgreSQL server\n",
    "# connection = engine.connect()\n",
    "\n",
    "\n",
    "# # Read data from PostgreSQL database table and load into a DataFrame instance\n",
    "\n",
    "df = pd.read_sql(\"select * from \\\"TABLENAME\\\"\", connection)\n",
    "\n",
    "df.head()\n",
    "\n",
    " \n",
    "\n",
    "# Close the database connection\n",
    "\n",
    "connection.close()"
   ]
  },
  {
   "cell_type": "code",
   "execution_count": null,
   "id": "7aeadbd2-344a-47a4-bee7-8d738ee8d73f",
   "metadata": {},
   "outputs": [],
   "source": []
  },
  {
   "cell_type": "code",
   "execution_count": 3,
   "id": "2885c44a-fc82-4093-b2b5-22879e5fe2d3",
   "metadata": {},
   "outputs": [],
   "source": [
    "# # Separate data into features and target\n",
    "# # NEED TO CLARIFY TARGET(S)\n",
    "\n",
    "# y = df['TARGET NAME']\n",
    "# X = dr.drop(columns = 'TARGET NAME', 1)"
   ]
  },
  {
   "cell_type": "code",
   "execution_count": 4,
   "id": "c495654c-8282-4a7d-87b7-c50b29a8b940",
   "metadata": {},
   "outputs": [],
   "source": [
    "# # Split dataset into training and testing\n",
    "\n",
    "# # Do we need a random_state here? Maybe?\n",
    "# X_train, X_test, y_train, y_test = train_test_split(X, y, random_state = 1, stratify = y)\n",
    "# X_train.shape"
   ]
  },
  {
   "cell_type": "code",
   "execution_count": 6,
   "id": "863c1592-7db8-45ab-8e92-fc3f38efb463",
   "metadata": {},
   "outputs": [],
   "source": [
    "# # Train the model\n",
    "# model.fit(X_train, y_train)"
   ]
  },
  {
   "cell_type": "code",
   "execution_count": 7,
   "id": "0aaf1143-cd7c-4341-9aa9-797b83b073e7",
   "metadata": {},
   "outputs": [],
   "source": [
    "# # Create predictions\n",
    "# y_pred = model.predict(X_test)\n",
    "# results = pd.DataFrame({\n",
    "#     \"Prediction\": y_pred,\n",
    "#     \"Actual\": y_test\n",
    "# }).reset_index(drop = True)\n",
    "# results.head()"
   ]
  },
  {
   "cell_type": "code",
   "execution_count": 8,
   "id": "a8d8fad2-4186-4e0d-84aa-2124bf9daac7",
   "metadata": {},
   "outputs": [],
   "source": [
    "# # Assess accuracy score\n",
    "# accuracy_score(y_test, y_pred)"
   ]
  },
  {
   "cell_type": "code",
   "execution_count": 9,
   "id": "7a0008c2-9fdc-4e53-aece-e85a7c298a30",
   "metadata": {},
   "outputs": [],
   "source": [
    "# # Generate confusion matrix\n",
    "# confusion_matrix(y_test, y_pred)"
   ]
  },
  {
   "cell_type": "code",
   "execution_count": null,
   "id": "1a5fe4fa-3012-439c-afa1-9cc2e960cadc",
   "metadata": {},
   "outputs": [],
   "source": [
    "# # Print classification report\n",
    "# print(classification_report(y_test, y_pred)"
   ]
  }
 ],
 "metadata": {
  "kernelspec": {
   "display_name": "mlenv",
   "language": "python",
   "name": "python3"
  },
  "language_info": {
   "codemirror_mode": {
    "name": "ipython",
    "version": 3
   },
   "file_extension": ".py",
   "mimetype": "text/x-python",
   "name": "python",
   "nbconvert_exporter": "python",
   "pygments_lexer": "ipython3",
   "version": "3.7.15"
  },
  "vscode": {
   "interpreter": {
    "hash": "653a2afc849ebc42aceb60e0243103e726213ea70459e94e35399998f7bca6d0"
   }
  }
 },
 "nbformat": 4,
 "nbformat_minor": 5
}

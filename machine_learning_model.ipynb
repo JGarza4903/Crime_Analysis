{
 "cells": [
  {
   "cell_type": "code",
   "execution_count": 1,
   "id": "48537812-b2f8-4b1b-b5e0-d4eedab007a6",
   "metadata": {},
   "outputs": [],
   "source": [
    "# Initial imports\n",
    "import pandas as pd\n",
    "import numpy as np\n",
    "from pathlib import Path\n",
    "import psycopg2 \n",
    "from sklearn.ensemble import RandomForestClassifier\n",
    "from sklearn.preprocessing import StandardScaler, LabelEncoder\n",
    "from sklearn.decomposition import PCA\n",
    "from sklearn.model_selection import train_test_split\n",
    "from sklearn.metrics import confusion_matrix, accuracy_score, classification_report"
   ]
  },
  {
   "cell_type": "code",
   "execution_count": 2,
   "id": "7aeadbd2-344a-47a4-bee7-8d738ee8d73f",
   "metadata": {},
   "outputs": [],
   "source": [
    "# Load in password\n",
    "from secret import secret, database, username, host\n",
    "\n",
    "# Establish connection to database\n",
    "conn = psycopg2.connect(\n",
    "    host = host,\n",
    "    database = database,\n",
    "    user =username,\n",
    "    password = secret\n",
    ")"
   ]
  },
  {
   "cell_type": "code",
   "execution_count": 3,
   "id": "643f1b97",
   "metadata": {},
   "outputs": [
    {
     "name": "stderr",
     "output_type": "stream",
     "text": [
      "/var/folders/f3/5zcd9_1j7d3546ws7g9t5fw00000gp/T/ipykernel_1818/3027837082.py:3: UserWarning: pandas only supports SQLAlchemy connectable (engine/connection) or database string URI or sqlite3 DBAPI2 connection. Other DBAPI2 objects are not tested. Please consider using SQLAlchemy.\n",
      "  traffic_df = pd.read_sql_query(query, conn)\n"
     ]
    }
   ],
   "source": [
    "# Load the data\n",
    "query = 'SELECT * FROM clark_co_traffic'\n",
    "traffic_df = pd.read_sql_query(query, conn)"
   ]
  },
  {
   "cell_type": "code",
   "execution_count": 4,
   "id": "e962ba2d-04d5-4a8c-881e-48c9499e0e44",
   "metadata": {},
   "outputs": [],
   "source": [
    "# Drop unnecessary columns\n",
    "traffic_df.drop(columns = ['objectid','crash_severity','property_damage_only','accident_rec_num'], inplace = True)"
   ]
  },
  {
   "cell_type": "code",
   "execution_count": 5,
   "id": "0a0a8599-db0c-4999-8149-0c6f69365afc",
   "metadata": {},
   "outputs": [],
   "source": [
    "# Change target values to numeric\n",
    "le = LabelEncoder()\n",
    "traffic_df['injury_type'] = le.fit_transform(traffic_df['injury_type'])"
   ]
  },
  {
   "cell_type": "code",
   "execution_count": 6,
   "id": "62ea2fc2-6d78-4722-9eab-1f37355f5fea",
   "metadata": {},
   "outputs": [],
   "source": [
    "# Extract datetime values into separate columns\n",
    "traffic_df['crash_month'] = pd.DatetimeIndex(traffic_df['crash_date']).month\n",
    "traffic_df['crash_day'] = pd.DatetimeIndex(traffic_df['crash_date']).day\n",
    "traffic_df['crash_hour'] = pd.DatetimeIndex(traffic_df['crash_time']).hour\n"
   ]
  },
  {
   "cell_type": "code",
   "execution_count": 7,
   "id": "6c2b8233-ba32-42ce-9a3c-42e1c4766c9b",
   "metadata": {},
   "outputs": [],
   "source": [
    "# Drop original datetime columns\n",
    "traffic_df.drop(columns = ['crash_date', 'crash_time'], inplace = True)"
   ]
  },
  {
   "cell_type": "code",
   "execution_count": 8,
   "id": "83db37c8-f6a0-49cc-a278-464e87470490",
   "metadata": {},
   "outputs": [
    {
     "data": {
      "text/plain": [
       "x                        float64\n",
       "y                        float64\n",
       "county                    object\n",
       "crash_year                 int64\n",
       "primary_street            object\n",
       "secondary_street          object\n",
       "weather                   object\n",
       "fatalities                 int64\n",
       "injured                    int64\n",
       "injury_type                int64\n",
       "crash_type                object\n",
       "total_vehicles             int64\n",
       "v1_type                   object\n",
       "v1_driver_age              int64\n",
       "v1_action                 object\n",
       "v1_driver_factors         object\n",
       "v1_driver_distracted      object\n",
       "v1_vehicle_factors        object\n",
       "v1_most_harmful_event     object\n",
       "v1_all_events             object\n",
       "v2_type                   object\n",
       "v2_driver_age              int64\n",
       "v2_action                 object\n",
       "v2_driver_factors         object\n",
       "v2_driver_distracted      object\n",
       "v2_vehicle_factors        object\n",
       "v2_most_harmful_event     object\n",
       "v2_all_events             object\n",
       "nonmotorist_factors       object\n",
       "factors_roadway           object\n",
       "lighting                  object\n",
       "hwy_factors               object\n",
       "pedalcyclist              object\n",
       "pedestrian                object\n",
       "motorcyclist              object\n",
       "animaltype                object\n",
       "crash_month                int64\n",
       "crash_day                  int64\n",
       "crash_hour                 int64\n",
       "dtype: object"
      ]
     },
     "execution_count": 8,
     "metadata": {},
     "output_type": "execute_result"
    }
   ],
   "source": [
    "traffic_df.dtypes"
   ]
  },
  {
   "cell_type": "code",
   "execution_count": 9,
   "id": "b2af9028-2524-4638-934b-4cca148fdf3e",
   "metadata": {},
   "outputs": [
    {
     "data": {
      "text/plain": [
       "['county',\n",
       " 'primary_street',\n",
       " 'secondary_street',\n",
       " 'weather',\n",
       " 'crash_type',\n",
       " 'v1_type',\n",
       " 'v1_action',\n",
       " 'v1_driver_factors',\n",
       " 'v1_driver_distracted',\n",
       " 'v1_vehicle_factors',\n",
       " 'v1_most_harmful_event',\n",
       " 'v1_all_events',\n",
       " 'v2_type',\n",
       " 'v2_action',\n",
       " 'v2_driver_factors',\n",
       " 'v2_driver_distracted',\n",
       " 'v2_vehicle_factors',\n",
       " 'v2_most_harmful_event',\n",
       " 'v2_all_events',\n",
       " 'nonmotorist_factors',\n",
       " 'factors_roadway',\n",
       " 'lighting',\n",
       " 'hwy_factors',\n",
       " 'pedalcyclist',\n",
       " 'pedestrian',\n",
       " 'motorcyclist',\n",
       " 'animaltype']"
      ]
     },
     "execution_count": 9,
     "metadata": {},
     "output_type": "execute_result"
    }
   ],
   "source": [
    "# Get names of all columns with dtypes of \"object\"\n",
    "sel_cols = list(traffic_df.select_dtypes(include='object'))\n",
    "sel_cols"
   ]
  },
  {
   "cell_type": "code",
   "execution_count": 10,
   "id": "91e1a0ea-da4f-4fcb-a52f-87b3219e1d25",
   "metadata": {},
   "outputs": [
    {
     "data": {
      "text/html": [
       "<div>\n",
       "<style scoped>\n",
       "    .dataframe tbody tr th:only-of-type {\n",
       "        vertical-align: middle;\n",
       "    }\n",
       "\n",
       "    .dataframe tbody tr th {\n",
       "        vertical-align: top;\n",
       "    }\n",
       "\n",
       "    .dataframe thead th {\n",
       "        text-align: right;\n",
       "    }\n",
       "</style>\n",
       "<table border=\"1\" class=\"dataframe\">\n",
       "  <thead>\n",
       "    <tr style=\"text-align: right;\">\n",
       "      <th></th>\n",
       "      <th>x</th>\n",
       "      <th>y</th>\n",
       "      <th>crash_year</th>\n",
       "      <th>fatalities</th>\n",
       "      <th>injured</th>\n",
       "      <th>injury_type</th>\n",
       "      <th>total_vehicles</th>\n",
       "      <th>v1_driver_age</th>\n",
       "      <th>v2_driver_age</th>\n",
       "      <th>crash_month</th>\n",
       "      <th>...</th>\n",
       "      <th>animaltype_BIG HORN SHEEP</th>\n",
       "      <th>animaltype_BURRO</th>\n",
       "      <th>animaltype_CATTLE</th>\n",
       "      <th>animaltype_DEER</th>\n",
       "      <th>animaltype_DOG/COYOTE</th>\n",
       "      <th>animaltype_ELK</th>\n",
       "      <th>animaltype_HORSE</th>\n",
       "      <th>animaltype_NO</th>\n",
       "      <th>animaltype_OTHER ANIMAL</th>\n",
       "      <th>animaltype_UNKNOWN</th>\n",
       "    </tr>\n",
       "  </thead>\n",
       "  <tbody>\n",
       "    <tr>\n",
       "      <th>0</th>\n",
       "      <td>-115.106709</td>\n",
       "      <td>36.236043</td>\n",
       "      <td>2016</td>\n",
       "      <td>0</td>\n",
       "      <td>0</td>\n",
       "      <td>4</td>\n",
       "      <td>2</td>\n",
       "      <td>35</td>\n",
       "      <td>41</td>\n",
       "      <td>1</td>\n",
       "      <td>...</td>\n",
       "      <td>0</td>\n",
       "      <td>0</td>\n",
       "      <td>0</td>\n",
       "      <td>0</td>\n",
       "      <td>0</td>\n",
       "      <td>0</td>\n",
       "      <td>0</td>\n",
       "      <td>1</td>\n",
       "      <td>0</td>\n",
       "      <td>0</td>\n",
       "    </tr>\n",
       "    <tr>\n",
       "      <th>1</th>\n",
       "      <td>-119.673794</td>\n",
       "      <td>39.626433</td>\n",
       "      <td>2016</td>\n",
       "      <td>0</td>\n",
       "      <td>0</td>\n",
       "      <td>4</td>\n",
       "      <td>1</td>\n",
       "      <td>39</td>\n",
       "      <td>41</td>\n",
       "      <td>1</td>\n",
       "      <td>...</td>\n",
       "      <td>0</td>\n",
       "      <td>0</td>\n",
       "      <td>0</td>\n",
       "      <td>0</td>\n",
       "      <td>0</td>\n",
       "      <td>0</td>\n",
       "      <td>0</td>\n",
       "      <td>1</td>\n",
       "      <td>0</td>\n",
       "      <td>0</td>\n",
       "    </tr>\n",
       "    <tr>\n",
       "      <th>2</th>\n",
       "      <td>-115.101063</td>\n",
       "      <td>36.240200</td>\n",
       "      <td>2016</td>\n",
       "      <td>0</td>\n",
       "      <td>0</td>\n",
       "      <td>4</td>\n",
       "      <td>2</td>\n",
       "      <td>31</td>\n",
       "      <td>53</td>\n",
       "      <td>1</td>\n",
       "      <td>...</td>\n",
       "      <td>0</td>\n",
       "      <td>0</td>\n",
       "      <td>0</td>\n",
       "      <td>0</td>\n",
       "      <td>0</td>\n",
       "      <td>0</td>\n",
       "      <td>0</td>\n",
       "      <td>1</td>\n",
       "      <td>0</td>\n",
       "      <td>0</td>\n",
       "    </tr>\n",
       "    <tr>\n",
       "      <th>3</th>\n",
       "      <td>-119.633092</td>\n",
       "      <td>39.516952</td>\n",
       "      <td>2016</td>\n",
       "      <td>0</td>\n",
       "      <td>0</td>\n",
       "      <td>4</td>\n",
       "      <td>1</td>\n",
       "      <td>18</td>\n",
       "      <td>41</td>\n",
       "      <td>1</td>\n",
       "      <td>...</td>\n",
       "      <td>0</td>\n",
       "      <td>0</td>\n",
       "      <td>0</td>\n",
       "      <td>0</td>\n",
       "      <td>0</td>\n",
       "      <td>0</td>\n",
       "      <td>0</td>\n",
       "      <td>1</td>\n",
       "      <td>0</td>\n",
       "      <td>0</td>\n",
       "    </tr>\n",
       "    <tr>\n",
       "      <th>4</th>\n",
       "      <td>-115.140570</td>\n",
       "      <td>36.192680</td>\n",
       "      <td>2016</td>\n",
       "      <td>0</td>\n",
       "      <td>0</td>\n",
       "      <td>4</td>\n",
       "      <td>1</td>\n",
       "      <td>56</td>\n",
       "      <td>41</td>\n",
       "      <td>1</td>\n",
       "      <td>...</td>\n",
       "      <td>0</td>\n",
       "      <td>0</td>\n",
       "      <td>0</td>\n",
       "      <td>0</td>\n",
       "      <td>0</td>\n",
       "      <td>0</td>\n",
       "      <td>0</td>\n",
       "      <td>1</td>\n",
       "      <td>0</td>\n",
       "      <td>0</td>\n",
       "    </tr>\n",
       "  </tbody>\n",
       "</table>\n",
       "<p>5 rows × 33058 columns</p>\n",
       "</div>"
      ],
      "text/plain": [
       "            x          y  crash_year  fatalities  injured  injury_type  \\\n",
       "0 -115.106709  36.236043        2016           0        0            4   \n",
       "1 -119.673794  39.626433        2016           0        0            4   \n",
       "2 -115.101063  36.240200        2016           0        0            4   \n",
       "3 -119.633092  39.516952        2016           0        0            4   \n",
       "4 -115.140570  36.192680        2016           0        0            4   \n",
       "\n",
       "   total_vehicles  v1_driver_age  v2_driver_age  crash_month  ...  \\\n",
       "0               2             35             41            1  ...   \n",
       "1               1             39             41            1  ...   \n",
       "2               2             31             53            1  ...   \n",
       "3               1             18             41            1  ...   \n",
       "4               1             56             41            1  ...   \n",
       "\n",
       "   animaltype_BIG HORN SHEEP  animaltype_BURRO  animaltype_CATTLE  \\\n",
       "0                          0                 0                  0   \n",
       "1                          0                 0                  0   \n",
       "2                          0                 0                  0   \n",
       "3                          0                 0                  0   \n",
       "4                          0                 0                  0   \n",
       "\n",
       "   animaltype_DEER  animaltype_DOG/COYOTE  animaltype_ELK  animaltype_HORSE  \\\n",
       "0                0                      0               0                 0   \n",
       "1                0                      0               0                 0   \n",
       "2                0                      0               0                 0   \n",
       "3                0                      0               0                 0   \n",
       "4                0                      0               0                 0   \n",
       "\n",
       "   animaltype_NO  animaltype_OTHER ANIMAL  animaltype_UNKNOWN  \n",
       "0              1                        0                   0  \n",
       "1              1                        0                   0  \n",
       "2              1                        0                   0  \n",
       "3              1                        0                   0  \n",
       "4              1                        0                   0  \n",
       "\n",
       "[5 rows x 33058 columns]"
      ]
     },
     "execution_count": 10,
     "metadata": {},
     "output_type": "execute_result"
    }
   ],
   "source": [
    "# Preprocessing to convert all strings to numeric values\n",
    "traffic_df_encoded = pd.get_dummies(traffic_df, columns = sel_cols)\n",
    "traffic_df_encoded.head()"
   ]
  },
  {
   "cell_type": "code",
   "execution_count": 11,
   "id": "2885c44a-fc82-4093-b2b5-22879e5fe2d3",
   "metadata": {},
   "outputs": [],
   "source": [
    "# Separate data into features and target\n",
    "y = traffic_df_encoded['injury_type'].values\n",
    "X = traffic_df_encoded.drop(columns = 'injury_type')"
   ]
  },
  {
   "cell_type": "code",
   "execution_count": 12,
   "id": "c495654c-8282-4a7d-87b7-c50b29a8b940",
   "metadata": {},
   "outputs": [
    {
     "data": {
      "text/plain": [
       "(169251, 33057)"
      ]
     },
     "execution_count": 12,
     "metadata": {},
     "output_type": "execute_result"
    }
   ],
   "source": [
    "# Split dataset into training and testing\n",
    "X_train, X_test, y_train, y_test = train_test_split(X, y, stratify = y)\n",
    "X_train.shape"
   ]
  },
  {
   "cell_type": "code",
   "execution_count": 13,
   "id": "863c1592-7db8-45ab-8e92-fc3f38efb463",
   "metadata": {},
   "outputs": [],
   "source": [
    "# Scale the model\n",
    "scaler = StandardScaler() \n",
    "\n",
    "# Fit the scaler with the training data\n",
    "X_scaler = scaler.fit(X_train)\n",
    "X_train_scaled = X_scaler.transform(X_train)\n",
    "X_test_scaled = X_scaler.transform(X_test)"
   ]
  },
  {
   "cell_type": "code",
   "execution_count": null,
   "id": "a8b918a8-c725-4db6-90bb-d9cb0b35133f",
   "metadata": {
    "tags": []
   },
   "outputs": [],
   "source": [
    "# Create and fit the Random Forest model\n",
    "rf_model = RandomForestClassifier(n_estimators = 128)\n",
    "rf_model = rf_model.fit(X_train_scaled, y_train)"
   ]
  },
  {
   "cell_type": "code",
   "execution_count": null,
   "id": "0aaf1143-cd7c-4341-9aa9-797b83b073e7",
   "metadata": {},
   "outputs": [],
   "source": [
    "# Create predictions\n",
    "predictions = rf_model.predict(X_test_scaled)\n",
    "results = pd.DataFrame({\n",
    "    \"Prediction\": predictions,\n",
    "    \"Actual\": y_test\n",
    "}).reset_index(drop = True)\n",
    "results.head()"
   ]
  },
  {
   "cell_type": "code",
   "execution_count": null,
   "id": "a8d8fad2-4186-4e0d-84aa-2124bf9daac7",
   "metadata": {},
   "outputs": [],
   "source": [
    "# Assess accuracy score\n",
    "accuracy_score(y_test, predictions)"
   ]
  },
  {
   "cell_type": "code",
   "execution_count": null,
   "id": "7a0008c2-9fdc-4e53-aece-e85a7c298a30",
   "metadata": {},
   "outputs": [],
   "source": [
    "# Generate confusion matrix\n",
    "cm = confusion_matrix(y_test, predictions)\n",
    "\n",
    "cm_df = pd.DataFrame(cm, index['Actual 0', 'Actual 1'], columns = ['Predicted 0', 'Predicted 1'])\n",
    "cm_df\n",
    "                               "
   ]
  },
  {
   "cell_type": "code",
   "execution_count": null,
   "id": "1a5fe4fa-3012-439c-afa1-9cc2e960cadc",
   "metadata": {},
   "outputs": [],
   "source": [
    "# Display results\n",
    "print('Confusion Matrix')\n",
    "display(cm_df)\n",
    "print(f'Accuracy Score: {accuracy_score}')\n",
    "print('Classification Report')\n",
    "print(classification_report(y_test, predictions)"
   ]
  },
  {
   "cell_type": "code",
   "execution_count": null,
   "id": "3be79ed2-a28a-467d-a332-78159ca49857",
   "metadata": {},
   "outputs": [],
   "source": [
    "# Calculate importance of features\n",
    "importances = rf_model.feature_importances_\n",
    "sorted(zip(rf_model.feature_importances_, X.columns), reverse = True)"
   ]
  }
 ],
 "metadata": {
  "kernelspec": {
   "display_name": "mlenv",
   "language": "python",
   "name": "mlenv"
  },
  "language_info": {
   "codemirror_mode": {
    "name": "ipython",
    "version": 3
   },
   "file_extension": ".py",
   "mimetype": "text/x-python",
   "name": "python",
   "nbconvert_exporter": "python",
   "pygments_lexer": "ipython3",
   "version": "3.9.15"
  },
  "vscode": {
   "interpreter": {
    "hash": "653a2afc849ebc42aceb60e0243103e726213ea70459e94e35399998f7bca6d0"
   }
  }
 },
 "nbformat": 4,
 "nbformat_minor": 5
}
